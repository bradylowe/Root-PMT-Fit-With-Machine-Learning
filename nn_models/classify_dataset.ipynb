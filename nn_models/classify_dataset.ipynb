{
 "cells": [
  {
   "cell_type": "markdown",
   "metadata": {},
   "source": [
    "# Root fit classifier\n",
    "\n",
    "\n",
    "By Brady Lowe\n",
    "\n",
    "lowebra2@isu.edu\n",
    "\n",
    "9/02/2018\n",
    "\n",
    "\n",
    "This Jupyter notebook is used to classify Root output images as either good (1) or bad (0) fits.\n",
    "The results are output into a text file (classified_runs.txt) listing filenames that include a label."
   ]
  },
  {
   "cell_type": "markdown",
   "metadata": {},
   "source": [
    "## Load necessary packages"
   ]
  },
  {
   "cell_type": "code",
   "execution_count": 1,
   "metadata": {},
   "outputs": [
    {
     "name": "stderr",
     "output_type": "stream",
     "text": [
      "Using TensorFlow backend.\n"
     ]
    }
   ],
   "source": [
    "# Load some packages\n",
    "\n",
    "# Keras packages for network\n",
    "from keras.layers import Input, Dense, Activation, ZeroPadding2D, BatchNormalization\n",
    "from keras.layers import AveragePooling2D, MaxPooling2D, Dropout, Conv2D, Flatten\n",
    "from keras.models import Model\n",
    "from keras.optimizers import Adam, SGD\n",
    "# For saving model\n",
    "from keras.models import model_from_json\n",
    "\n",
    "# Some items for plotting and drawing\n",
    "from keras.utils import plot_model\n",
    "from keras.utils.vis_utils import model_to_dot\n",
    "from IPython.display import SVG\n",
    "from PIL import Image\n",
    "from scipy import misc\n",
    "import matplotlib.pyplot as plt\n",
    "\n",
    "# Need numpy\n",
    "import numpy as np\n",
    "import nn_utils\n",
    "\n",
    "# Need os to change filenames\n",
    "import os\n",
    "\n",
    "%matplotlib inline"
   ]
  },
  {
   "cell_type": "markdown",
   "metadata": {},
   "source": [
    "## Load root fit data from file"
   ]
  },
  {
   "cell_type": "code",
   "execution_count": 2,
   "metadata": {},
   "outputs": [
    {
     "name": "stdout",
     "output_type": "stream",
     "text": [
      "(m, height, width, channels): (1575, 236, 348, 3)\n"
     ]
    }
   ],
   "source": [
    "# Load dataset\n",
    "x, y, filenames = nn_utils.load_dataset(im_dir=\"raw\", return_filenames=True, log_scale=0)\n",
    "\n",
    "# Grab dimensions of picture\n",
    "(m, h, w, c) = x.shape\n",
    "input_shape = h, w, c\n",
    "\n",
    "# Print dimensions\n",
    "print(\"(m, height, width, channels): (\" + str(m) + \", \" + str(h) + \", \" + str(w) + \", \" + str(c) + \")\")"
   ]
  },
  {
   "cell_type": "code",
   "execution_count": 4,
   "metadata": {},
   "outputs": [
    {
     "name": "stdout",
     "output_type": "stream",
     "text": [
      "images/raw\\fit_pmt_nn__chi1_runID517_fitID63_log0_gain371_hv1600_ll48_fitEngine0_low150_high150.png\n"
     ]
    },
    {
     "data": {
      "text/plain": [
       "<matplotlib.image.AxesImage at 0x1672629a5f8>"
      ]
     },
     "execution_count": 4,
     "metadata": {},
     "output_type": "execute_result"
    },
    {
     "data": {
      "image/png": "[encoded data removed]",
      "text/plain": [
       "<matplotlib.figure.Figure at 0x1672a8b04a8>"
      ]
     },
     "metadata": {},
     "output_type": "display_data"
    }
   ],
   "source": [
    "# Print an image\n",
    "index = 78\n",
    "print(filenames[index])\n",
    "plt.imshow(np.uint8(nn_utils.get_printable_image(x[index])))"
   ]
  },
  {
   "cell_type": "markdown",
   "metadata": {},
   "source": [
    "## Load trained network to use to classify fits"
   ]
  },
  {
   "cell_type": "markdown",
   "metadata": {},
   "source": [
    "#### Load pretrained conv model"
   ]
  },
  {
   "cell_type": "code",
   "execution_count": 3,
   "metadata": {},
   "outputs": [
    {
     "name": "stdout",
     "output_type": "stream",
     "text": [
      "Loaded model from disk\n"
     ]
    }
   ],
   "source": [
    "# load json and create model\n",
    "json_file = open('trained/conv_model_best.json', 'r')\n",
    "conv_model_json = json_file.read()\n",
    "json_file.close()\n",
    "model = model_from_json(conv_model_json)\n",
    "# load weights into new model\n",
    "model.load_weights(\"trained/conv_model_best.h5\")\n",
    "print(\"Loaded model from disk\")"
   ]
  },
  {
   "cell_type": "markdown",
   "metadata": {},
   "source": [
    "#### Define optimizer, loss, and metrics. Compile model."
   ]
  },
  {
   "cell_type": "code",
   "execution_count": 4,
   "metadata": {},
   "outputs": [
    {
     "name": "stdout",
     "output_type": "stream",
     "text": [
      "Model compiled\n"
     ]
    }
   ],
   "source": [
    "# Define optimizer\n",
    "#opt = Adam(lr=0.01, beta_1=0.9, beta_2=0.999, decay=0.001)\n",
    "opt = SGD(lr=1.0, decay=1e-6, momentum=0.9, nesterov=True)\n",
    "# Define loss\n",
    "loss = 'mean_squared_error'\n",
    "# Define metrics to use\n",
    "metrics=['acc']\n",
    "# Compile model\n",
    "model.compile(loss=loss, optimizer='sgd', metrics=metrics)\n",
    "print(\"Model compiled\")"
   ]
  },
  {
   "cell_type": "markdown",
   "metadata": {},
   "source": [
    "## Calculate image classifications"
   ]
  },
  {
   "cell_type": "code",
   "execution_count": 5,
   "metadata": {},
   "outputs": [
    {
     "name": "stdout",
     "output_type": "stream",
     "text": [
      "1041 good fits out of 1575 total\n"
     ]
    }
   ],
   "source": [
    "# Perform classification, grab results vector\n",
    "predictions = model.predict(x)\n",
    "\n",
    "\n",
    "# Gather lists of indices\n",
    "goods = []\n",
    "bads = []\n",
    "uncertains = []\n",
    "differences = []\n",
    "\n",
    "# Loop through all images\n",
    "for i in range(m):\n",
    "    # Sort the goods from bads\n",
    "    if predictions[i] > 0.5:\n",
    "        goods.append(i)\n",
    "    else:\n",
    "        bads.append(i)\n",
    "    # Grab the uncertains\n",
    "    if predictions[i] > 0.2 and predictions[i] < 0.8:\n",
    "        uncertains.append(i)\n",
    "\n",
    "# Calculate how many good/bad fits\n",
    "print(str(len(goods)) + \" good fits out of \" + str(m) + \" total\")\n",
    "        \n",
    "# Print lists\n",
    "#print(\"Bad fits:\")\n",
    "#print(str(bads))\n",
    "#print(\"Uncertain fits:\")\n",
    "#print(str(uncertains))"
   ]
  },
  {
   "cell_type": "markdown",
   "metadata": {},
   "source": [
    "### Look at an image"
   ]
  },
  {
   "cell_type": "code",
   "execution_count": 17,
   "metadata": {},
   "outputs": [
    {
     "name": "stdout",
     "output_type": "stream",
     "text": [
      "images/raw\\fit_pmt_nn__chi17_runID526_fitID99_log0_gain39_hv1150_ll48_fitEngine0_low1_high1_predict1.png\n",
      "classification: 1\n"
     ]
    },
    {
     "data": {
      "text/plain": [
       "<matplotlib.image.AxesImage at 0x1852660ccc0>"
      ]
     },
     "execution_count": 17,
     "metadata": {},
     "output_type": "execute_result"
    },
    {
     "data": {
      "image/png": "[encoded data removed]",
      "text/plain": [
       "<matplotlib.figure.Figure at 0x1850e590160>"
      ]
     },
     "metadata": {},
     "output_type": "display_data"
    }
   ],
   "source": [
    "# Choose an index \n",
    "index = 47\n",
    "\n",
    "# Grab data\n",
    "this_filename = filenames[index]\n",
    "classification = int(predictions[index] + 0.5)\n",
    "this_image = x[index]\n",
    "\n",
    "# Print labels for this index\n",
    "print(this_filename)\n",
    "print(\"classification: \" + str(classification))\n",
    "\n",
    "# Show image\n",
    "plt.imshow(np.uint8(nn_utils.get_printable_image(this_image)))"
   ]
  },
  {
   "cell_type": "markdown",
   "metadata": {},
   "source": [
    "## Affect changes"
   ]
  },
  {
   "cell_type": "markdown",
   "metadata": {
    "collapsed": true
   },
   "source": [
    "### Classify all images"
   ]
  },
  {
   "cell_type": "code",
   "execution_count": 6,
   "metadata": {},
   "outputs": [
    {
     "name": "stdout",
     "output_type": "stream",
     "text": [
      "Image filenames changed, you should reload your dataset now.\n"
     ]
    }
   ],
   "source": [
    "# Loop through all images\n",
    "for i in range(m):\n",
    "    classification = int(predictions[i] + 0.5)\n",
    "    nn_utils.classify_image(filenames[i], classification)\n",
    "\n",
    "print(\"Image filenames changed, you should reload your dataset now.\")"
   ]
  },
  {
   "cell_type": "code",
   "execution_count": 31,
   "metadata": {},
   "outputs": [
    {
     "name": "stdout",
     "output_type": "stream",
     "text": [
      "Image filenames changed, you should reload your dataset now.\n"
     ]
    }
   ],
   "source": [
    "# Change the files with difference predictions\n",
    "for i in differences:\n",
    "    nn_utils.change_label(filenames[i])\n",
    "\n",
    "print(\"Image filenames changed, you should reload your dataset now.\")"
   ]
  },
  {
   "cell_type": "markdown",
   "metadata": {},
   "source": [
    "#### Classify corresponding log plots"
   ]
  },
  {
   "cell_type": "code",
   "execution_count": 10,
   "metadata": {},
   "outputs": [
    {
     "name": "stdout",
     "output_type": "stream",
     "text": [
      "Log image filenames changed.\n"
     ]
    }
   ],
   "source": [
    "# Loop through all images\n",
    "for i in range(m):\n",
    "    classification = nn_utils.round(predictions[i])\n",
    "    new_file = filenames[i].replace(\"log0\", \"log1\")\n",
    "    new_file = new_file[0:len(new_file) - 13] + \".png\"\n",
    "    nn_utils.classify_image(new_file, classification)\n",
    "\n",
    "print(\"Log image filenames changed.\")"
   ]
  },
  {
   "cell_type": "markdown",
   "metadata": {
    "collapsed": true
   },
   "source": [
    "### Classify images one by one (label)"
   ]
  },
  {
   "cell_type": "markdown",
   "metadata": {},
   "source": [
    "#### Initialize loop"
   ]
  },
  {
   "cell_type": "code",
   "execution_count": 8,
   "metadata": {},
   "outputs": [
    {
     "name": "stdout",
     "output_type": "stream",
     "text": [
      "images/raw\\fit_pmt_nn__chi0_runID511_fitID138_log0_gain775_hv1900_ll48_fitEngine0_low150_high150.png\n",
      "classification: 1\n"
     ]
    },
    {
     "data": {
      "text/plain": [
       "<matplotlib.image.AxesImage at 0x1bee3a73b00>"
      ]
     },
     "execution_count": 8,
     "metadata": {},
     "output_type": "execute_result"
    },
    {
     "data": {
      "image/png": "[encoded data removed]",
      "text/plain": [
       "<matplotlib.figure.Figure at 0x1beb23eb8d0>"
      ]
     },
     "metadata": {},
     "output_type": "display_data"
    }
   ],
   "source": [
    "# Initialize\n",
    "index = 0\n",
    "# Grab data\n",
    "classification = nn_utils.round(predictions[index])\n",
    "print(filenames[index])\n",
    "print(\"classification: \" + str(classification))\n",
    "plt.imshow(np.uint8(nn_utils.get_printable_image(x[index])))"
   ]
  },
  {
   "cell_type": "markdown",
   "metadata": {},
   "source": [
    "#### Accept classification, and print next image"
   ]
  },
  {
   "cell_type": "code",
   "execution_count": 52,
   "metadata": {},
   "outputs": [
    {
     "name": "stdout",
     "output_type": "stream",
     "text": [
      "Image classified as 0\n",
      "images/raw\\fit_pmt_nn__chi177_runID524_fitID178_log0_gain436_hv1250_ll48_fitEngine0_low1_high1.png\n",
      "classification: 0\n"
     ]
    },
    {
     "data": {
      "text/plain": [
       "<matplotlib.image.AxesImage at 0x1bf98bdc0b8>"
      ]
     },
     "execution_count": 52,
     "metadata": {},
     "output_type": "execute_result"
    },
    {
     "data": {
      "image/png": "[encoded data removed]",
      "text/plain": [
       "<matplotlib.figure.Figure at 0x1bf97aaa320>"
      ]
     },
     "metadata": {},
     "output_type": "display_data"
    }
   ],
   "source": [
    "# Classify previous image\n",
    "classification = nn_utils.round(predictions[index])\n",
    "nn_utils.classify_image(filenames[index], classification)\n",
    "print(\"Image classified as \" + str(classification))\n",
    "# Get next image\n",
    "index += 1\n",
    "print(filenames[index])\n",
    "print(\"classification: \" + str(classification))\n",
    "plt.imshow(np.uint8(nn_utils.get_printable_image(this_image)))"
   ]
  },
  {
   "cell_type": "markdown",
   "metadata": {},
   "source": [
    "#### Reject classification, and print next image"
   ]
  },
  {
   "cell_type": "code",
   "execution_count": 53,
   "metadata": {},
   "outputs": [
    {
     "name": "stdout",
     "output_type": "stream",
     "text": [
      "Image classified as 1\n",
      "images/raw\\fit_pmt_nn__chi17_runID519_fitID119_log0_gain289_hv1500_ll48_fitEngine0_low15_high15.png\n",
      "classification: 1\n"
     ]
    },
    {
     "data": {
      "text/plain": [
       "<matplotlib.image.AxesImage at 0x1bf98c30a58>"
      ]
     },
     "execution_count": 53,
     "metadata": {},
     "output_type": "execute_result"
    },
    {
     "data": {
      "image/png": "[encoded data removed]",
      "text/plain": [
       "<matplotlib.figure.Figure at 0x1bf964a2668>"
      ]
     },
     "metadata": {},
     "output_type": "display_data"
    }
   ],
   "source": [
    "# Classify previous image\n",
    "classification = nn_utils.round(predictions[index])\n",
    "classification = 1 - classification\n",
    "nn_utils.classify_image(filenames[index], classification)\n",
    "print(\"Image classified as \" + str(classification))\n",
    "# Get next image\n",
    "index += 1\n",
    "print(filenames[index])\n",
    "print(\"classification: \" + str(classification))\n",
    "plt.imshow(np.uint8(nn_utils.get_printable_image(this_image)))"
   ]
  },
  {
   "cell_type": "code",
   "execution_count": null,
   "metadata": {
    "collapsed": true
   },
   "outputs": [],
   "source": []
  }
 ],
 "metadata": {
  "kernelspec": {
   "display_name": "Python 3",
   "language": "python",
   "name": "python3"
  },
  "language_info": {
   "codemirror_mode": {
    "name": "ipython",
    "version": 3
   },
   "file_extension": ".py",
   "mimetype": "text/x-python",
   "name": "python",
   "nbconvert_exporter": "python",
   "pygments_lexer": "ipython3",
   "version": "3.6.3"
  }
 },
 "nbformat": 4,
 "nbformat_minor": 2
}
