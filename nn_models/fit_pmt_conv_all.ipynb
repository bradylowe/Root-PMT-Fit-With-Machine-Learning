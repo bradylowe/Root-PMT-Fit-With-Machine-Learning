{
 "cells": [
  {
   "cell_type": "markdown",
   "metadata": {},
   "source": [
    "# Convolutional neural network for classifying Root data fits.\n",
    "\n",
    "\n",
    "Here, we define, train, and save new convolutional models as well as some \n",
    "simple model evaluation. We define hyper-parameters, number of layers, and \n",
    "training and testing datasets. \n",
    "\n",
    "Here, at the final layer, the network takes into account chi squared per degree of freedom."
   ]
  },
  {
   "cell_type": "markdown",
   "metadata": {},
   "source": [
    "#### Load necessary packages"
   ]
  },
  {
   "cell_type": "code",
   "execution_count": 1,
   "metadata": {},
   "outputs": [
    {
     "name": "stderr",
     "output_type": "stream",
     "text": [
      "Using TensorFlow backend.\n"
     ]
    }
   ],
   "source": [
    "# Load some packages\n",
    "\n",
    "# Keras packages for network\n",
    "from keras.layers import Input, Dense, Activation, ZeroPadding2D, BatchNormalization\n",
    "from keras.layers import AveragePooling2D, MaxPooling2D, Dropout, Conv2D, Flatten\n",
    "from keras.models import Model\n",
    "from keras.optimizers import Adam, SGD\n",
    "# For saving model\n",
    "from keras.models import model_from_json\n",
    "from keras.layers import concatenate, Lambda\n",
    "\n",
    "# Some items for plotting and drawing\n",
    "from keras.utils import plot_model\n",
    "from keras.utils.vis_utils import model_to_dot\n",
    "from IPython.display import SVG\n",
    "from PIL import Image\n",
    "from scipy import misc\n",
    "import matplotlib.pyplot as plt\n",
    "\n",
    "# Need numpy\n",
    "import numpy as np\n",
    "import nn_utils as utils\n",
    "\n",
    "%matplotlib inline"
   ]
  },
  {
   "cell_type": "markdown",
   "metadata": {},
   "source": [
    "#### Load root fit data from file"
   ]
  },
  {
   "cell_type": "code",
   "execution_count": 4,
   "metadata": {},
   "outputs": [
    {
     "name": "stdout",
     "output_type": "stream",
     "text": [
      "(m, height, width, channels): (1396, 236, 348, 3)\n",
      "m_dev: 129\n",
      "y: (1396, 1)\n",
      "params: (1396, 54)\n"
     ]
    }
   ],
   "source": [
    "# Define image file path\n",
    "im_path=\"/media/brady/4be7777f-c84c-40ca-af3a-b8c6e4f2f90d/brady/Projects/fit_pmt/images/png_fit_nn/\"\n",
    "\n",
    "# Load dataset\n",
    "x, y, params = utils.load_dataset_all(im_dir=\"train\", log=False, im_path=im_path)\n",
    "x_dev, y_dev, params_dev = utils.load_dataset_all(im_dir=\"dev\", log=False, im_path=im_path)\n",
    "\n",
    "# Grab dimensions of picture\n",
    "(m, h, w, c) = x.shape\n",
    "m_dev = x_dev.shape[0]\n",
    "input_shape = h, w, c\n",
    "num_params = params.shape[1]\n",
    "\n",
    "# Print dimensions\n",
    "print(\"(m, height, width, channels): (\" + str(m) + \", \" + str(h) + \", \" + str(w) + \", \" + str(c) + \")\")\n",
    "print(\"m_dev: \" + str(m_dev))\n",
    "print(\"y: \" + str(y.shape))\n",
    "print(\"params: \" + str(params.shape))\n"
   ]
  },
  {
   "cell_type": "code",
   "execution_count": 5,
   "metadata": {},
   "outputs": [
    {
     "name": "stdout",
     "output_type": "stream",
     "text": [
      "label: good\n",
      "label: [1]\n",
      "params: [ 0.000000e+00  1.000000e+00  1.000000e+00  1.000000e+00  2.000000e+01\n",
      "  5.000000e-02  6.144692e+02  2.252700e+00  1.000000e-02  2.560000e+00\n",
      "  4.000000e+00  2.252700e+00  5.000000e-01  5.000000e-01  1.000000e-03\n",
      " -1.000000e+00 -1.000000e+00 -1.000000e+00 -1.000000e+00 -1.000000e+00\n",
      " -1.000000e+00  0.000000e+00  0.000000e+00  5.000000e-01 -1.000000e+00\n",
      " -1.000000e+00 -1.000000e+00 -1.000000e+00 -1.000000e+00 -1.000000e+00\n",
      "  1.000000e+00  1.000000e+00  6.400000e-03  6.130692e+02  1.706800e+00\n",
      "  5.000000e-02  5.411800e+00  1.132900e+00  1.556800e+00  1.765000e-01\n",
      "  8.235000e-01  2.000000e-04  1.620000e-02  1.270000e-02  1.000000e-03\n",
      "  8.910000e-02  1.870000e-02  1.070000e-02  2.800000e-03  3.000000e-03\n",
      "  6.254000e+00  1.768000e-01  7.300000e-03  4.130900e+00]\n"
     ]
    },
    {
     "data": {
      "text/plain": [
       "<matplotlib.image.AxesImage at 0x7f563ec62240>"
      ]
     },
     "execution_count": 5,
     "metadata": {},
     "output_type": "execute_result"
    },
    {
     "data": {
      "image/png": "[encoded data removed]",
      "text/plain": [
       "<Figure size 432x288 with 1 Axes>"
      ]
     },
     "metadata": {
      "needs_background": "light"
     },
     "output_type": "display_data"
    }
   ],
   "source": [
    "# Print an image\n",
    "index = 420\n",
    "this_image = x[index]\n",
    "if y[index] == 1:\n",
    "    print(\"label: good\")\n",
    "else:\n",
    "    print(\"label: bad\")\n",
    "print(\"label: \" + str(y[index]))\n",
    "print(\"params: \" + str(params[index]))\n",
    "plt.imshow(np.uint8(utils.get_printable_image(this_image)))"
   ]
  },
  {
   "cell_type": "markdown",
   "metadata": {},
   "source": [
    "## Define and Train multi-layer ConvNet with 2 fully connected layers plus output layer\n",
    "\n",
    "For the convolutional layer, we will scan over our images with a certain stride and a certain kernal size. \n",
    "Each individual scan represents a single neuron in the next layer. Since each scan connects to kernal size squared\n",
    "neurons below it, convolutions reduce the number of degrees of freedom. Hopefully, through learning the right filters,\n",
    "we can preserve the important information as we reduce it in size.\n",
    "\n",
    "Once the image has gone through the convolutional layers (and therefore has been reduced to its features vector), we\n",
    "can send the resulting vector into some old-fashioned fully-connected layers, and finally into a logistic regression unit."
   ]
  },
  {
   "cell_type": "markdown",
   "metadata": {},
   "source": [
    "##### Define hyperparameters"
   ]
  },
  {
   "cell_type": "code",
   "execution_count": 8,
   "metadata": {},
   "outputs": [],
   "source": [
    "# Initialize\n",
    "filters = []\n",
    "kernels = []\n",
    "strides = []\n",
    "pools = []\n",
    "dropouts = []\n",
    "\n",
    "# Conv1\n",
    "filters.append(32)\n",
    "kernels.append(5)\n",
    "strides.append(2)\n",
    "pools.append(2)\n",
    "dropouts.append(0.4)\n",
    "\n",
    "# Conv2\n",
    "filters.append(128)\n",
    "kernels.append(5)\n",
    "strides.append(2)\n",
    "pools.append(2)\n",
    "dropouts.append(0.3)\n",
    "\n",
    "# Conv3\n",
    "filters.append(256)\n",
    "kernels.append(4)\n",
    "strides.append(2)\n",
    "pools.append(2)\n",
    "dropouts.append(0.2)\n",
    "\n",
    "# Define dense (fully-connected) layer sizes\n",
    "fc1 = 20\n",
    "fc2 = 10"
   ]
  },
  {
   "cell_type": "markdown",
   "metadata": {},
   "source": [
    "##### Define keras layers (model)"
   ]
  },
  {
   "cell_type": "code",
   "execution_count": 9,
   "metadata": {},
   "outputs": [],
   "source": [
    "def concat_params(input):\n",
    "    a = input[0]\n",
    "    b = input[1]\n",
    "    return concatenate([a,b], axis=1)"
   ]
  },
  {
   "cell_type": "code",
   "execution_count": 15,
   "metadata": {},
   "outputs": [],
   "source": [
    "# Define input layer (RGB image matrix)\n",
    "X = Input(shape=input_shape, name='Input')\n",
    "\n",
    "# Define additional input info\n",
    "Params = Input(shape=(num_params,), name='Params')\n",
    "\n",
    "# Initialize activation as input\n",
    "a = X\n",
    "# Loop through all convolutional layers\n",
    "for i in range(len(filters)):\n",
    "    # Perform convolution\n",
    "    a = Conv2D(filters=filters[i], kernel_size=(kernels[i], kernels[i]), strides=(strides[i], strides[i]), name=('conv' + str(i)))(a)\n",
    "    # Normalize\n",
    "    a = BatchNormalization(axis=3, name=('bn' + str(i)))(a)\n",
    "    # Activate\n",
    "    a = Activation('relu', name=('a' + str(i)))(a)\n",
    "    # Max-pool\n",
    "    a = MaxPooling2D((pools[i], pools[i]), name=('max_pool' + str(i)))(a)\n",
    "    # Dropout\n",
    "    a = Dropout(rate=dropouts[i])(a)\n",
    "\n",
    "# Flatten output of convNet\n",
    "a = Flatten()(a)\n",
    "# Define first fully connected layer\n",
    "a = Dense(units=fc1, activation='relu', name='fc0')(a)\n",
    "# Use some dropout here for regularization\n",
    "a = Dropout(rate=0.2)(a)\n",
    "\n",
    "# Activate parameters\n",
    "a_params = Activation('tanh', name='param_act')(Params)\n",
    "\n",
    "# Concatenate parameters to activations\n",
    "a = Lambda(concat_params, name='concat_params')([a, a_params])\n",
    "\n",
    "# Define second fully connected layer\n",
    "a = Dense(units=fc2, activation='relu', name='fc1')(a)\n",
    "# Define output layer \n",
    "a = Dense(units=1, activation='sigmoid', name='sigmoid')(a)\n",
    "\n",
    "# Make the model\n",
    "model = Model(inputs=[X, Params], outputs=a)"
   ]
  },
  {
   "cell_type": "markdown",
   "metadata": {},
   "source": [
    "##### Define optimizer, loss, and metrics. Compile model."
   ]
  },
  {
   "cell_type": "code",
   "execution_count": 16,
   "metadata": {
    "scrolled": false
   },
   "outputs": [
    {
     "name": "stdout",
     "output_type": "stream",
     "text": [
      "__________________________________________________________________________________________________\n",
      "Layer (type)                    Output Shape         Param #     Connected to                     \n",
      "==================================================================================================\n",
      "Input (InputLayer)              (None, 236, 348, 3)  0                                            \n",
      "__________________________________________________________________________________________________\n",
      "conv0 (Conv2D)                  (None, 116, 172, 32) 2432        Input[0][0]                      \n",
      "__________________________________________________________________________________________________\n",
      "bn0 (BatchNormalization)        (None, 116, 172, 32) 128         conv0[0][0]                      \n",
      "__________________________________________________________________________________________________\n",
      "a0 (Activation)                 (None, 116, 172, 32) 0           bn0[0][0]                        \n",
      "__________________________________________________________________________________________________\n",
      "max_pool0 (MaxPooling2D)        (None, 58, 86, 32)   0           a0[0][0]                         \n",
      "__________________________________________________________________________________________________\n",
      "dropout_13 (Dropout)            (None, 58, 86, 32)   0           max_pool0[0][0]                  \n",
      "__________________________________________________________________________________________________\n",
      "conv1 (Conv2D)                  (None, 27, 41, 128)  102528      dropout_13[0][0]                 \n",
      "__________________________________________________________________________________________________\n",
      "bn1 (BatchNormalization)        (None, 27, 41, 128)  512         conv1[0][0]                      \n",
      "__________________________________________________________________________________________________\n",
      "a1 (Activation)                 (None, 27, 41, 128)  0           bn1[0][0]                        \n",
      "__________________________________________________________________________________________________\n",
      "max_pool1 (MaxPooling2D)        (None, 13, 20, 128)  0           a1[0][0]                         \n",
      "__________________________________________________________________________________________________\n",
      "dropout_14 (Dropout)            (None, 13, 20, 128)  0           max_pool1[0][0]                  \n",
      "__________________________________________________________________________________________________\n",
      "conv2 (Conv2D)                  (None, 5, 9, 256)    524544      dropout_14[0][0]                 \n",
      "__________________________________________________________________________________________________\n",
      "bn2 (BatchNormalization)        (None, 5, 9, 256)    1024        conv2[0][0]                      \n",
      "__________________________________________________________________________________________________\n",
      "a2 (Activation)                 (None, 5, 9, 256)    0           bn2[0][0]                        \n",
      "__________________________________________________________________________________________________\n",
      "max_pool2 (MaxPooling2D)        (None, 2, 4, 256)    0           a2[0][0]                         \n",
      "__________________________________________________________________________________________________\n",
      "dropout_15 (Dropout)            (None, 2, 4, 256)    0           max_pool2[0][0]                  \n",
      "__________________________________________________________________________________________________\n",
      "flatten_4 (Flatten)             (None, 2048)         0           dropout_15[0][0]                 \n",
      "__________________________________________________________________________________________________\n",
      "fc0 (Dense)                     (None, 20)           40980       flatten_4[0][0]                  \n",
      "__________________________________________________________________________________________________\n",
      "Params (InputLayer)             (None, 54)           0                                            \n",
      "__________________________________________________________________________________________________\n",
      "dropout_16 (Dropout)            (None, 20)           0           fc0[0][0]                        \n",
      "__________________________________________________________________________________________________\n",
      "param_act (Activation)          (None, 54)           0           Params[0][0]                     \n",
      "__________________________________________________________________________________________________\n",
      "concat_params (Lambda)          (None, 74)           0           dropout_16[0][0]                 \n",
      "                                                                 param_act[0][0]                  \n",
      "__________________________________________________________________________________________________\n",
      "fc1 (Dense)                     (None, 10)           750         concat_params[0][0]              \n",
      "__________________________________________________________________________________________________\n",
      "sigmoid (Dense)                 (None, 1)            11          fc1[0][0]                        \n",
      "==================================================================================================\n",
      "Total params: 672,909\n",
      "Trainable params: 672,077\n",
      "Non-trainable params: 832\n",
      "__________________________________________________________________________________________________\n"
     ]
    }
   ],
   "source": [
    "# Define optimizer\n",
    "#opt = Adam(lr=0.01, beta_1=0.9, beta_2=0.999, decay=0.001)\n",
    "opt = SGD(lr=1.0, decay=1e-6, momentum=0.9, nesterov=True)\n",
    "# Define loss\n",
    "loss = 'mean_squared_error'\n",
    "# Define metrics to use\n",
    "metrics=['acc']\n",
    "# Compile model\n",
    "model.compile(loss=loss, optimizer='sgd', metrics=metrics)\n",
    "# Print summary\n",
    "model.summary()"
   ]
  },
  {
   "cell_type": "markdown",
   "metadata": {},
   "source": [
    "##### Fit the model to the data (train)"
   ]
  },
  {
   "cell_type": "code",
   "execution_count": null,
   "metadata": {
    "scrolled": true
   },
   "outputs": [
    {
     "name": "stdout",
     "output_type": "stream",
     "text": [
      "Train on 1396 samples, validate on 129 samples\n",
      "Epoch 1/400\n",
      "1396/1396 [==============================] - 4s 3ms/step - loss: 0.1283 - acc: 0.8216 - val_loss: 0.1437 - val_acc: 0.7829\n",
      "Epoch 2/400\n",
      "1396/1396 [==============================] - 4s 3ms/step - loss: 0.1280 - acc: 0.8181 - val_loss: 0.1452 - val_acc: 0.7752\n",
      "Epoch 3/400\n",
      "1396/1396 [==============================] - 4s 3ms/step - loss: 0.1253 - acc: 0.8352 - val_loss: 0.1459 - val_acc: 0.7752\n",
      "Epoch 4/400\n",
      "1396/1396 [==============================] - 4s 3ms/step - loss: 0.1236 - acc: 0.8374 - val_loss: 0.1428 - val_acc: 0.7907\n",
      "Epoch 5/400\n",
      "1396/1396 [==============================] - 4s 3ms/step - loss: 0.1245 - acc: 0.8352 - val_loss: 0.1447 - val_acc: 0.7829\n",
      "Epoch 6/400\n",
      "1396/1396 [==============================] - 4s 3ms/step - loss: 0.1244 - acc: 0.8345 - val_loss: 0.1446 - val_acc: 0.7829\n",
      "Epoch 7/400\n",
      "1396/1396 [==============================] - 4s 3ms/step - loss: 0.1263 - acc: 0.8238 - val_loss: 0.1431 - val_acc: 0.7829\n",
      "Epoch 8/400\n",
      "1396/1396 [==============================] - 4s 3ms/step - loss: 0.1226 - acc: 0.8338 - val_loss: 0.1451 - val_acc: 0.7829\n",
      "Epoch 9/400\n",
      "1396/1396 [==============================] - 4s 3ms/step - loss: 0.1277 - acc: 0.8245 - val_loss: 0.1442 - val_acc: 0.7829\n",
      "Epoch 10/400\n",
      "1396/1396 [==============================] - 4s 3ms/step - loss: 0.1207 - acc: 0.8367 - val_loss: 0.1431 - val_acc: 0.7829\n",
      "Epoch 11/400\n",
      "1396/1396 [==============================] - 4s 3ms/step - loss: 0.1247 - acc: 0.8266 - val_loss: 0.1432 - val_acc: 0.7829\n",
      "Epoch 12/400\n",
      "1396/1396 [==============================] - 4s 3ms/step - loss: 0.1165 - acc: 0.8524 - val_loss: 0.1412 - val_acc: 0.7829\n",
      "Epoch 13/400\n",
      "1396/1396 [==============================] - 4s 3ms/step - loss: 0.1194 - acc: 0.8324 - val_loss: 0.1397 - val_acc: 0.7829\n",
      "Epoch 14/400\n",
      "1396/1396 [==============================] - 4s 3ms/step - loss: 0.1258 - acc: 0.8209 - val_loss: 0.1427 - val_acc: 0.7752\n",
      "Epoch 15/400\n",
      "1396/1396 [==============================] - 4s 3ms/step - loss: 0.1267 - acc: 0.8281 - val_loss: 0.1453 - val_acc: 0.7752\n",
      "Epoch 16/400\n",
      "1396/1396 [==============================] - 4s 3ms/step - loss: 0.1204 - acc: 0.8331 - val_loss: 0.1412 - val_acc: 0.7829\n",
      "Epoch 17/400\n",
      "1396/1396 [==============================] - 4s 3ms/step - loss: 0.1236 - acc: 0.8281 - val_loss: 0.1442 - val_acc: 0.7829\n",
      "Epoch 18/400\n",
      "1396/1396 [==============================] - 4s 3ms/step - loss: 0.1269 - acc: 0.8102 - val_loss: 0.1432 - val_acc: 0.7829\n",
      "Epoch 19/400\n",
      "1396/1396 [==============================] - 4s 3ms/step - loss: 0.1197 - acc: 0.8259 - val_loss: 0.1436 - val_acc: 0.7674\n",
      "Epoch 20/400\n",
      "1396/1396 [==============================] - 4s 3ms/step - loss: 0.1196 - acc: 0.8324 - val_loss: 0.1414 - val_acc: 0.7752\n",
      "Epoch 21/400\n",
      "1396/1396 [==============================] - 4s 3ms/step - loss: 0.1238 - acc: 0.8288 - val_loss: 0.1462 - val_acc: 0.7674\n",
      "Epoch 22/400\n",
      "1396/1396 [==============================] - 4s 3ms/step - loss: 0.1141 - acc: 0.8438 - val_loss: 0.1453 - val_acc: 0.7674\n",
      "Epoch 23/400\n",
      "1396/1396 [==============================] - 4s 3ms/step - loss: 0.1222 - acc: 0.8238 - val_loss: 0.1419 - val_acc: 0.7829\n",
      "Epoch 24/400\n",
      "1396/1396 [==============================] - 4s 3ms/step - loss: 0.1216 - acc: 0.8338 - val_loss: 0.1415 - val_acc: 0.7674\n",
      "Epoch 25/400\n",
      "1396/1396 [==============================] - 4s 3ms/step - loss: 0.1157 - acc: 0.8524 - val_loss: 0.1406 - val_acc: 0.7907\n",
      "Epoch 26/400\n",
      "1396/1396 [==============================] - 4s 3ms/step - loss: 0.1148 - acc: 0.8460 - val_loss: 0.1408 - val_acc: 0.7829\n",
      "Epoch 27/400\n",
      "1396/1396 [==============================] - 4s 3ms/step - loss: 0.1150 - acc: 0.8460 - val_loss: 0.1407 - val_acc: 0.7907\n",
      "Epoch 28/400\n",
      "1396/1396 [==============================] - 4s 3ms/step - loss: 0.1174 - acc: 0.8395 - val_loss: 0.1422 - val_acc: 0.7752\n",
      "Epoch 29/400\n",
      "1396/1396 [==============================] - 4s 3ms/step - loss: 0.1160 - acc: 0.8331 - val_loss: 0.1443 - val_acc: 0.7674\n",
      "Epoch 30/400\n",
      "1396/1396 [==============================] - 4s 3ms/step - loss: 0.1156 - acc: 0.8410 - val_loss: 0.1417 - val_acc: 0.7752\n",
      "Epoch 31/400\n",
      "1396/1396 [==============================] - 4s 3ms/step - loss: 0.1171 - acc: 0.8374 - val_loss: 0.1410 - val_acc: 0.7829\n",
      "Epoch 32/400\n",
      "1396/1396 [==============================] - 4s 3ms/step - loss: 0.1192 - acc: 0.8266 - val_loss: 0.1414 - val_acc: 0.7829\n",
      "Epoch 33/400\n",
      "1396/1396 [==============================] - 4s 3ms/step - loss: 0.1122 - acc: 0.8374 - val_loss: 0.1466 - val_acc: 0.7674\n",
      "Epoch 34/400\n",
      "1396/1396 [==============================] - 4s 3ms/step - loss: 0.1172 - acc: 0.8395 - val_loss: 0.1444 - val_acc: 0.7752\n",
      "Epoch 35/400\n",
      "1396/1396 [==============================] - 4s 3ms/step - loss: 0.1066 - acc: 0.8632 - val_loss: 0.1457 - val_acc: 0.7752\n",
      "Epoch 36/400\n",
      "1396/1396 [==============================] - 4s 3ms/step - loss: 0.1080 - acc: 0.8589 - val_loss: 0.1385 - val_acc: 0.7907\n",
      "Epoch 37/400\n",
      "1396/1396 [==============================] - 4s 3ms/step - loss: 0.1117 - acc: 0.8395 - val_loss: 0.1412 - val_acc: 0.7829\n",
      "Epoch 38/400\n",
      "1396/1396 [==============================] - 4s 3ms/step - loss: 0.1117 - acc: 0.8510 - val_loss: 0.1401 - val_acc: 0.7829\n",
      "Epoch 39/400\n",
      "1396/1396 [==============================] - 4s 3ms/step - loss: 0.1138 - acc: 0.8417 - val_loss: 0.1434 - val_acc: 0.7829\n",
      "Epoch 40/400\n",
      "1396/1396 [==============================] - 4s 3ms/step - loss: 0.1113 - acc: 0.8510 - val_loss: 0.1456 - val_acc: 0.7597\n",
      "Epoch 41/400\n",
      "1396/1396 [==============================] - 4s 3ms/step - loss: 0.1088 - acc: 0.8503 - val_loss: 0.1428 - val_acc: 0.7829\n",
      "Epoch 42/400\n",
      "1396/1396 [==============================] - 4s 3ms/step - loss: 0.1117 - acc: 0.8424 - val_loss: 0.1429 - val_acc: 0.7829\n",
      "Epoch 43/400\n",
      "1396/1396 [==============================] - 4s 3ms/step - loss: 0.1086 - acc: 0.8503 - val_loss: 0.1431 - val_acc: 0.7829\n",
      "Epoch 44/400\n",
      "1396/1396 [==============================] - 4s 3ms/step - loss: 0.1095 - acc: 0.8532 - val_loss: 0.1414 - val_acc: 0.7907\n",
      "Epoch 45/400\n",
      "1396/1396 [==============================] - 4s 3ms/step - loss: 0.1097 - acc: 0.8517 - val_loss: 0.1417 - val_acc: 0.7907\n",
      "Epoch 46/400\n",
      "1396/1396 [==============================] - 4s 3ms/step - loss: 0.1115 - acc: 0.8460 - val_loss: 0.1360 - val_acc: 0.7984\n",
      "Epoch 47/400\n",
      "1396/1396 [==============================] - 4s 3ms/step - loss: 0.1101 - acc: 0.8474 - val_loss: 0.1419 - val_acc: 0.7907\n",
      "Epoch 48/400\n",
      "1396/1396 [==============================] - 4s 3ms/step - loss: 0.1098 - acc: 0.8481 - val_loss: 0.1409 - val_acc: 0.7907\n",
      "Epoch 49/400\n",
      "1396/1396 [==============================] - 4s 3ms/step - loss: 0.1105 - acc: 0.8510 - val_loss: 0.1359 - val_acc: 0.7984\n",
      "Epoch 50/400\n",
      "1396/1396 [==============================] - 4s 3ms/step - loss: 0.1103 - acc: 0.8467 - val_loss: 0.1330 - val_acc: 0.8062\n",
      "Epoch 51/400\n",
      "1396/1396 [==============================] - 4s 3ms/step - loss: 0.1090 - acc: 0.8460 - val_loss: 0.1332 - val_acc: 0.8062\n",
      "Epoch 52/400\n",
      "1396/1396 [==============================] - 4s 3ms/step - loss: 0.1010 - acc: 0.8653 - val_loss: 0.1367 - val_acc: 0.8062\n",
      "Epoch 53/400\n",
      "1396/1396 [==============================] - 4s 3ms/step - loss: 0.1032 - acc: 0.8632 - val_loss: 0.1334 - val_acc: 0.8062\n",
      "Epoch 54/400\n",
      "1396/1396 [==============================] - 4s 3ms/step - loss: 0.1066 - acc: 0.8553 - val_loss: 0.1375 - val_acc: 0.7984\n",
      "Epoch 55/400\n",
      "1396/1396 [==============================] - 4s 3ms/step - loss: 0.0999 - acc: 0.8689 - val_loss: 0.1384 - val_acc: 0.7829\n",
      "Epoch 56/400\n",
      "1396/1396 [==============================] - 4s 3ms/step - loss: 0.1052 - acc: 0.8539 - val_loss: 0.1334 - val_acc: 0.7907\n",
      "Epoch 57/400\n",
      "1396/1396 [==============================] - 4s 3ms/step - loss: 0.1066 - acc: 0.8582 - val_loss: 0.1370 - val_acc: 0.7829\n",
      "Epoch 58/400\n",
      "1396/1396 [==============================] - 4s 3ms/step - loss: 0.1081 - acc: 0.8553 - val_loss: 0.1354 - val_acc: 0.8062\n",
      "Epoch 59/400\n",
      "1396/1396 [==============================] - 4s 3ms/step - loss: 0.1000 - acc: 0.8675 - val_loss: 0.1341 - val_acc: 0.7984\n",
      "Epoch 60/400\n",
      "1396/1396 [==============================] - 4s 3ms/step - loss: 0.1023 - acc: 0.8596 - val_loss: 0.1316 - val_acc: 0.8062\n"
     ]
    },
    {
     "name": "stdout",
     "output_type": "stream",
     "text": [
      "Epoch 61/400\n",
      "1396/1396 [==============================] - 4s 3ms/step - loss: 0.1023 - acc: 0.8539 - val_loss: 0.1290 - val_acc: 0.8062\n",
      "Epoch 62/400\n",
      "1396/1396 [==============================] - 4s 3ms/step - loss: 0.0992 - acc: 0.8689 - val_loss: 0.1345 - val_acc: 0.8062\n",
      "Epoch 63/400\n",
      "1396/1396 [==============================] - 4s 3ms/step - loss: 0.1015 - acc: 0.8596 - val_loss: 0.1305 - val_acc: 0.8062\n",
      "Epoch 64/400\n",
      "1396/1396 [==============================] - 4s 3ms/step - loss: 0.1003 - acc: 0.8668 - val_loss: 0.1315 - val_acc: 0.8062\n",
      "Epoch 65/400\n",
      "1396/1396 [==============================] - 4s 3ms/step - loss: 0.1025 - acc: 0.8610 - val_loss: 0.1335 - val_acc: 0.7907\n",
      "Epoch 66/400\n",
      "1396/1396 [==============================] - 4s 3ms/step - loss: 0.1017 - acc: 0.8596 - val_loss: 0.1366 - val_acc: 0.7907\n",
      "Epoch 67/400\n",
      "1396/1396 [==============================] - 4s 3ms/step - loss: 0.0998 - acc: 0.8725 - val_loss: 0.1374 - val_acc: 0.7907\n",
      "Epoch 68/400\n",
      "1396/1396 [==============================] - 4s 3ms/step - loss: 0.0975 - acc: 0.8825 - val_loss: 0.1348 - val_acc: 0.7907\n",
      "Epoch 69/400\n",
      "1396/1396 [==============================] - 4s 3ms/step - loss: 0.0997 - acc: 0.8653 - val_loss: 0.1323 - val_acc: 0.7984\n",
      "Epoch 70/400\n",
      "1396/1396 [==============================] - 4s 3ms/step - loss: 0.0942 - acc: 0.8775 - val_loss: 0.1333 - val_acc: 0.7907\n",
      "Epoch 71/400\n",
      "1396/1396 [==============================] - 4s 3ms/step - loss: 0.1014 - acc: 0.8567 - val_loss: 0.1332 - val_acc: 0.7907\n",
      "Epoch 72/400\n",
      "1396/1396 [==============================] - 4s 3ms/step - loss: 0.1021 - acc: 0.8625 - val_loss: 0.1338 - val_acc: 0.7907\n",
      "Epoch 73/400\n",
      "1396/1396 [==============================] - 4s 3ms/step - loss: 0.0991 - acc: 0.8603 - val_loss: 0.1303 - val_acc: 0.7984\n",
      "Epoch 74/400\n",
      "1396/1396 [==============================] - 4s 3ms/step - loss: 0.1000 - acc: 0.8553 - val_loss: 0.1354 - val_acc: 0.7907\n",
      "Epoch 75/400\n",
      "1396/1396 [==============================] - 4s 3ms/step - loss: 0.0980 - acc: 0.8660 - val_loss: 0.1328 - val_acc: 0.7907\n",
      "Epoch 76/400\n",
      "1396/1396 [==============================] - 4s 3ms/step - loss: 0.0950 - acc: 0.8703 - val_loss: 0.1307 - val_acc: 0.7984\n",
      "Epoch 77/400\n",
      "1396/1396 [==============================] - 4s 3ms/step - loss: 0.1006 - acc: 0.8574 - val_loss: 0.1339 - val_acc: 0.7907\n",
      "Epoch 78/400\n",
      "1396/1396 [==============================] - 4s 3ms/step - loss: 0.0989 - acc: 0.8703 - val_loss: 0.1297 - val_acc: 0.7907\n",
      "Epoch 79/400\n",
      "1396/1396 [==============================] - 4s 3ms/step - loss: 0.0990 - acc: 0.8668 - val_loss: 0.1307 - val_acc: 0.7984\n",
      "Epoch 80/400\n",
      "1396/1396 [==============================] - 4s 3ms/step - loss: 0.0987 - acc: 0.8746 - val_loss: 0.1331 - val_acc: 0.7907\n",
      "Epoch 81/400\n",
      "1396/1396 [==============================] - 4s 3ms/step - loss: 0.1005 - acc: 0.8574 - val_loss: 0.1351 - val_acc: 0.7907\n",
      "Epoch 82/400\n",
      "1396/1396 [==============================] - 4s 3ms/step - loss: 0.0984 - acc: 0.8632 - val_loss: 0.1285 - val_acc: 0.7907\n",
      "Epoch 83/400\n",
      "1396/1396 [==============================] - 4s 3ms/step - loss: 0.0922 - acc: 0.8754 - val_loss: 0.1329 - val_acc: 0.7984\n",
      "Epoch 84/400\n",
      "1396/1396 [==============================] - 4s 3ms/step - loss: 0.0971 - acc: 0.8711 - val_loss: 0.1388 - val_acc: 0.7829\n",
      "Epoch 85/400\n",
      "1396/1396 [==============================] - 4s 3ms/step - loss: 0.0936 - acc: 0.8761 - val_loss: 0.1382 - val_acc: 0.7907\n",
      "Epoch 86/400\n",
      "1396/1396 [==============================] - 4s 3ms/step - loss: 0.0946 - acc: 0.8660 - val_loss: 0.1330 - val_acc: 0.7829\n",
      "Epoch 87/400\n",
      "1396/1396 [==============================] - 4s 3ms/step - loss: 0.0896 - acc: 0.8861 - val_loss: 0.1285 - val_acc: 0.7907\n",
      "Epoch 88/400\n",
      "1396/1396 [==============================] - 4s 3ms/step - loss: 0.0954 - acc: 0.8732 - val_loss: 0.1306 - val_acc: 0.7907\n",
      "Epoch 89/400\n",
      "1396/1396 [==============================] - 4s 3ms/step - loss: 0.0982 - acc: 0.8632 - val_loss: 0.1298 - val_acc: 0.7984\n",
      "Epoch 90/400\n",
      "1396/1396 [==============================] - 4s 3ms/step - loss: 0.0962 - acc: 0.8718 - val_loss: 0.1340 - val_acc: 0.7907\n",
      "Epoch 91/400\n",
      "1396/1396 [==============================] - 4s 3ms/step - loss: 0.0942 - acc: 0.8754 - val_loss: 0.1281 - val_acc: 0.7907\n",
      "Epoch 92/400\n",
      "1396/1396 [==============================] - 4s 3ms/step - loss: 0.0921 - acc: 0.8754 - val_loss: 0.1300 - val_acc: 0.7907\n",
      "Epoch 93/400\n",
      "1396/1396 [==============================] - 4s 3ms/step - loss: 0.0934 - acc: 0.8754 - val_loss: 0.1298 - val_acc: 0.7907\n",
      "Epoch 94/400\n",
      "1396/1396 [==============================] - 4s 3ms/step - loss: 0.0933 - acc: 0.8768 - val_loss: 0.1321 - val_acc: 0.7984\n",
      "Epoch 95/400\n",
      "1396/1396 [==============================] - 4s 3ms/step - loss: 0.0939 - acc: 0.8768 - val_loss: 0.1359 - val_acc: 0.7829\n",
      "Epoch 96/400\n",
      "1396/1396 [==============================] - 4s 3ms/step - loss: 0.0915 - acc: 0.8703 - val_loss: 0.1356 - val_acc: 0.7829\n",
      "Epoch 97/400\n",
      "1396/1396 [==============================] - 4s 3ms/step - loss: 0.0923 - acc: 0.8804 - val_loss: 0.1278 - val_acc: 0.7984\n",
      "Epoch 98/400\n",
      "1396/1396 [==============================] - 4s 3ms/step - loss: 0.0908 - acc: 0.8782 - val_loss: 0.1298 - val_acc: 0.7984\n",
      "Epoch 99/400\n",
      "1396/1396 [==============================] - 4s 3ms/step - loss: 0.0960 - acc: 0.8632 - val_loss: 0.1303 - val_acc: 0.7907\n",
      "Epoch 100/400\n",
      "1396/1396 [==============================] - 4s 3ms/step - loss: 0.0865 - acc: 0.8961 - val_loss: 0.1354 - val_acc: 0.7829\n",
      "Epoch 101/400\n",
      " 128/1396 [=>............................] - ETA: 3s - loss: 0.1075 - acc: 0.8359"
     ]
    }
   ],
   "source": [
    "# Now, fit the model to the data\n",
    "history = model.fit([x, params], y, validation_data=([x_dev, params_dev], y_dev), epochs=400, batch_size=128)\n",
    "\n",
    "# List all data in history\n",
    "print(history.history.keys())\n",
    "# Summarize history for accuracy\n",
    "plt.plot(history.history['acc'])\n",
    "plt.plot(history.history['val_acc'])\n",
    "plt.title('model accuracy')\n",
    "plt.ylabel('accuracy')\n",
    "plt.xlabel('epoch')\n",
    "plt.legend(['train', 'test'], loc='upper left')\n",
    "plt.show()\n",
    "# Summarize history for loss\n",
    "plt.plot(history.history['loss'])\n",
    "plt.plot(history.history['val_loss'])\n",
    "plt.title('model loss')\n",
    "plt.ylabel('loss')\n",
    "plt.xlabel('epoch')\n",
    "plt.legend(['train', 'test'], loc='upper left')\n",
    "plt.show()"
   ]
  },
  {
   "cell_type": "markdown",
   "metadata": {},
   "source": [
    "##### Load pretrained conv model"
   ]
  },
  {
   "cell_type": "code",
   "execution_count": 47,
   "metadata": {},
   "outputs": [
    {
     "name": "stdout",
     "output_type": "stream",
     "text": [
      "Loaded model from disk\n"
     ]
    }
   ],
   "source": [
    "# load json and create model\n",
    "json_file = open('trained/conv_model_quickngood.json', 'r')\n",
    "conv_model_json = json_file.read()\n",
    "json_file.close()\n",
    "model = model_from_json(conv_model_json)\n",
    "# load weights into new model\n",
    "model.load_weights(\"trained/conv_model_quickngood.h5\")\n",
    "print(\"Loaded model from disk\")"
   ]
  },
  {
   "cell_type": "markdown",
   "metadata": {},
   "source": [
    "##### Additional model evaluation"
   ]
  },
  {
   "cell_type": "code",
   "execution_count": 8,
   "metadata": {},
   "outputs": [
    {
     "name": "stdout",
     "output_type": "stream",
     "text": [
      "69/69 [==============================] - 0s 4ms/step\n",
      "\n",
      "Performance on VALIDATION set\n",
      ".............................\n",
      "Loss: 0.098587359104346\n",
      "Accuracy: 0.8985507246376812\n",
      "Precision: 0.9555555555555556\n",
      "Recall: 0.8958333333333334\n",
      ".............................\n",
      "List of indices of wrong guesses:\n",
      "[5, 7, 13, 42, 48, 52, 53]\n"
     ]
    }
   ],
   "source": [
    "# Evaluate model, get metrics back\n",
    "stats = model.evaluate([x_dev, params_dev], y_dev)\n",
    "# Calculate predictions vector from model\n",
    "predictions = model.predict(x_dev)\n",
    "predictions = np.floor(predictions + 0.5)\n",
    "\n",
    "# Get vector mask for good and bad fits and right and wrong answers\n",
    "good_fits = y_dev\n",
    "bad_fits = 1 - good_fits\n",
    "wrong_answers = np.abs(np.subtract(predictions, good_fits))\n",
    "right_answers = np.subtract(1, wrong_answers)\n",
    "# Calculate true positives (tp), as well as (tn) (fp) (fn)\n",
    "true_positives = np.multiply(right_answers, good_fits)\n",
    "true_negatives = np.multiply(right_answers, bad_fits)\n",
    "false_positives = np.multiply(wrong_answers, good_fits)\n",
    "false_negatives = np.multiply(wrong_answers, bad_fits)\n",
    "# Calculate additional metrics\n",
    "precision = np.sum(true_positives) / np.sum(true_positives + false_positives)\n",
    "recall = np.sum(true_positives) / np.sum(true_positives + false_negatives)\n",
    "\n",
    "# Print stats\n",
    "print()\n",
    "print(\"Performance on VALIDATION set\")\n",
    "print(\".............................\")\n",
    "print(\"Loss: \" + str(stats[0]))\n",
    "print(\"Accuracy: \" + str(stats[1]))\n",
    "print(\"Precision: \" + str(precision))\n",
    "print(\"Recall: \" + str(recall))\n",
    "\n",
    "# Print list of indices of wrong answers\n",
    "bad_list = []\n",
    "for i in range(m_dev):\n",
    "    if wrong_answers[i] == 1:\n",
    "        bad_list.append(i)\n",
    "print(\".............................\")\n",
    "print(\"List of indices of wrong guesses:\")\n",
    "print(bad_list)"
   ]
  },
  {
   "cell_type": "markdown",
   "metadata": {},
   "source": [
    "##### Look at an image"
   ]
  },
  {
   "cell_type": "code",
   "execution_count": 9,
   "metadata": {},
   "outputs": [
    {
     "name": "stdout",
     "output_type": "stream",
     "text": [
      "label: [0]\n",
      "prediction: [0.]\n",
      "(236, 348, 3)\n"
     ]
    },
    {
     "data": {
      "text/plain": [
       "<matplotlib.image.AxesImage at 0x7fc95401d588>"
      ]
     },
     "execution_count": 9,
     "metadata": {},
     "output_type": "execute_result"
    },
    {
     "data": {
      "image/png": "[encoded data removed]",
      "text/plain": [
       "<Figure size 432x288 with 1 Axes>"
      ]
     },
     "metadata": {
      "needs_background": "light"
     },
     "output_type": "display_data"
    }
   ],
   "source": [
    "# Choose an index \n",
    "index = 58\n",
    "\n",
    "# Print labels for this index\n",
    "print(\"label: \" + str(good_fits[index]))\n",
    "print(\"prediction: \" + str(predictions[index]))\n",
    "\n",
    "# Show image\n",
    "this_image = x[index]\n",
    "print(str(this_image.shape))\n",
    "plt.imshow(np.uint8(utils.get_printable_image(this_image)))"
   ]
  },
  {
   "cell_type": "markdown",
   "metadata": {},
   "source": [
    "##### Save convolutional model to disc"
   ]
  },
  {
   "cell_type": "code",
   "execution_count": 65,
   "metadata": {},
   "outputs": [
    {
     "name": "stdout",
     "output_type": "stream",
     "text": [
      "Saved model to disk\n"
     ]
    }
   ],
   "source": [
    "#plot_model(simple_model, to_file='simple_model.png')\n",
    "#SVG(model_to_dot(simple_model).create(prog='dot', format='svg'))\n",
    "\n",
    "# serialize model to JSON\n",
    "model_json = model.to_json()\n",
    "with open(\"trained/conv_model_chi_500epoch.json\", \"w\") as json_file:\n",
    "    json_file.write(model_json)\n",
    "# serialize weights to HDF5\n",
    "model.save_weights(\"trained/conv_model_chi_500epoch.h5\")\n",
    "print(\"Saved model to disk\")"
   ]
  },
  {
   "cell_type": "code",
   "execution_count": null,
   "metadata": {
    "collapsed": true
   },
   "outputs": [],
   "source": []
  }
 ],
 "metadata": {
  "kernelspec": {
   "display_name": "Python 3",
   "language": "python",
   "name": "python3"
  },
  "language_info": {
   "codemirror_mode": {
    "name": "ipython",
    "version": 3
   },
   "file_extension": ".py",
   "mimetype": "text/x-python",
   "name": "python",
   "nbconvert_exporter": "python",
   "pygments_lexer": "ipython3",
   "version": "3.5.2"
  }
 },
 "nbformat": 4,
 "nbformat_minor": 2
}
