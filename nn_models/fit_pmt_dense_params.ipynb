{
 "cells": [
  {
   "cell_type": "markdown",
   "metadata": {},
   "source": [
    "# Dense neural network for classifying Root data fits.\n",
    "\n",
    "\n",
    "Here, we define, train, and save new fully-connected models as well as some \n",
    "simple model evaluation. We define hyper-parameters, number of layers, and \n",
    "training and testing datasets. \n",
    "\n",
    "The information available for classification is simply some input and output from\n",
    "root fits (~ 55 numbers)."
   ]
  },
  {
   "cell_type": "markdown",
   "metadata": {},
   "source": [
    "#### Load necessary packages"
   ]
  },
  {
   "cell_type": "code",
   "execution_count": 2,
   "metadata": {},
   "outputs": [
    {
     "name": "stderr",
     "output_type": "stream",
     "text": [
      "Using TensorFlow backend.\n"
     ]
    }
   ],
   "source": [
    "# Load some packages\n",
    "\n",
    "# Keras packages for network\n",
    "from keras.layers import Input, Dense, Activation, ZeroPadding2D, BatchNormalization\n",
    "from keras.layers import AveragePooling2D, MaxPooling2D, Dropout, Conv2D, Flatten\n",
    "from keras.models import Model\n",
    "from keras.optimizers import Adam, SGD\n",
    "# For saving model\n",
    "from keras.models import model_from_json\n",
    "from keras.layers import concatenate, Lambda\n",
    "\n",
    "# Some items for plotting and drawing\n",
    "from keras.utils import plot_model\n",
    "from keras.utils.vis_utils import model_to_dot\n",
    "from IPython.display import SVG\n",
    "from PIL import Image\n",
    "from scipy import misc\n",
    "import matplotlib.pyplot as plt\n",
    "\n",
    "# Need numpy\n",
    "import numpy as np\n",
    "import nn_utils as utils\n",
    "\n",
    "%matplotlib inline"
   ]
  },
  {
   "cell_type": "markdown",
   "metadata": {},
   "source": [
    "#### Load root fit data from file"
   ]
  },
  {
   "cell_type": "code",
   "execution_count": 1,
   "metadata": {},
   "outputs": [
    {
     "ename": "NameError",
     "evalue": "name 'utils' is not defined",
     "output_type": "error",
     "traceback": [
      "\u001b[0;31m---------------------------------------------------------------------------\u001b[0m",
      "\u001b[0;31mNameError\u001b[0m                                 Traceback (most recent call last)",
      "\u001b[0;32m<ipython-input-1-03b8dc9bd83a>\u001b[0m in \u001b[0;36m<module>\u001b[0;34m\u001b[0m\n\u001b[1;32m      3\u001b[0m \u001b[0;34m\u001b[0m\u001b[0m\n\u001b[1;32m      4\u001b[0m \u001b[0;31m# Load dataset\u001b[0m\u001b[0;34m\u001b[0m\u001b[0;34m\u001b[0m\u001b[0m\n\u001b[0;32m----> 5\u001b[0;31m \u001b[0m_\u001b[0m\u001b[0;34m,\u001b[0m \u001b[0my\u001b[0m\u001b[0;34m,\u001b[0m \u001b[0mx\u001b[0m \u001b[0;34m=\u001b[0m \u001b[0mutils\u001b[0m\u001b[0;34m.\u001b[0m\u001b[0mload_dataset_all\u001b[0m\u001b[0;34m(\u001b[0m\u001b[0mim_dir\u001b[0m\u001b[0;34m=\u001b[0m\u001b[0;34m\"train\"\u001b[0m\u001b[0;34m,\u001b[0m \u001b[0mlog\u001b[0m\u001b[0;34m=\u001b[0m\u001b[0;32mFalse\u001b[0m\u001b[0;34m,\u001b[0m \u001b[0mim_path\u001b[0m\u001b[0;34m=\u001b[0m\u001b[0mim_path\u001b[0m\u001b[0;34m)\u001b[0m\u001b[0;34m\u001b[0m\u001b[0m\n\u001b[0m\u001b[1;32m      6\u001b[0m \u001b[0m_\u001b[0m\u001b[0;34m,\u001b[0m \u001b[0my_dev\u001b[0m\u001b[0;34m,\u001b[0m \u001b[0mx_dev\u001b[0m \u001b[0;34m=\u001b[0m \u001b[0mutils\u001b[0m\u001b[0;34m.\u001b[0m\u001b[0mload_dataset_all\u001b[0m\u001b[0;34m(\u001b[0m\u001b[0mim_dir\u001b[0m\u001b[0;34m=\u001b[0m\u001b[0;34m\"dev\"\u001b[0m\u001b[0;34m,\u001b[0m \u001b[0mlog\u001b[0m\u001b[0;34m=\u001b[0m\u001b[0;32mFalse\u001b[0m\u001b[0;34m,\u001b[0m \u001b[0mim_path\u001b[0m\u001b[0;34m=\u001b[0m\u001b[0mim_path\u001b[0m\u001b[0;34m)\u001b[0m\u001b[0;34m\u001b[0m\u001b[0m\n\u001b[1;32m      7\u001b[0m \u001b[0;34m\u001b[0m\u001b[0m\n",
      "\u001b[0;31mNameError\u001b[0m: name 'utils' is not defined"
     ]
    }
   ],
   "source": [
    "# Define image file path\n",
    "im_path=\"/media/brady/4be7777f-c84c-40ca-af3a-b8c6e4f2f90d/brady/Projects/fit_pmt/images/png_fit_nn/\"\n",
    "\n",
    "# Load dataset\n",
    "_, y, x = utils.load_dataset_all(im_dir=\"train\", log=False, im_path=im_path)\n",
    "_, y_dev, x_dev = utils.load_dataset_all(im_dir=\"dev\", log=False, im_path=im_path)\n",
    "\n",
    "# Grab dimensions \n",
    "m = x.shape[0]\n",
    "input_shape = x.shape[1]\n",
    "m_dev = x_dev.shape[0]\n",
    "\n",
    "# Print dimensions\n",
    "print(\"m: \" + str(m))\n",
    "print(\"m_dev: \" + str(m_dev))\n",
    "print(\"input: \" + str(input_shape))\n",
    "print(\"y: \" + str(y.shape))\n"
   ]
  },
  {
   "cell_type": "code",
   "execution_count": 5,
   "metadata": {},
   "outputs": [
    {
     "name": "stdout",
     "output_type": "stream",
     "text": [
      "label: good\n",
      "label: [1]\n",
      "params: [ 0.000000e+00  1.000000e+00  1.000000e+00  1.000000e+00  2.000000e+01\n",
      "  5.000000e-02  6.144692e+02  2.252700e+00  1.000000e-02  2.560000e+00\n",
      "  4.000000e+00  2.252700e+00  5.000000e-01  5.000000e-01  1.000000e-03\n",
      " -1.000000e+00 -1.000000e+00 -1.000000e+00 -1.000000e+00 -1.000000e+00\n",
      " -1.000000e+00  0.000000e+00  0.000000e+00  5.000000e-01 -1.000000e+00\n",
      " -1.000000e+00 -1.000000e+00 -1.000000e+00 -1.000000e+00 -1.000000e+00\n",
      "  1.000000e+00  1.000000e+00  6.400000e-03  6.130692e+02  1.706800e+00\n",
      "  5.000000e-02  5.411800e+00  1.132900e+00  1.556800e+00  1.765000e-01\n",
      "  8.235000e-01  2.000000e-04  1.620000e-02  1.270000e-02  1.000000e-03\n",
      "  8.910000e-02  1.870000e-02  1.070000e-02  2.800000e-03  3.000000e-03\n",
      "  6.254000e+00  1.768000e-01  7.300000e-03  4.130900e+00]\n"
     ]
    },
    {
     "data": {
      "text/plain": [
       "<matplotlib.image.AxesImage at 0x7f563ec62240>"
      ]
     },
     "execution_count": 5,
     "metadata": {},
     "output_type": "execute_result"
    },
    {
     "data": {
      "image/png": "[encoded data removed]",
      "text/plain": [
       "<Figure size 432x288 with 1 Axes>"
      ]
     },
     "metadata": {
      "needs_background": "light"
     },
     "output_type": "display_data"
    }
   ],
   "source": [
    "# Print an image\n",
    "index = 420\n",
    "if y[index] == 1:\n",
    "    print(\"label: good\")\n",
    "else:\n",
    "    print(\"label: bad\")\n",
    "print(\"label: \" + str(y[index]))\n",
    "print(\"params: \" + str(x[index]))"
   ]
  },
  {
   "cell_type": "markdown",
   "metadata": {},
   "source": [
    "## Define and Train multi-layer ConvNet with 2 fully connected layers plus output layer\n",
    "\n",
    "For the convolutional layer, we will scan over our images with a certain stride and a certain kernal size. \n",
    "Each individual scan represents a single neuron in the next layer. Since each scan connects to kernal size squared\n",
    "neurons below it, convolutions reduce the number of degrees of freedom. Hopefully, through learning the right filters,\n",
    "we can preserve the important information as we reduce it in size.\n",
    "\n",
    "Once the image has gone through the convolutional layers (and therefore has been reduced to its features vector), we\n",
    "can send the resulting vector into some old-fashioned fully-connected layers, and finally into a logistic regression unit."
   ]
  },
  {
   "cell_type": "markdown",
   "metadata": {},
   "source": [
    "##### Define keras layers (model)"
   ]
  },
  {
   "cell_type": "code",
   "execution_count": 15,
   "metadata": {},
   "outputs": [],
   "source": [
    "# Define input layer (RGB image matrix)\n",
    "X = Input(shape=input_shape, name='Input')\n",
    "\n",
    "# First, let's squash the values to a usable range\n",
    "a = Activation('tanh', name='param_activation')(X)\n",
    "# Define first fully connected layer\n",
    "a = Dense(units=100, activation='relu', name='fc0')(a)\n",
    "# Use some dropout here for regularization\n",
    "a = Dropout(rate=0.2)(a)\n",
    "# Define second fully connected layer\n",
    "a = Dense(units=500, activation='relu', name='fc1')(a)\n",
    "# Use some dropout here for regularization\n",
    "a = Dropout(rate=0.2)(a)\n",
    "# Define second fully connected layer\n",
    "a = Dense(units=300, activation='relu', name='fc2')(a)\n",
    "# Use some dropout here for regularization\n",
    "a = Dropout(rate=0.2)(a)\n",
    "# Define second fully connected layer\n",
    "a = Dense(units=100, activation='relu', name='fc3')(a)\n",
    "# Use some dropout here for regularization\n",
    "a = Dropout(rate=0.2)(a)\n",
    "# Define second fully connected layer\n",
    "a = Dense(units=20, activation='relu', name='fc4')(a)\n",
    "# Define output layer \n",
    "a = Dense(units=1, activation='sigmoid', name='sigmoid')(a)\n",
    "\n",
    "# Make the model\n",
    "model = Model(inputs=[X, Params], outputs=a)"
   ]
  },
  {
   "cell_type": "markdown",
   "metadata": {},
   "source": [
    "##### Define optimizer, loss, and metrics. Compile model."
   ]
  },
  {
   "cell_type": "code",
   "execution_count": 16,
   "metadata": {
    "scrolled": false
   },
   "outputs": [
    {
     "name": "stdout",
     "output_type": "stream",
     "text": [
      "__________________________________________________________________________________________________\n",
      "Layer (type)                    Output Shape         Param #     Connected to                     \n",
      "==================================================================================================\n",
      "Input (InputLayer)              (None, 236, 348, 3)  0                                            \n",
      "__________________________________________________________________________________________________\n",
      "conv0 (Conv2D)                  (None, 116, 172, 32) 2432        Input[0][0]                      \n",
      "__________________________________________________________________________________________________\n",
      "bn0 (BatchNormalization)        (None, 116, 172, 32) 128         conv0[0][0]                      \n",
      "__________________________________________________________________________________________________\n",
      "a0 (Activation)                 (None, 116, 172, 32) 0           bn0[0][0]                        \n",
      "__________________________________________________________________________________________________\n",
      "max_pool0 (MaxPooling2D)        (None, 58, 86, 32)   0           a0[0][0]                         \n",
      "__________________________________________________________________________________________________\n",
      "dropout_13 (Dropout)            (None, 58, 86, 32)   0           max_pool0[0][0]                  \n",
      "__________________________________________________________________________________________________\n",
      "conv1 (Conv2D)                  (None, 27, 41, 128)  102528      dropout_13[0][0]                 \n",
      "__________________________________________________________________________________________________\n",
      "bn1 (BatchNormalization)        (None, 27, 41, 128)  512         conv1[0][0]                      \n",
      "__________________________________________________________________________________________________\n",
      "a1 (Activation)                 (None, 27, 41, 128)  0           bn1[0][0]                        \n",
      "__________________________________________________________________________________________________\n",
      "max_pool1 (MaxPooling2D)        (None, 13, 20, 128)  0           a1[0][0]                         \n",
      "__________________________________________________________________________________________________\n",
      "dropout_14 (Dropout)            (None, 13, 20, 128)  0           max_pool1[0][0]                  \n",
      "__________________________________________________________________________________________________\n",
      "conv2 (Conv2D)                  (None, 5, 9, 256)    524544      dropout_14[0][0]                 \n",
      "__________________________________________________________________________________________________\n",
      "bn2 (BatchNormalization)        (None, 5, 9, 256)    1024        conv2[0][0]                      \n",
      "__________________________________________________________________________________________________\n",
      "a2 (Activation)                 (None, 5, 9, 256)    0           bn2[0][0]                        \n",
      "__________________________________________________________________________________________________\n",
      "max_pool2 (MaxPooling2D)        (None, 2, 4, 256)    0           a2[0][0]                         \n",
      "__________________________________________________________________________________________________\n",
      "dropout_15 (Dropout)            (None, 2, 4, 256)    0           max_pool2[0][0]                  \n",
      "__________________________________________________________________________________________________\n",
      "flatten_4 (Flatten)             (None, 2048)         0           dropout_15[0][0]                 \n",
      "__________________________________________________________________________________________________\n",
      "fc0 (Dense)                     (None, 20)           40980       flatten_4[0][0]                  \n",
      "__________________________________________________________________________________________________\n",
      "Params (InputLayer)             (None, 54)           0                                            \n",
      "__________________________________________________________________________________________________\n",
      "dropout_16 (Dropout)            (None, 20)           0           fc0[0][0]                        \n",
      "__________________________________________________________________________________________________\n",
      "param_act (Activation)          (None, 54)           0           Params[0][0]                     \n",
      "__________________________________________________________________________________________________\n",
      "concat_params (Lambda)          (None, 74)           0           dropout_16[0][0]                 \n",
      "                                                                 param_act[0][0]                  \n",
      "__________________________________________________________________________________________________\n",
      "fc1 (Dense)                     (None, 10)           750         concat_params[0][0]              \n",
      "__________________________________________________________________________________________________\n",
      "sigmoid (Dense)                 (None, 1)            11          fc1[0][0]                        \n",
      "==================================================================================================\n",
      "Total params: 672,909\n",
      "Trainable params: 672,077\n",
      "Non-trainable params: 832\n",
      "__________________________________________________________________________________________________\n"
     ]
    }
   ],
   "source": [
    "# Define optimizer\n",
    "#opt = Adam(lr=0.01, beta_1=0.9, beta_2=0.999, decay=0.001)\n",
    "opt = SGD(lr=1.0, decay=1e-6, momentum=0.9, nesterov=True)\n",
    "# Define loss\n",
    "loss = 'mean_squared_error'\n",
    "# Define metrics to use\n",
    "metrics=['acc']\n",
    "# Compile model\n",
    "model.compile(loss=loss, optimizer='sgd', metrics=metrics)\n",
    "# Print summary\n",
    "model.summary()"
   ]
  },
  {
   "cell_type": "markdown",
   "metadata": {},
   "source": [
    "##### Fit the model to the data (train)"
   ]
  },
  {
   "cell_type": "code",
   "execution_count": null,
   "metadata": {
    "scrolled": true
   },
   "outputs": [
    {
     "name": "stdout",
     "output_type": "stream",
     "text": [
      "Train on 1396 samples, validate on 129 samples\n",
      "Epoch 1/500\n",
      "1396/1396 [==============================] - 4s 3ms/step - loss: 0.0452 - acc: 0.9477 - val_loss: 0.1172 - val_acc: 0.8372\n",
      "Epoch 2/500\n",
      "1396/1396 [==============================] - 4s 3ms/step - loss: 0.0497 - acc: 0.9348 - val_loss: 0.1197 - val_acc: 0.8372\n",
      "Epoch 3/500\n",
      "1396/1396 [==============================] - 4s 3ms/step - loss: 0.0487 - acc: 0.9370 - val_loss: 0.1190 - val_acc: 0.8372\n",
      "Epoch 4/500\n",
      "1396/1396 [==============================] - 4s 3ms/step - loss: 0.0459 - acc: 0.9434 - val_loss: 0.1272 - val_acc: 0.8372\n",
      "Epoch 5/500\n",
      "1396/1396 [==============================] - 4s 3ms/step - loss: 0.0434 - acc: 0.9470 - val_loss: 0.1298 - val_acc: 0.8140\n",
      "Epoch 6/500\n",
      "1396/1396 [==============================] - 4s 3ms/step - loss: 0.0416 - acc: 0.9427 - val_loss: 0.1167 - val_acc: 0.8372\n",
      "Epoch 7/500\n",
      "1396/1396 [==============================] - 4s 3ms/step - loss: 0.0431 - acc: 0.9470 - val_loss: 0.1159 - val_acc: 0.8372\n",
      "Epoch 8/500\n",
      "1396/1396 [==============================] - 4s 3ms/step - loss: 0.0476 - acc: 0.9405 - val_loss: 0.1245 - val_acc: 0.8295\n",
      "Epoch 9/500\n",
      "1396/1396 [==============================] - 4s 3ms/step - loss: 0.0494 - acc: 0.9398 - val_loss: 0.1150 - val_acc: 0.8372\n",
      "Epoch 10/500\n",
      "1396/1396 [==============================] - 4s 3ms/step - loss: 0.0422 - acc: 0.9520 - val_loss: 0.1195 - val_acc: 0.8372\n",
      "Epoch 11/500\n",
      "1396/1396 [==============================] - 4s 3ms/step - loss: 0.0426 - acc: 0.9506 - val_loss: 0.1207 - val_acc: 0.8372\n",
      "Epoch 12/500\n",
      "1396/1396 [==============================] - 4s 3ms/step - loss: 0.0415 - acc: 0.9506 - val_loss: 0.1175 - val_acc: 0.8372\n",
      "Epoch 13/500\n",
      "1396/1396 [==============================] - 4s 3ms/step - loss: 0.0395 - acc: 0.9542 - val_loss: 0.1180 - val_acc: 0.8372\n",
      "Epoch 14/500\n",
      "1396/1396 [==============================] - 4s 3ms/step - loss: 0.0453 - acc: 0.9420 - val_loss: 0.1130 - val_acc: 0.8527\n",
      "Epoch 15/500\n",
      "1396/1396 [==============================] - 4s 3ms/step - loss: 0.0464 - acc: 0.9463 - val_loss: 0.1160 - val_acc: 0.8372\n",
      "Epoch 16/500\n",
      "1396/1396 [==============================] - 4s 3ms/step - loss: 0.0448 - acc: 0.9427 - val_loss: 0.1210 - val_acc: 0.8372\n",
      "Epoch 17/500\n",
      "1396/1396 [==============================] - 4s 3ms/step - loss: 0.0427 - acc: 0.9484 - val_loss: 0.1175 - val_acc: 0.8372\n",
      "Epoch 18/500\n",
      "1396/1396 [==============================] - 4s 3ms/step - loss: 0.0455 - acc: 0.9370 - val_loss: 0.1317 - val_acc: 0.8140\n",
      "Epoch 19/500\n",
      "1396/1396 [==============================] - 4s 3ms/step - loss: 0.0471 - acc: 0.9456 - val_loss: 0.1123 - val_acc: 0.8527\n",
      "Epoch 20/500\n",
      "1396/1396 [==============================] - 4s 3ms/step - loss: 0.0511 - acc: 0.9391 - val_loss: 0.1171 - val_acc: 0.8372\n",
      "Epoch 21/500\n",
      "1396/1396 [==============================] - 4s 3ms/step - loss: 0.0442 - acc: 0.9441 - val_loss: 0.1221 - val_acc: 0.8372\n",
      "Epoch 22/500\n",
      "1396/1396 [==============================] - 4s 3ms/step - loss: 0.0488 - acc: 0.9327 - val_loss: 0.1363 - val_acc: 0.8062\n",
      "Epoch 23/500\n",
      "1396/1396 [==============================] - 4s 3ms/step - loss: 0.0471 - acc: 0.9427 - val_loss: 0.1229 - val_acc: 0.8295\n",
      "Epoch 24/500\n",
      "1396/1396 [==============================] - 4s 3ms/step - loss: 0.0390 - acc: 0.9542 - val_loss: 0.1269 - val_acc: 0.8217\n",
      "Epoch 25/500\n",
      "1396/1396 [==============================] - 4s 3ms/step - loss: 0.0467 - acc: 0.9405 - val_loss: 0.1357 - val_acc: 0.8062\n",
      "Epoch 26/500\n",
      "1396/1396 [==============================] - 4s 3ms/step - loss: 0.0421 - acc: 0.9427 - val_loss: 0.1242 - val_acc: 0.8295\n",
      "Epoch 27/500\n",
      "1396/1396 [==============================] - 4s 3ms/step - loss: 0.0415 - acc: 0.9520 - val_loss: 0.1223 - val_acc: 0.8295\n",
      "Epoch 28/500\n",
      "1396/1396 [==============================] - 4s 3ms/step - loss: 0.0424 - acc: 0.9463 - val_loss: 0.1215 - val_acc: 0.8295\n",
      "Epoch 29/500\n",
      "1396/1396 [==============================] - 4s 3ms/step - loss: 0.0436 - acc: 0.9405 - val_loss: 0.1312 - val_acc: 0.8140\n",
      "Epoch 30/500\n",
      "1396/1396 [==============================] - 4s 3ms/step - loss: 0.0461 - acc: 0.9334 - val_loss: 0.1261 - val_acc: 0.8217\n",
      "Epoch 31/500\n",
      "1396/1396 [==============================] - 4s 3ms/step - loss: 0.0388 - acc: 0.9549 - val_loss: 0.1234 - val_acc: 0.8295\n",
      "Epoch 32/500\n",
      "1396/1396 [==============================] - 4s 3ms/step - loss: 0.0415 - acc: 0.9542 - val_loss: 0.1346 - val_acc: 0.8062\n",
      "Epoch 33/500\n",
      "1396/1396 [==============================] - 4s 3ms/step - loss: 0.0403 - acc: 0.9491 - val_loss: 0.1330 - val_acc: 0.7984\n",
      "Epoch 34/500\n",
      "1396/1396 [==============================] - 4s 3ms/step - loss: 0.0421 - acc: 0.9484 - val_loss: 0.1220 - val_acc: 0.8372\n",
      "Epoch 35/500\n",
      "1396/1396 [==============================] - 4s 3ms/step - loss: 0.0439 - acc: 0.9484 - val_loss: 0.1185 - val_acc: 0.8372\n",
      "Epoch 36/500\n",
      "1396/1396 [==============================] - 4s 3ms/step - loss: 0.0445 - acc: 0.9441 - val_loss: 0.1153 - val_acc: 0.8450\n",
      "Epoch 37/500\n",
      "1396/1396 [==============================] - 4s 3ms/step - loss: 0.0431 - acc: 0.9484 - val_loss: 0.1171 - val_acc: 0.8372\n",
      "Epoch 38/500\n",
      "1396/1396 [==============================] - 4s 3ms/step - loss: 0.0388 - acc: 0.9577 - val_loss: 0.1135 - val_acc: 0.8450\n",
      "Epoch 39/500\n",
      "1396/1396 [==============================] - 4s 3ms/step - loss: 0.0419 - acc: 0.9491 - val_loss: 0.1236 - val_acc: 0.8372\n",
      "Epoch 40/500\n",
      "1396/1396 [==============================] - 4s 3ms/step - loss: 0.0415 - acc: 0.9549 - val_loss: 0.1181 - val_acc: 0.8372\n",
      "Epoch 41/500\n",
      "1396/1396 [==============================] - 4s 3ms/step - loss: 0.0427 - acc: 0.9470 - val_loss: 0.1307 - val_acc: 0.8140\n",
      "Epoch 42/500\n",
      "1396/1396 [==============================] - 4s 3ms/step - loss: 0.0403 - acc: 0.9506 - val_loss: 0.1235 - val_acc: 0.8295\n",
      "Epoch 43/500\n",
      "1396/1396 [==============================] - 4s 3ms/step - loss: 0.0401 - acc: 0.9477 - val_loss: 0.1225 - val_acc: 0.8372\n",
      "Epoch 44/500\n",
      "1396/1396 [==============================] - 4s 3ms/step - loss: 0.0392 - acc: 0.9470 - val_loss: 0.1171 - val_acc: 0.8450\n",
      "Epoch 45/500\n",
      "1396/1396 [==============================] - 4s 3ms/step - loss: 0.0396 - acc: 0.9513 - val_loss: 0.1119 - val_acc: 0.8450\n",
      "Epoch 46/500\n",
      "1396/1396 [==============================] - 4s 3ms/step - loss: 0.0445 - acc: 0.9398 - val_loss: 0.1137 - val_acc: 0.8527\n",
      "Epoch 47/500\n",
      "1396/1396 [==============================] - 4s 3ms/step - loss: 0.0411 - acc: 0.9499 - val_loss: 0.1230 - val_acc: 0.8295\n",
      "Epoch 48/500\n",
      "1396/1396 [==============================] - 4s 3ms/step - loss: 0.0436 - acc: 0.9448 - val_loss: 0.1258 - val_acc: 0.8295\n",
      "Epoch 49/500\n",
      "1396/1396 [==============================] - 4s 3ms/step - loss: 0.0386 - acc: 0.9520 - val_loss: 0.1245 - val_acc: 0.8217\n",
      "Epoch 50/500\n",
      "1396/1396 [==============================] - 4s 3ms/step - loss: 0.0453 - acc: 0.9434 - val_loss: 0.1192 - val_acc: 0.8372\n",
      "Epoch 51/500\n",
      "1396/1396 [==============================] - 4s 3ms/step - loss: 0.0432 - acc: 0.9477 - val_loss: 0.1197 - val_acc: 0.8372\n",
      "Epoch 52/500\n",
      "1396/1396 [==============================] - 4s 3ms/step - loss: 0.0417 - acc: 0.9491 - val_loss: 0.1253 - val_acc: 0.8295\n",
      "Epoch 53/500\n",
      "1396/1396 [==============================] - 4s 3ms/step - loss: 0.0411 - acc: 0.9542 - val_loss: 0.1276 - val_acc: 0.8295\n",
      "Epoch 54/500\n",
      "1396/1396 [==============================] - 4s 3ms/step - loss: 0.0418 - acc: 0.9477 - val_loss: 0.1339 - val_acc: 0.8062\n",
      "Epoch 55/500\n",
      "1396/1396 [==============================] - 4s 3ms/step - loss: 0.0413 - acc: 0.9520 - val_loss: 0.1268 - val_acc: 0.8140\n",
      "Epoch 56/500\n",
      "1396/1396 [==============================] - 4s 3ms/step - loss: 0.0419 - acc: 0.9506 - val_loss: 0.1186 - val_acc: 0.8295\n",
      "Epoch 57/500\n",
      "1396/1396 [==============================] - 4s 3ms/step - loss: 0.0442 - acc: 0.9398 - val_loss: 0.1233 - val_acc: 0.8295\n",
      "Epoch 58/500\n",
      "1396/1396 [==============================] - 4s 3ms/step - loss: 0.0384 - acc: 0.9542 - val_loss: 0.1169 - val_acc: 0.8372\n",
      "Epoch 59/500\n",
      "1396/1396 [==============================] - 4s 3ms/step - loss: 0.0426 - acc: 0.9448 - val_loss: 0.1374 - val_acc: 0.8140\n",
      "Epoch 60/500\n",
      "1396/1396 [==============================] - 4s 3ms/step - loss: 0.0420 - acc: 0.9477 - val_loss: 0.1251 - val_acc: 0.8217\n"
     ]
    },
    {
     "name": "stdout",
     "output_type": "stream",
     "text": [
      "Epoch 61/500\n",
      "1396/1396 [==============================] - 4s 3ms/step - loss: 0.0414 - acc: 0.9484 - val_loss: 0.1188 - val_acc: 0.8372\n",
      "Epoch 62/500\n",
      "1396/1396 [==============================] - 4s 3ms/step - loss: 0.0449 - acc: 0.9427 - val_loss: 0.1210 - val_acc: 0.8372\n",
      "Epoch 63/500\n",
      "1396/1396 [==============================] - 4s 3ms/step - loss: 0.0376 - acc: 0.9549 - val_loss: 0.1178 - val_acc: 0.8372\n",
      "Epoch 64/500\n",
      "1396/1396 [==============================] - 4s 3ms/step - loss: 0.0447 - acc: 0.9434 - val_loss: 0.1213 - val_acc: 0.8295\n",
      "Epoch 65/500\n",
      "1396/1396 [==============================] - 4s 3ms/step - loss: 0.0426 - acc: 0.9448 - val_loss: 0.1272 - val_acc: 0.8217\n",
      "Epoch 66/500\n",
      "1396/1396 [==============================] - 4s 3ms/step - loss: 0.0394 - acc: 0.9499 - val_loss: 0.1282 - val_acc: 0.8217\n",
      "Epoch 67/500\n",
      "1396/1396 [==============================] - 4s 3ms/step - loss: 0.0389 - acc: 0.9513 - val_loss: 0.1273 - val_acc: 0.8217\n",
      "Epoch 68/500\n",
      "1396/1396 [==============================] - 4s 3ms/step - loss: 0.0448 - acc: 0.9477 - val_loss: 0.1116 - val_acc: 0.8372\n",
      "Epoch 69/500\n",
      "1396/1396 [==============================] - 4s 3ms/step - loss: 0.0391 - acc: 0.9520 - val_loss: 0.1237 - val_acc: 0.8295\n",
      "Epoch 70/500\n",
      "1396/1396 [==============================] - 4s 3ms/step - loss: 0.0405 - acc: 0.9499 - val_loss: 0.1164 - val_acc: 0.8450\n",
      "Epoch 71/500\n",
      "1396/1396 [==============================] - 4s 3ms/step - loss: 0.0375 - acc: 0.9513 - val_loss: 0.1127 - val_acc: 0.8450\n",
      "Epoch 72/500\n",
      "1396/1396 [==============================] - 4s 3ms/step - loss: 0.0399 - acc: 0.9499 - val_loss: 0.1255 - val_acc: 0.8295\n",
      "Epoch 73/500\n",
      "1396/1396 [==============================] - 4s 3ms/step - loss: 0.0363 - acc: 0.9585 - val_loss: 0.1252 - val_acc: 0.8295\n",
      "Epoch 74/500\n",
      "1396/1396 [==============================] - 4s 3ms/step - loss: 0.0396 - acc: 0.9534 - val_loss: 0.1302 - val_acc: 0.8062\n",
      "Epoch 75/500\n",
      "1396/1396 [==============================] - 4s 3ms/step - loss: 0.0376 - acc: 0.9527 - val_loss: 0.1233 - val_acc: 0.8295\n",
      "Epoch 76/500\n",
      "1396/1396 [==============================] - 4s 3ms/step - loss: 0.0407 - acc: 0.9470 - val_loss: 0.1194 - val_acc: 0.8372\n",
      "Epoch 77/500\n",
      "1396/1396 [==============================] - 4s 3ms/step - loss: 0.0383 - acc: 0.9520 - val_loss: 0.1273 - val_acc: 0.8217\n",
      "Epoch 78/500\n",
      "1396/1396 [==============================] - 4s 3ms/step - loss: 0.0387 - acc: 0.9577 - val_loss: 0.1186 - val_acc: 0.8372\n",
      "Epoch 79/500\n",
      "1396/1396 [==============================] - 4s 3ms/step - loss: 0.0365 - acc: 0.9563 - val_loss: 0.1171 - val_acc: 0.8372\n",
      "Epoch 80/500\n",
      "1396/1396 [==============================] - 4s 3ms/step - loss: 0.0393 - acc: 0.9513 - val_loss: 0.1194 - val_acc: 0.8372\n",
      "Epoch 81/500\n",
      "1396/1396 [==============================] - 4s 3ms/step - loss: 0.0333 - acc: 0.9642 - val_loss: 0.1180 - val_acc: 0.8372\n",
      "Epoch 82/500\n",
      "1396/1396 [==============================] - 4s 3ms/step - loss: 0.0368 - acc: 0.9570 - val_loss: 0.1182 - val_acc: 0.8372\n",
      "Epoch 83/500\n",
      "1396/1396 [==============================] - 4s 3ms/step - loss: 0.0406 - acc: 0.9477 - val_loss: 0.1288 - val_acc: 0.8140\n",
      "Epoch 84/500\n",
      "1396/1396 [==============================] - 4s 3ms/step - loss: 0.0412 - acc: 0.9499 - val_loss: 0.1102 - val_acc: 0.8527\n",
      "Epoch 85/500\n",
      "1396/1396 [==============================] - 4s 3ms/step - loss: 0.0420 - acc: 0.9470 - val_loss: 0.1124 - val_acc: 0.8450\n",
      "Epoch 86/500\n",
      "1396/1396 [==============================] - 4s 3ms/step - loss: 0.0357 - acc: 0.9570 - val_loss: 0.1165 - val_acc: 0.8450\n",
      "Epoch 87/500\n",
      "1396/1396 [==============================] - 4s 3ms/step - loss: 0.0416 - acc: 0.9470 - val_loss: 0.1129 - val_acc: 0.8450\n",
      "Epoch 88/500\n",
      "1396/1396 [==============================] - 4s 3ms/step - loss: 0.0397 - acc: 0.9513 - val_loss: 0.1201 - val_acc: 0.8372\n",
      "Epoch 89/500\n",
      "1396/1396 [==============================] - 4s 3ms/step - loss: 0.0406 - acc: 0.9499 - val_loss: 0.1119 - val_acc: 0.8372\n",
      "Epoch 90/500\n",
      "1396/1396 [==============================] - 4s 3ms/step - loss: 0.0337 - acc: 0.9613 - val_loss: 0.1248 - val_acc: 0.8140\n",
      "Epoch 91/500\n",
      "1396/1396 [==============================] - 4s 3ms/step - loss: 0.0398 - acc: 0.9484 - val_loss: 0.1201 - val_acc: 0.8372\n",
      "Epoch 92/500\n",
      "1396/1396 [==============================] - 4s 3ms/step - loss: 0.0391 - acc: 0.9520 - val_loss: 0.1180 - val_acc: 0.8450\n",
      "Epoch 93/500\n",
      "1396/1396 [==============================] - 4s 3ms/step - loss: 0.0371 - acc: 0.9577 - val_loss: 0.1185 - val_acc: 0.8450\n",
      "Epoch 94/500\n",
      "1396/1396 [==============================] - 4s 3ms/step - loss: 0.0366 - acc: 0.9563 - val_loss: 0.1114 - val_acc: 0.8450\n",
      "Epoch 95/500\n",
      "1396/1396 [==============================] - 4s 3ms/step - loss: 0.0422 - acc: 0.9484 - val_loss: 0.1136 - val_acc: 0.8450\n",
      "Epoch 96/500\n",
      "1396/1396 [==============================] - 4s 3ms/step - loss: 0.0416 - acc: 0.9484 - val_loss: 0.1201 - val_acc: 0.8217\n",
      "Epoch 97/500\n",
      "1396/1396 [==============================] - 4s 3ms/step - loss: 0.0351 - acc: 0.9556 - val_loss: 0.1130 - val_acc: 0.8450\n",
      "Epoch 98/500\n",
      "1396/1396 [==============================] - 4s 3ms/step - loss: 0.0413 - acc: 0.9499 - val_loss: 0.1087 - val_acc: 0.8450\n",
      "Epoch 99/500\n",
      "1396/1396 [==============================] - 4s 3ms/step - loss: 0.0428 - acc: 0.9477 - val_loss: 0.1215 - val_acc: 0.8295\n",
      "Epoch 100/500\n",
      "1396/1396 [==============================] - 4s 3ms/step - loss: 0.0378 - acc: 0.9563 - val_loss: 0.1134 - val_acc: 0.8295\n",
      "Epoch 101/500\n",
      "1396/1396 [==============================] - 4s 3ms/step - loss: 0.0374 - acc: 0.9570 - val_loss: 0.1220 - val_acc: 0.8295\n",
      "Epoch 102/500\n",
      "1396/1396 [==============================] - 4s 3ms/step - loss: 0.0403 - acc: 0.9499 - val_loss: 0.1132 - val_acc: 0.8295\n",
      "Epoch 103/500\n",
      "1396/1396 [==============================] - 4s 3ms/step - loss: 0.0429 - acc: 0.9427 - val_loss: 0.1237 - val_acc: 0.8295\n",
      "Epoch 104/500\n",
      "1152/1396 [=======================>......] - ETA: 0s - loss: 0.0409 - acc: 0.9514"
     ]
    }
   ],
   "source": [
    "# Now, fit the model to the data\n",
    "history = model.fit([x, params], y, validation_data=([x_dev, params_dev], y_dev), epochs=500, batch_size=128)\n",
    "\n",
    "# List all data in history\n",
    "print(history.history.keys())\n",
    "# Summarize history for accuracy\n",
    "plt.plot(history.history['acc'])\n",
    "plt.plot(history.history['val_acc'])\n",
    "plt.title('model accuracy')\n",
    "plt.ylabel('accuracy')\n",
    "plt.xlabel('epoch')\n",
    "plt.legend(['train', 'test'], loc='upper left')\n",
    "plt.show()\n",
    "# Summarize history for loss\n",
    "plt.plot(history.history['loss'])\n",
    "plt.plot(history.history['val_loss'])\n",
    "plt.title('model loss')\n",
    "plt.ylabel('loss')\n",
    "plt.xlabel('epoch')\n",
    "plt.legend(['train', 'test'], loc='upper left')\n",
    "plt.show()"
   ]
  },
  {
   "cell_type": "markdown",
   "metadata": {},
   "source": [
    "##### Load pretrained conv model"
   ]
  },
  {
   "cell_type": "code",
   "execution_count": 47,
   "metadata": {},
   "outputs": [
    {
     "name": "stdout",
     "output_type": "stream",
     "text": [
      "Loaded model from disk\n"
     ]
    }
   ],
   "source": [
    "# load json and create model\n",
    "json_file = open('trained/conv_model_quickngood.json', 'r')\n",
    "conv_model_json = json_file.read()\n",
    "json_file.close()\n",
    "model = model_from_json(conv_model_json)\n",
    "# load weights into new model\n",
    "model.load_weights(\"trained/conv_model_quickngood.h5\")\n",
    "print(\"Loaded model from disk\")"
   ]
  },
  {
   "cell_type": "markdown",
   "metadata": {},
   "source": [
    "##### Additional model evaluation"
   ]
  },
  {
   "cell_type": "code",
   "execution_count": 20,
   "metadata": {},
   "outputs": [
    {
     "name": "stdout",
     "output_type": "stream",
     "text": [
      "129/129 [==============================] - 0s 2ms/step\n",
      "\n",
      "Performance on VALIDATION set\n",
      ".............................\n",
      "Loss: 0.1132218891266524\n",
      "Accuracy: 0.8372093023255814\n",
      "Precision: 0.9107142857142857\n",
      "Recall: 0.7611940298507462\n",
      ".............................\n",
      "List of indices of wrong guesses:\n",
      "[3, 10, 14, 17, 18, 35, 42, 43, 46, 47, 49, 53, 74, 83, 85, 88, 97, 104, 105, 113, 121]\n"
     ]
    }
   ],
   "source": [
    "# Evaluate model, get metrics back\n",
    "stats = model.evaluate([x_dev, params_dev], y_dev)\n",
    "# Calculate predictions vector from model\n",
    "predictions = model.predict([x_dev, params_dev])\n",
    "predictions = np.floor(predictions + 0.5)\n",
    "\n",
    "# Get vector mask for good and bad fits and right and wrong answers\n",
    "good_fits = y_dev\n",
    "bad_fits = 1 - good_fits\n",
    "wrong_answers = np.abs(np.subtract(predictions, good_fits))\n",
    "right_answers = np.subtract(1, wrong_answers)\n",
    "# Calculate true positives (tp), as well as (tn) (fp) (fn)\n",
    "true_positives = np.multiply(right_answers, good_fits)\n",
    "true_negatives = np.multiply(right_answers, bad_fits)\n",
    "false_positives = np.multiply(wrong_answers, good_fits)\n",
    "false_negatives = np.multiply(wrong_answers, bad_fits)\n",
    "# Calculate additional metrics\n",
    "precision = np.sum(true_positives) / np.sum(true_positives + false_positives)\n",
    "recall = np.sum(true_positives) / np.sum(true_positives + false_negatives)\n",
    "\n",
    "# Print stats\n",
    "print()\n",
    "print(\"Performance on VALIDATION set\")\n",
    "print(\".............................\")\n",
    "print(\"Loss: \" + str(stats[0]))\n",
    "print(\"Accuracy: \" + str(stats[1]))\n",
    "print(\"Precision: \" + str(precision))\n",
    "print(\"Recall: \" + str(recall))\n",
    "\n",
    "# Print list of indices of wrong answers\n",
    "bad_list = []\n",
    "for i in range(m_dev):\n",
    "    if wrong_answers[i] == 1:\n",
    "        bad_list.append(i)\n",
    "print(\".............................\")\n",
    "print(\"List of indices of wrong guesses:\")\n",
    "print(bad_list)"
   ]
  },
  {
   "cell_type": "markdown",
   "metadata": {},
   "source": [
    "##### Look at an image"
   ]
  },
  {
   "cell_type": "code",
   "execution_count": 22,
   "metadata": {},
   "outputs": [
    {
     "name": "stdout",
     "output_type": "stream",
     "text": [
      "label: [1]\n",
      "prediction: [0.]\n",
      "(236, 348, 3)\n"
     ]
    },
    {
     "data": {
      "text/plain": [
       "<matplotlib.image.AxesImage at 0x7f56019245c0>"
      ]
     },
     "execution_count": 22,
     "metadata": {},
     "output_type": "execute_result"
    },
    {
     "data": {
      "image/png": "[encoded data removed]",
      "text/plain": [
       "<Figure size 432x288 with 1 Axes>"
      ]
     },
     "metadata": {
      "needs_background": "light"
     },
     "output_type": "display_data"
    }
   ],
   "source": [
    "# Choose an index \n",
    "index = 10\n",
    "\n",
    "# Print labels for this index\n",
    "print(\"label: \" + str(good_fits[index]))\n",
    "print(\"prediction: \" + str(predictions[index]))\n",
    "\n",
    "# Show image\n",
    "this_image = x[index]\n",
    "print(str(this_image.shape))\n",
    "plt.imshow(np.uint8(utils.get_printable_image(this_image)))"
   ]
  },
  {
   "cell_type": "markdown",
   "metadata": {},
   "source": [
    "##### Save convolutional model to disc"
   ]
  },
  {
   "cell_type": "code",
   "execution_count": 65,
   "metadata": {},
   "outputs": [
    {
     "name": "stdout",
     "output_type": "stream",
     "text": [
      "Saved model to disk\n"
     ]
    }
   ],
   "source": [
    "#plot_model(simple_model, to_file='simple_model.png')\n",
    "#SVG(model_to_dot(simple_model).create(prog='dot', format='svg'))\n",
    "\n",
    "# serialize model to JSON\n",
    "model_json = model.to_json()\n",
    "with open(\"trained/conv_model_chi_500epoch.json\", \"w\") as json_file:\n",
    "    json_file.write(model_json)\n",
    "# serialize weights to HDF5\n",
    "model.save_weights(\"trained/conv_model_chi_500epoch.h5\")\n",
    "print(\"Saved model to disk\")"
   ]
  },
  {
   "cell_type": "code",
   "execution_count": null,
   "metadata": {
    "collapsed": true
   },
   "outputs": [],
   "source": []
  }
 ],
 "metadata": {
  "kernelspec": {
   "display_name": "Python 3",
   "language": "python",
   "name": "python3"
  },
  "language_info": {
   "codemirror_mode": {
    "name": "ipython",
    "version": 3
   },
   "file_extension": ".py",
   "mimetype": "text/x-python",
   "name": "python",
   "nbconvert_exporter": "python",
   "pygments_lexer": "ipython3",
   "version": "3.5.2"
  }
 },
 "nbformat": 4,
 "nbformat_minor": 2
}
