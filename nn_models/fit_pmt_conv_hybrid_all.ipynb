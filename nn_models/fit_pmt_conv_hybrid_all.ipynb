{
 "cells": [
  {
   "cell_type": "markdown",
   "metadata": {},
   "source": [
    "# Convolutional neural network for classifying Root data fits.\n",
    "\n",
    "\n",
    "Here, we define, train, and save new convolutional models as well as some \n",
    "simple model evaluation. We define hyper-parameters, number of layers, and \n",
    "training and testing datasets. \n",
    "\n",
    "Here, at the final layer, the network takes into account chi squared per degree of freedom."
   ]
  },
  {
   "cell_type": "markdown",
   "metadata": {},
   "source": [
    "#### Load necessary packages"
   ]
  },
  {
   "cell_type": "code",
   "execution_count": 1,
   "metadata": {},
   "outputs": [
    {
     "name": "stderr",
     "output_type": "stream",
     "text": [
      "Using TensorFlow backend.\n"
     ]
    }
   ],
   "source": [
    "# Load some packages\n",
    "\n",
    "# Keras packages for network\n",
    "from keras.layers import Input, Dense, Activation, ZeroPadding2D, BatchNormalization\n",
    "from keras.layers import AveragePooling2D, MaxPooling2D, Dropout, Conv2D, Flatten\n",
    "from keras.models import Model\n",
    "from keras.optimizers import Adam, SGD\n",
    "# For saving model\n",
    "from keras.models import model_from_json\n",
    "from keras.layers import concatenate, Lambda\n",
    "\n",
    "# Some items for plotting and drawing\n",
    "from keras.utils import plot_model\n",
    "from keras.utils.vis_utils import model_to_dot\n",
    "from IPython.display import SVG\n",
    "from PIL import Image\n",
    "from scipy import misc\n",
    "import matplotlib.pyplot as plt\n",
    "\n",
    "# Need numpy\n",
    "import numpy as np\n",
    "import nn_utils as utils\n",
    "\n",
    "%matplotlib inline"
   ]
  },
  {
   "cell_type": "markdown",
   "metadata": {},
   "source": [
    "#### Load root fit data from file"
   ]
  },
  {
   "cell_type": "code",
   "execution_count": 2,
   "metadata": {},
   "outputs": [
    {
     "name": "stdout",
     "output_type": "stream",
     "text": [
      "(m, height, width, channels): (1396, 236, 348, 3)\n",
      "y: (1396, 1)\n",
      "params: (1396, 54)\n"
     ]
    }
   ],
   "source": [
    "# Define image file path\n",
    "im_path=\"/home/brady/Projects/fit_pmt_data/images/png_fit_nn/\"\n",
    "\n",
    "# Load dataset\n",
    "x, y, params = utils.load_dataset_all(im_dir=\"train\", log=False, im_path=im_path)\n",
    "x_log, _, _ = utils.load_dataset_all(im_dir=\"train\", log=True, im_path=im_path)\n",
    "\n",
    "# Grab dimensions of picture\n",
    "(m, h, w, c) = x.shape\n",
    "input_shape = h, w, c\n",
    "num_params = params.shape[1]\n",
    "\n",
    "# Print dimensions\n",
    "print(\"(m, height, width, channels): (\" + str(m) + \", \" + str(h) + \", \" + str(w) + \", \" + str(c) + \")\")\n",
    "print(\"y: \" + str(y.shape))\n",
    "print(\"params: \" + str(params.shape))\n"
   ]
  },
  {
   "cell_type": "code",
   "execution_count": 3,
   "metadata": {},
   "outputs": [
    {
     "name": "stdout",
     "output_type": "stream",
     "text": [
      "label: good\n",
      "label: [1]\n",
      "params: [ 0.000000e+00  1.000000e+00  1.000000e+00  1.000000e+00  2.000000e+01\n",
      "  5.000000e-02  6.144692e+02  2.252700e+00  1.000000e-02  2.560000e+00\n",
      "  4.000000e+00  2.252700e+00  5.000000e-01  5.000000e-01  1.000000e-03\n",
      " -1.000000e+00 -1.000000e+00 -1.000000e+00 -1.000000e+00 -1.000000e+00\n",
      " -1.000000e+00  0.000000e+00  0.000000e+00  5.000000e-01 -1.000000e+00\n",
      " -1.000000e+00 -1.000000e+00 -1.000000e+00 -1.000000e+00 -1.000000e+00\n",
      "  1.000000e+00  1.000000e+00  6.400000e-03  6.130692e+02  1.706800e+00\n",
      "  5.000000e-02  5.411800e+00  1.132900e+00  1.556800e+00  1.765000e-01\n",
      "  8.235000e-01  2.000000e-04  1.620000e-02  1.270000e-02  1.000000e-03\n",
      "  8.910000e-02  1.870000e-02  1.070000e-02  2.800000e-03  3.000000e-03\n",
      "  6.254000e+00  1.768000e-01  7.300000e-03  4.130900e+00]\n"
     ]
    },
    {
     "data": {
      "text/plain": [
       "<matplotlib.image.AxesImage at 0x7fe48df431d0>"
      ]
     },
     "execution_count": 3,
     "metadata": {},
     "output_type": "execute_result"
    },
    {
     "data": {
      "image/png": "[encoded data removed]",
      "text/plain": [
       "<Figure size 432x288 with 1 Axes>"
      ]
     },
     "metadata": {
      "needs_background": "light"
     },
     "output_type": "display_data"
    }
   ],
   "source": [
    "# Print an image\n",
    "index = 420\n",
    "this_image = x[index]\n",
    "if y[index] == 1:\n",
    "    print(\"label: good\")\n",
    "else:\n",
    "    print(\"label: bad\")\n",
    "print(\"label: \" + str(y[index]))\n",
    "print(\"params: \" + str(params[index]))\n",
    "plt.imshow(np.uint8(utils.get_printable_image(this_image)))"
   ]
  },
  {
   "cell_type": "markdown",
   "metadata": {},
   "source": [
    "## Define and Train multi-layer ConvNet with 2 fully connected layers plus output layer\n",
    "\n",
    "For the convolutional layer, we will scan over our images with a certain stride and a certain kernal size. \n",
    "Each individual scan represents a single neuron in the next layer. Since each scan connects to kernal size squared\n",
    "neurons below it, convolutions reduce the number of degrees of freedom. Hopefully, through learning the right filters,\n",
    "we can preserve the important information as we reduce it in size.\n",
    "\n",
    "Once the image has gone through the convolutional layers (and therefore has been reduced to its features vector), we\n",
    "can send the resulting vector into some old-fashioned fully-connected layers, and finally into a logistic regression unit."
   ]
  },
  {
   "cell_type": "markdown",
   "metadata": {},
   "source": [
    "##### Define hyperparameters"
   ]
  },
  {
   "cell_type": "code",
   "execution_count": 4,
   "metadata": {},
   "outputs": [],
   "source": [
    "# Initialize\n",
    "filters = []\n",
    "kernels = []\n",
    "strides = []\n",
    "pools = []\n",
    "dropouts = []\n",
    "\n",
    "# Conv1\n",
    "filters.append(32)\n",
    "kernels.append(5)\n",
    "strides.append(2)\n",
    "pools.append(1)\n",
    "dropouts.append(0.2)\n",
    "\n",
    "# Conv2\n",
    "filters.append(32)\n",
    "kernels.append(5)\n",
    "strides.append(2)\n",
    "pools.append(1)\n",
    "dropouts.append(0.2)\n",
    "\n",
    "# Conv3\n",
    "filters.append(128)\n",
    "kernels.append(3)\n",
    "strides.append(2)\n",
    "pools.append(2)\n",
    "dropouts.append(0.2)\n",
    "\n",
    "# Define dense (fully-connected) layer sizes\n",
    "fc1 = 30\n",
    "fc2 = 10"
   ]
  },
  {
   "cell_type": "markdown",
   "metadata": {},
   "source": [
    "##### Define keras layers (model)"
   ]
  },
  {
   "cell_type": "code",
   "execution_count": 7,
   "metadata": {},
   "outputs": [],
   "source": [
    "def concat_vectors(input):\n",
    "    a = input[0]\n",
    "    b = input[1]\n",
    "    return concatenate([a,b], axis=1)"
   ]
  },
  {
   "cell_type": "code",
   "execution_count": 8,
   "metadata": {},
   "outputs": [],
   "source": [
    "# Define input layer (RGB image matrix)\n",
    "X = Input(shape=input_shape, name='Input')\n",
    "\n",
    "# Define additional input info\n",
    "X_log = Input(shape=input_shape, name='InputLog')\n",
    "\n",
    "# Define additional input info\n",
    "Params = Input(shape=(num_params,), name='Params')\n",
    "\n",
    "# Initialize activation as input\n",
    "a = X\n",
    "a_log = X_log\n",
    "# Loop through all convolutional layers\n",
    "for i in range(len(filters)):\n",
    "    # Perform convolution\n",
    "    a = Conv2D(filters=filters[i], kernel_size=(kernels[i], kernels[i]), strides=(strides[i], strides[i]), name=('conv' + str(i)))(a)\n",
    "    a_log = Conv2D(filters=filters[i], kernel_size=(kernels[i], kernels[i]), strides=(strides[i], strides[i]), name=('conv_log' + str(i)))(a_log)\n",
    "    # Normalize\n",
    "    a = BatchNormalization(axis=3, name=('bn' + str(i)))(a)\n",
    "    a_log = BatchNormalization(axis=3, name=('bn_log' + str(i)))(a_log)\n",
    "    # Activate\n",
    "    a = Activation('relu', name=('a' + str(i)))(a)\n",
    "    a_log = Activation('relu', name=('a_log' + str(i)))(a_log)\n",
    "    # Max-pool\n",
    "    a = MaxPooling2D((pools[i], pools[i]), name=('max_pool' + str(i)))(a)\n",
    "    a_log = MaxPooling2D((pools[i], pools[i]), name=('max_pool_log' + str(i)))(a_log)\n",
    "    # Dropout\n",
    "    a = Dropout(rate=dropouts[i])(a)\n",
    "    a_log = Dropout(rate=dropouts[i])(a_log)\n",
    "\n",
    "# Flatten output of convNet\n",
    "a = Flatten()(a)\n",
    "a_log = Flatten()(a_log)\n",
    "# Define first fully connected layer\n",
    "a = Dense(units=fc1, activation='relu', name='fc0')(a)\n",
    "a_log = Dense(units=fc1, activation='relu', name='fc0_log')(a_log)\n",
    "# Use some dropout here for regularization\n",
    "a = Dropout(rate=0.2)(a)\n",
    "a_log = Dropout(rate=0.2)(a_log)\n",
    "\n",
    "# Combine log and non log outputs\n",
    "a_both = Lambda(concat_vectors, name='concat_layer')([a, a_log])\n",
    "\n",
    "# Activate parameters\n",
    "a_params = Activation('tanh', name='param_act')(Params)\n",
    "\n",
    "# Concatenate parameters to activations\n",
    "a_final = Lambda(concat_params, name='concat_params')([a_both, a_params])\n",
    "\n",
    "# Define second fully connected layer\n",
    "a_final = Dense(units=fc2, activation='relu', name='fc1')(a_final)                                 \n",
    "a_final = Dropout(rate=0.2)(a_both)\n",
    "a_final = Dense(units=fc2, activation='relu', name='fc2')(a_final)\n",
    "# Define output layer \n",
    "a_final = Dense(units=1, activation='sigmoid', name='sigmoid')(a_final)\n",
    "\n",
    "# Make the model\n",
    "model = Model(inputs=[X, X_log, Params], outputs=a_final)"
   ]
  },
  {
   "cell_type": "markdown",
   "metadata": {},
   "source": [
    "##### Define optimizer, loss, and metrics. Compile model."
   ]
  },
  {
   "cell_type": "code",
   "execution_count": 9,
   "metadata": {
    "scrolled": false
   },
   "outputs": [
    {
     "name": "stdout",
     "output_type": "stream",
     "text": [
      "__________________________________________________________________________________________________\n",
      "Layer (type)                    Output Shape         Param #     Connected to                     \n",
      "==================================================================================================\n",
      "Input (InputLayer)              (None, 236, 348, 3)  0                                            \n",
      "__________________________________________________________________________________________________\n",
      "InputLog (InputLayer)           (None, 236, 348, 3)  0                                            \n",
      "__________________________________________________________________________________________________\n",
      "conv0 (Conv2D)                  (None, 116, 172, 32) 2432        Input[0][0]                      \n",
      "__________________________________________________________________________________________________\n",
      "conv_log0 (Conv2D)              (None, 116, 172, 32) 2432        InputLog[0][0]                   \n",
      "__________________________________________________________________________________________________\n",
      "bn0 (BatchNormalization)        (None, 116, 172, 32) 128         conv0[0][0]                      \n",
      "__________________________________________________________________________________________________\n",
      "bn_log0 (BatchNormalization)    (None, 116, 172, 32) 128         conv_log0[0][0]                  \n",
      "__________________________________________________________________________________________________\n",
      "a0 (Activation)                 (None, 116, 172, 32) 0           bn0[0][0]                        \n",
      "__________________________________________________________________________________________________\n",
      "a_log0 (Activation)             (None, 116, 172, 32) 0           bn_log0[0][0]                    \n",
      "__________________________________________________________________________________________________\n",
      "max_pool0 (MaxPooling2D)        (None, 116, 172, 32) 0           a0[0][0]                         \n",
      "__________________________________________________________________________________________________\n",
      "max_pool_log0 (MaxPooling2D)    (None, 116, 172, 32) 0           a_log0[0][0]                     \n",
      "__________________________________________________________________________________________________\n",
      "dropout_9 (Dropout)             (None, 116, 172, 32) 0           max_pool0[0][0]                  \n",
      "__________________________________________________________________________________________________\n",
      "dropout_10 (Dropout)            (None, 116, 172, 32) 0           max_pool_log0[0][0]              \n",
      "__________________________________________________________________________________________________\n",
      "conv1 (Conv2D)                  (None, 56, 84, 32)   25632       dropout_9[0][0]                  \n",
      "__________________________________________________________________________________________________\n",
      "conv_log1 (Conv2D)              (None, 56, 84, 32)   25632       dropout_10[0][0]                 \n",
      "__________________________________________________________________________________________________\n",
      "bn1 (BatchNormalization)        (None, 56, 84, 32)   128         conv1[0][0]                      \n",
      "__________________________________________________________________________________________________\n",
      "bn_log1 (BatchNormalization)    (None, 56, 84, 32)   128         conv_log1[0][0]                  \n",
      "__________________________________________________________________________________________________\n",
      "a1 (Activation)                 (None, 56, 84, 32)   0           bn1[0][0]                        \n",
      "__________________________________________________________________________________________________\n",
      "a_log1 (Activation)             (None, 56, 84, 32)   0           bn_log1[0][0]                    \n",
      "__________________________________________________________________________________________________\n",
      "max_pool1 (MaxPooling2D)        (None, 56, 84, 32)   0           a1[0][0]                         \n",
      "__________________________________________________________________________________________________\n",
      "max_pool_log1 (MaxPooling2D)    (None, 56, 84, 32)   0           a_log1[0][0]                     \n",
      "__________________________________________________________________________________________________\n",
      "dropout_11 (Dropout)            (None, 56, 84, 32)   0           max_pool1[0][0]                  \n",
      "__________________________________________________________________________________________________\n",
      "dropout_12 (Dropout)            (None, 56, 84, 32)   0           max_pool_log1[0][0]              \n",
      "__________________________________________________________________________________________________\n",
      "conv2 (Conv2D)                  (None, 27, 41, 128)  36992       dropout_11[0][0]                 \n",
      "__________________________________________________________________________________________________\n",
      "conv_log2 (Conv2D)              (None, 27, 41, 128)  36992       dropout_12[0][0]                 \n",
      "__________________________________________________________________________________________________\n",
      "bn2 (BatchNormalization)        (None, 27, 41, 128)  512         conv2[0][0]                      \n",
      "__________________________________________________________________________________________________\n",
      "bn_log2 (BatchNormalization)    (None, 27, 41, 128)  512         conv_log2[0][0]                  \n",
      "__________________________________________________________________________________________________\n",
      "a2 (Activation)                 (None, 27, 41, 128)  0           bn2[0][0]                        \n",
      "__________________________________________________________________________________________________\n",
      "a_log2 (Activation)             (None, 27, 41, 128)  0           bn_log2[0][0]                    \n",
      "__________________________________________________________________________________________________\n",
      "max_pool2 (MaxPooling2D)        (None, 13, 20, 128)  0           a2[0][0]                         \n",
      "__________________________________________________________________________________________________\n",
      "max_pool_log2 (MaxPooling2D)    (None, 13, 20, 128)  0           a_log2[0][0]                     \n",
      "__________________________________________________________________________________________________\n",
      "dropout_13 (Dropout)            (None, 13, 20, 128)  0           max_pool2[0][0]                  \n",
      "__________________________________________________________________________________________________\n",
      "dropout_14 (Dropout)            (None, 13, 20, 128)  0           max_pool_log2[0][0]              \n",
      "__________________________________________________________________________________________________\n",
      "flatten_3 (Flatten)             (None, 33280)        0           dropout_13[0][0]                 \n",
      "__________________________________________________________________________________________________\n",
      "flatten_4 (Flatten)             (None, 33280)        0           dropout_14[0][0]                 \n",
      "__________________________________________________________________________________________________\n",
      "fc0 (Dense)                     (None, 30)           998430      flatten_3[0][0]                  \n",
      "__________________________________________________________________________________________________\n",
      "fc0_log (Dense)                 (None, 30)           998430      flatten_4[0][0]                  \n",
      "__________________________________________________________________________________________________\n",
      "dropout_15 (Dropout)            (None, 30)           0           fc0[0][0]                        \n",
      "__________________________________________________________________________________________________\n",
      "dropout_16 (Dropout)            (None, 30)           0           fc0_log[0][0]                    \n",
      "__________________________________________________________________________________________________\n",
      "concat_layer (Lambda)           (None, 60)           0           dropout_15[0][0]                 \n",
      "                                                                 dropout_16[0][0]                 \n",
      "__________________________________________________________________________________________________\n",
      "dropout_17 (Dropout)            (None, 60)           0           concat_layer[0][0]               \n",
      "__________________________________________________________________________________________________\n",
      "fc2 (Dense)                     (None, 10)           610         dropout_17[0][0]                 \n",
      "__________________________________________________________________________________________________\n",
      "sigmoid (Dense)                 (None, 1)            11          fc2[0][0]                        \n",
      "==================================================================================================\n",
      "Total params: 2,129,129\n",
      "Trainable params: 2,128,361\n",
      "Non-trainable params: 768\n",
      "__________________________________________________________________________________________________\n"
     ]
    }
   ],
   "source": [
    "# Define optimizer\n",
    "#opt = Adam(lr=0.01, beta_1=0.9, beta_2=0.999, decay=0.001)\n",
    "opt = SGD(lr=1.0, decay=1e-6, momentum=0.9, nesterov=True)\n",
    "# Define loss\n",
    "loss = 'mean_squared_error'\n",
    "# Define metrics to use\n",
    "metrics=['acc']\n",
    "# Compile model\n",
    "model.compile(loss=loss, optimizer='sgd', metrics=metrics)\n",
    "# Print summary\n",
    "model.summary()"
   ]
  },
  {
   "cell_type": "markdown",
   "metadata": {},
   "source": [
    "##### Fit the model to the data (train)"
   ]
  },
  {
   "cell_type": "code",
   "execution_count": null,
   "metadata": {
    "scrolled": true
   },
   "outputs": [
    {
     "name": "stdout",
     "output_type": "stream",
     "text": [
      "Train on 1396 samples, validate on 129 samples\n",
      "Epoch 1/600\n",
      " 576/1396 [===========>..................] - ETA: 22s - loss: 0.0790 - acc: 0.9062"
     ]
    }
   ],
   "source": [
    "# Now, fit the model to the data\n",
    "history = model.fit([x, x_log, params], y, validation_data=([x_dev, x_dev_log, params_dev], y_dev), epochs=600, batch_size=64)\n",
    "\n",
    "# List all data in history\n",
    "print(history.history.keys())\n",
    "# Summarize history for accuracy\n",
    "plt.plot(history.history['acc'])\n",
    "plt.plot(history.history['val_acc'])\n",
    "plt.title('model accuracy')\n",
    "plt.ylabel('accuracy')\n",
    "plt.xlabel('epoch')\n",
    "plt.legend(['train', 'test'], loc='upper left')\n",
    "plt.show()\n",
    "# Summarize history for loss\n",
    "plt.plot(history.history['loss'])\n",
    "plt.plot(history.history['val_loss'])\n",
    "plt.title('model loss')\n",
    "plt.ylabel('loss')\n",
    "plt.xlabel('epoch')\n",
    "plt.legend(['train', 'test'], loc='upper left')\n",
    "plt.show()"
   ]
  },
  {
   "cell_type": "markdown",
   "metadata": {},
   "source": [
    "##### Load pretrained conv model"
   ]
  },
  {
   "cell_type": "code",
   "execution_count": 47,
   "metadata": {},
   "outputs": [
    {
     "name": "stdout",
     "output_type": "stream",
     "text": [
      "Loaded model from disk\n"
     ]
    }
   ],
   "source": [
    "# load json and create model\n",
    "json_file = open('trained/conv_model_quickngood.json', 'r')\n",
    "conv_model_json = json_file.read()\n",
    "json_file.close()\n",
    "model = model_from_json(conv_model_json)\n",
    "# load weights into new model\n",
    "model.load_weights(\"trained/conv_model_quickngood.h5\")\n",
    "print(\"Loaded model from disk\")"
   ]
  },
  {
   "cell_type": "markdown",
   "metadata": {},
   "source": [
    "##### Additional model evaluation"
   ]
  },
  {
   "cell_type": "code",
   "execution_count": 13,
   "metadata": {},
   "outputs": [],
   "source": [
    "# Load dev set\n",
    "x_dev, y_dev, params_dev = utils.load_dataset_all(im_dir=\"dev\", log=False, im_path=im_path)\n",
    "x_dev_log, _, _ = utils.load_dataset_all(im_dir=\"dev\", log=True, im_path=im_path)\n",
    "m_dev = x_dev.shape[0]"
   ]
  },
  {
   "cell_type": "code",
   "execution_count": 15,
   "metadata": {},
   "outputs": [
    {
     "name": "stdout",
     "output_type": "stream",
     "text": [
      "129/129 [==============================] - 1s 9ms/step\n",
      "\n",
      "Performance on VALIDATION set\n",
      ".............................\n",
      "Loss: 0.12023067424189328\n",
      "Accuracy: 0.8682170542635659\n",
      "Precision: 0.8392857142857143\n",
      "Recall: 0.8545454545454545\n",
      ".............................\n",
      "List of indices of wrong guesses:\n",
      "[0, 3, 4, 6, 10, 18, 24, 35, 42, 78, 79, 83, 84, 85, 88, 92, 93]\n"
     ]
    }
   ],
   "source": [
    "# Evaluate model, get metrics back\n",
    "stats = model.evaluate([x_dev, x_dev_log, params_dev], y_dev)\n",
    "# Calculate predictions vector from model\n",
    "predictions = model.predict([x_dev, x_dev_log, params_dev])\n",
    "predictions = np.floor(predictions + 0.5)\n",
    "\n",
    "# Get vector mask for good and bad fits and right and wrong answers\n",
    "good_fits = y_dev\n",
    "bad_fits = 1 - good_fits\n",
    "wrong_answers = np.abs(np.subtract(predictions, good_fits))\n",
    "right_answers = np.subtract(1, wrong_answers)\n",
    "# Calculate true positives (tp), as well as (tn) (fp) (fn)\n",
    "true_positives = np.multiply(right_answers, good_fits)\n",
    "true_negatives = np.multiply(right_answers, bad_fits)\n",
    "false_positives = np.multiply(wrong_answers, good_fits)\n",
    "false_negatives = np.multiply(wrong_answers, bad_fits)\n",
    "# Calculate additional metrics\n",
    "precision = np.sum(true_positives) / np.sum(true_positives + false_positives)\n",
    "recall = np.sum(true_positives) / np.sum(true_positives + false_negatives)\n",
    "\n",
    "# Print stats\n",
    "print()\n",
    "print(\"Performance on VALIDATION set\")\n",
    "print(\".............................\")\n",
    "print(\"Loss: \" + str(stats[0]))\n",
    "print(\"Accuracy: \" + str(stats[1]))\n",
    "print(\"Precision: \" + str(precision))\n",
    "print(\"Recall: \" + str(recall))\n",
    "\n",
    "# Print list of indices of wrong answers\n",
    "bad_list = []\n",
    "for i in range(m_dev):\n",
    "    if wrong_answers[i] == 1:\n",
    "        bad_list.append(i)\n",
    "print(\".............................\")\n",
    "print(\"List of indices of wrong guesses:\")\n",
    "print(bad_list)"
   ]
  },
  {
   "cell_type": "markdown",
   "metadata": {},
   "source": [
    "##### Look at an image"
   ]
  },
  {
   "cell_type": "code",
   "execution_count": 19,
   "metadata": {},
   "outputs": [
    {
     "name": "stdout",
     "output_type": "stream",
     "text": [
      "label: [1]\n",
      "prediction: [0.]\n",
      "(236, 348, 3)\n"
     ]
    },
    {
     "data": {
      "text/plain": [
       "<matplotlib.image.AxesImage at 0x7fe2903538d0>"
      ]
     },
     "execution_count": 19,
     "metadata": {},
     "output_type": "execute_result"
    },
    {
     "data": {
      "image/png": "[encoded data removed]",
      "text/plain": [
       "<Figure size 432x288 with 1 Axes>"
      ]
     },
     "metadata": {
      "needs_background": "light"
     },
     "output_type": "display_data"
    }
   ],
   "source": [
    "# Choose an index \n",
    "index = 6\n",
    "\n",
    "# Print labels for this index\n",
    "print(\"label: \" + str(good_fits[index]))\n",
    "print(\"prediction: \" + str(predictions[index]))\n",
    "\n",
    "# Show image\n",
    "this_image = x[index]\n",
    "print(str(this_image.shape))\n",
    "plt.imshow(np.uint8(utils.get_printable_image(this_image)))"
   ]
  },
  {
   "cell_type": "markdown",
   "metadata": {},
   "source": [
    "##### Save convolutional model to disc"
   ]
  },
  {
   "cell_type": "code",
   "execution_count": 65,
   "metadata": {},
   "outputs": [
    {
     "name": "stdout",
     "output_type": "stream",
     "text": [
      "Saved model to disk\n"
     ]
    }
   ],
   "source": [
    "#plot_model(simple_model, to_file='simple_model.png')\n",
    "#SVG(model_to_dot(simple_model).create(prog='dot', format='svg'))\n",
    "\n",
    "# serialize model to JSON\n",
    "model_json = model.to_json()\n",
    "with open(\"trained/conv_model_chi_500epoch.json\", \"w\") as json_file:\n",
    "    json_file.write(model_json)\n",
    "# serialize weights to HDF5\n",
    "model.save_weights(\"trained/conv_model_chi_500epoch.h5\")\n",
    "print(\"Saved model to disk\")"
   ]
  },
  {
   "cell_type": "code",
   "execution_count": null,
   "metadata": {
    "collapsed": true
   },
   "outputs": [],
   "source": []
  }
 ],
 "metadata": {
  "kernelspec": {
   "display_name": "Python 3",
   "language": "python",
   "name": "python3"
  },
  "language_info": {
   "codemirror_mode": {
    "name": "ipython",
    "version": 3
   },
   "file_extension": ".py",
   "mimetype": "text/x-python",
   "name": "python",
   "nbconvert_exporter": "python",
   "pygments_lexer": "ipython3",
   "version": "3.5.2"
  }
 },
 "nbformat": 4,
 "nbformat_minor": 2
}
