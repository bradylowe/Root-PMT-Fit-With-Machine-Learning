{
 "cells": [
  {
   "cell_type": "markdown",
   "metadata": {},
   "source": [
    "# Root fit analyzing neural network\n",
    "\n",
    "\n",
    "By Brady Lowe\n",
    "\n",
    "lowebra2@isu.edu\n",
    "\n",
    "7/25/2018\n",
    "\n",
    "\n",
    "This Jupyter notebook was written to both develope and explain how we can use\n",
    "neural networks to analyze the output of root fits to raw data."
   ]
  },
  {
   "cell_type": "markdown",
   "metadata": {},
   "source": [
    "### Load necessary packages"
   ]
  },
  {
   "cell_type": "code",
   "execution_count": 1,
   "metadata": {},
   "outputs": [
    {
     "name": "stderr",
     "output_type": "stream",
     "text": [
      "Using TensorFlow backend.\n"
     ]
    }
   ],
   "source": [
    "# Load some packages\n",
    "\n",
    "# Keras packages for network\n",
    "from keras.layers import Input, Dense, Activation, ZeroPadding2D, BatchNormalization\n",
    "from keras.layers import AveragePooling2D, MaxPooling2D, Dropout, Conv2D, Flatten\n",
    "from keras.models import Model\n",
    "from keras.optimizers import Adam, SGD\n",
    "# For saving model\n",
    "from keras.models import model_from_json\n",
    "\n",
    "# Some items for plotting and drawing\n",
    "from keras.utils import plot_model\n",
    "from keras.utils.vis_utils import model_to_dot\n",
    "from IPython.display import SVG\n",
    "from PIL import Image\n",
    "from scipy import misc\n",
    "import matplotlib.pyplot as plt\n",
    "\n",
    "# Need numpy\n",
    "import numpy as np\n",
    "# Personal functions\n",
    "import nn_utils\n",
    "\n",
    "%matplotlib inline"
   ]
  },
  {
   "cell_type": "markdown",
   "metadata": {},
   "source": [
    "### Select and load dataset"
   ]
  },
  {
   "cell_type": "code",
   "execution_count": 30,
   "metadata": {},
   "outputs": [
    {
     "name": "stdout",
     "output_type": "stream",
     "text": [
      "465 images loaded of shape (236, 348, 3)\n"
     ]
    }
   ],
   "source": [
    "# Select and load dataset\n",
    "x, y, files = nn_utils.load_dataset(im_dir=\"dev\", return_filenames=True)\n",
    "\n",
    "# Print dimensions\n",
    "m, h, w, c = x.shape\n",
    "print(str(m) + \" images loaded of shape (\" + str(h) + \", \" + str(w) + \", \" + str(c) + \")\")"
   ]
  },
  {
   "cell_type": "markdown",
   "metadata": {},
   "source": [
    "### Load Model"
   ]
  },
  {
   "cell_type": "code",
   "execution_count": 3,
   "metadata": {},
   "outputs": [
    {
     "name": "stdout",
     "output_type": "stream",
     "text": [
      "Loaded model from disk\n",
      "Model compiled\n"
     ]
    }
   ],
   "source": [
    "# load json and create model\n",
    "json_file = open('trained/conv_model_500.json', 'r')\n",
    "conv_model_json = json_file.read()\n",
    "json_file.close()\n",
    "model = model_from_json(conv_model_json)\n",
    "# load weights into new model\n",
    "model.load_weights(\"trained/conv_model_500.h5\")\n",
    "print(\"Loaded model from disk\")\n",
    "\n",
    "# Define loss\n",
    "loss = 'mean_squared_error'\n",
    "# Define metrics to use\n",
    "metrics=['acc']\n",
    "\n",
    "# Compile model\n",
    "model.compile(loss=loss, optimizer='sgd', metrics=metrics)\n",
    "print(\"Model compiled\")"
   ]
  },
  {
   "cell_type": "markdown",
   "metadata": {},
   "source": [
    "### Evaluate dataset using model"
   ]
  },
  {
   "cell_type": "code",
   "execution_count": 43,
   "metadata": {},
   "outputs": [
    {
     "name": "stdout",
     "output_type": "stream",
     "text": [
      "465/465 [==============================] - 1s 2ms/step\n",
      "\n",
      "Performance on DEV set\n",
      "..........................\n",
      "Loss: 0.0554360314723\n",
      "Accuracy: 0.939784946493\n",
      "Precision: 0.994186046512\n",
      "Recall: 0.929347826087\n",
      "..........................\n",
      "List of indices of positive predictions:\n",
      "[0, 1, 2, 3, 4, 5, 6, 7, 8, 10, 11, 12, 13, 14, 15, 16, 17, 18, 20, 21, 22, 23, 24, 25, 27, 28, 29, 32, 34, 35, 37, 38, 39, 40, 42, 43, 44, 46, 47, 48, 49, 50, 51, 53, 54, 55, 59, 60, 61, 62, 63, 64, 66, 67, 68, 69, 70, 72, 73, 74, 75, 76, 77, 78, 79, 80, 81, 82, 84, 85, 86, 87, 88, 89, 90, 91, 92, 93, 94, 95, 96, 97, 98, 100, 101, 102, 103, 104, 105, 108, 110, 111, 112, 113, 115, 116, 117, 118, 119, 121, 122, 124, 125, 126, 127, 128, 129, 130, 131, 132, 133, 134, 135, 136, 137, 138, 139, 140, 141, 142, 143, 144, 145, 146, 147, 148, 149, 150, 151, 152, 153, 154, 157, 158, 159, 161, 162, 163, 164, 165, 167, 168, 169, 170, 172, 173, 174, 176, 177, 178, 179, 180, 181, 182, 183, 184, 185, 186, 187, 188, 189, 190, 191, 192, 193, 195, 196, 197, 198, 199, 200, 201, 203, 205, 206, 207, 208, 209, 210, 211, 212, 213, 214, 215, 216, 217, 218, 219, 220, 221, 222, 223, 225, 226, 227, 228, 229, 230, 232, 233, 237, 239, 240, 241, 242, 243, 244, 245, 246, 247, 248, 249, 250, 251, 252, 253, 255, 256, 257, 258, 259, 260, 261, 263, 264, 266, 267, 268, 270, 271, 272, 273, 274, 275, 276, 277, 278, 279, 280, 281, 283, 284, 285, 286, 287, 288, 289, 290, 291, 292, 294, 295, 297, 300, 301, 302, 303, 304, 305, 307, 308, 309, 310, 313, 314, 315, 316, 317, 318, 319, 320, 321, 322, 323, 324, 325, 327, 328, 329, 330, 333, 334, 335, 336, 337, 338, 339, 341, 342, 343, 344, 345, 346, 347, 348, 349, 351, 354, 355, 356, 357, 358, 361, 362, 363, 364, 366, 367, 369, 370, 372, 373, 374, 375, 376, 377, 378, 379, 381, 382, 383, 384, 385, 386, 387, 388, 390, 391, 393, 394, 395, 396, 397, 399, 400, 401, 402, 403, 404, 405, 406, 409, 410, 413, 414, 417, 421, 427, 431, 432, 433, 434, 440, 441, 443, 444, 445, 449, 450, 451, 452, 455, 456, 457, 458, 459, 460, 461]\n",
      "..........................\n",
      "List of indices of negative predictions:\n",
      "[9, 19, 26, 30, 31, 33, 36, 41, 45, 52, 56, 57, 58, 65, 71, 83, 99, 106, 107, 109, 114, 120, 123, 155, 156, 160, 166, 171, 175, 194, 202, 204, 224, 231, 234, 235, 236, 238, 254, 262, 265, 269, 282, 293, 296, 298, 299, 306, 311, 312, 326, 331, 332, 340, 350, 352, 353, 359, 360, 365, 368, 371, 380, 389, 392, 398, 407, 408, 411, 412, 415, 416, 418, 419, 420, 422, 423, 424, 425, 426, 428, 429, 430, 435, 436, 437, 438, 439, 442, 446, 447, 448, 453, 454, 462, 463, 464]\n",
      "..........................\n",
      "List of indices of uncertain predictions:\n",
      "[26, 37, 224, 326, 350, 403, 418, 442, 452]\n",
      "..........................\n",
      "List of indices of wrong guesses:\n",
      "[13, 18, 25, 28, 30, 43, 48, 72, 117, 159, 163, 195, 245, 278, 308, 314, 334, 338, 345, 351, 354, 390, 393, 403, 410, 434, 452, 454]\n",
      "..........................\n"
     ]
    }
   ],
   "source": [
    "# Evaluate model, get metrics back\n",
    "stats = model.evaluate(x, y)\n",
    "# Calculate predictions vector from model\n",
    "predictions = model.predict(x)\n",
    "\n",
    "# Get vector mask for good and bad fits and right and wrong answers\n",
    "good_fits = y\n",
    "bad_fits = 1 - good_fits\n",
    "wrong_answers = np.abs(np.subtract(np.floor(predictions + 0.5), good_fits))\n",
    "right_answers = np.subtract(1, wrong_answers)\n",
    "# Calculate true positives (tp), as well as (tn) (fp) (fn)\n",
    "true_positives = np.multiply(right_answers, good_fits)\n",
    "true_negatives = np.multiply(right_answers, bad_fits)\n",
    "false_positives = np.multiply(wrong_answers, good_fits)\n",
    "false_negatives = np.multiply(wrong_answers, bad_fits)\n",
    "# Calculate additional metrics\n",
    "precision = np.sum(true_positives) / np.sum(true_positives + false_positives)\n",
    "recall = np.sum(true_positives) / np.sum(true_positives + false_negatives)\n",
    "\n",
    "# Print stats\n",
    "print()\n",
    "print(\"Performance on DEV set\")\n",
    "print(\"..........................\")\n",
    "print(\"Loss: \" + str(stats[0]))\n",
    "print(\"Accuracy: \" + str(stats[1]))\n",
    "print(\"Precision: \" + str(precision))\n",
    "print(\"Recall: \" + str(recall))\n",
    "\n",
    "# Print list of indices of wrong answers\n",
    "bad_list = []\n",
    "positive_list = []\n",
    "negative_list = []\n",
    "unsure_list = []\n",
    "for i in range(m):\n",
    "    if wrong_answers[i] == 1:\n",
    "        bad_list.append(i)\n",
    "    if predictions[i] > 0.5:\n",
    "        positive_list.append(i)\n",
    "    else:\n",
    "        negative_list.append(i)\n",
    "    if predictions[i] > 0.2 and predictions[i] < 0.8:\n",
    "        unsure_list.append(i)\n",
    "print(\"..........................\")\n",
    "print(\"List of indices of positive predictions:\")\n",
    "print(positive_list)\n",
    "print(\"..........................\")\n",
    "print(\"List of indices of negative predictions:\")\n",
    "print(negative_list)\n",
    "print(\"..........................\")\n",
    "print(\"List of indices of uncertain predictions:\")\n",
    "print(unsure_list)\n",
    "print(\"..........................\")\n",
    "print(\"List of indices of wrong guesses:\")\n",
    "print(bad_list)\n",
    "print(\"..........................\")"
   ]
  },
  {
   "cell_type": "markdown",
   "metadata": {},
   "source": [
    "### Make changes to the dataset "
   ]
  },
  {
   "cell_type": "markdown",
   "metadata": {},
   "source": [
    "#### Loop through network's incorrect predictions (or select an index)"
   ]
  },
  {
   "cell_type": "code",
   "execution_count": 54,
   "metadata": {},
   "outputs": [
    {
     "name": "stdout",
     "output_type": "stream",
     "text": [
      "images/dev\\fit_pmt_nn__run372_chi10_time20180731225311857_label0.png\n",
      "label: [0]\n",
      "prediction: [ 0.62179732]\n"
     ]
    },
    {
     "data": {
      "text/plain": [
       "<matplotlib.image.AxesImage at 0x27e57dc1e10>"
      ]
     },
     "execution_count": 54,
     "metadata": {},
     "output_type": "execute_result"
    },
    {
     "data": {
      "image/png": "[encoded data removed]",
      "text/plain": [
       "<matplotlib.figure.Figure at 0x27e578c6eb8>"
      ]
     },
     "metadata": {},
     "output_type": "display_data"
    }
   ],
   "source": [
    "# Choose an index\n",
    "index = 452\n",
    "# Print filename\n",
    "print(files[index])\n",
    "# Print labels for this index\n",
    "print(\"label: \" + str(y[index]))\n",
    "print(\"prediction: \" + str(predictions[index]))\n",
    "# Show image\n",
    "plt.imshow(np.uint8(nn_utils.get_printable_image(x[index])))"
   ]
  },
  {
   "cell_type": "code",
   "execution_count": 38,
   "metadata": {},
   "outputs": [
    {
     "name": "stdout",
     "output_type": "stream",
     "text": [
      "Label changed for index 37\n"
     ]
    }
   ],
   "source": [
    "# Change the label\n",
    "if False:\n",
    "    nn_utils.change_label(files[index])\n",
    "    print(\"Label changed for index \" + str(index))"
   ]
  },
  {
   "cell_type": "markdown",
   "metadata": {},
   "source": [
    "#### Loop through the positive/negative predictions"
   ]
  },
  {
   "cell_type": "code",
   "execution_count": 35,
   "metadata": {},
   "outputs": [
    {
     "ename": "NameError",
     "evalue": "name 'array' is not defined",
     "output_type": "error",
     "traceback": [
      "\u001b[1;31m---------------------------------------------------------------------------\u001b[0m",
      "\u001b[1;31mNameError\u001b[0m                                 Traceback (most recent call last)",
      "\u001b[1;32m<ipython-input-35-3ea3ced35b57>\u001b[0m in \u001b[0;36m<module>\u001b[1;34m()\u001b[0m\n\u001b[0;32m      6\u001b[0m \u001b[1;32mfor\u001b[0m \u001b[0mi\u001b[0m \u001b[1;32min\u001b[0m \u001b[0mrange\u001b[0m\u001b[1;33m(\u001b[0m\u001b[0mm\u001b[0m\u001b[1;33m)\u001b[0m\u001b[1;33m:\u001b[0m\u001b[1;33m\u001b[0m\u001b[0m\n\u001b[0;32m      7\u001b[0m     \u001b[1;31m# Select the predictions of interest (pos or neg)\u001b[0m\u001b[1;33m\u001b[0m\u001b[1;33m\u001b[0m\u001b[0m\n\u001b[1;32m----> 8\u001b[1;33m     \u001b[1;32mif\u001b[0m \u001b[1;33m(\u001b[0m\u001b[0marray\u001b[0m\u001b[1;33m[\u001b[0m\u001b[0mi\u001b[0m\u001b[1;33m]\u001b[0m \u001b[1;33m>\u001b[0m \u001b[1;36m0.5\u001b[0m \u001b[1;32mand\u001b[0m \u001b[0mchoice\u001b[0m \u001b[1;33m==\u001b[0m \u001b[1;36m1\u001b[0m\u001b[1;33m)\u001b[0m \u001b[1;32mor\u001b[0m \u001b[1;33m(\u001b[0m\u001b[0marray\u001b[0m\u001b[1;33m[\u001b[0m\u001b[0mi\u001b[0m\u001b[1;33m]\u001b[0m \u001b[1;33m<\u001b[0m \u001b[1;36m0.5\u001b[0m \u001b[1;32mand\u001b[0m \u001b[0mchoice\u001b[0m \u001b[1;33m==\u001b[0m \u001b[1;33m-\u001b[0m\u001b[1;36m1\u001b[0m\u001b[1;33m)\u001b[0m\u001b[1;33m:\u001b[0m\u001b[1;33m\u001b[0m\u001b[0m\n\u001b[0m\u001b[0;32m      9\u001b[0m         \u001b[0mselected_examples\u001b[0m\u001b[1;33m.\u001b[0m\u001b[0mappend\u001b[0m\u001b[1;33m(\u001b[0m\u001b[0mi\u001b[0m\u001b[1;33m)\u001b[0m\u001b[1;33m\u001b[0m\u001b[0m\n\u001b[0;32m     10\u001b[0m \u001b[1;33m\u001b[0m\u001b[0m\n",
      "\u001b[1;31mNameError\u001b[0m: name 'array' is not defined"
     ]
    }
   ],
   "source": [
    "# Choose positives (+1) or negatives (-1)\n",
    "choice = 1\n",
    "\n",
    "# Loop through all images\n",
    "for i in range(m):\n",
    "    # Select the predictions of interest (pos or neg)\n",
    "    if (predictions[i] > 0.5 and choice == 1) or (predictions[i] < 0.5 and choice == -1):\n",
    "        # Print out info and image\n",
    "        print(files[i])\n",
    "        print(\"label: \" + str(y[i]))\n",
    "        plt.imshow(np.uint8(nn_utils.get_printable_image(x[index])))\n",
    "        \n",
    "    # Print user options\n",
    "    print(\"Type one of the following:\")\n",
    "    print(\"  <Enter> - to continue to the next image\")\n",
    "    print(\"  change  - to change the label of the current index\")\n",
    "    print(\"  exit    - to quit looping\")\n",
    "    user_info = raw_input(\"Type \\\"exit\\\" to exit, or \\\"enter\\\" to continue\")\n",
    "    if user_info == \"exit\":\n",
    "        break;\n",
    "    if user_info == \"change\":\n",
    "        nn_utils.change_label(files[i])\n",
    "        print(\"Label changed for index \" + str(i))\n",
    "    \n",
    "        \n",
    "    "
   ]
  },
  {
   "cell_type": "code",
   "execution_count": null,
   "metadata": {
    "collapsed": true
   },
   "outputs": [],
   "source": []
  }
 ],
 "metadata": {
  "kernelspec": {
   "display_name": "Python 3",
   "language": "python",
   "name": "python3"
  },
  "language_info": {
   "codemirror_mode": {
    "name": "ipython",
    "version": 3
   },
   "file_extension": ".py",
   "mimetype": "text/x-python",
   "name": "python",
   "nbconvert_exporter": "python",
   "pygments_lexer": "ipython3",
   "version": "3.6.3"
  }
 },
 "nbformat": 4,
 "nbformat_minor": 2
}
