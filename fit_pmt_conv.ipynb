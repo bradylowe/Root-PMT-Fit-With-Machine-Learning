{
 "cells": [
  {
   "cell_type": "markdown",
   "metadata": {},
   "source": [
    "# Convolutional neural network for classifying Root data fits.\n",
    "\n",
    "\n",
    "Here, we define, train, and save new convolutional models as well as some \n",
    "simple model evaluation. We define hyper-parameters, number of layers, and \n",
    "training and testing datasets. \n",
    "\n",
    "Here, at the final layer, the network takes into account chi squared per degree of freedom."
   ]
  },
  {
   "cell_type": "markdown",
   "metadata": {},
   "source": [
    "## Load necessary packages"
   ]
  },
  {
   "cell_type": "code",
   "execution_count": 17,
   "metadata": {},
   "outputs": [],
   "source": [
    "# Load some packages\n",
    "\n",
    "# Keras packages for network\n",
    "from keras.layers import Input, Dense, Activation, ZeroPadding2D, BatchNormalization\n",
    "from keras.layers import AveragePooling2D, MaxPooling2D, Dropout, Conv2D, Flatten\n",
    "from keras.models import Model\n",
    "from keras.optimizers import Adam, SGD\n",
    "# For saving model\n",
    "from keras.models import model_from_json\n",
    "from keras.layers import Concatenate\n",
    "\n",
    "# Some items for plotting and drawing\n",
    "from keras.utils import plot_model\n",
    "from keras.utils.vis_utils import model_to_dot\n",
    "from IPython.display import SVG\n",
    "from PIL import Image\n",
    "from scipy import misc\n",
    "import matplotlib.pyplot as plt\n",
    "\n",
    "# Need numpy\n",
    "import numpy as np\n",
    "import nn_utils as utils\n",
    "\n",
    "%matplotlib inline\n",
    "\n",
    "# Define image file path\n",
    "im_path=\"/media/data/Projects/fit_pmt/images/png_fit_nn/\""
   ]
  },
  {
   "cell_type": "markdown",
   "metadata": {},
   "source": [
    "## Load root fit data from file\n",
    "\n",
    "Here, we load training data set and labels for training our CNN. \n",
    "\n",
    "### *Convolutional dataset consists of*\n",
    " - Linear scale png output of data points and fit lines\n",
    " - Log scale png output from the same fit\n",
    " - Fit input parameters such as high voltage, light level, minimum and maximum bounds to parameters\n",
    " - Fit output parameters such as signal mean and rms, gain measurement, chi squared per DOF, errors on parameters, etc.\n",
    " - Label (0 = bad fit, 1 = good fit)"
   ]
  },
  {
   "cell_type": "code",
   "execution_count": 2,
   "metadata": {},
   "outputs": [
    {
     "name": "stdout",
     "output_type": "stream",
     "text": [
      "881 images loaded of shape (236, 348, 3)\n",
      "881 labels loaded\n",
      "881 input arrays loaded of length 38\n",
      "881 output arrays loaded of length 20\n"
     ]
    }
   ],
   "source": [
    "# Load images\n",
    "m = -1\n",
    "dataset = \"train\"\n",
    "x = utils.load_images(m=m, dataset=dataset, log_scale=False, im_path=im_path)\n",
    "x_log = utils.load_images(m=m, dataset=dataset, log_scale=True, im_path=im_path)\n",
    "m, h, w, c = x.shape\n",
    "input_shape = h, w, c\n",
    "print(str(m) + \" images loaded of shape \" + str(input_shape))\n",
    "\n",
    "# Load labels\n",
    "y = utils.load_labels(m=m, dataset=dataset)\n",
    "print(str(y.shape[0]) + \" labels loaded\")\n",
    "\n",
    "# Load fit input and output parameters \n",
    "fit_inputs, fit_outputs = utils.load_fit_results(m=m, dataset=dataset)\n",
    "num_inputs, num_outputs = len(fit_inputs[0]), len(fit_outputs[1])\n",
    "print(str(len(fit_inputs)) + \" input arrays loaded of length \" + str(num_inputs))\n",
    "print(str(len(fit_outputs)) + \" output arrays loaded of length \" + str(num_outputs))"
   ]
  },
  {
   "cell_type": "markdown",
   "metadata": {},
   "source": [
    "### Load DEV set\n",
    "\n",
    "Here, we load development set images for model evaluation."
   ]
  },
  {
   "cell_type": "code",
   "execution_count": 3,
   "metadata": {},
   "outputs": [
    {
     "name": "stdout",
     "output_type": "stream",
     "text": [
      "107 images loaded\n",
      "107 labels loaded\n",
      "107 output arrays loaded\n",
      "107 output arrays loaded\n"
     ]
    }
   ],
   "source": [
    "# LOAD DEV SET\n",
    "# Load images\n",
    "m_dev = -1\n",
    "dataset = \"dev\"\n",
    "x_dev = utils.load_images(m=m_dev, dataset=dataset, log_scale=False, im_path=im_path)\n",
    "x_log_dev = utils.load_images(m=m_dev, dataset=dataset, log_scale=True, im_path=im_path)\n",
    "m_dev = x_dev.shape[0]\n",
    "print(str(m_dev) + \" images loaded\")\n",
    "\n",
    "# Load labels\n",
    "y_dev = utils.load_labels(m=m_dev, dataset=dataset)\n",
    "print(str(y_dev.shape[0]) + \" labels loaded\")\n",
    "\n",
    "# Load fit input and output parameters \n",
    "fit_inputs_dev, fit_outputs_dev = utils.load_fit_results(m=m_dev, dataset=dataset)\n",
    "print(str(len(fit_inputs_dev)) + \" output arrays loaded\")\n",
    "print(str(len(fit_outputs_dev)) + \" output arrays loaded\")"
   ]
  },
  {
   "cell_type": "markdown",
   "metadata": {},
   "source": [
    "### Print an image"
   ]
  },
  {
   "cell_type": "code",
   "execution_count": 4,
   "metadata": {},
   "outputs": [
    {
     "name": "stdout",
     "output_type": "stream",
     "text": [
      "label: good\n",
      "label: [1]\n",
      "\n",
      "fit_inputs: [ 1.00000000e+00  3.00000000e+03  4.00000000e+02  1.55000000e+03\n",
      "  4.80000000e+01  7.00000000e+00  1.00000000e+00  1.00000000e+03\n",
      "  1.00000000e+00  1.00000000e+00  1.70000000e+01  5.00000000e-02\n",
      "  2.53042298e+02  2.18733500e+00  5.00000000e-03  2.29900000e+00\n",
      "  4.00000000e+00  2.18733500e+00  1.17647000e-01  8.82353000e-01\n",
      "  1.00000000e-03 -1.00000000e+00 -1.00000000e+00 -1.00000000e+00\n",
      "  2.06910000e+00 -1.00000000e+00 -1.00000000e+00  1.05882000e-01\n",
      "  8.70588000e-01  3.00000000e-01 -1.00000000e+00 -1.00000000e+00\n",
      " -1.00000000e+00  2.52890000e+00 -1.00000000e+00 -1.00000000e+00\n",
      "  1.29412000e-01  8.94118000e-01]\n",
      "\n",
      "fit_outputs: [1.28770000e-02 2.50498304e+02 1.46795000e+00 7.85570000e-02\n",
      " 2.23034200e+00 1.08452000e-01 8.91334000e-01 1.67368000e-01\n",
      " 3.74310380e+01 1.61661460e+01 1.42229800e+00 3.71406000e-01\n",
      " 9.14927200e+00 3.00821910e+01 1.29650000e-02 2.20130000e-02\n",
      " 5.11591900e+00 3.15239000e-01 3.22943000e+00 1.02443974e+03]\n"
     ]
    },
    {
     "data": {
      "text/plain": [
       "<matplotlib.image.AxesImage at 0x7f2611e04a58>"
      ]
     },
     "execution_count": 4,
     "metadata": {},
     "output_type": "execute_result"
    },
    {
     "data": {
      "image/png": "[encoded data removed]",
      "text/plain": [
       "<Figure size 432x288 with 1 Axes>"
      ]
     },
     "metadata": {
      "needs_background": "light"
     },
     "output_type": "display_data"
    }
   ],
   "source": [
    "# Print an image\n",
    "index = 420\n",
    "# Choose log or linear scale\n",
    "log_scale = False\n",
    "this_image = x_log[index] if log_scale else x[index]\n",
    "if y[index] == 1:\n",
    "    print(\"label: good\")\n",
    "else:\n",
    "    print(\"label: bad\")\n",
    "print(\"label: \" + str(y[index]))\n",
    "print(\"\\nfit_inputs: \" + str(fit_inputs[index]))\n",
    "print(\"\\nfit_outputs: \" + str(fit_outputs[index]))\n",
    "plt.imshow(np.uint8(utils.get_printable_image(this_image)))"
   ]
  },
  {
   "cell_type": "markdown",
   "metadata": {},
   "source": [
    "# Define and train convolutional neural net\n",
    "\n",
    "### *Architecture:*\n",
    " - We will actually train two conv nets in parallel side-by-side, one looking at linear scale images while the other looks at log scale images. \n",
    " - After we put the images through the multiple convolutional layers, we will flatten them into 1D arrays and concatenate them together.\n",
    " - To this array, we will concatenate all the useful values that were input to and output from the fit algorithm.\n",
    " - We now should have all the information avaiable from the fit contained in a single array of values that we can send into a deep, fully-connected network for classification.\n",
    "\n",
    "### *Convolutional layers:*\n",
    " - We use 3 conv layers with batch normalization, dropout, and minimal pooling.\n",
    " - In a single convolutional layer, we will scan over our images with a certain stride and a certain kernal size (with multiple filters each time). \n",
    " - As long as our kernel size or stride is greater than 1, we will be decreasing the size of the image with each pass through a convolutional layer (we are using no padding). \n",
    " - Through applying filters in convolution as well as using max pooling, we will end up with a very reduced representation of our image; we hope that this still contains all the information necessary to classify it as a good/bad fit."
   ]
  },
  {
   "cell_type": "code",
   "execution_count": 15,
   "metadata": {},
   "outputs": [],
   "source": [
    "# Define Conv layers\n",
    "filters = []\n",
    "kernels = []\n",
    "strides = []\n",
    "pools = []\n",
    "dropouts = []\n",
    "\n",
    "# Conv1\n",
    "filters.append(32)\n",
    "kernels.append(5)\n",
    "strides.append(3)\n",
    "pools.append(1)\n",
    "dropouts.append(0.1)\n",
    "\n",
    "# Conv2\n",
    "filters.append(64)\n",
    "kernels.append(7)\n",
    "strides.append(2)\n",
    "pools.append(1)\n",
    "dropouts.append(0.1)\n",
    "\n",
    "# Conv3\n",
    "filters.append(128)\n",
    "kernels.append(9)\n",
    "strides.append(3)\n",
    "pools.append(2)\n",
    "dropouts.append(0.2)\n",
    "\n",
    "# Define dense layers\n",
    "neurons = [100, 80, 60, 40, 20, 10]"
   ]
  },
  {
   "cell_type": "markdown",
   "metadata": {},
   "source": [
    "## Define keras layers (model)\n",
    "\n",
    "Our model contains two convolutional models in parallel, each with multiple layers. We run two in parallel to utilize log scale images AND linear scale (different information present). \n",
    "\n",
    "After we convolve the images, we flatten them and concatenate them. We also concatenate to them a list of inputs and outputs to and from the root fit algorithm such as parameter initial condition and bounds, output parameters plus errors, and chi-squared per degree of freedom.\n",
    "\n",
    "After concatenating these three sources of information together, we send them through some fully-connected layers to allow learning from all three sources simultaneously.\n",
    "\n",
    "Dropout is used here for regularization.\n",
    "Pooling is used here to speed up computation.\n",
    "Batch normalization is used to aid in learning at deeper layers."
   ]
  },
  {
   "cell_type": "code",
   "execution_count": 18,
   "metadata": {},
   "outputs": [],
   "source": [
    "# Define input layer (RGB image matrix)\n",
    "X = Input(shape=input_shape, name='Input')\n",
    "\n",
    "# Define additional input info\n",
    "X_log = Input(shape=input_shape, name='InputLog')\n",
    "\n",
    "# Define additional input info\n",
    "In_params = Input(shape=(num_inputs,), name='In_params')\n",
    "Out_params = Input(shape=(num_outputs,), name='Out_params')\n",
    "\n",
    "# Initialize activation as input\n",
    "a = X\n",
    "a_log = X_log\n",
    "# Loop through all convolutional layers\n",
    "for i in range(len(filters)):\n",
    "    # Perform convolution\n",
    "    a = Conv2D(filters=filters[i], kernel_size=(kernels[i], kernels[i]), strides=(strides[i], strides[i]), name=('conv' + str(i)))(a)\n",
    "    a_log = Conv2D(filters=filters[i], kernel_size=(kernels[i], kernels[i]), strides=(strides[i], strides[i]), name=('conv_log' + str(i)))(a_log)\n",
    "    # Normalize\n",
    "    a = BatchNormalization(axis=3, name=('bn' + str(i)))(a)\n",
    "    a_log = BatchNormalization(axis=3, name=('bn_log' + str(i)))(a_log)\n",
    "    # Activate\n",
    "    a = Activation('elu', name=('a' + str(i)))(a)\n",
    "    a_log = Activation('elu', name=('a_log' + str(i)))(a_log)\n",
    "    # Max-pool\n",
    "    a = MaxPooling2D((pools[i], pools[i]), name=('max_pool' + str(i)))(a)\n",
    "    a_log = MaxPooling2D((pools[i], pools[i]), name=('max_pool_log' + str(i)))(a_log)\n",
    "    # Dropout\n",
    "    a = Dropout(rate=dropouts[i])(a)\n",
    "    a_log = Dropout(rate=dropouts[i])(a_log)\n",
    "\n",
    "# Flatten output of convNet\n",
    "a = Flatten()(a)\n",
    "a_log = Flatten()(a_log)\n",
    "\n",
    "a_both = Concatenate()([a, a_log])\n",
    "\n",
    "# Concatenate and normalize input/output parameters\n",
    "params = Concatenate()([In_params, Out_params])\n",
    "params = BatchNormalization(name='bn_params')(params)\n",
    "\n",
    "# Concatenate parameters to activations\n",
    "a = Concatenate()([a_both, params])\n",
    "\n",
    "# Loop through dense layers\n",
    "for i in range(len(neurons)):\n",
    "    a = Dense(units=neurons[i], activation='relu', name=('fc' + str(i)))(a)\n",
    "    a = Dropout(rate=0.2)(a)\n",
    "    \n",
    "# Define output layer \n",
    "a = Dense(units=1, activation='sigmoid', name='sigmoid')(a)\n",
    "\n",
    "# Make the model\n",
    "model = Model(inputs=[X, X_log, In_params, Out_params], outputs=a)"
   ]
  },
  {
   "cell_type": "markdown",
   "metadata": {},
   "source": [
    "##### Define optimizer, loss, and metrics. Compile model."
   ]
  },
  {
   "cell_type": "code",
   "execution_count": 26,
   "metadata": {
    "scrolled": true
   },
   "outputs": [
    {
     "name": "stdout",
     "output_type": "stream",
     "text": [
      "__________________________________________________________________________________________________\n",
      "Layer (type)                    Output Shape         Param #     Connected to                     \n",
      "==================================================================================================\n",
      "Input (InputLayer)              (None, 236, 348, 3)  0                                            \n",
      "__________________________________________________________________________________________________\n",
      "InputLog (InputLayer)           (None, 236, 348, 3)  0                                            \n",
      "__________________________________________________________________________________________________\n",
      "conv0 (Conv2D)                  (None, 78, 115, 32)  2432        Input[0][0]                      \n",
      "__________________________________________________________________________________________________\n",
      "conv_log0 (Conv2D)              (None, 78, 115, 32)  2432        InputLog[0][0]                   \n",
      "__________________________________________________________________________________________________\n",
      "bn0 (BatchNormalization)        (None, 78, 115, 32)  128         conv0[0][0]                      \n",
      "__________________________________________________________________________________________________\n",
      "bn_log0 (BatchNormalization)    (None, 78, 115, 32)  128         conv_log0[0][0]                  \n",
      "__________________________________________________________________________________________________\n",
      "a0 (Activation)                 (None, 78, 115, 32)  0           bn0[0][0]                        \n",
      "__________________________________________________________________________________________________\n",
      "a_log0 (Activation)             (None, 78, 115, 32)  0           bn_log0[0][0]                    \n",
      "__________________________________________________________________________________________________\n",
      "max_pool0 (MaxPooling2D)        (None, 78, 115, 32)  0           a0[0][0]                         \n",
      "__________________________________________________________________________________________________\n",
      "max_pool_log0 (MaxPooling2D)    (None, 78, 115, 32)  0           a_log0[0][0]                     \n",
      "__________________________________________________________________________________________________\n",
      "dropout_19 (Dropout)            (None, 78, 115, 32)  0           max_pool0[0][0]                  \n",
      "__________________________________________________________________________________________________\n",
      "dropout_20 (Dropout)            (None, 78, 115, 32)  0           max_pool_log0[0][0]              \n",
      "__________________________________________________________________________________________________\n",
      "conv1 (Conv2D)                  (None, 36, 55, 64)   100416      dropout_19[0][0]                 \n",
      "__________________________________________________________________________________________________\n",
      "conv_log1 (Conv2D)              (None, 36, 55, 64)   100416      dropout_20[0][0]                 \n",
      "__________________________________________________________________________________________________\n",
      "bn1 (BatchNormalization)        (None, 36, 55, 64)   256         conv1[0][0]                      \n",
      "__________________________________________________________________________________________________\n",
      "bn_log1 (BatchNormalization)    (None, 36, 55, 64)   256         conv_log1[0][0]                  \n",
      "__________________________________________________________________________________________________\n",
      "a1 (Activation)                 (None, 36, 55, 64)   0           bn1[0][0]                        \n",
      "__________________________________________________________________________________________________\n",
      "a_log1 (Activation)             (None, 36, 55, 64)   0           bn_log1[0][0]                    \n",
      "__________________________________________________________________________________________________\n",
      "max_pool1 (MaxPooling2D)        (None, 36, 55, 64)   0           a1[0][0]                         \n",
      "__________________________________________________________________________________________________\n",
      "max_pool_log1 (MaxPooling2D)    (None, 36, 55, 64)   0           a_log1[0][0]                     \n",
      "__________________________________________________________________________________________________\n",
      "dropout_21 (Dropout)            (None, 36, 55, 64)   0           max_pool1[0][0]                  \n",
      "__________________________________________________________________________________________________\n",
      "dropout_22 (Dropout)            (None, 36, 55, 64)   0           max_pool_log1[0][0]              \n",
      "__________________________________________________________________________________________________\n",
      "conv2 (Conv2D)                  (None, 10, 16, 128)  663680      dropout_21[0][0]                 \n",
      "__________________________________________________________________________________________________\n",
      "conv_log2 (Conv2D)              (None, 10, 16, 128)  663680      dropout_22[0][0]                 \n",
      "__________________________________________________________________________________________________\n",
      "bn2 (BatchNormalization)        (None, 10, 16, 128)  512         conv2[0][0]                      \n",
      "__________________________________________________________________________________________________\n",
      "bn_log2 (BatchNormalization)    (None, 10, 16, 128)  512         conv_log2[0][0]                  \n",
      "__________________________________________________________________________________________________\n",
      "a2 (Activation)                 (None, 10, 16, 128)  0           bn2[0][0]                        \n",
      "__________________________________________________________________________________________________\n",
      "a_log2 (Activation)             (None, 10, 16, 128)  0           bn_log2[0][0]                    \n",
      "__________________________________________________________________________________________________\n",
      "max_pool2 (MaxPooling2D)        (None, 5, 8, 128)    0           a2[0][0]                         \n",
      "__________________________________________________________________________________________________\n",
      "max_pool_log2 (MaxPooling2D)    (None, 5, 8, 128)    0           a_log2[0][0]                     \n",
      "__________________________________________________________________________________________________\n",
      "dropout_23 (Dropout)            (None, 5, 8, 128)    0           max_pool2[0][0]                  \n",
      "__________________________________________________________________________________________________\n",
      "dropout_24 (Dropout)            (None, 5, 8, 128)    0           max_pool_log2[0][0]              \n",
      "__________________________________________________________________________________________________\n",
      "In_params (InputLayer)          (None, 38)           0                                            \n",
      "__________________________________________________________________________________________________\n",
      "Out_params (InputLayer)         (None, 20)           0                                            \n",
      "__________________________________________________________________________________________________\n",
      "flatten_5 (Flatten)             (None, 5120)         0           dropout_23[0][0]                 \n",
      "__________________________________________________________________________________________________\n",
      "flatten_6 (Flatten)             (None, 5120)         0           dropout_24[0][0]                 \n",
      "__________________________________________________________________________________________________\n",
      "concatenate_8 (Concatenate)     (None, 58)           0           In_params[0][0]                  \n",
      "                                                                 Out_params[0][0]                 \n",
      "__________________________________________________________________________________________________\n",
      "concatenate_7 (Concatenate)     (None, 10240)        0           flatten_5[0][0]                  \n",
      "                                                                 flatten_6[0][0]                  \n",
      "__________________________________________________________________________________________________\n",
      "bn_params (BatchNormalization)  (None, 58)           232         concatenate_8[0][0]              \n",
      "__________________________________________________________________________________________________\n",
      "concatenate_9 (Concatenate)     (None, 10298)        0           concatenate_7[0][0]              \n",
      "                                                                 bn_params[0][0]                  \n",
      "__________________________________________________________________________________________________\n",
      "fc0 (Dense)                     (None, 100)          1029900     concatenate_9[0][0]              \n",
      "__________________________________________________________________________________________________\n",
      "dropout_25 (Dropout)            (None, 100)          0           fc0[0][0]                        \n",
      "__________________________________________________________________________________________________\n",
      "fc1 (Dense)                     (None, 80)           8080        dropout_25[0][0]                 \n",
      "__________________________________________________________________________________________________\n",
      "dropout_26 (Dropout)            (None, 80)           0           fc1[0][0]                        \n",
      "__________________________________________________________________________________________________\n",
      "fc2 (Dense)                     (None, 60)           4860        dropout_26[0][0]                 \n",
      "__________________________________________________________________________________________________\n",
      "dropout_27 (Dropout)            (None, 60)           0           fc2[0][0]                        \n",
      "__________________________________________________________________________________________________\n",
      "fc3 (Dense)                     (None, 40)           2440        dropout_27[0][0]                 \n",
      "__________________________________________________________________________________________________\n",
      "dropout_28 (Dropout)            (None, 40)           0           fc3[0][0]                        \n",
      "__________________________________________________________________________________________________\n",
      "fc4 (Dense)                     (None, 20)           820         dropout_28[0][0]                 \n",
      "__________________________________________________________________________________________________\n",
      "dropout_29 (Dropout)            (None, 20)           0           fc4[0][0]                        \n",
      "__________________________________________________________________________________________________\n",
      "fc5 (Dense)                     (None, 10)           210         dropout_29[0][0]                 \n",
      "__________________________________________________________________________________________________\n",
      "dropout_30 (Dropout)            (None, 10)           0           fc5[0][0]                        \n",
      "__________________________________________________________________________________________________\n",
      "sigmoid (Dense)                 (None, 1)            11          dropout_30[0][0]                 \n",
      "==================================================================================================\n",
      "Total params: 2,581,401\n",
      "Trainable params: 2,580,389\n",
      "Non-trainable params: 1,012\n",
      "__________________________________________________________________________________________________\n"
     ]
    }
   ],
   "source": [
    "# Define optimizer\n",
    "#opt = Adam(lr=0.01, beta_1=0.9, beta_2=0.999, decay=0.001)\n",
    "opt = SGD(lr=1.0, decay=1e-6, momentum=0.9, nesterov=True)\n",
    "# Define loss\n",
    "loss = 'mean_squared_error'\n",
    "# Define metrics to use\n",
    "metrics=['acc']\n",
    "# Compile model\n",
    "model.compile(loss=loss, optimizer='sgd', metrics=metrics)\n",
    "# Print summary\n",
    "model.summary()"
   ]
  },
  {
   "cell_type": "markdown",
   "metadata": {},
   "source": [
    "## Fit the model to the data (train)"
   ]
  },
  {
   "cell_type": "code",
   "execution_count": 30,
   "metadata": {
    "scrolled": true
   },
   "outputs": [
    {
     "name": "stdout",
     "output_type": "stream",
     "text": [
      "Train on 881 samples, validate on 107 samples\n",
      "Epoch 1/300\n",
      "881/881 [==============================] - 6s 6ms/step - loss: 0.0071 - acc: 0.9966 - val_loss: 0.0814 - val_acc: 0.9159\n",
      "Epoch 2/300\n",
      "881/881 [==============================] - 6s 6ms/step - loss: 0.0079 - acc: 0.9943 - val_loss: 0.0855 - val_acc: 0.9065\n",
      "Epoch 3/300\n",
      "881/881 [==============================] - 6s 6ms/step - loss: 0.0065 - acc: 0.9955 - val_loss: 0.0743 - val_acc: 0.9252\n",
      "Epoch 4/300\n",
      "881/881 [==============================] - 6s 6ms/step - loss: 0.0055 - acc: 0.9977 - val_loss: 0.0746 - val_acc: 0.9252\n",
      "Epoch 5/300\n",
      "881/881 [==============================] - 6s 6ms/step - loss: 0.0055 - acc: 0.9977 - val_loss: 0.0877 - val_acc: 0.9065\n",
      "Epoch 6/300\n",
      "881/881 [==============================] - 6s 6ms/step - loss: 0.0084 - acc: 0.9909 - val_loss: 0.0889 - val_acc: 0.9065\n",
      "Epoch 7/300\n",
      "881/881 [==============================] - 6s 6ms/step - loss: 0.0052 - acc: 0.9977 - val_loss: 0.0889 - val_acc: 0.9065\n",
      "Epoch 8/300\n",
      "881/881 [==============================] - 6s 7ms/step - loss: 0.0070 - acc: 0.9977 - val_loss: 0.0887 - val_acc: 0.9065\n",
      "Epoch 9/300\n",
      "881/881 [==============================] - 6s 6ms/step - loss: 0.0099 - acc: 0.9921 - val_loss: 0.0886 - val_acc: 0.9065\n",
      "Epoch 10/300\n",
      "881/881 [==============================] - 6s 6ms/step - loss: 0.0083 - acc: 0.9932 - val_loss: 0.0840 - val_acc: 0.9065\n",
      "Epoch 11/300\n",
      "881/881 [==============================] - 6s 6ms/step - loss: 0.0065 - acc: 0.9966 - val_loss: 0.0878 - val_acc: 0.9065\n",
      "Epoch 12/300\n",
      "881/881 [==============================] - 6s 6ms/step - loss: 0.0051 - acc: 0.9977 - val_loss: 0.0883 - val_acc: 0.9065\n",
      "Epoch 13/300\n",
      "881/881 [==============================] - 6s 6ms/step - loss: 0.0063 - acc: 0.9966 - val_loss: 0.0829 - val_acc: 0.9159\n",
      "Epoch 14/300\n",
      "881/881 [==============================] - 6s 6ms/step - loss: 0.0049 - acc: 0.9977 - val_loss: 0.0804 - val_acc: 0.9159\n",
      "Epoch 15/300\n",
      "881/881 [==============================] - 6s 6ms/step - loss: 0.0042 - acc: 0.9989 - val_loss: 0.0822 - val_acc: 0.9159\n",
      "Epoch 16/300\n",
      "881/881 [==============================] - 6s 6ms/step - loss: 0.0067 - acc: 0.9966 - val_loss: 0.0850 - val_acc: 0.9065\n",
      "Epoch 17/300\n",
      "881/881 [==============================] - 6s 6ms/step - loss: 0.0052 - acc: 0.9977 - val_loss: 0.0744 - val_acc: 0.9252\n",
      "Epoch 18/300\n",
      "881/881 [==============================] - 6s 6ms/step - loss: 0.0081 - acc: 0.9921 - val_loss: 0.0840 - val_acc: 0.9065\n",
      "Epoch 19/300\n",
      "881/881 [==============================] - 6s 6ms/step - loss: 0.0053 - acc: 0.9977 - val_loss: 0.0832 - val_acc: 0.9159\n",
      "Epoch 20/300\n",
      "881/881 [==============================] - 6s 6ms/step - loss: 0.0069 - acc: 0.9955 - val_loss: 0.0818 - val_acc: 0.9159\n",
      "Epoch 21/300\n",
      "881/881 [==============================] - 6s 6ms/step - loss: 0.0069 - acc: 0.9955 - val_loss: 0.0748 - val_acc: 0.9252\n",
      "Epoch 22/300\n",
      "881/881 [==============================] - 6s 6ms/step - loss: 0.0078 - acc: 0.9943 - val_loss: 0.0868 - val_acc: 0.9065\n",
      "Epoch 23/300\n",
      "881/881 [==============================] - 6s 6ms/step - loss: 0.0087 - acc: 0.9921 - val_loss: 0.0890 - val_acc: 0.9065\n",
      "Epoch 24/300\n",
      "881/881 [==============================] - 6s 6ms/step - loss: 0.0050 - acc: 0.9977 - val_loss: 0.0762 - val_acc: 0.9159\n",
      "Epoch 25/300\n",
      "881/881 [==============================] - 6s 6ms/step - loss: 0.0053 - acc: 0.9943 - val_loss: 0.0902 - val_acc: 0.9065\n",
      "Epoch 26/300\n",
      "881/881 [==============================] - 6s 6ms/step - loss: 0.0080 - acc: 0.9943 - val_loss: 0.0883 - val_acc: 0.9065\n",
      "Epoch 27/300\n",
      "881/881 [==============================] - 6s 6ms/step - loss: 0.0062 - acc: 0.9977 - val_loss: 0.0825 - val_acc: 0.9065\n",
      "Epoch 28/300\n",
      "881/881 [==============================] - 6s 6ms/step - loss: 0.0061 - acc: 0.9966 - val_loss: 0.0740 - val_acc: 0.9252\n",
      "Epoch 29/300\n",
      "881/881 [==============================] - 6s 6ms/step - loss: 0.0059 - acc: 0.9966 - val_loss: 0.0742 - val_acc: 0.9252\n",
      "Epoch 30/300\n",
      "881/881 [==============================] - 6s 7ms/step - loss: 0.0057 - acc: 0.9966 - val_loss: 0.0741 - val_acc: 0.9252\n",
      "Epoch 31/300\n",
      "881/881 [==============================] - 6s 6ms/step - loss: 0.0083 - acc: 0.9943 - val_loss: 0.0844 - val_acc: 0.9065\n",
      "Epoch 32/300\n",
      "881/881 [==============================] - 6s 6ms/step - loss: 0.0064 - acc: 0.9943 - val_loss: 0.0827 - val_acc: 0.9159\n",
      "Epoch 33/300\n",
      "881/881 [==============================] - 6s 6ms/step - loss: 0.0062 - acc: 0.9966 - val_loss: 0.0752 - val_acc: 0.9252\n",
      "Epoch 34/300\n",
      "881/881 [==============================] - 6s 6ms/step - loss: 0.0057 - acc: 0.9977 - val_loss: 0.0744 - val_acc: 0.9252\n",
      "Epoch 35/300\n",
      "881/881 [==============================] - 6s 7ms/step - loss: 0.0063 - acc: 0.9966 - val_loss: 0.0793 - val_acc: 0.9159\n",
      "Epoch 36/300\n",
      "881/881 [==============================] - 6s 6ms/step - loss: 0.0054 - acc: 0.9977 - val_loss: 0.0739 - val_acc: 0.9252\n",
      "Epoch 37/300\n",
      "881/881 [==============================] - 6s 6ms/step - loss: 0.0066 - acc: 0.9955 - val_loss: 0.0737 - val_acc: 0.9252\n",
      "Epoch 38/300\n",
      "881/881 [==============================] - 6s 6ms/step - loss: 0.0063 - acc: 0.9955 - val_loss: 0.0739 - val_acc: 0.9252\n",
      "Epoch 39/300\n",
      "881/881 [==============================] - 6s 6ms/step - loss: 0.0066 - acc: 0.9943 - val_loss: 0.0763 - val_acc: 0.9159\n",
      "Epoch 40/300\n",
      "881/881 [==============================] - 6s 6ms/step - loss: 0.0053 - acc: 0.9977 - val_loss: 0.0743 - val_acc: 0.9252\n",
      "Epoch 41/300\n",
      "881/881 [==============================] - 6s 6ms/step - loss: 0.0050 - acc: 0.9989 - val_loss: 0.0763 - val_acc: 0.9159\n",
      "Epoch 42/300\n",
      "881/881 [==============================] - 6s 7ms/step - loss: 0.0089 - acc: 0.9921 - val_loss: 0.0812 - val_acc: 0.9159\n",
      "Epoch 43/300\n",
      "881/881 [==============================] - 6s 6ms/step - loss: 0.0067 - acc: 0.9966 - val_loss: 0.0781 - val_acc: 0.9159\n",
      "Epoch 44/300\n",
      "881/881 [==============================] - 6s 6ms/step - loss: 0.0067 - acc: 0.9943 - val_loss: 0.0818 - val_acc: 0.9159\n",
      "Epoch 45/300\n",
      "881/881 [==============================] - 6s 7ms/step - loss: 0.0088 - acc: 0.9921 - val_loss: 0.0811 - val_acc: 0.9159\n",
      "Epoch 46/300\n",
      "881/881 [==============================] - 6s 7ms/step - loss: 0.0060 - acc: 0.9966 - val_loss: 0.0862 - val_acc: 0.9065\n",
      "Epoch 47/300\n",
      "881/881 [==============================] - 6s 7ms/step - loss: 0.0058 - acc: 0.9966 - val_loss: 0.0754 - val_acc: 0.9252\n",
      "Epoch 48/300\n",
      "881/881 [==============================] - 6s 7ms/step - loss: 0.0043 - acc: 0.9989 - val_loss: 0.0767 - val_acc: 0.9159\n",
      "Epoch 49/300\n",
      "881/881 [==============================] - 6s 6ms/step - loss: 0.0061 - acc: 0.9955 - val_loss: 0.0782 - val_acc: 0.9159\n",
      "Epoch 50/300\n",
      "881/881 [==============================] - 6s 6ms/step - loss: 0.0067 - acc: 0.9955 - val_loss: 0.0792 - val_acc: 0.9159\n",
      "Epoch 51/300\n",
      "881/881 [==============================] - 6s 6ms/step - loss: 0.0078 - acc: 0.9932 - val_loss: 0.0917 - val_acc: 0.9065\n",
      "Epoch 52/300\n",
      "881/881 [==============================] - 6s 7ms/step - loss: 0.0067 - acc: 0.9955 - val_loss: 0.0897 - val_acc: 0.9065\n",
      "Epoch 53/300\n",
      "881/881 [==============================] - 6s 7ms/step - loss: 0.0055 - acc: 0.9989 - val_loss: 0.0879 - val_acc: 0.9065\n",
      "Epoch 54/300\n",
      "881/881 [==============================] - 6s 7ms/step - loss: 0.0070 - acc: 0.9943 - val_loss: 0.0897 - val_acc: 0.9065\n",
      "Epoch 55/300\n",
      "881/881 [==============================] - 6s 7ms/step - loss: 0.0055 - acc: 0.9966 - val_loss: 0.0884 - val_acc: 0.9065\n",
      "Epoch 56/300\n",
      "881/881 [==============================] - 6s 6ms/step - loss: 0.0079 - acc: 0.9955 - val_loss: 0.0814 - val_acc: 0.9159\n",
      "Epoch 57/300\n",
      "881/881 [==============================] - 6s 7ms/step - loss: 0.0064 - acc: 0.9977 - val_loss: 0.0821 - val_acc: 0.9159\n",
      "Epoch 58/300\n",
      "881/881 [==============================] - 6s 6ms/step - loss: 0.0070 - acc: 0.9955 - val_loss: 0.0826 - val_acc: 0.9065\n",
      "Epoch 59/300\n",
      "881/881 [==============================] - 6s 7ms/step - loss: 0.0046 - acc: 0.9977 - val_loss: 0.0739 - val_acc: 0.9252\n",
      "Epoch 60/300\n",
      "881/881 [==============================] - 6s 6ms/step - loss: 0.0081 - acc: 0.9943 - val_loss: 0.0856 - val_acc: 0.9065\n",
      "Epoch 61/300\n",
      "881/881 [==============================] - 6s 6ms/step - loss: 0.0064 - acc: 0.9966 - val_loss: 0.0870 - val_acc: 0.9065\n"
     ]
    },
    {
     "name": "stdout",
     "output_type": "stream",
     "text": [
      "Epoch 62/300\n",
      "881/881 [==============================] - 6s 6ms/step - loss: 0.0072 - acc: 0.9966 - val_loss: 0.0772 - val_acc: 0.9159\n",
      "Epoch 63/300\n",
      "881/881 [==============================] - 6s 7ms/step - loss: 0.0056 - acc: 0.9977 - val_loss: 0.0788 - val_acc: 0.9159\n",
      "Epoch 64/300\n",
      "881/881 [==============================] - 6s 6ms/step - loss: 0.0062 - acc: 0.9977 - val_loss: 0.0742 - val_acc: 0.9252\n",
      "Epoch 65/300\n",
      "881/881 [==============================] - 6s 7ms/step - loss: 0.0063 - acc: 0.9955 - val_loss: 0.0750 - val_acc: 0.9252\n",
      "Epoch 66/300\n",
      "881/881 [==============================] - 6s 6ms/step - loss: 0.0058 - acc: 0.9977 - val_loss: 0.0830 - val_acc: 0.9065\n",
      "Epoch 67/300\n",
      "881/881 [==============================] - 6s 6ms/step - loss: 0.0069 - acc: 0.9966 - val_loss: 0.0744 - val_acc: 0.9252\n",
      "Epoch 68/300\n",
      "881/881 [==============================] - 6s 6ms/step - loss: 0.0045 - acc: 0.9977 - val_loss: 0.0750 - val_acc: 0.9252\n",
      "Epoch 69/300\n",
      "881/881 [==============================] - 6s 7ms/step - loss: 0.0047 - acc: 0.9989 - val_loss: 0.0788 - val_acc: 0.9159\n",
      "Epoch 70/300\n",
      "881/881 [==============================] - 6s 6ms/step - loss: 0.0070 - acc: 0.9943 - val_loss: 0.0812 - val_acc: 0.9065\n",
      "Epoch 71/300\n",
      "881/881 [==============================] - 6s 7ms/step - loss: 0.0042 - acc: 0.9977 - val_loss: 0.0744 - val_acc: 0.9252\n",
      "Epoch 72/300\n",
      "881/881 [==============================] - 6s 7ms/step - loss: 0.0056 - acc: 0.9955 - val_loss: 0.0739 - val_acc: 0.9252\n",
      "Epoch 73/300\n",
      "881/881 [==============================] - 6s 6ms/step - loss: 0.0040 - acc: 0.9989 - val_loss: 0.0741 - val_acc: 0.9252\n",
      "Epoch 74/300\n",
      "881/881 [==============================] - 6s 6ms/step - loss: 0.0065 - acc: 0.9977 - val_loss: 0.0909 - val_acc: 0.9065\n",
      "Epoch 75/300\n",
      "881/881 [==============================] - 6s 6ms/step - loss: 0.0051 - acc: 0.9966 - val_loss: 0.0888 - val_acc: 0.9065\n",
      "Epoch 76/300\n",
      "881/881 [==============================] - 6s 6ms/step - loss: 0.0048 - acc: 0.9966 - val_loss: 0.0746 - val_acc: 0.9252\n",
      "Epoch 77/300\n",
      "881/881 [==============================] - 6s 6ms/step - loss: 0.0048 - acc: 0.9989 - val_loss: 0.0785 - val_acc: 0.9159\n",
      "Epoch 78/300\n",
      "881/881 [==============================] - 6s 6ms/step - loss: 0.0090 - acc: 0.9932 - val_loss: 0.0746 - val_acc: 0.9252\n",
      "Epoch 79/300\n",
      "881/881 [==============================] - 6s 6ms/step - loss: 0.0045 - acc: 0.9966 - val_loss: 0.0780 - val_acc: 0.9159\n",
      "Epoch 80/300\n",
      "881/881 [==============================] - 6s 6ms/step - loss: 0.0061 - acc: 0.9955 - val_loss: 0.0805 - val_acc: 0.9159\n",
      "Epoch 81/300\n",
      "881/881 [==============================] - 6s 6ms/step - loss: 0.0034 - acc: 0.9989 - val_loss: 0.0832 - val_acc: 0.9065\n",
      "Epoch 82/300\n",
      "881/881 [==============================] - 6s 6ms/step - loss: 0.0048 - acc: 0.9977 - val_loss: 0.0824 - val_acc: 0.9065\n",
      "Epoch 83/300\n",
      "881/881 [==============================] - 6s 6ms/step - loss: 0.0057 - acc: 0.9977 - val_loss: 0.0833 - val_acc: 0.9065\n",
      "Epoch 84/300\n",
      "881/881 [==============================] - 6s 6ms/step - loss: 0.0089 - acc: 0.9909 - val_loss: 0.0885 - val_acc: 0.9065\n",
      "Epoch 85/300\n",
      "881/881 [==============================] - 6s 6ms/step - loss: 0.0048 - acc: 0.9989 - val_loss: 0.0820 - val_acc: 0.9065\n",
      "Epoch 86/300\n",
      "881/881 [==============================] - 6s 6ms/step - loss: 0.0078 - acc: 0.9932 - val_loss: 0.0843 - val_acc: 0.9065\n",
      "Epoch 87/300\n",
      "881/881 [==============================] - 6s 6ms/step - loss: 0.0041 - acc: 0.9989 - val_loss: 0.0822 - val_acc: 0.9159\n",
      "Epoch 88/300\n",
      "881/881 [==============================] - 6s 6ms/step - loss: 0.0055 - acc: 0.9966 - val_loss: 0.0797 - val_acc: 0.9159\n",
      "Epoch 89/300\n",
      "881/881 [==============================] - 6s 6ms/step - loss: 0.0071 - acc: 0.9955 - val_loss: 0.0747 - val_acc: 0.9252\n",
      "Epoch 90/300\n",
      "881/881 [==============================] - 6s 6ms/step - loss: 0.0054 - acc: 0.9966 - val_loss: 0.0781 - val_acc: 0.9159\n",
      "Epoch 91/300\n",
      "881/881 [==============================] - 6s 6ms/step - loss: 0.0053 - acc: 0.9955 - val_loss: 0.0826 - val_acc: 0.9065\n",
      "Epoch 92/300\n",
      "881/881 [==============================] - 6s 6ms/step - loss: 0.0042 - acc: 0.9966 - val_loss: 0.0863 - val_acc: 0.9065\n",
      "Epoch 93/300\n",
      "881/881 [==============================] - 6s 6ms/step - loss: 0.0065 - acc: 0.9966 - val_loss: 0.0856 - val_acc: 0.9065\n",
      "Epoch 94/300\n",
      "881/881 [==============================] - 6s 6ms/step - loss: 0.0060 - acc: 0.9955 - val_loss: 0.0825 - val_acc: 0.9065\n",
      "Epoch 95/300\n",
      "881/881 [==============================] - 6s 6ms/step - loss: 0.0058 - acc: 0.9955 - val_loss: 0.0763 - val_acc: 0.9252\n",
      "Epoch 96/300\n",
      "881/881 [==============================] - 6s 6ms/step - loss: 0.0074 - acc: 0.9943 - val_loss: 0.0782 - val_acc: 0.9252\n",
      "Epoch 97/300\n",
      "881/881 [==============================] - 6s 6ms/step - loss: 0.0029 - acc: 1.0000 - val_loss: 0.0817 - val_acc: 0.9065\n",
      "Epoch 98/300\n",
      "881/881 [==============================] - 6s 6ms/step - loss: 0.0068 - acc: 0.9943 - val_loss: 0.0904 - val_acc: 0.9065\n",
      "Epoch 99/300\n",
      "881/881 [==============================] - 6s 6ms/step - loss: 0.0051 - acc: 0.9977 - val_loss: 0.0879 - val_acc: 0.9065\n",
      "Epoch 100/300\n",
      "881/881 [==============================] - 6s 6ms/step - loss: 0.0067 - acc: 0.9955 - val_loss: 0.0872 - val_acc: 0.9065\n",
      "Epoch 101/300\n",
      "881/881 [==============================] - 6s 6ms/step - loss: 0.0062 - acc: 0.9955 - val_loss: 0.0911 - val_acc: 0.9065\n",
      "Epoch 102/300\n",
      "881/881 [==============================] - 6s 6ms/step - loss: 0.0066 - acc: 0.9955 - val_loss: 0.0884 - val_acc: 0.9065\n",
      "Epoch 103/300\n",
      "881/881 [==============================] - 6s 6ms/step - loss: 0.0078 - acc: 0.9943 - val_loss: 0.0768 - val_acc: 0.9159\n",
      "Epoch 104/300\n",
      "881/881 [==============================] - 6s 6ms/step - loss: 0.0064 - acc: 0.9943 - val_loss: 0.0886 - val_acc: 0.9065\n",
      "Epoch 105/300\n",
      "881/881 [==============================] - 6s 7ms/step - loss: 0.0048 - acc: 0.9977 - val_loss: 0.0884 - val_acc: 0.9065\n",
      "Epoch 106/300\n",
      "881/881 [==============================] - 6s 7ms/step - loss: 0.0051 - acc: 0.9966 - val_loss: 0.0891 - val_acc: 0.9065\n",
      "Epoch 107/300\n",
      "881/881 [==============================] - 6s 6ms/step - loss: 0.0051 - acc: 0.9966 - val_loss: 0.0861 - val_acc: 0.9065\n",
      "Epoch 108/300\n",
      "881/881 [==============================] - 6s 6ms/step - loss: 0.0050 - acc: 0.9966 - val_loss: 0.0887 - val_acc: 0.9065\n",
      "Epoch 109/300\n",
      "881/881 [==============================] - 6s 6ms/step - loss: 0.0036 - acc: 0.9989 - val_loss: 0.0843 - val_acc: 0.9065\n",
      "Epoch 110/300\n",
      "881/881 [==============================] - 6s 6ms/step - loss: 0.0057 - acc: 0.9977 - val_loss: 0.0864 - val_acc: 0.9065\n",
      "Epoch 111/300\n",
      "881/881 [==============================] - 6s 6ms/step - loss: 0.0054 - acc: 0.9955 - val_loss: 0.0849 - val_acc: 0.9065\n",
      "Epoch 112/300\n",
      "881/881 [==============================] - 6s 6ms/step - loss: 0.0050 - acc: 0.9977 - val_loss: 0.0873 - val_acc: 0.9065\n",
      "Epoch 113/300\n",
      "881/881 [==============================] - 6s 6ms/step - loss: 0.0063 - acc: 0.9966 - val_loss: 0.0784 - val_acc: 0.9159\n",
      "Epoch 114/300\n",
      "881/881 [==============================] - 6s 6ms/step - loss: 0.0061 - acc: 0.9966 - val_loss: 0.0875 - val_acc: 0.9065\n",
      "Epoch 115/300\n",
      "881/881 [==============================] - 6s 6ms/step - loss: 0.0033 - acc: 1.0000 - val_loss: 0.0825 - val_acc: 0.9065\n",
      "Epoch 116/300\n",
      "881/881 [==============================] - 6s 7ms/step - loss: 0.0049 - acc: 0.9966 - val_loss: 0.0787 - val_acc: 0.9159\n",
      "Epoch 117/300\n",
      "881/881 [==============================] - 6s 6ms/step - loss: 0.0044 - acc: 0.9989 - val_loss: 0.0764 - val_acc: 0.9252\n",
      "Epoch 118/300\n",
      "881/881 [==============================] - 6s 6ms/step - loss: 0.0061 - acc: 0.9966 - val_loss: 0.0868 - val_acc: 0.9065\n",
      "Epoch 119/300\n",
      "881/881 [==============================] - 6s 6ms/step - loss: 0.0048 - acc: 0.9955 - val_loss: 0.0871 - val_acc: 0.9065\n",
      "Epoch 120/300\n",
      "881/881 [==============================] - 6s 6ms/step - loss: 0.0043 - acc: 0.9989 - val_loss: 0.0908 - val_acc: 0.9065\n",
      "Epoch 121/300\n",
      "881/881 [==============================] - 6s 6ms/step - loss: 0.0075 - acc: 0.9932 - val_loss: 0.0808 - val_acc: 0.9159\n",
      "Epoch 122/300\n",
      "881/881 [==============================] - 6s 6ms/step - loss: 0.0051 - acc: 0.9977 - val_loss: 0.0882 - val_acc: 0.9065\n"
     ]
    },
    {
     "name": "stdout",
     "output_type": "stream",
     "text": [
      "Epoch 123/300\n",
      "881/881 [==============================] - 6s 6ms/step - loss: 0.0059 - acc: 0.9966 - val_loss: 0.0877 - val_acc: 0.9065\n",
      "Epoch 124/300\n",
      "881/881 [==============================] - 6s 6ms/step - loss: 0.0036 - acc: 1.0000 - val_loss: 0.0881 - val_acc: 0.9065\n",
      "Epoch 125/300\n",
      "881/881 [==============================] - 6s 6ms/step - loss: 0.0042 - acc: 0.9977 - val_loss: 0.0870 - val_acc: 0.9065\n",
      "Epoch 126/300\n",
      "881/881 [==============================] - 6s 7ms/step - loss: 0.0031 - acc: 1.0000 - val_loss: 0.0874 - val_acc: 0.9065\n",
      "Epoch 127/300\n",
      "881/881 [==============================] - 6s 6ms/step - loss: 0.0066 - acc: 0.9932 - val_loss: 0.0828 - val_acc: 0.9159\n",
      "Epoch 128/300\n",
      "881/881 [==============================] - 6s 6ms/step - loss: 0.0054 - acc: 0.9955 - val_loss: 0.0828 - val_acc: 0.9159\n",
      "Epoch 129/300\n",
      "881/881 [==============================] - 6s 6ms/step - loss: 0.0049 - acc: 0.9977 - val_loss: 0.0826 - val_acc: 0.9159\n",
      "Epoch 130/300\n",
      "881/881 [==============================] - 6s 6ms/step - loss: 0.0073 - acc: 0.9921 - val_loss: 0.0826 - val_acc: 0.9159\n",
      "Epoch 131/300\n",
      "881/881 [==============================] - 6s 6ms/step - loss: 0.0068 - acc: 0.9932 - val_loss: 0.0757 - val_acc: 0.9252\n",
      "Epoch 132/300\n",
      "881/881 [==============================] - 6s 6ms/step - loss: 0.0059 - acc: 0.9966 - val_loss: 0.0791 - val_acc: 0.9159\n",
      "Epoch 133/300\n",
      "881/881 [==============================] - 6s 6ms/step - loss: 0.0044 - acc: 0.9977 - val_loss: 0.0760 - val_acc: 0.9252\n",
      "Epoch 134/300\n",
      "881/881 [==============================] - 6s 6ms/step - loss: 0.0059 - acc: 0.9966 - val_loss: 0.0766 - val_acc: 0.9252\n",
      "Epoch 135/300\n",
      "881/881 [==============================] - 6s 6ms/step - loss: 0.0067 - acc: 0.9943 - val_loss: 0.0778 - val_acc: 0.9159\n",
      "Epoch 136/300\n",
      "881/881 [==============================] - 6s 6ms/step - loss: 0.0050 - acc: 0.9977 - val_loss: 0.0815 - val_acc: 0.9159\n",
      "Epoch 137/300\n",
      "881/881 [==============================] - 6s 6ms/step - loss: 0.0055 - acc: 0.9955 - val_loss: 0.0928 - val_acc: 0.9065\n",
      "Epoch 138/300\n",
      "881/881 [==============================] - 6s 6ms/step - loss: 0.0063 - acc: 0.9943 - val_loss: 0.0836 - val_acc: 0.9065\n",
      "Epoch 139/300\n",
      "881/881 [==============================] - 6s 7ms/step - loss: 0.0059 - acc: 0.9943 - val_loss: 0.0855 - val_acc: 0.9065\n",
      "Epoch 140/300\n",
      "881/881 [==============================] - 6s 7ms/step - loss: 0.0064 - acc: 0.9932 - val_loss: 0.0851 - val_acc: 0.9065\n",
      "Epoch 141/300\n",
      "881/881 [==============================] - 6s 6ms/step - loss: 0.0051 - acc: 0.9966 - val_loss: 0.0822 - val_acc: 0.9159\n",
      "Epoch 142/300\n",
      "881/881 [==============================] - 6s 6ms/step - loss: 0.0051 - acc: 0.9955 - val_loss: 0.0851 - val_acc: 0.9065\n",
      "Epoch 143/300\n",
      "881/881 [==============================] - 6s 6ms/step - loss: 0.0034 - acc: 1.0000 - val_loss: 0.0872 - val_acc: 0.9065\n",
      "Epoch 144/300\n",
      "881/881 [==============================] - 6s 6ms/step - loss: 0.0048 - acc: 0.9989 - val_loss: 0.0896 - val_acc: 0.9065\n",
      "Epoch 145/300\n",
      "881/881 [==============================] - 6s 6ms/step - loss: 0.0078 - acc: 0.9932 - val_loss: 0.0759 - val_acc: 0.9252\n",
      "Epoch 146/300\n",
      "881/881 [==============================] - 6s 6ms/step - loss: 0.0063 - acc: 0.9932 - val_loss: 0.0758 - val_acc: 0.9252\n",
      "Epoch 147/300\n",
      "881/881 [==============================] - 6s 6ms/step - loss: 0.0067 - acc: 0.9932 - val_loss: 0.0762 - val_acc: 0.9252\n",
      "Epoch 148/300\n",
      "881/881 [==============================] - 6s 6ms/step - loss: 0.0046 - acc: 0.9966 - val_loss: 0.0769 - val_acc: 0.9252\n",
      "Epoch 149/300\n",
      "881/881 [==============================] - 6s 7ms/step - loss: 0.0037 - acc: 0.9977 - val_loss: 0.0765 - val_acc: 0.9252\n",
      "Epoch 150/300\n",
      "881/881 [==============================] - 6s 6ms/step - loss: 0.0046 - acc: 0.9989 - val_loss: 0.0766 - val_acc: 0.9252\n",
      "Epoch 151/300\n",
      "881/881 [==============================] - 6s 6ms/step - loss: 0.0052 - acc: 0.9955 - val_loss: 0.0758 - val_acc: 0.9252\n",
      "Epoch 152/300\n",
      "881/881 [==============================] - 6s 6ms/step - loss: 0.0046 - acc: 0.9977 - val_loss: 0.0767 - val_acc: 0.9252\n",
      "Epoch 153/300\n",
      "881/881 [==============================] - 6s 6ms/step - loss: 0.0046 - acc: 0.9977 - val_loss: 0.0758 - val_acc: 0.9252\n",
      "Epoch 154/300\n",
      "881/881 [==============================] - 6s 6ms/step - loss: 0.0046 - acc: 0.9977 - val_loss: 0.0810 - val_acc: 0.9159\n",
      "Epoch 155/300\n",
      "881/881 [==============================] - 6s 6ms/step - loss: 0.0042 - acc: 0.9989 - val_loss: 0.0837 - val_acc: 0.9065\n",
      "Epoch 156/300\n",
      "881/881 [==============================] - 6s 7ms/step - loss: 0.0039 - acc: 0.9989 - val_loss: 0.0829 - val_acc: 0.9159\n",
      "Epoch 157/300\n",
      "881/881 [==============================] - 6s 6ms/step - loss: 0.0058 - acc: 0.9955 - val_loss: 0.0761 - val_acc: 0.9252\n",
      "Epoch 158/300\n",
      "881/881 [==============================] - 6s 7ms/step - loss: 0.0060 - acc: 0.9943 - val_loss: 0.0749 - val_acc: 0.9252\n",
      "Epoch 159/300\n",
      "881/881 [==============================] - 6s 7ms/step - loss: 0.0038 - acc: 0.9989 - val_loss: 0.0746 - val_acc: 0.9252\n",
      "Epoch 160/300\n",
      "881/881 [==============================] - 6s 7ms/step - loss: 0.0036 - acc: 0.9977 - val_loss: 0.0745 - val_acc: 0.9252\n",
      "Epoch 161/300\n",
      "640/881 [====================>.........] - ETA: 1s - loss: 0.0065 - acc: 0.9953"
     ]
    },
    {
     "ename": "KeyboardInterrupt",
     "evalue": "",
     "output_type": "error",
     "traceback": [
      "\u001b[0;31m---------------------------------------------------------------------------\u001b[0m",
      "\u001b[0;31mKeyboardInterrupt\u001b[0m                         Traceback (most recent call last)",
      "\u001b[0;32m<ipython-input-30-fff2e51fefb1>\u001b[0m in \u001b[0;36m<module>\u001b[0;34m\u001b[0m\n\u001b[1;32m      4\u001b[0m \u001b[0mnum_loops\u001b[0m \u001b[0;34m=\u001b[0m \u001b[0;36m1\u001b[0m\u001b[0;34m\u001b[0m\u001b[0m\n\u001b[1;32m      5\u001b[0m \u001b[0;32mfor\u001b[0m \u001b[0mii\u001b[0m \u001b[0;32min\u001b[0m \u001b[0mrange\u001b[0m\u001b[0;34m(\u001b[0m\u001b[0mnum_loops\u001b[0m\u001b[0;34m)\u001b[0m\u001b[0;34m:\u001b[0m\u001b[0;34m\u001b[0m\u001b[0m\n\u001b[0;32m----> 6\u001b[0;31m     \u001b[0mhistory\u001b[0m \u001b[0;34m=\u001b[0m \u001b[0mmodel\u001b[0m\u001b[0;34m.\u001b[0m\u001b[0mfit\u001b[0m\u001b[0;34m(\u001b[0m\u001b[0;34m[\u001b[0m\u001b[0mx\u001b[0m\u001b[0;34m,\u001b[0m \u001b[0mx_log\u001b[0m\u001b[0;34m,\u001b[0m \u001b[0mfit_inputs\u001b[0m\u001b[0;34m,\u001b[0m \u001b[0mfit_outputs\u001b[0m\u001b[0;34m]\u001b[0m\u001b[0;34m,\u001b[0m \u001b[0my\u001b[0m\u001b[0;34m,\u001b[0m \u001b[0mvalidation_data\u001b[0m\u001b[0;34m=\u001b[0m\u001b[0;34m(\u001b[0m\u001b[0;34m[\u001b[0m\u001b[0mx_dev\u001b[0m\u001b[0;34m,\u001b[0m \u001b[0mx_log_dev\u001b[0m\u001b[0;34m,\u001b[0m \u001b[0mfit_inputs_dev\u001b[0m\u001b[0;34m,\u001b[0m \u001b[0mfit_outputs_dev\u001b[0m\u001b[0;34m]\u001b[0m\u001b[0;34m,\u001b[0m \u001b[0my_dev\u001b[0m\u001b[0;34m)\u001b[0m\u001b[0;34m,\u001b[0m \u001b[0mepochs\u001b[0m\u001b[0;34m=\u001b[0m\u001b[0mnum_epochs\u001b[0m\u001b[0;34m,\u001b[0m \u001b[0mbatch_size\u001b[0m\u001b[0;34m=\u001b[0m\u001b[0;36m128\u001b[0m\u001b[0;34m)\u001b[0m\u001b[0;34m\u001b[0m\u001b[0m\n\u001b[0m\u001b[1;32m      7\u001b[0m     \u001b[0mhistories\u001b[0m\u001b[0;34m.\u001b[0m\u001b[0mappend\u001b[0m\u001b[0;34m(\u001b[0m\u001b[0mhistory\u001b[0m\u001b[0;34m)\u001b[0m\u001b[0;34m\u001b[0m\u001b[0m\n\u001b[1;32m      8\u001b[0m     \u001b[0mmodel_json\u001b[0m \u001b[0;34m=\u001b[0m \u001b[0mmodel\u001b[0m\u001b[0;34m.\u001b[0m\u001b[0mto_json\u001b[0m\u001b[0;34m(\u001b[0m\u001b[0;34m)\u001b[0m\u001b[0;34m\u001b[0m\u001b[0m\n",
      "\u001b[0;32m~/.virtualenvs/tf-gpu/lib/python3.5/site-packages/keras/engine/training.py\u001b[0m in \u001b[0;36mfit\u001b[0;34m(self, x, y, batch_size, epochs, verbose, callbacks, validation_split, validation_data, shuffle, class_weight, sample_weight, initial_epoch, steps_per_epoch, validation_steps, **kwargs)\u001b[0m\n\u001b[1;32m   1037\u001b[0m                                         \u001b[0minitial_epoch\u001b[0m\u001b[0;34m=\u001b[0m\u001b[0minitial_epoch\u001b[0m\u001b[0;34m,\u001b[0m\u001b[0;34m\u001b[0m\u001b[0m\n\u001b[1;32m   1038\u001b[0m                                         \u001b[0msteps_per_epoch\u001b[0m\u001b[0;34m=\u001b[0m\u001b[0msteps_per_epoch\u001b[0m\u001b[0;34m,\u001b[0m\u001b[0;34m\u001b[0m\u001b[0m\n\u001b[0;32m-> 1039\u001b[0;31m                                         validation_steps=validation_steps)\n\u001b[0m\u001b[1;32m   1040\u001b[0m \u001b[0;34m\u001b[0m\u001b[0m\n\u001b[1;32m   1041\u001b[0m     def evaluate(self, x=None, y=None,\n",
      "\u001b[0;32m~/.virtualenvs/tf-gpu/lib/python3.5/site-packages/keras/engine/training_arrays.py\u001b[0m in \u001b[0;36mfit_loop\u001b[0;34m(model, f, ins, out_labels, batch_size, epochs, verbose, callbacks, val_f, val_ins, shuffle, callback_metrics, initial_epoch, steps_per_epoch, validation_steps)\u001b[0m\n\u001b[1;32m    197\u001b[0m                     \u001b[0mins_batch\u001b[0m\u001b[0;34m[\u001b[0m\u001b[0mi\u001b[0m\u001b[0;34m]\u001b[0m \u001b[0;34m=\u001b[0m \u001b[0mins_batch\u001b[0m\u001b[0;34m[\u001b[0m\u001b[0mi\u001b[0m\u001b[0;34m]\u001b[0m\u001b[0;34m.\u001b[0m\u001b[0mtoarray\u001b[0m\u001b[0;34m(\u001b[0m\u001b[0;34m)\u001b[0m\u001b[0;34m\u001b[0m\u001b[0m\n\u001b[1;32m    198\u001b[0m \u001b[0;34m\u001b[0m\u001b[0m\n\u001b[0;32m--> 199\u001b[0;31m                 \u001b[0mouts\u001b[0m \u001b[0;34m=\u001b[0m \u001b[0mf\u001b[0m\u001b[0;34m(\u001b[0m\u001b[0mins_batch\u001b[0m\u001b[0;34m)\u001b[0m\u001b[0;34m\u001b[0m\u001b[0m\n\u001b[0m\u001b[1;32m    200\u001b[0m                 \u001b[0mouts\u001b[0m \u001b[0;34m=\u001b[0m \u001b[0mto_list\u001b[0m\u001b[0;34m(\u001b[0m\u001b[0mouts\u001b[0m\u001b[0;34m)\u001b[0m\u001b[0;34m\u001b[0m\u001b[0m\n\u001b[1;32m    201\u001b[0m                 \u001b[0;32mfor\u001b[0m \u001b[0ml\u001b[0m\u001b[0;34m,\u001b[0m \u001b[0mo\u001b[0m \u001b[0;32min\u001b[0m \u001b[0mzip\u001b[0m\u001b[0;34m(\u001b[0m\u001b[0mout_labels\u001b[0m\u001b[0;34m,\u001b[0m \u001b[0mouts\u001b[0m\u001b[0;34m)\u001b[0m\u001b[0;34m:\u001b[0m\u001b[0;34m\u001b[0m\u001b[0m\n",
      "\u001b[0;32m~/.virtualenvs/tf-gpu/lib/python3.5/site-packages/keras/backend/tensorflow_backend.py\u001b[0m in \u001b[0;36m__call__\u001b[0;34m(self, inputs)\u001b[0m\n\u001b[1;32m   2713\u001b[0m                 \u001b[0;32mreturn\u001b[0m \u001b[0mself\u001b[0m\u001b[0;34m.\u001b[0m\u001b[0m_legacy_call\u001b[0m\u001b[0;34m(\u001b[0m\u001b[0minputs\u001b[0m\u001b[0;34m)\u001b[0m\u001b[0;34m\u001b[0m\u001b[0m\n\u001b[1;32m   2714\u001b[0m \u001b[0;34m\u001b[0m\u001b[0m\n\u001b[0;32m-> 2715\u001b[0;31m             \u001b[0;32mreturn\u001b[0m \u001b[0mself\u001b[0m\u001b[0;34m.\u001b[0m\u001b[0m_call\u001b[0m\u001b[0;34m(\u001b[0m\u001b[0minputs\u001b[0m\u001b[0;34m)\u001b[0m\u001b[0;34m\u001b[0m\u001b[0m\n\u001b[0m\u001b[1;32m   2716\u001b[0m         \u001b[0;32melse\u001b[0m\u001b[0;34m:\u001b[0m\u001b[0;34m\u001b[0m\u001b[0m\n\u001b[1;32m   2717\u001b[0m             \u001b[0;32mif\u001b[0m \u001b[0mpy_any\u001b[0m\u001b[0;34m(\u001b[0m\u001b[0mis_tensor\u001b[0m\u001b[0;34m(\u001b[0m\u001b[0mx\u001b[0m\u001b[0;34m)\u001b[0m \u001b[0;32mfor\u001b[0m \u001b[0mx\u001b[0m \u001b[0;32min\u001b[0m \u001b[0minputs\u001b[0m\u001b[0;34m)\u001b[0m\u001b[0;34m:\u001b[0m\u001b[0;34m\u001b[0m\u001b[0m\n",
      "\u001b[0;32m~/.virtualenvs/tf-gpu/lib/python3.5/site-packages/keras/backend/tensorflow_backend.py\u001b[0m in \u001b[0;36m_call\u001b[0;34m(self, inputs)\u001b[0m\n\u001b[1;32m   2673\u001b[0m             \u001b[0mfetched\u001b[0m \u001b[0;34m=\u001b[0m \u001b[0mself\u001b[0m\u001b[0;34m.\u001b[0m\u001b[0m_callable_fn\u001b[0m\u001b[0;34m(\u001b[0m\u001b[0;34m*\u001b[0m\u001b[0marray_vals\u001b[0m\u001b[0;34m,\u001b[0m \u001b[0mrun_metadata\u001b[0m\u001b[0;34m=\u001b[0m\u001b[0mself\u001b[0m\u001b[0;34m.\u001b[0m\u001b[0mrun_metadata\u001b[0m\u001b[0;34m)\u001b[0m\u001b[0;34m\u001b[0m\u001b[0m\n\u001b[1;32m   2674\u001b[0m         \u001b[0;32melse\u001b[0m\u001b[0;34m:\u001b[0m\u001b[0;34m\u001b[0m\u001b[0m\n\u001b[0;32m-> 2675\u001b[0;31m             \u001b[0mfetched\u001b[0m \u001b[0;34m=\u001b[0m \u001b[0mself\u001b[0m\u001b[0;34m.\u001b[0m\u001b[0m_callable_fn\u001b[0m\u001b[0;34m(\u001b[0m\u001b[0;34m*\u001b[0m\u001b[0marray_vals\u001b[0m\u001b[0;34m)\u001b[0m\u001b[0;34m\u001b[0m\u001b[0m\n\u001b[0m\u001b[1;32m   2676\u001b[0m         \u001b[0;32mreturn\u001b[0m \u001b[0mfetched\u001b[0m\u001b[0;34m[\u001b[0m\u001b[0;34m:\u001b[0m\u001b[0mlen\u001b[0m\u001b[0;34m(\u001b[0m\u001b[0mself\u001b[0m\u001b[0;34m.\u001b[0m\u001b[0moutputs\u001b[0m\u001b[0;34m)\u001b[0m\u001b[0;34m]\u001b[0m\u001b[0;34m\u001b[0m\u001b[0m\n\u001b[1;32m   2677\u001b[0m \u001b[0;34m\u001b[0m\u001b[0m\n",
      "\u001b[0;32m~/.virtualenvs/tf-gpu/lib/python3.5/site-packages/tensorflow/python/client/session.py\u001b[0m in \u001b[0;36m__call__\u001b[0;34m(self, *args, **kwargs)\u001b[0m\n\u001b[1;32m   1397\u001b[0m           ret = tf_session.TF_SessionRunCallable(\n\u001b[1;32m   1398\u001b[0m               \u001b[0mself\u001b[0m\u001b[0;34m.\u001b[0m\u001b[0m_session\u001b[0m\u001b[0;34m.\u001b[0m\u001b[0m_session\u001b[0m\u001b[0;34m,\u001b[0m \u001b[0mself\u001b[0m\u001b[0;34m.\u001b[0m\u001b[0m_handle\u001b[0m\u001b[0;34m,\u001b[0m \u001b[0margs\u001b[0m\u001b[0;34m,\u001b[0m \u001b[0mstatus\u001b[0m\u001b[0;34m,\u001b[0m\u001b[0;34m\u001b[0m\u001b[0m\n\u001b[0;32m-> 1399\u001b[0;31m               run_metadata_ptr)\n\u001b[0m\u001b[1;32m   1400\u001b[0m         \u001b[0;32mif\u001b[0m \u001b[0mrun_metadata\u001b[0m\u001b[0;34m:\u001b[0m\u001b[0;34m\u001b[0m\u001b[0m\n\u001b[1;32m   1401\u001b[0m           \u001b[0mproto_data\u001b[0m \u001b[0;34m=\u001b[0m \u001b[0mtf_session\u001b[0m\u001b[0;34m.\u001b[0m\u001b[0mTF_GetBuffer\u001b[0m\u001b[0;34m(\u001b[0m\u001b[0mrun_metadata_ptr\u001b[0m\u001b[0;34m)\u001b[0m\u001b[0;34m\u001b[0m\u001b[0m\n",
      "\u001b[0;31mKeyboardInterrupt\u001b[0m: "
     ]
    }
   ],
   "source": [
    "# Now, fit the model to the data\n",
    "histories = []\n",
    "num_epochs = 300\n",
    "num_loops = 1\n",
    "for ii in range(num_loops):\n",
    "    history = model.fit([x, x_log, fit_inputs, fit_outputs], y, validation_data=([x_dev, x_log_dev, fit_inputs_dev, fit_outputs_dev], y_dev), epochs=num_epochs, batch_size=128)\n",
    "    histories.append(history)\n",
    "    model_json = model.to_json()\n",
    "    with open(\"conv_model_all_info\" + str(ii) + \".json\", \"w\") as json_file:\n",
    "        json_file.write(model_json)\n",
    "    # serialize weights to HDF5\n",
    "    model.save_weights(\"conv_model_all_info\" + str(ii) + \".h5\")"
   ]
  },
  {
   "cell_type": "markdown",
   "metadata": {},
   "source": [
    "### Print training results"
   ]
  },
  {
   "cell_type": "code",
   "execution_count": 28,
   "metadata": {},
   "outputs": [
    {
     "name": "stdout",
     "output_type": "stream",
     "text": [
      "dict_keys(['val_loss', 'val_acc', 'loss', 'acc'])\n"
     ]
    },
    {
     "data": {
      "image/png": "[encoded data removed]",
      "text/plain": [
       "<Figure size 432x288 with 1 Axes>"
      ]
     },
     "metadata": {
      "needs_background": "light"
     },
     "output_type": "display_data"
    },
    {
     "data": {
      "image/png": "[encoded data removed]",
      "text/plain": [
       "<Figure size 432x288 with 1 Axes>"
      ]
     },
     "metadata": {
      "needs_background": "light"
     },
     "output_type": "display_data"
    }
   ],
   "source": [
    "# List all data in history\n",
    "index = 0\n",
    "print(histories[index].history.keys())\n",
    "# Summarize history for accuracy\n",
    "plt.plot(histories[index].history['acc'])\n",
    "plt.plot(histories[index].history['val_acc'])\n",
    "plt.title('model accuracy')\n",
    "plt.ylabel('accuracy')\n",
    "plt.xlabel('epoch')\n",
    "plt.legend(['train', 'test'], loc='upper left')\n",
    "plt.show()\n",
    "# Summarize history for loss\n",
    "plt.plot(histories[index].history['loss'])\n",
    "plt.plot(histories[index].history['val_loss'])\n",
    "plt.title('model loss')\n",
    "plt.ylabel('loss')\n",
    "plt.xlabel('epoch')\n",
    "plt.legend(['train', 'test'], loc='upper left')\n",
    "plt.show()"
   ]
  },
  {
   "cell_type": "markdown",
   "metadata": {},
   "source": [
    "## Additional model evaluation"
   ]
  },
  {
   "cell_type": "code",
   "execution_count": 31,
   "metadata": {},
   "outputs": [
    {
     "name": "stdout",
     "output_type": "stream",
     "text": [
      "107/107 [==============================] - 0s 3ms/step\n",
      "\n",
      "Performance on VALIDATION set\n",
      ".............................\n",
      "Loss: 0.07458705169575236\n",
      "Accuracy: 0.9252336476450769\n",
      "Precision: 0.9753086419753086\n",
      "Recall: 0.9294117647058824\n",
      ".............................\n",
      "List of indices of wrong guesses:\n",
      "[12, 24, 26, 37, 86, 88, 95, 105]\n"
     ]
    }
   ],
   "source": [
    "# Evaluate model, get metrics back\n",
    "stats = model.evaluate([x_dev, x_log_dev, fit_inputs_dev, fit_outputs_dev], y_dev)\n",
    "# Calculate predictions vector from model\n",
    "predictions = model.predict([x_dev, x_log_dev, fit_inputs_dev, fit_outputs_dev])\n",
    "predictions = np.floor(predictions + 0.5)\n",
    "\n",
    "# Get vector mask for good and bad fits and right and wrong answers\n",
    "good_fits = y_dev\n",
    "bad_fits = 1 - good_fits\n",
    "wrong_answers = np.abs(np.subtract(predictions, good_fits))\n",
    "right_answers = np.subtract(1, wrong_answers)\n",
    "# Calculate true positives (tp), as well as (tn) (fp) (fn)\n",
    "true_positives = np.multiply(right_answers, good_fits)\n",
    "true_negatives = np.multiply(right_answers, bad_fits)\n",
    "false_positives = np.multiply(wrong_answers, good_fits)\n",
    "false_negatives = np.multiply(wrong_answers, bad_fits)\n",
    "# Calculate additional metrics\n",
    "precision = np.sum(true_positives) / np.sum(true_positives + false_positives)\n",
    "recall = np.sum(true_positives) / np.sum(true_positives + false_negatives)\n",
    "\n",
    "# Print stats\n",
    "print()\n",
    "print(\"Performance on VALIDATION set\")\n",
    "print(\".............................\")\n",
    "print(\"Loss: \" + str(stats[0]))\n",
    "print(\"Accuracy: \" + str(stats[1]))\n",
    "print(\"Precision: \" + str(precision))\n",
    "print(\"Recall: \" + str(recall))\n",
    "\n",
    "# Print list of indices of wrong answers\n",
    "bad_list = []\n",
    "for i in range(m_dev):\n",
    "    if wrong_answers[i] == 1:\n",
    "        bad_list.append(i)\n",
    "print(\".............................\")\n",
    "print(\"List of indices of wrong guesses:\")\n",
    "print(bad_list)"
   ]
  },
  {
   "cell_type": "markdown",
   "metadata": {},
   "source": [
    "## Look at an image"
   ]
  },
  {
   "cell_type": "code",
   "execution_count": 39,
   "metadata": {},
   "outputs": [
    {
     "name": "stdout",
     "output_type": "stream",
     "text": [
      "label: [1]\n",
      "prediction: [0.]\n",
      "(236, 348, 3)\n"
     ]
    },
    {
     "data": {
      "text/plain": [
       "<matplotlib.image.AxesImage at 0x7f9f91e9be10>"
      ]
     },
     "execution_count": 39,
     "metadata": {},
     "output_type": "execute_result"
    },
    {
     "data": {
      "image/png": "[encoded data removed]",
      "text/plain": [
       "<Figure size 432x288 with 1 Axes>"
      ]
     },
     "metadata": {
      "needs_background": "light"
     },
     "output_type": "display_data"
    }
   ],
   "source": [
    "# Choose an index \n",
    "index = 85\n",
    "\n",
    "# Print labels for this index\n",
    "print(\"label: \" + str(good_fits[index]))\n",
    "print(\"prediction: \" + str(predictions[index]))\n",
    "\n",
    "# Show image\n",
    "this_image = x[index]\n",
    "print(str(this_image.shape))\n",
    "plt.imshow(np.uint8(utils.get_printable_image(this_image)))"
   ]
  },
  {
   "cell_type": "markdown",
   "metadata": {},
   "source": [
    "## Load pretrained conv model"
   ]
  },
  {
   "cell_type": "code",
   "execution_count": 25,
   "metadata": {},
   "outputs": [
    {
     "name": "stdout",
     "output_type": "stream",
     "text": [
      "Loaded model from disk\n"
     ]
    }
   ],
   "source": [
    "# load json and create model\n",
    "json_file = open('trained/conv_all.json', 'r')\n",
    "conv_model_json = json_file.read()\n",
    "json_file.close()\n",
    "model = model_from_json(conv_model_json)\n",
    "# load weights into new model\n",
    "model.load_weights(\"trained/conv_all.h5\")\n",
    "print(\"Loaded model from disk\")"
   ]
  },
  {
   "cell_type": "markdown",
   "metadata": {},
   "source": [
    "## Save convolutional model to disc"
   ]
  },
  {
   "cell_type": "code",
   "execution_count": 32,
   "metadata": {},
   "outputs": [
    {
     "name": "stdout",
     "output_type": "stream",
     "text": [
      "Saved model to disk\n"
     ]
    }
   ],
   "source": [
    "#plot_model(simple_model, to_file='simple_model.png')\n",
    "#SVG(model_to_dot(simple_model).create(prog='dot', format='svg'))\n",
    "\n",
    "# serialize model to JSON\n",
    "model_json = model.to_json()\n",
    "with open(\"trained/conv_all.json\", \"w\") as json_file:\n",
    "    json_file.write(model_json)\n",
    "# serialize weights to HDF5\n",
    "model.save_weights(\"trained/conv_all.h5\")\n",
    "print(\"Saved model to disk\")"
   ]
  },
  {
   "cell_type": "code",
   "execution_count": null,
   "metadata": {
    "collapsed": true
   },
   "outputs": [],
   "source": []
  }
 ],
 "metadata": {
  "kernelspec": {
   "display_name": "Python 3",
   "language": "python",
   "name": "python3"
  },
  "language_info": {
   "codemirror_mode": {
    "name": "ipython",
    "version": 3
   },
   "file_extension": ".py",
   "mimetype": "text/x-python",
   "name": "python",
   "nbconvert_exporter": "python",
   "pygments_lexer": "ipython3",
   "version": "3.5.2"
  }
 },
 "nbformat": 4,
 "nbformat_minor": 2
}
