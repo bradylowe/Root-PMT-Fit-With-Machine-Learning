{
 "cells": [
  {
   "cell_type": "markdown",
   "metadata": {},
   "source": [
    "# Convolutional neural network for classifying Root data fits.\n",
    "\n",
    "\n",
    "Here, we define, train, and save new convolutional models as well as some \n",
    "simple model evaluation. \n",
    "We define hyper-parameters, number of layers, and \n",
    "training and testing datasets. \n",
    "\n",
    "# The data\n",
    "The data consists of png files output by Root C++ interpreter. The pngs are of histograms, the black data points show the number of events for a given signal size (counts on the y-axis, signal size on the x-axis). The signal comes from a PMT (photo-multiplier tube).\n",
    "\n",
    "Along with the images, there are some sets of numbers including: \n",
    " - run parameters\n",
    "   * voltage\n",
    "   * light level\n",
    "   * filter \n",
    "   * pmt \n",
    "   * ADC channel \n",
    "   * etc.\n",
    " - fit inputs and outputs\n",
    "   * initial signal size guess\n",
    "   * initial signal rms guess\n",
    "   * initial light level guess\n",
    "   * converged signal size value\n",
    "   * error on signal size output value\n",
    "   * Chi-squared\n",
    "   * etc.\n",
    "\n",
    "## Dependencies:\n",
    " - **keras, tensorflow, numpy** (neural net math)\n",
    " - **scipy, matplotlib** (image handling)\n",
    " - **nn_utils** *(included)* (loading and preprocessing data)"
   ]
  },
  {
   "cell_type": "markdown",
   "metadata": {},
   "source": [
    "## Load necessary packages"
   ]
  },
  {
   "cell_type": "code",
   "execution_count": 1,
   "metadata": {},
   "outputs": [
    {
     "name": "stderr",
     "output_type": "stream",
     "text": [
      "Using TensorFlow backend.\n"
     ]
    }
   ],
   "source": [
    "# Load some packages\n",
    "\n",
    "# Keras packages for network\n",
    "from keras.layers import Input, Dense, Activation, ZeroPadding2D\n",
    "from keras.layers import BatchNormalization, Concatenate, Flatten\n",
    "from keras.layers import AveragePooling2D, MaxPooling2D, Dropout, Conv2D\n",
    "from keras.models import Model\n",
    "from keras.optimizers import Adam, SGD\n",
    "# For saving model\n",
    "from keras.models import model_from_json\n",
    "# For plotting and drawing after training\n",
    "from keras.utils import plot_model\n",
    "\n",
    "# Need numpy for linear algebra\n",
    "import numpy as np\n",
    "# Need misc ad matplotlib for image manipulation\n",
    "from scipy import misc\n",
    "#from PIL import Image\n",
    "import matplotlib.pyplot as plt\n",
    "\n",
    "# Import personal functions for loading dataset\n",
    "import nn_utils as utils\n",
    "\n",
    "# Use magic function for plotting\n",
    "%matplotlib inline"
   ]
  },
  {
   "cell_type": "markdown",
   "metadata": {},
   "source": [
    "## Load root fit data from file\n",
    "\n",
    "Here, we load training data set and labels for training our CNN. \n",
    "\n",
    "### *Convolutional dataset consists of*\n",
    " - Linear scale png output of data points and fit lines\n",
    " - Log scale png output from the same fit\n",
    " - Fit input parameters such as high voltage, light level, minimum and maximum bounds to parameters\n",
    " - Fit output parameters such as signal mean and rms, gain measurement, chi squared per DOF, errors on parameters, etc.\n",
    " - Label (0 = bad fit, 1 = good fit)"
   ]
  },
  {
   "cell_type": "code",
   "execution_count": 6,
   "metadata": {
    "scrolled": true
   },
   "outputs": [
    {
     "name": "stdout",
     "output_type": "stream",
     "text": [
      "32 images loaded of shape (236, 348, 3)\n",
      "32 labels loaded\n",
      "32 input arrays loaded of length 38\n",
      "32 output arrays loaded of length 20\n"
     ]
    }
   ],
   "source": [
    "# Load training images\n",
    "x, x_log, in_params, out_params, y = utils.load_dataset_no_sql(dataset=\"train\")\n",
    "m, h, w, c = x.shape\n",
    "input_shape = h, w, c\n",
    "print(str(m) + \" images loaded of shape \" + str(input_shape))\n",
    "print(str(y.shape[0]) + \" labels loaded\")\n",
    "num_inputs, num_outputs = len(in_params[1]), len(out_params[1])\n",
    "print(str(len(in_params)) + \" input arrays loaded of length \" + str(num_inputs))\n",
    "print(str(len(out_params)) + \" output arrays loaded of length \" + str(num_outputs))"
   ]
  },
  {
   "cell_type": "markdown",
   "metadata": {},
   "source": [
    "### Load DEV set\n",
    "\n",
    "Here, we load development set images for model evaluation."
   ]
  },
  {
   "cell_type": "code",
   "execution_count": 7,
   "metadata": {},
   "outputs": [
    {
     "name": "stdout",
     "output_type": "stream",
     "text": [
      "3 dev examples loaded\n"
     ]
    }
   ],
   "source": [
    "# Load training images\n",
    "x_dev, x_log_dev, in_params_dev, out_params_dev, y_dev = utils.load_dataset_no_sql(dataset=\"dev\")\n",
    "m_dev = x_dev.shape[0]\n",
    "print(str(m_dev) + \" dev examples loaded\")"
   ]
  },
  {
   "cell_type": "markdown",
   "metadata": {},
   "source": [
    "### Print an image"
   ]
  },
  {
   "cell_type": "code",
   "execution_count": 10,
   "metadata": {},
   "outputs": [
    {
     "name": "stdout",
     "output_type": "stream",
     "text": [
      "label: good\n",
      "label: [1]\n",
      "\n",
      "fit_inputs: [ 4.00000000e+00  2.00000000e+03  1.00000000e+02  2.00000000e+03\n",
      "  4.60000000e+01  7.00000000e+00  0.00000000e+00  1.00000000e+03\n",
      "  1.00000000e+00  1.00000000e+00  1.60000000e+01  5.00000000e-02\n",
      "  6.13806921e+02  2.59090800e+00  5.00000000e-03  1.38000000e+00\n",
      "  4.00000000e+00  2.59090800e+00  4.76190000e-02  9.52381000e-01\n",
      "  1.00000000e-03 -1.00000000e+00 -1.00000000e+00 -1.00000000e+00\n",
      "  1.24200000e+00 -1.00000000e+00 -1.00000000e+00  4.28570000e-02\n",
      "  9.47619000e-01  3.00000000e-01 -1.00000000e+00 -1.00000000e+00\n",
      " -1.00000000e+00  1.51800000e+00 -1.00000000e+00 -1.00000000e+00\n",
      "  5.23810000e-02  9.57143000e-01]\n",
      "\n",
      "fit_outputs: [4.49600000e-03 6.11732964e+02 1.91337200e+00 3.73860000e-02\n",
      " 1.31145900e+00 8.02303000e-01 5.13300000e-02 9.47619000e-01\n",
      " 1.66000000e-04 4.60230000e-02 1.78770000e-02 1.15600000e-03\n",
      " 3.39900000e-02 7.35670000e-02 1.16100000e-03 8.12000000e-04\n",
      " 3.33283400e+00 5.86704000e-01 1.78910000e-02 3.04934300e+00]\n"
     ]
    },
    {
     "data": {
      "text/plain": [
       "<matplotlib.image.AxesImage at 0x7ff875657908>"
      ]
     },
     "execution_count": 10,
     "metadata": {},
     "output_type": "execute_result"
    },
    {
     "data": {
      "image/png": "[encoded data removed]",
      "text/plain": [
       "<Figure size 432x288 with 1 Axes>"
      ]
     },
     "metadata": {
      "needs_background": "light"
     },
     "output_type": "display_data"
    }
   ],
   "source": [
    "# Choose an image\n",
    "index = 2\n",
    "\n",
    "# Choose log or linear scale\n",
    "log_scale = True\n",
    "\n",
    "\n",
    "this_image = x_log[index] if log_scale else x[index]\n",
    "if y[index] == 1:\n",
    "    print(\"label: good\")\n",
    "else:\n",
    "    print(\"label: bad\")\n",
    "print(\"label: \" + str(y[index]))\n",
    "print(\"\\nfit_inputs: \" + str(in_params[index]))\n",
    "print(\"\\nfit_outputs: \" + str(out_params[index]))\n",
    "plt.imshow(np.uint8(utils.get_printable_image(this_image)))"
   ]
  },
  {
   "cell_type": "markdown",
   "metadata": {},
   "source": [
    "# Define and train convolutional neural net\n",
    "\n",
    "### *Architecture:*\n",
    " - We will actually train two conv nets in parallel side-by-side, one looking at linear scale images while the other looks at log scale images. \n",
    " - After we put the images through the multiple convolutional layers, we will flatten them into 1D arrays and concatenate them together.\n",
    " - To this array, we will concatenate all the useful values that were input to and output from the fit algorithm.\n",
    " - We now should have all the information avaiable from the fit contained in a single array of values that we can send into a deep, fully-connected network for classification.\n",
    "\n",
    "### *Convolutional layers:*\n",
    " - We use 3 conv layers with batch normalization, dropout, and minimal pooling.\n",
    " - In a single convolutional layer, we will scan over our images with a certain stride and a certain kernal size (with multiple filters each time). \n",
    " - As long as our kernel size or stride is greater than 1, we will be decreasing the size of the image with each pass through a convolutional layer (we are using no padding). \n",
    " - Through applying filters in convolution as well as using max pooling, we will end up with a very reduced representation of our image; we hope that this still contains all the information necessary to classify it as a good/bad fit."
   ]
  },
  {
   "cell_type": "code",
   "execution_count": 11,
   "metadata": {},
   "outputs": [],
   "source": [
    "# Define Conv layers\n",
    "filters = []\n",
    "kernels = []\n",
    "strides = []\n",
    "pools = []\n",
    "dropouts = []\n",
    "\n",
    "# Conv1\n",
    "filters.append(32)\n",
    "kernels.append(5)\n",
    "strides.append(3)\n",
    "pools.append(1)\n",
    "dropouts.append(0.1)\n",
    "\n",
    "# Conv2\n",
    "filters.append(64)\n",
    "kernels.append(7)\n",
    "strides.append(2)\n",
    "pools.append(1)\n",
    "dropouts.append(0.1)\n",
    "\n",
    "# Conv3\n",
    "filters.append(128)\n",
    "kernels.append(9)\n",
    "strides.append(3)\n",
    "pools.append(2)\n",
    "dropouts.append(0.2)\n",
    "\n",
    "# Define dense layers\n",
    "neurons = [100, 80, 60, 40, 20, 10]"
   ]
  },
  {
   "cell_type": "markdown",
   "metadata": {},
   "source": [
    "## Define keras layers (model)\n",
    "\n",
    "Our model contains two convolutional models in parallel, each with multiple layers. We run two in parallel to utilize log scale images AND linear scale (different information present). \n",
    "\n",
    "After we convolve the images, we flatten them and concatenate them. We also concatenate to them a list of inputs and outputs to and from the root fit algorithm such as parameter initial condition and bounds, output parameters plus errors, and chi-squared per degree of freedom.\n",
    "\n",
    "After concatenating these three sources of information together, we send them through some fully-connected layers to allow learning from all three sources simultaneously.\n",
    "\n",
    "Dropout is used here for regularization.\n",
    "Pooling is used here to speed up computation.\n",
    "Batch normalization is used to aid in learning at deeper layers."
   ]
  },
  {
   "cell_type": "code",
   "execution_count": 12,
   "metadata": {},
   "outputs": [],
   "source": [
    "# Define input layer (RGB image matrix)\n",
    "X = Input(shape=input_shape, name='Input')\n",
    "\n",
    "# Define additional input info\n",
    "X_log = Input(shape=input_shape, name='InputLog')\n",
    "\n",
    "# Define additional input info\n",
    "In_params = Input(shape=(num_inputs,), name='In_params')\n",
    "Out_params = Input(shape=(num_outputs,), name='Out_params')\n",
    "\n",
    "# Initialize activation as input\n",
    "a = X\n",
    "a_log = X_log\n",
    "# Loop through all convolutional layers\n",
    "for i in range(len(filters)):\n",
    "    # Perform convolution\n",
    "    a = Conv2D(filters=filters[i], kernel_size=(kernels[i], kernels[i]), strides=(strides[i], strides[i]), name=('conv' + str(i)))(a)\n",
    "    a_log = Conv2D(filters=filters[i], kernel_size=(kernels[i], kernels[i]), strides=(strides[i], strides[i]), name=('conv_log' + str(i)))(a_log)\n",
    "    # Normalize\n",
    "    a = BatchNormalization(axis=3, name=('bn' + str(i)))(a)\n",
    "    a_log = BatchNormalization(axis=3, name=('bn_log' + str(i)))(a_log)\n",
    "    # Activate\n",
    "    a = Activation('elu', name=('a' + str(i)))(a)\n",
    "    a_log = Activation('elu', name=('a_log' + str(i)))(a_log)\n",
    "    # Max-pool\n",
    "    a = MaxPooling2D((pools[i], pools[i]), name=('max_pool' + str(i)))(a)\n",
    "    a_log = MaxPooling2D((pools[i], pools[i]), name=('max_pool_log' + str(i)))(a_log)\n",
    "    # Dropout\n",
    "    a = Dropout(rate=dropouts[i])(a)\n",
    "    a_log = Dropout(rate=dropouts[i])(a_log)\n",
    "\n",
    "# Flatten output of convNet\n",
    "a = Flatten()(a)\n",
    "a_log = Flatten()(a_log)\n",
    "\n",
    "a_both = Concatenate()([a, a_log])\n",
    "\n",
    "# Concatenate and normalize input/output parameters\n",
    "params = Concatenate()([In_params, Out_params])\n",
    "params = BatchNormalization(name='bn_params')(params)\n",
    "\n",
    "# Concatenate parameters to activations\n",
    "a = Concatenate()([a_both, params])\n",
    "\n",
    "# Loop through dense layers\n",
    "for i in range(len(neurons)):\n",
    "    a = Dense(units=neurons[i], activation='relu', name=('fc' + str(i)))(a)\n",
    "    a = Dropout(rate=0.2)(a)\n",
    "    \n",
    "# Define output layer \n",
    "a = Dense(units=1, activation='sigmoid', name='sigmoid')(a)\n",
    "\n",
    "# Make the model\n",
    "model = Model(inputs=[X, X_log, In_params, Out_params], outputs=a)"
   ]
  },
  {
   "cell_type": "markdown",
   "metadata": {},
   "source": [
    "##### Define optimizer, loss, and metrics. Compile model."
   ]
  },
  {
   "cell_type": "code",
   "execution_count": 13,
   "metadata": {
    "scrolled": true
   },
   "outputs": [
    {
     "name": "stdout",
     "output_type": "stream",
     "text": [
      "__________________________________________________________________________________________________\n",
      "Layer (type)                    Output Shape         Param #     Connected to                     \n",
      "==================================================================================================\n",
      "Input (InputLayer)              (None, 236, 348, 3)  0                                            \n",
      "__________________________________________________________________________________________________\n",
      "InputLog (InputLayer)           (None, 236, 348, 3)  0                                            \n",
      "__________________________________________________________________________________________________\n",
      "conv0 (Conv2D)                  (None, 78, 115, 32)  2432        Input[0][0]                      \n",
      "__________________________________________________________________________________________________\n",
      "conv_log0 (Conv2D)              (None, 78, 115, 32)  2432        InputLog[0][0]                   \n",
      "__________________________________________________________________________________________________\n",
      "bn0 (BatchNormalization)        (None, 78, 115, 32)  128         conv0[0][0]                      \n",
      "__________________________________________________________________________________________________\n",
      "bn_log0 (BatchNormalization)    (None, 78, 115, 32)  128         conv_log0[0][0]                  \n",
      "__________________________________________________________________________________________________\n",
      "a0 (Activation)                 (None, 78, 115, 32)  0           bn0[0][0]                        \n",
      "__________________________________________________________________________________________________\n",
      "a_log0 (Activation)             (None, 78, 115, 32)  0           bn_log0[0][0]                    \n",
      "__________________________________________________________________________________________________\n",
      "max_pool0 (MaxPooling2D)        (None, 78, 115, 32)  0           a0[0][0]                         \n",
      "__________________________________________________________________________________________________\n",
      "max_pool_log0 (MaxPooling2D)    (None, 78, 115, 32)  0           a_log0[0][0]                     \n",
      "__________________________________________________________________________________________________\n",
      "dropout_1 (Dropout)             (None, 78, 115, 32)  0           max_pool0[0][0]                  \n",
      "__________________________________________________________________________________________________\n",
      "dropout_2 (Dropout)             (None, 78, 115, 32)  0           max_pool_log0[0][0]              \n",
      "__________________________________________________________________________________________________\n",
      "conv1 (Conv2D)                  (None, 36, 55, 64)   100416      dropout_1[0][0]                  \n",
      "__________________________________________________________________________________________________\n",
      "conv_log1 (Conv2D)              (None, 36, 55, 64)   100416      dropout_2[0][0]                  \n",
      "__________________________________________________________________________________________________\n",
      "bn1 (BatchNormalization)        (None, 36, 55, 64)   256         conv1[0][0]                      \n",
      "__________________________________________________________________________________________________\n",
      "bn_log1 (BatchNormalization)    (None, 36, 55, 64)   256         conv_log1[0][0]                  \n",
      "__________________________________________________________________________________________________\n",
      "a1 (Activation)                 (None, 36, 55, 64)   0           bn1[0][0]                        \n",
      "__________________________________________________________________________________________________\n",
      "a_log1 (Activation)             (None, 36, 55, 64)   0           bn_log1[0][0]                    \n",
      "__________________________________________________________________________________________________\n",
      "max_pool1 (MaxPooling2D)        (None, 36, 55, 64)   0           a1[0][0]                         \n",
      "__________________________________________________________________________________________________\n",
      "max_pool_log1 (MaxPooling2D)    (None, 36, 55, 64)   0           a_log1[0][0]                     \n",
      "__________________________________________________________________________________________________\n",
      "dropout_3 (Dropout)             (None, 36, 55, 64)   0           max_pool1[0][0]                  \n",
      "__________________________________________________________________________________________________\n",
      "dropout_4 (Dropout)             (None, 36, 55, 64)   0           max_pool_log1[0][0]              \n",
      "__________________________________________________________________________________________________\n",
      "conv2 (Conv2D)                  (None, 10, 16, 128)  663680      dropout_3[0][0]                  \n",
      "__________________________________________________________________________________________________\n",
      "conv_log2 (Conv2D)              (None, 10, 16, 128)  663680      dropout_4[0][0]                  \n",
      "__________________________________________________________________________________________________\n",
      "bn2 (BatchNormalization)        (None, 10, 16, 128)  512         conv2[0][0]                      \n",
      "__________________________________________________________________________________________________\n",
      "bn_log2 (BatchNormalization)    (None, 10, 16, 128)  512         conv_log2[0][0]                  \n",
      "__________________________________________________________________________________________________\n",
      "a2 (Activation)                 (None, 10, 16, 128)  0           bn2[0][0]                        \n",
      "__________________________________________________________________________________________________\n",
      "a_log2 (Activation)             (None, 10, 16, 128)  0           bn_log2[0][0]                    \n",
      "__________________________________________________________________________________________________\n",
      "max_pool2 (MaxPooling2D)        (None, 5, 8, 128)    0           a2[0][0]                         \n",
      "__________________________________________________________________________________________________\n",
      "max_pool_log2 (MaxPooling2D)    (None, 5, 8, 128)    0           a_log2[0][0]                     \n",
      "__________________________________________________________________________________________________\n",
      "dropout_5 (Dropout)             (None, 5, 8, 128)    0           max_pool2[0][0]                  \n",
      "__________________________________________________________________________________________________\n",
      "dropout_6 (Dropout)             (None, 5, 8, 128)    0           max_pool_log2[0][0]              \n",
      "__________________________________________________________________________________________________\n",
      "In_params (InputLayer)          (None, 38)           0                                            \n",
      "__________________________________________________________________________________________________\n",
      "Out_params (InputLayer)         (None, 20)           0                                            \n",
      "__________________________________________________________________________________________________\n",
      "flatten_1 (Flatten)             (None, 5120)         0           dropout_5[0][0]                  \n",
      "__________________________________________________________________________________________________\n",
      "flatten_2 (Flatten)             (None, 5120)         0           dropout_6[0][0]                  \n",
      "__________________________________________________________________________________________________\n",
      "concatenate_2 (Concatenate)     (None, 58)           0           In_params[0][0]                  \n",
      "                                                                 Out_params[0][0]                 \n",
      "__________________________________________________________________________________________________\n",
      "concatenate_1 (Concatenate)     (None, 10240)        0           flatten_1[0][0]                  \n",
      "                                                                 flatten_2[0][0]                  \n",
      "__________________________________________________________________________________________________\n",
      "bn_params (BatchNormalization)  (None, 58)           232         concatenate_2[0][0]              \n",
      "__________________________________________________________________________________________________\n",
      "concatenate_3 (Concatenate)     (None, 10298)        0           concatenate_1[0][0]              \n",
      "                                                                 bn_params[0][0]                  \n",
      "__________________________________________________________________________________________________\n",
      "fc0 (Dense)                     (None, 100)          1029900     concatenate_3[0][0]              \n",
      "__________________________________________________________________________________________________\n",
      "dropout_7 (Dropout)             (None, 100)          0           fc0[0][0]                        \n",
      "__________________________________________________________________________________________________\n",
      "fc1 (Dense)                     (None, 80)           8080        dropout_7[0][0]                  \n",
      "__________________________________________________________________________________________________\n",
      "dropout_8 (Dropout)             (None, 80)           0           fc1[0][0]                        \n",
      "__________________________________________________________________________________________________\n",
      "fc2 (Dense)                     (None, 60)           4860        dropout_8[0][0]                  \n",
      "__________________________________________________________________________________________________\n",
      "dropout_9 (Dropout)             (None, 60)           0           fc2[0][0]                        \n",
      "__________________________________________________________________________________________________\n",
      "fc3 (Dense)                     (None, 40)           2440        dropout_9[0][0]                  \n",
      "__________________________________________________________________________________________________\n",
      "dropout_10 (Dropout)            (None, 40)           0           fc3[0][0]                        \n",
      "__________________________________________________________________________________________________\n",
      "fc4 (Dense)                     (None, 20)           820         dropout_10[0][0]                 \n",
      "__________________________________________________________________________________________________\n",
      "dropout_11 (Dropout)            (None, 20)           0           fc4[0][0]                        \n",
      "__________________________________________________________________________________________________\n",
      "fc5 (Dense)                     (None, 10)           210         dropout_11[0][0]                 \n",
      "__________________________________________________________________________________________________\n",
      "dropout_12 (Dropout)            (None, 10)           0           fc5[0][0]                        \n",
      "__________________________________________________________________________________________________\n",
      "sigmoid (Dense)                 (None, 1)            11          dropout_12[0][0]                 \n",
      "==================================================================================================\n",
      "Total params: 2,581,401\n",
      "Trainable params: 2,580,389\n",
      "Non-trainable params: 1,012\n",
      "__________________________________________________________________________________________________\n"
     ]
    }
   ],
   "source": [
    "# Define optimizer\n",
    "#opt = Adam(lr=0.01, beta_1=0.9, beta_2=0.999, decay=0.001)\n",
    "opt = SGD(lr=1.0, decay=1e-6, momentum=0.9, nesterov=True)\n",
    "# Define loss\n",
    "loss = 'mean_squared_error'\n",
    "# Define metrics to use\n",
    "metrics=['acc']\n",
    "# Compile model\n",
    "model.compile(loss=loss, optimizer='sgd', metrics=metrics)\n",
    "# Print summary\n",
    "model.summary()\n",
    "# Initialize histories list for storing training results\n",
    "histories = []"
   ]
  },
  {
   "cell_type": "markdown",
   "metadata": {},
   "source": [
    "## Fit the model to the data (train)"
   ]
  },
  {
   "cell_type": "code",
   "execution_count": 14,
   "metadata": {
    "scrolled": true
   },
   "outputs": [
    {
     "name": "stdout",
     "output_type": "stream",
     "text": [
      "Train on 32 samples, validate on 3 samples\n",
      "Epoch 1/100\n",
      "32/32 [==============================] - 4s 120ms/step - loss: 0.2629 - acc: 0.4688 - val_loss: 0.2723 - val_acc: 0.3333\n",
      "Epoch 2/100\n",
      "32/32 [==============================] - 2s 67ms/step - loss: 0.2936 - acc: 0.5000 - val_loss: 0.2634 - val_acc: 0.3333\n",
      "Epoch 3/100\n",
      "32/32 [==============================] - 3s 86ms/step - loss: 0.2578 - acc: 0.6250 - val_loss: 0.2614 - val_acc: 0.3333\n",
      "Epoch 4/100\n",
      "32/32 [==============================] - 3s 94ms/step - loss: 0.2842 - acc: 0.5625 - val_loss: 0.2471 - val_acc: 0.3333\n",
      "Epoch 5/100\n",
      "32/32 [==============================] - 3s 81ms/step - loss: 0.2646 - acc: 0.5312 - val_loss: 0.2547 - val_acc: 0.3333\n",
      "Epoch 6/100\n",
      "32/32 [==============================] - 3s 102ms/step - loss: 0.2466 - acc: 0.6250 - val_loss: 0.2503 - val_acc: 0.3333\n",
      "Epoch 7/100\n",
      "32/32 [==============================] - 3s 82ms/step - loss: 0.2513 - acc: 0.5938 - val_loss: 0.2793 - val_acc: 0.3333\n",
      "Epoch 8/100\n",
      "32/32 [==============================] - 3s 84ms/step - loss: 0.2189 - acc: 0.6875 - val_loss: 0.2788 - val_acc: 0.3333\n",
      "Epoch 9/100\n",
      "32/32 [==============================] - 2s 67ms/step - loss: 0.2575 - acc: 0.6250 - val_loss: 0.2756 - val_acc: 0.3333\n",
      "Epoch 10/100\n",
      "32/32 [==============================] - 2s 49ms/step - loss: 0.2565 - acc: 0.5625 - val_loss: 0.2904 - val_acc: 0.3333\n",
      "Epoch 11/100\n",
      "32/32 [==============================] - 2s 49ms/step - loss: 0.2663 - acc: 0.5938 - val_loss: 0.2925 - val_acc: 0.3333\n",
      "Epoch 12/100\n",
      "32/32 [==============================] - 2s 50ms/step - loss: 0.2999 - acc: 0.4688 - val_loss: 0.2640 - val_acc: 0.3333\n",
      "Epoch 13/100\n",
      "32/32 [==============================] - 2s 50ms/step - loss: 0.2476 - acc: 0.5625 - val_loss: 0.2578 - val_acc: 0.3333\n",
      "Epoch 14/100\n",
      "32/32 [==============================] - 2s 50ms/step - loss: 0.2927 - acc: 0.4375 - val_loss: 0.2627 - val_acc: 0.3333\n",
      "Epoch 15/100\n",
      "32/32 [==============================] - 2s 50ms/step - loss: 0.2044 - acc: 0.6562 - val_loss: 0.2881 - val_acc: 0.3333\n",
      "Epoch 16/100\n",
      "32/32 [==============================] - 2s 50ms/step - loss: 0.2211 - acc: 0.6562 - val_loss: 0.2981 - val_acc: 0.3333\n",
      "Epoch 17/100\n",
      "32/32 [==============================] - 2s 51ms/step - loss: 0.2236 - acc: 0.6562 - val_loss: 0.2896 - val_acc: 0.3333\n",
      "Epoch 18/100\n",
      "32/32 [==============================] - 2s 50ms/step - loss: 0.2553 - acc: 0.5625 - val_loss: 0.2742 - val_acc: 0.3333\n",
      "Epoch 19/100\n",
      "32/32 [==============================] - 2s 48ms/step - loss: 0.2524 - acc: 0.5938 - val_loss: 0.2589 - val_acc: 0.3333\n",
      "Epoch 20/100\n",
      "32/32 [==============================] - 2s 48ms/step - loss: 0.2149 - acc: 0.6875 - val_loss: 0.2424 - val_acc: 0.6667\n",
      "Epoch 21/100\n",
      "32/32 [==============================] - 2s 49ms/step - loss: 0.2590 - acc: 0.5000 - val_loss: 0.2563 - val_acc: 0.6667\n",
      "Epoch 22/100\n",
      "32/32 [==============================] - 2s 49ms/step - loss: 0.2444 - acc: 0.5312 - val_loss: 0.2519 - val_acc: 0.6667\n",
      "Epoch 23/100\n",
      "32/32 [==============================] - 2s 48ms/step - loss: 0.2643 - acc: 0.5312 - val_loss: 0.2495 - val_acc: 0.6667\n",
      "Epoch 24/100\n",
      "32/32 [==============================] - 2s 49ms/step - loss: 0.2420 - acc: 0.4688 - val_loss: 0.2759 - val_acc: 0.3333\n",
      "Epoch 25/100\n",
      "32/32 [==============================] - 2s 49ms/step - loss: 0.2703 - acc: 0.5625 - val_loss: 0.2616 - val_acc: 0.3333\n",
      "Epoch 26/100\n",
      "32/32 [==============================] - 2s 49ms/step - loss: 0.2638 - acc: 0.5625 - val_loss: 0.2483 - val_acc: 0.3333\n",
      "Epoch 27/100\n",
      "32/32 [==============================] - 2s 49ms/step - loss: 0.2186 - acc: 0.6875 - val_loss: 0.2664 - val_acc: 0.3333\n",
      "Epoch 28/100\n",
      "32/32 [==============================] - 2s 51ms/step - loss: 0.2217 - acc: 0.5312 - val_loss: 0.2480 - val_acc: 0.6667\n",
      "Epoch 29/100\n",
      "32/32 [==============================] - 2s 53ms/step - loss: 0.2545 - acc: 0.6562 - val_loss: 0.2590 - val_acc: 0.3333\n",
      "Epoch 30/100\n",
      "32/32 [==============================] - 2s 52ms/step - loss: 0.2307 - acc: 0.5000 - val_loss: 0.2334 - val_acc: 0.3333\n",
      "Epoch 31/100\n",
      "32/32 [==============================] - 2s 49ms/step - loss: 0.2466 - acc: 0.5938 - val_loss: 0.2314 - val_acc: 0.6667\n",
      "Epoch 32/100\n",
      "32/32 [==============================] - 2s 50ms/step - loss: 0.1752 - acc: 0.7188 - val_loss: 0.2291 - val_acc: 0.6667\n",
      "Epoch 33/100\n",
      "32/32 [==============================] - 2s 51ms/step - loss: 0.2031 - acc: 0.6250 - val_loss: 0.2373 - val_acc: 0.6667\n",
      "Epoch 34/100\n",
      "32/32 [==============================] - 2s 49ms/step - loss: 0.2556 - acc: 0.5000 - val_loss: 0.2529 - val_acc: 0.6667\n",
      "Epoch 35/100\n",
      "32/32 [==============================] - 2s 50ms/step - loss: 0.2050 - acc: 0.6562 - val_loss: 0.2567 - val_acc: 0.6667\n",
      "Epoch 36/100\n",
      "32/32 [==============================] - 2s 49ms/step - loss: 0.2239 - acc: 0.5625 - val_loss: 0.2638 - val_acc: 0.3333\n",
      "Epoch 37/100\n",
      "32/32 [==============================] - 2s 51ms/step - loss: 0.2504 - acc: 0.5000 - val_loss: 0.2818 - val_acc: 0.3333\n",
      "Epoch 38/100\n",
      "32/32 [==============================] - 2s 49ms/step - loss: 0.2522 - acc: 0.4375 - val_loss: 0.2699 - val_acc: 0.3333\n",
      "Epoch 39/100\n",
      "32/32 [==============================] - 2s 51ms/step - loss: 0.1882 - acc: 0.7188 - val_loss: 0.2599 - val_acc: 0.6667\n",
      "Epoch 40/100\n",
      "32/32 [==============================] - 2s 51ms/step - loss: 0.1947 - acc: 0.6875 - val_loss: 0.2324 - val_acc: 0.6667\n",
      "Epoch 41/100\n",
      "32/32 [==============================] - 2s 51ms/step - loss: 0.2436 - acc: 0.6250 - val_loss: 0.2353 - val_acc: 0.6667\n",
      "Epoch 42/100\n",
      "32/32 [==============================] - 2s 53ms/step - loss: 0.2307 - acc: 0.6250 - val_loss: 0.2271 - val_acc: 0.6667\n",
      "Epoch 43/100\n",
      "32/32 [==============================] - 2s 52ms/step - loss: 0.2749 - acc: 0.5312 - val_loss: 0.2406 - val_acc: 0.6667\n",
      "Epoch 44/100\n",
      "32/32 [==============================] - 2s 52ms/step - loss: 0.2012 - acc: 0.7188 - val_loss: 0.2418 - val_acc: 0.6667\n",
      "Epoch 45/100\n",
      "32/32 [==============================] - 2s 52ms/step - loss: 0.2158 - acc: 0.7188 - val_loss: 0.2423 - val_acc: 0.6667\n",
      "Epoch 46/100\n",
      "32/32 [==============================] - 2s 50ms/step - loss: 0.1605 - acc: 0.7812 - val_loss: 0.2362 - val_acc: 0.6667\n",
      "Epoch 47/100\n",
      "32/32 [==============================] - 2s 49ms/step - loss: 0.2140 - acc: 0.5938 - val_loss: 0.2359 - val_acc: 0.6667\n",
      "Epoch 48/100\n",
      "32/32 [==============================] - 2s 49ms/step - loss: 0.2584 - acc: 0.5000 - val_loss: 0.2485 - val_acc: 0.6667\n",
      "Epoch 49/100\n",
      "32/32 [==============================] - 2s 49ms/step - loss: 0.2240 - acc: 0.6875 - val_loss: 0.2321 - val_acc: 0.6667\n",
      "Epoch 50/100\n",
      "32/32 [==============================] - 2s 49ms/step - loss: 0.2128 - acc: 0.5625 - val_loss: 0.2249 - val_acc: 0.6667\n",
      "Epoch 51/100\n",
      "32/32 [==============================] - 2s 49ms/step - loss: 0.2303 - acc: 0.5625 - val_loss: 0.2267 - val_acc: 0.6667\n",
      "Epoch 52/100\n",
      "32/32 [==============================] - 2s 49ms/step - loss: 0.2258 - acc: 0.6250 - val_loss: 0.2300 - val_acc: 0.6667\n",
      "Epoch 53/100\n",
      "32/32 [==============================] - 2s 49ms/step - loss: 0.1941 - acc: 0.7500 - val_loss: 0.2202 - val_acc: 0.6667\n",
      "Epoch 54/100\n",
      "32/32 [==============================] - 2s 48ms/step - loss: 0.2099 - acc: 0.6562 - val_loss: 0.2387 - val_acc: 0.3333\n",
      "Epoch 55/100\n",
      "32/32 [==============================] - 2s 48ms/step - loss: 0.2402 - acc: 0.6250 - val_loss: 0.2298 - val_acc: 0.6667\n",
      "Epoch 56/100\n",
      "32/32 [==============================] - 2s 49ms/step - loss: 0.1706 - acc: 0.8125 - val_loss: 0.2249 - val_acc: 0.6667\n",
      "Epoch 57/100\n",
      "32/32 [==============================] - 2s 49ms/step - loss: 0.1808 - acc: 0.7812 - val_loss: 0.2608 - val_acc: 0.3333\n",
      "Epoch 58/100\n",
      "32/32 [==============================] - 2s 49ms/step - loss: 0.1682 - acc: 0.7188 - val_loss: 0.2460 - val_acc: 0.3333\n",
      "Epoch 59/100\n",
      "32/32 [==============================] - 2s 49ms/step - loss: 0.1761 - acc: 0.7812 - val_loss: 0.2460 - val_acc: 0.3333\n",
      "Epoch 60/100\n",
      "32/32 [==============================] - 2s 50ms/step - loss: 0.2269 - acc: 0.5312 - val_loss: 0.2160 - val_acc: 0.6667\n",
      "Epoch 61/100\n",
      "32/32 [==============================] - 2s 49ms/step - loss: 0.1523 - acc: 0.7812 - val_loss: 0.2317 - val_acc: 0.6667\n",
      "Epoch 62/100\n",
      "32/32 [==============================] - 2s 49ms/step - loss: 0.1878 - acc: 0.6875 - val_loss: 0.2252 - val_acc: 0.6667\n"
     ]
    },
    {
     "name": "stdout",
     "output_type": "stream",
     "text": [
      "Epoch 63/100\n",
      "32/32 [==============================] - 2s 48ms/step - loss: 0.1716 - acc: 0.7500 - val_loss: 0.2275 - val_acc: 0.6667\n",
      "Epoch 64/100\n",
      "32/32 [==============================] - 2s 48ms/step - loss: 0.1865 - acc: 0.6875 - val_loss: 0.2393 - val_acc: 0.6667\n",
      "Epoch 65/100\n",
      "32/32 [==============================] - 2s 49ms/step - loss: 0.2118 - acc: 0.7188 - val_loss: 0.2226 - val_acc: 0.6667\n",
      "Epoch 66/100\n",
      "32/32 [==============================] - 2s 49ms/step - loss: 0.1945 - acc: 0.6875 - val_loss: 0.2396 - val_acc: 0.6667\n",
      "Epoch 67/100\n",
      "32/32 [==============================] - 2s 50ms/step - loss: 0.1968 - acc: 0.6562 - val_loss: 0.2212 - val_acc: 0.6667\n",
      "Epoch 68/100\n",
      "32/32 [==============================] - 2s 49ms/step - loss: 0.1358 - acc: 0.7812 - val_loss: 0.2455 - val_acc: 0.3333\n",
      "Epoch 69/100\n",
      "32/32 [==============================] - 2s 49ms/step - loss: 0.2230 - acc: 0.6875 - val_loss: 0.2308 - val_acc: 0.6667\n",
      "Epoch 70/100\n",
      "32/32 [==============================] - 2s 50ms/step - loss: 0.1314 - acc: 0.8438 - val_loss: 0.2115 - val_acc: 0.6667\n",
      "Epoch 71/100\n",
      "32/32 [==============================] - 2s 50ms/step - loss: 0.1627 - acc: 0.7188 - val_loss: 0.1947 - val_acc: 0.6667\n",
      "Epoch 72/100\n",
      "32/32 [==============================] - 2s 49ms/step - loss: 0.1403 - acc: 0.8125 - val_loss: 0.1938 - val_acc: 0.6667\n",
      "Epoch 73/100\n",
      "32/32 [==============================] - 2s 49ms/step - loss: 0.1768 - acc: 0.7500 - val_loss: 0.1869 - val_acc: 0.6667\n",
      "Epoch 74/100\n",
      "32/32 [==============================] - 2s 48ms/step - loss: 0.1314 - acc: 0.9062 - val_loss: 0.1689 - val_acc: 1.0000\n",
      "Epoch 75/100\n",
      "32/32 [==============================] - 2s 48ms/step - loss: 0.1618 - acc: 0.7500 - val_loss: 0.1813 - val_acc: 0.6667\n",
      "Epoch 76/100\n",
      "32/32 [==============================] - 2s 49ms/step - loss: 0.1794 - acc: 0.6875 - val_loss: 0.2083 - val_acc: 0.6667\n",
      "Epoch 77/100\n",
      "32/32 [==============================] - 2s 49ms/step - loss: 0.1811 - acc: 0.7500 - val_loss: 0.1979 - val_acc: 0.6667\n",
      "Epoch 78/100\n",
      "32/32 [==============================] - 2s 49ms/step - loss: 0.1298 - acc: 0.8125 - val_loss: 0.2347 - val_acc: 0.6667\n",
      "Epoch 79/100\n",
      "32/32 [==============================] - 2s 49ms/step - loss: 0.1872 - acc: 0.6250 - val_loss: 0.2543 - val_acc: 0.3333\n",
      "Epoch 80/100\n",
      "32/32 [==============================] - 2s 52ms/step - loss: 0.1211 - acc: 0.8125 - val_loss: 0.1868 - val_acc: 0.6667\n",
      "Epoch 81/100\n",
      "32/32 [==============================] - 2s 49ms/step - loss: 0.1666 - acc: 0.8125 - val_loss: 0.2068 - val_acc: 0.6667\n",
      "Epoch 82/100\n",
      "32/32 [==============================] - 2s 48ms/step - loss: 0.2040 - acc: 0.6562 - val_loss: 0.1616 - val_acc: 0.6667\n",
      "Epoch 83/100\n",
      "32/32 [==============================] - 2s 48ms/step - loss: 0.1034 - acc: 0.8750 - val_loss: 0.1494 - val_acc: 1.0000\n",
      "Epoch 84/100\n",
      "32/32 [==============================] - 2s 49ms/step - loss: 0.1434 - acc: 0.7500 - val_loss: 0.1926 - val_acc: 0.6667\n",
      "Epoch 85/100\n",
      "32/32 [==============================] - 2s 49ms/step - loss: 0.1646 - acc: 0.6562 - val_loss: 0.1967 - val_acc: 0.6667\n",
      "Epoch 86/100\n",
      "32/32 [==============================] - 2s 49ms/step - loss: 0.1690 - acc: 0.7812 - val_loss: 0.1372 - val_acc: 1.0000\n",
      "Epoch 87/100\n",
      "32/32 [==============================] - 2s 49ms/step - loss: 0.1398 - acc: 0.7500 - val_loss: 0.1535 - val_acc: 1.0000\n",
      "Epoch 88/100\n",
      "32/32 [==============================] - 2s 49ms/step - loss: 0.1096 - acc: 0.8125 - val_loss: 0.1848 - val_acc: 0.6667\n",
      "Epoch 89/100\n",
      "32/32 [==============================] - 2s 49ms/step - loss: 0.1479 - acc: 0.7812 - val_loss: 0.1069 - val_acc: 1.0000\n",
      "Epoch 90/100\n",
      "32/32 [==============================] - 2s 49ms/step - loss: 0.1087 - acc: 0.8750 - val_loss: 0.1146 - val_acc: 1.0000\n",
      "Epoch 91/100\n",
      "32/32 [==============================] - 2s 49ms/step - loss: 0.1741 - acc: 0.6875 - val_loss: 0.1210 - val_acc: 1.0000\n",
      "Epoch 92/100\n",
      "32/32 [==============================] - 2s 49ms/step - loss: 0.1708 - acc: 0.7188 - val_loss: 0.1259 - val_acc: 1.0000\n",
      "Epoch 93/100\n",
      "32/32 [==============================] - 2s 48ms/step - loss: 0.1322 - acc: 0.7812 - val_loss: 0.1555 - val_acc: 1.0000\n",
      "Epoch 94/100\n",
      "32/32 [==============================] - 2s 48ms/step - loss: 0.1549 - acc: 0.7812 - val_loss: 0.1447 - val_acc: 1.0000\n",
      "Epoch 95/100\n",
      "32/32 [==============================] - 2s 49ms/step - loss: 0.1003 - acc: 0.9375 - val_loss: 0.1666 - val_acc: 0.6667\n",
      "Epoch 96/100\n",
      "32/32 [==============================] - 2s 48ms/step - loss: 0.1163 - acc: 0.8125 - val_loss: 0.1447 - val_acc: 1.0000\n",
      "Epoch 97/100\n",
      "32/32 [==============================] - 2s 51ms/step - loss: 0.1526 - acc: 0.6875 - val_loss: 0.1190 - val_acc: 1.0000\n",
      "Epoch 98/100\n",
      "32/32 [==============================] - 2s 51ms/step - loss: 0.1522 - acc: 0.7500 - val_loss: 0.1160 - val_acc: 1.0000\n",
      "Epoch 99/100\n",
      "32/32 [==============================] - 2s 50ms/step - loss: 0.1354 - acc: 0.7500 - val_loss: 0.1194 - val_acc: 1.0000\n",
      "Epoch 100/100\n",
      "32/32 [==============================] - 2s 50ms/step - loss: 0.1465 - acc: 0.7812 - val_loss: 0.1595 - val_acc: 0.6667\n",
      "Train on 32 samples, validate on 3 samples\n",
      "Epoch 1/100\n",
      "32/32 [==============================] - 2s 50ms/step - loss: 0.1746 - acc: 0.7500 - val_loss: 0.1605 - val_acc: 0.6667\n",
      "Epoch 2/100\n",
      "32/32 [==============================] - 2s 49ms/step - loss: 0.1778 - acc: 0.7188 - val_loss: 0.0995 - val_acc: 1.0000\n",
      "Epoch 3/100\n",
      "32/32 [==============================] - 2s 49ms/step - loss: 0.1544 - acc: 0.8125 - val_loss: 0.0976 - val_acc: 1.0000\n",
      "Epoch 4/100\n",
      "32/32 [==============================] - 2s 49ms/step - loss: 0.1229 - acc: 0.8438 - val_loss: 0.1007 - val_acc: 1.0000\n",
      "Epoch 5/100\n"
     ]
    },
    {
     "ename": "KeyboardInterrupt",
     "evalue": "",
     "output_type": "error",
     "traceback": [
      "\u001b[0;31m---------------------------------------------------------------------------\u001b[0m",
      "\u001b[0;31mKeyboardInterrupt\u001b[0m                         Traceback (most recent call last)",
      "\u001b[0;32m<ipython-input-14-c77b5bfbb8c2>\u001b[0m in \u001b[0;36m<module>\u001b[0;34m\u001b[0m\n\u001b[1;32m      4\u001b[0m \u001b[0msize_of_batches\u001b[0m \u001b[0;34m=\u001b[0m \u001b[0;36m128\u001b[0m\u001b[0;34m\u001b[0m\u001b[0m\n\u001b[1;32m      5\u001b[0m \u001b[0;32mfor\u001b[0m \u001b[0mii\u001b[0m \u001b[0;32min\u001b[0m \u001b[0mrange\u001b[0m\u001b[0;34m(\u001b[0m\u001b[0mnum_loops\u001b[0m\u001b[0;34m)\u001b[0m\u001b[0;34m:\u001b[0m\u001b[0;34m\u001b[0m\u001b[0m\n\u001b[0;32m----> 6\u001b[0;31m     \u001b[0mhistory\u001b[0m \u001b[0;34m=\u001b[0m \u001b[0mmodel\u001b[0m\u001b[0;34m.\u001b[0m\u001b[0mfit\u001b[0m\u001b[0;34m(\u001b[0m\u001b[0;34m[\u001b[0m\u001b[0mx\u001b[0m\u001b[0;34m,\u001b[0m \u001b[0mx_log\u001b[0m\u001b[0;34m,\u001b[0m \u001b[0min_params\u001b[0m\u001b[0;34m,\u001b[0m \u001b[0mout_params\u001b[0m\u001b[0;34m]\u001b[0m\u001b[0;34m,\u001b[0m \u001b[0my\u001b[0m\u001b[0;34m,\u001b[0m \u001b[0mvalidation_data\u001b[0m\u001b[0;34m=\u001b[0m\u001b[0;34m(\u001b[0m\u001b[0;34m[\u001b[0m\u001b[0mx_dev\u001b[0m\u001b[0;34m,\u001b[0m \u001b[0mx_log_dev\u001b[0m\u001b[0;34m,\u001b[0m \u001b[0min_params_dev\u001b[0m\u001b[0;34m,\u001b[0m \u001b[0mout_params_dev\u001b[0m\u001b[0;34m]\u001b[0m\u001b[0;34m,\u001b[0m \u001b[0my_dev\u001b[0m\u001b[0;34m)\u001b[0m\u001b[0;34m,\u001b[0m \u001b[0mepochs\u001b[0m\u001b[0;34m=\u001b[0m\u001b[0mnum_epochs\u001b[0m\u001b[0;34m,\u001b[0m \u001b[0mbatch_size\u001b[0m\u001b[0;34m=\u001b[0m\u001b[0;36m64\u001b[0m\u001b[0;34m)\u001b[0m\u001b[0;34m\u001b[0m\u001b[0m\n\u001b[0m\u001b[1;32m      7\u001b[0m     \u001b[0mhistories\u001b[0m\u001b[0;34m.\u001b[0m\u001b[0mappend\u001b[0m\u001b[0;34m(\u001b[0m\u001b[0mhistory\u001b[0m\u001b[0;34m)\u001b[0m\u001b[0;34m\u001b[0m\u001b[0m\n",
      "\u001b[0;32m~/tf-gpu/lib/python3.5/site-packages/keras/engine/training.py\u001b[0m in \u001b[0;36mfit\u001b[0;34m(self, x, y, batch_size, epochs, verbose, callbacks, validation_split, validation_data, shuffle, class_weight, sample_weight, initial_epoch, steps_per_epoch, validation_steps, **kwargs)\u001b[0m\n\u001b[1;32m   1037\u001b[0m                                         \u001b[0minitial_epoch\u001b[0m\u001b[0;34m=\u001b[0m\u001b[0minitial_epoch\u001b[0m\u001b[0;34m,\u001b[0m\u001b[0;34m\u001b[0m\u001b[0m\n\u001b[1;32m   1038\u001b[0m                                         \u001b[0msteps_per_epoch\u001b[0m\u001b[0;34m=\u001b[0m\u001b[0msteps_per_epoch\u001b[0m\u001b[0;34m,\u001b[0m\u001b[0;34m\u001b[0m\u001b[0m\n\u001b[0;32m-> 1039\u001b[0;31m                                         validation_steps=validation_steps)\n\u001b[0m\u001b[1;32m   1040\u001b[0m \u001b[0;34m\u001b[0m\u001b[0m\n\u001b[1;32m   1041\u001b[0m     def evaluate(self, x=None, y=None,\n",
      "\u001b[0;32m~/tf-gpu/lib/python3.5/site-packages/keras/engine/training_arrays.py\u001b[0m in \u001b[0;36mfit_loop\u001b[0;34m(model, f, ins, out_labels, batch_size, epochs, verbose, callbacks, val_f, val_ins, shuffle, callback_metrics, initial_epoch, steps_per_epoch, validation_steps)\u001b[0m\n\u001b[1;32m    197\u001b[0m                     \u001b[0mins_batch\u001b[0m\u001b[0;34m[\u001b[0m\u001b[0mi\u001b[0m\u001b[0;34m]\u001b[0m \u001b[0;34m=\u001b[0m \u001b[0mins_batch\u001b[0m\u001b[0;34m[\u001b[0m\u001b[0mi\u001b[0m\u001b[0;34m]\u001b[0m\u001b[0;34m.\u001b[0m\u001b[0mtoarray\u001b[0m\u001b[0;34m(\u001b[0m\u001b[0;34m)\u001b[0m\u001b[0;34m\u001b[0m\u001b[0m\n\u001b[1;32m    198\u001b[0m \u001b[0;34m\u001b[0m\u001b[0m\n\u001b[0;32m--> 199\u001b[0;31m                 \u001b[0mouts\u001b[0m \u001b[0;34m=\u001b[0m \u001b[0mf\u001b[0m\u001b[0;34m(\u001b[0m\u001b[0mins_batch\u001b[0m\u001b[0;34m)\u001b[0m\u001b[0;34m\u001b[0m\u001b[0m\n\u001b[0m\u001b[1;32m    200\u001b[0m                 \u001b[0mouts\u001b[0m \u001b[0;34m=\u001b[0m \u001b[0mto_list\u001b[0m\u001b[0;34m(\u001b[0m\u001b[0mouts\u001b[0m\u001b[0;34m)\u001b[0m\u001b[0;34m\u001b[0m\u001b[0m\n\u001b[1;32m    201\u001b[0m                 \u001b[0;32mfor\u001b[0m \u001b[0ml\u001b[0m\u001b[0;34m,\u001b[0m \u001b[0mo\u001b[0m \u001b[0;32min\u001b[0m \u001b[0mzip\u001b[0m\u001b[0;34m(\u001b[0m\u001b[0mout_labels\u001b[0m\u001b[0;34m,\u001b[0m \u001b[0mouts\u001b[0m\u001b[0;34m)\u001b[0m\u001b[0;34m:\u001b[0m\u001b[0;34m\u001b[0m\u001b[0m\n",
      "\u001b[0;32m~/tf-gpu/lib/python3.5/site-packages/keras/backend/tensorflow_backend.py\u001b[0m in \u001b[0;36m__call__\u001b[0;34m(self, inputs)\u001b[0m\n\u001b[1;32m   2713\u001b[0m                 \u001b[0;32mreturn\u001b[0m \u001b[0mself\u001b[0m\u001b[0;34m.\u001b[0m\u001b[0m_legacy_call\u001b[0m\u001b[0;34m(\u001b[0m\u001b[0minputs\u001b[0m\u001b[0;34m)\u001b[0m\u001b[0;34m\u001b[0m\u001b[0m\n\u001b[1;32m   2714\u001b[0m \u001b[0;34m\u001b[0m\u001b[0m\n\u001b[0;32m-> 2715\u001b[0;31m             \u001b[0;32mreturn\u001b[0m \u001b[0mself\u001b[0m\u001b[0;34m.\u001b[0m\u001b[0m_call\u001b[0m\u001b[0;34m(\u001b[0m\u001b[0minputs\u001b[0m\u001b[0;34m)\u001b[0m\u001b[0;34m\u001b[0m\u001b[0m\n\u001b[0m\u001b[1;32m   2716\u001b[0m         \u001b[0;32melse\u001b[0m\u001b[0;34m:\u001b[0m\u001b[0;34m\u001b[0m\u001b[0m\n\u001b[1;32m   2717\u001b[0m             \u001b[0;32mif\u001b[0m \u001b[0mpy_any\u001b[0m\u001b[0;34m(\u001b[0m\u001b[0mis_tensor\u001b[0m\u001b[0;34m(\u001b[0m\u001b[0mx\u001b[0m\u001b[0;34m)\u001b[0m \u001b[0;32mfor\u001b[0m \u001b[0mx\u001b[0m \u001b[0;32min\u001b[0m \u001b[0minputs\u001b[0m\u001b[0;34m)\u001b[0m\u001b[0;34m:\u001b[0m\u001b[0;34m\u001b[0m\u001b[0m\n",
      "\u001b[0;32m~/tf-gpu/lib/python3.5/site-packages/keras/backend/tensorflow_backend.py\u001b[0m in \u001b[0;36m_call\u001b[0;34m(self, inputs)\u001b[0m\n\u001b[1;32m   2673\u001b[0m             \u001b[0mfetched\u001b[0m \u001b[0;34m=\u001b[0m \u001b[0mself\u001b[0m\u001b[0;34m.\u001b[0m\u001b[0m_callable_fn\u001b[0m\u001b[0;34m(\u001b[0m\u001b[0;34m*\u001b[0m\u001b[0marray_vals\u001b[0m\u001b[0;34m,\u001b[0m \u001b[0mrun_metadata\u001b[0m\u001b[0;34m=\u001b[0m\u001b[0mself\u001b[0m\u001b[0;34m.\u001b[0m\u001b[0mrun_metadata\u001b[0m\u001b[0;34m)\u001b[0m\u001b[0;34m\u001b[0m\u001b[0m\n\u001b[1;32m   2674\u001b[0m         \u001b[0;32melse\u001b[0m\u001b[0;34m:\u001b[0m\u001b[0;34m\u001b[0m\u001b[0m\n\u001b[0;32m-> 2675\u001b[0;31m             \u001b[0mfetched\u001b[0m \u001b[0;34m=\u001b[0m \u001b[0mself\u001b[0m\u001b[0;34m.\u001b[0m\u001b[0m_callable_fn\u001b[0m\u001b[0;34m(\u001b[0m\u001b[0;34m*\u001b[0m\u001b[0marray_vals\u001b[0m\u001b[0;34m)\u001b[0m\u001b[0;34m\u001b[0m\u001b[0m\n\u001b[0m\u001b[1;32m   2676\u001b[0m         \u001b[0;32mreturn\u001b[0m \u001b[0mfetched\u001b[0m\u001b[0;34m[\u001b[0m\u001b[0;34m:\u001b[0m\u001b[0mlen\u001b[0m\u001b[0;34m(\u001b[0m\u001b[0mself\u001b[0m\u001b[0;34m.\u001b[0m\u001b[0moutputs\u001b[0m\u001b[0;34m)\u001b[0m\u001b[0;34m]\u001b[0m\u001b[0;34m\u001b[0m\u001b[0m\n\u001b[1;32m   2677\u001b[0m \u001b[0;34m\u001b[0m\u001b[0m\n",
      "\u001b[0;32m~/tf-gpu/lib/python3.5/site-packages/tensorflow/python/client/session.py\u001b[0m in \u001b[0;36m__call__\u001b[0;34m(self, *args, **kwargs)\u001b[0m\n\u001b[1;32m   1437\u001b[0m           ret = tf_session.TF_SessionRunCallable(\n\u001b[1;32m   1438\u001b[0m               \u001b[0mself\u001b[0m\u001b[0;34m.\u001b[0m\u001b[0m_session\u001b[0m\u001b[0;34m.\u001b[0m\u001b[0m_session\u001b[0m\u001b[0;34m,\u001b[0m \u001b[0mself\u001b[0m\u001b[0;34m.\u001b[0m\u001b[0m_handle\u001b[0m\u001b[0;34m,\u001b[0m \u001b[0margs\u001b[0m\u001b[0;34m,\u001b[0m \u001b[0mstatus\u001b[0m\u001b[0;34m,\u001b[0m\u001b[0;34m\u001b[0m\u001b[0m\n\u001b[0;32m-> 1439\u001b[0;31m               run_metadata_ptr)\n\u001b[0m\u001b[1;32m   1440\u001b[0m         \u001b[0;32mif\u001b[0m \u001b[0mrun_metadata\u001b[0m\u001b[0;34m:\u001b[0m\u001b[0;34m\u001b[0m\u001b[0m\n\u001b[1;32m   1441\u001b[0m           \u001b[0mproto_data\u001b[0m \u001b[0;34m=\u001b[0m \u001b[0mtf_session\u001b[0m\u001b[0;34m.\u001b[0m\u001b[0mTF_GetBuffer\u001b[0m\u001b[0;34m(\u001b[0m\u001b[0mrun_metadata_ptr\u001b[0m\u001b[0;34m)\u001b[0m\u001b[0;34m\u001b[0m\u001b[0m\n",
      "\u001b[0;31mKeyboardInterrupt\u001b[0m: "
     ]
    }
   ],
   "source": [
    "# Now, fit the model to the data\n",
    "num_epochs = 40\n",
    "num_loops = 5\n",
    "size_of_batches = 128\n",
    "for ii in range(num_loops):\n",
    "    history = model.fit([x, x_log, in_params, out_params], y, validation_data=([x_dev, x_log_dev, in_params_dev, out_params_dev], y_dev), epochs=num_epochs, batch_size=64)\n",
    "    histories.append(history)"
   ]
  },
  {
   "cell_type": "markdown",
   "metadata": {},
   "source": [
    "### Print training results\n",
    "\n",
    "Looking at how the accuracy and the value of the loss function change while training the model can help us identify what the model is learning, how fast it is learning it, if the model is overtraining, how noisy the dataset is, etc.\n",
    "\n",
    "If the dataset contains sufficient examples and information for our model to really learn the essence of what makes a good fit, and if the model is sufficiently complex or elegant, then we expect the accuracy to approach 100% while the loss approaches zero."
   ]
  },
  {
   "cell_type": "code",
   "execution_count": 17,
   "metadata": {},
   "outputs": [
    {
     "name": "stdout",
     "output_type": "stream",
     "text": [
      "dict_keys(['loss', 'val_loss', 'acc', 'val_acc'])\n"
     ]
    },
    {
     "data": {
      "image/png": "[encoded data removed]",
      "text/plain": [
       "<Figure size 432x288 with 1 Axes>"
      ]
     },
     "metadata": {
      "needs_background": "light"
     },
     "output_type": "display_data"
    },
    {
     "data": {
      "image/png": "[encoded data removed]",
      "text/plain": [
       "<Figure size 432x288 with 1 Axes>"
      ]
     },
     "metadata": {
      "needs_background": "light"
     },
     "output_type": "display_data"
    }
   ],
   "source": [
    "# Choose which training iteration to look at \n",
    "index = 0\n",
    "print(histories[index].history.keys())\n",
    "\n",
    "# Summarize history for accuracy\n",
    "plt.plot(histories[index].history['acc'])\n",
    "plt.plot(histories[index].history['val_acc'])\n",
    "plt.title('model accuracy')\n",
    "plt.ylabel('accuracy')\n",
    "plt.xlabel('epoch')\n",
    "plt.legend(['train', 'test'], loc='upper left')\n",
    "plt.show()\n",
    "# Summarize history for loss\n",
    "plt.plot(histories[index].history['loss'])\n",
    "plt.plot(histories[index].history['val_loss'])\n",
    "plt.title('model loss')\n",
    "plt.ylabel('loss')\n",
    "plt.xlabel('epoch')\n",
    "plt.legend(['train', 'test'], loc='upper left')\n",
    "plt.show()"
   ]
  },
  {
   "cell_type": "markdown",
   "metadata": {},
   "source": [
    "## Additional model evaluation\n",
    "\n",
    "Looking at the number of right answers vs. wrong answers in different ways can tell us specific information about the progress of the model. Accuracy is one way to evaluate our model; accuracy is the number of correct classifications divided by the number of total classifications. Two more values called precision and recall can tell us more about why the accuracy might not reach 100%.\n",
    "\n",
    "Right answers consist of two types: true positives and true negatives. If the model correctly classifies a good fit, that is a true positive; if the model correctly classifies a bad fit, then it is a true negative. If our model classifies a bad fit as good, this is a false positive. \n",
    "\n",
    "Precision is the number of true positives divided by the sum of true and false positives. So for us, precision is the number of correctly classified good fits out of how many fits were classified as good. This number gives us an idea of how much we can trust our model when it says we have a good fit.\n",
    "\n",
    "Recall is the number of true positives divided by the sum of true positives and false negatives. In other words, recall is how many good fits were identified out of all the good fits there were."
   ]
  },
  {
   "cell_type": "code",
   "execution_count": 24,
   "metadata": {},
   "outputs": [
    {
     "name": "stdout",
     "output_type": "stream",
     "text": [
      "32/32 [==============================] - 0s 13ms/step\n",
      "\n",
      "Performance on VALIDATION set\n",
      ".............................\n",
      "Loss: 0.038836926221847534\n",
      "Accuracy: 1.0\n",
      "Precision: 1.0\n",
      "Recall: 1.0\n",
      ".............................\n",
      "List of indices of wrong guesses:\n",
      "[]\n"
     ]
    }
   ],
   "source": [
    "# Choose which model to evaluate\n",
    "choice = \"train\"\n",
    "\n",
    "# Get stats from model, get model predictions\n",
    "if choice == \"train\":\n",
    "    stats = model.evaluate([x, x_log, in_params, out_params], y)\n",
    "    predictions = model.predict([x, x_log, in_params, out_params])\n",
    "    good_fits = y\n",
    "    m_eval = m\n",
    "elif choice == \"dev\":\n",
    "    stats = model.evaluate([x_dev, x_log_dev, in_params_dev, out_params_dev], y_dev)\n",
    "    predictions = model.predict([x_dev, x_log_dev, in_params_dev, out_params_dev])\n",
    "    good_fits = y_dev\n",
    "    m_eval = m_dev\n",
    "predictions = np.floor(predictions + 0.5)\n",
    "\n",
    "# Get vector mask for good and bad fits and right and wrong answers\n",
    "bad_fits = 1 - good_fits\n",
    "wrong_answers = np.abs(np.subtract(predictions, good_fits))\n",
    "right_answers = np.subtract(1, wrong_answers)\n",
    "# Calculate true positives (tp), as well as (tn) (fp) (fn)\n",
    "true_positives = np.multiply(right_answers, good_fits)\n",
    "true_negatives = np.multiply(right_answers, bad_fits)\n",
    "false_positives = np.multiply(wrong_answers, good_fits)\n",
    "false_negatives = np.multiply(wrong_answers, bad_fits)\n",
    "# Calculate additional metrics\n",
    "precision = np.sum(true_positives) / np.sum(true_positives + false_positives)\n",
    "recall = np.sum(true_positives) / np.sum(true_positives + false_negatives)\n",
    "\n",
    "# Print stats\n",
    "print()\n",
    "print(\"Performance on VALIDATION set\")\n",
    "print(\".............................\")\n",
    "print(\"Loss: \" + str(stats[0]))\n",
    "print(\"Accuracy: \" + str(stats[1]))\n",
    "print(\"Precision: \" + str(precision))\n",
    "print(\"Recall: \" + str(recall))\n",
    "\n",
    "# Print list of indices of wrong answers\n",
    "bad_list = []\n",
    "for i in range(m_eval):\n",
    "    if wrong_answers[i] == 1:\n",
    "        bad_list.append(i)\n",
    "print(\".............................\")\n",
    "print(\"List of indices of wrong guesses:\")\n",
    "print(bad_list)"
   ]
  },
  {
   "cell_type": "markdown",
   "metadata": {},
   "source": [
    "## Look at an image"
   ]
  },
  {
   "cell_type": "code",
   "execution_count": 25,
   "metadata": {},
   "outputs": [
    {
     "name": "stdout",
     "output_type": "stream",
     "text": [
      "label: [0]\n",
      "prediction: [0.]\n",
      "(236, 348, 3)\n"
     ]
    },
    {
     "data": {
      "text/plain": [
       "<matplotlib.image.AxesImage at 0x7ff7fe6cd2b0>"
      ]
     },
     "execution_count": 25,
     "metadata": {},
     "output_type": "execute_result"
    },
    {
     "data": {
      "image/png": "[encoded data removed]",
      "text/plain": [
       "<Figure size 432x288 with 1 Axes>"
      ]
     },
     "metadata": {
      "needs_background": "light"
     },
     "output_type": "display_data"
    }
   ],
   "source": [
    "# Choose an index \n",
    "index = 0\n",
    "\n",
    "# Print labels for this index\n",
    "print(\"label: \" + str(good_fits[index]))\n",
    "print(\"prediction: \" + str(predictions[index]))\n",
    "\n",
    "# Show image\n",
    "this_image = x[index]\n",
    "print(str(this_image.shape))\n",
    "plt.imshow(np.uint8(utils.get_printable_image(this_image)))"
   ]
  },
  {
   "cell_type": "markdown",
   "metadata": {},
   "source": [
    "## Load pretrained conv model"
   ]
  },
  {
   "cell_type": "code",
   "execution_count": 25,
   "metadata": {},
   "outputs": [
    {
     "name": "stdout",
     "output_type": "stream",
     "text": [
      "Loaded model from disk\n"
     ]
    }
   ],
   "source": [
    "# load json and create model\n",
    "json_file = open('trained/conv_all.json', 'r')\n",
    "conv_model_json = json_file.read()\n",
    "json_file.close()\n",
    "model = model_from_json(conv_model_json)\n",
    "# load weights into new model\n",
    "model.load_weights(\"trained/conv_all.h5\")\n",
    "print(\"Loaded model from disk\")"
   ]
  },
  {
   "cell_type": "markdown",
   "metadata": {},
   "source": [
    "## Save convolutional model to disc"
   ]
  },
  {
   "cell_type": "code",
   "execution_count": 32,
   "metadata": {},
   "outputs": [
    {
     "name": "stdout",
     "output_type": "stream",
     "text": [
      "Saved model to disk\n"
     ]
    }
   ],
   "source": [
    "# serialize model to JSON\n",
    "model_json = model.to_json()\n",
    "with open(\"trained/conv_all.json\", \"w\") as json_file:\n",
    "    json_file.write(model_json)\n",
    "# serialize weights to HDF5\n",
    "model.save_weights(\"trained/conv_all.h5\")\n",
    "print(\"Saved model to disk\")"
   ]
  },
  {
   "cell_type": "code",
   "execution_count": null,
   "metadata": {
    "collapsed": true
   },
   "outputs": [],
   "source": []
  }
 ],
 "metadata": {
  "kernelspec": {
   "display_name": "Python 3",
   "language": "python",
   "name": "python3"
  },
  "language_info": {
   "codemirror_mode": {
    "name": "ipython",
    "version": 3
   },
   "file_extension": ".py",
   "mimetype": "text/x-python",
   "name": "python",
   "nbconvert_exporter": "python",
   "pygments_lexer": "ipython3",
   "version": "3.5.2"
  }
 },
 "nbformat": 4,
 "nbformat_minor": 2
}
