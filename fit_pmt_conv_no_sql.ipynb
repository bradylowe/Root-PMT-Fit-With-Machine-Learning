{
 "cells": [
  {
   "cell_type": "markdown",
   "metadata": {},
   "source": [
    "# Convolutional neural network for classifying Root data fits.\n",
    "\n",
    "\n",
    "Here, we define, train, and save new convolutional models as well as some \n",
    "simple model evaluation. We define hyper-parameters, number of layers, and \n",
    "training and testing datasets. \n",
    "\n",
    "Here, at the final layer, the network takes into account chi squared per degree of freedom."
   ]
  },
  {
   "cell_type": "markdown",
   "metadata": {},
   "source": [
    "## Load necessary packages"
   ]
  },
  {
   "cell_type": "code",
   "execution_count": 1,
   "metadata": {},
   "outputs": [
    {
     "name": "stderr",
     "output_type": "stream",
     "text": [
      "Using TensorFlow backend.\n"
     ]
    }
   ],
   "source": [
    "# Load some packages\n",
    "\n",
    "# Keras packages for network\n",
    "from keras.layers import Input, Dense, Activation, ZeroPadding2D\n",
    "from keras.layers import BatchNormalization, Concatenate, Flatten\n",
    "from keras.layers import AveragePooling2D, MaxPooling2D, Dropout, Conv2D\n",
    "from keras.models import Model\n",
    "from keras.optimizers import Adam, SGD\n",
    "# For saving model\n",
    "from keras.models import model_from_json\n",
    "# For plotting and drawing after training\n",
    "from keras.utils import plot_model\n",
    "\n",
    "# Need numpy for linear algebra\n",
    "import numpy as np\n",
    "# Need misc ad matplotlib for image manipulation\n",
    "from scipy import misc\n",
    "#from PIL import Image\n",
    "import matplotlib.pyplot as plt\n",
    "\n",
    "# Import personal functions for loading dataset\n",
    "import nn_utils as utils\n",
    "\n",
    "# Use magic function for plotting\n",
    "%matplotlib inline"
   ]
  },
  {
   "cell_type": "markdown",
   "metadata": {},
   "source": [
    "## Load root fit data from file\n",
    "\n",
    "Here, we load training data set and labels for training our CNN. \n",
    "\n",
    "### *Convolutional dataset consists of*\n",
    " - Linear scale png output of data points and fit lines\n",
    " - Log scale png output from the same fit\n",
    " - Fit input parameters such as high voltage, light level, minimum and maximum bounds to parameters\n",
    " - Fit output parameters such as signal mean and rms, gain measurement, chi squared per DOF, errors on parameters, etc.\n",
    " - Label (0 = bad fit, 1 = good fit)"
   ]
  },
  {
   "cell_type": "code",
   "execution_count": 2,
   "metadata": {
    "scrolled": true
   },
   "outputs": [
    {
     "name": "stdout",
     "output_type": "stream",
     "text": [
      "16 images loaded of shape (236, 348, 3)\n",
      "16 labels loaded\n",
      "16 input arrays loaded of length 38\n",
      "16 output arrays loaded of length 20\n"
     ]
    }
   ],
   "source": [
    "# Load training images\n",
    "x, x_log, in_params, out_params, y = utils.load_dataset_no_sql(dataset=\"train\")\n",
    "m, h, w, c = x.shape\n",
    "input_shape = h, w, c\n",
    "print(str(m) + \" images loaded of shape \" + str(input_shape))\n",
    "print(str(y.shape[0]) + \" labels loaded\")\n",
    "num_inputs, num_outputs = len(in_params[1]), len(out_params[1])\n",
    "print(str(len(in_params)) + \" input arrays loaded of length \" + str(num_inputs))\n",
    "print(str(len(out_params)) + \" output arrays loaded of length \" + str(num_outputs))"
   ]
  },
  {
   "cell_type": "markdown",
   "metadata": {},
   "source": [
    "### Load DEV set\n",
    "\n",
    "Here, we load development set images for model evaluation."
   ]
  },
  {
   "cell_type": "code",
   "execution_count": 3,
   "metadata": {},
   "outputs": [
    {
     "name": "stdout",
     "output_type": "stream",
     "text": [
      "2 dev examples loaded\n"
     ]
    }
   ],
   "source": [
    "# Load training images\n",
    "x_dev, x_log_dev, in_params_dev, out_params_dev, y_dev = utils.load_dataset_no_sql(dataset=\"dev\")\n",
    "m_dev = x_dev.shape[0]\n",
    "print(str(m_dev) + \" dev examples loaded\")"
   ]
  },
  {
   "cell_type": "markdown",
   "metadata": {},
   "source": [
    "### Print an image"
   ]
  },
  {
   "cell_type": "code",
   "execution_count": 4,
   "metadata": {},
   "outputs": [
    {
     "name": "stdout",
     "output_type": "stream",
     "text": [
      "label: good\n",
      "label: [1]\n",
      "\n",
      "fit_inputs: [ 4.00000000e+00  2.00000000e+03  1.00000000e+02  2.00000000e+03\n",
      "  4.60000000e+01  7.00000000e+00  0.00000000e+00  1.00000000e+03\n",
      "  1.00000000e+00  1.00000000e+00  1.60000000e+01  5.00000000e-02\n",
      "  6.13806921e+02  2.59090800e+00  5.00000000e-03  1.38000000e+00\n",
      "  4.00000000e+00  2.59090800e+00  4.76190000e-02  9.52381000e-01\n",
      "  1.00000000e-03 -1.00000000e+00 -1.00000000e+00 -1.00000000e+00\n",
      "  1.24200000e+00 -1.00000000e+00 -1.00000000e+00  4.28570000e-02\n",
      "  9.47619000e-01  3.00000000e-01 -1.00000000e+00 -1.00000000e+00\n",
      " -1.00000000e+00  1.51800000e+00 -1.00000000e+00 -1.00000000e+00\n",
      "  5.23810000e-02  9.57143000e-01]\n",
      "\n",
      "fit_outputs: [4.49600000e-03 6.11732964e+02 1.91337200e+00 3.73860000e-02\n",
      " 1.31145900e+00 8.02303000e-01 5.13300000e-02 9.47619000e-01\n",
      " 1.66000000e-04 4.60230000e-02 1.78770000e-02 1.15600000e-03\n",
      " 3.39900000e-02 7.35670000e-02 1.16100000e-03 8.12000000e-04\n",
      " 3.33283400e+00 5.86704000e-01 1.78910000e-02 3.04934300e+00]\n"
     ]
    },
    {
     "data": {
      "text/plain": [
       "<matplotlib.image.AxesImage at 0x7fd723bf0748>"
      ]
     },
     "execution_count": 4,
     "metadata": {},
     "output_type": "execute_result"
    },
    {
     "data": {
      "image/png": "[encoded data removed]",
      "text/plain": [
       "<Figure size 432x288 with 1 Axes>"
      ]
     },
     "metadata": {
      "needs_background": "light"
     },
     "output_type": "display_data"
    }
   ],
   "source": [
    "# Print an image\n",
    "index = 2\n",
    "# Choose log or linear scale\n",
    "log_scale = False\n",
    "this_image = x_log[index] if log_scale else x[index]\n",
    "if y[index] == 1:\n",
    "    print(\"label: good\")\n",
    "else:\n",
    "    print(\"label: bad\")\n",
    "print(\"label: \" + str(y[index]))\n",
    "print(\"\\nfit_inputs: \" + str(in_params[index]))\n",
    "print(\"\\nfit_outputs: \" + str(out_params[index]))\n",
    "plt.imshow(np.uint8(utils.get_printable_image(this_image)))"
   ]
  },
  {
   "cell_type": "markdown",
   "metadata": {},
   "source": [
    "# Define and train convolutional neural net\n",
    "\n",
    "### *Architecture:*\n",
    " - We will actually train two conv nets in parallel side-by-side, one looking at linear scale images while the other looks at log scale images. \n",
    " - After we put the images through the multiple convolutional layers, we will flatten them into 1D arrays and concatenate them together.\n",
    " - To this array, we will concatenate all the useful values that were input to and output from the fit algorithm.\n",
    " - We now should have all the information avaiable from the fit contained in a single array of values that we can send into a deep, fully-connected network for classification.\n",
    "\n",
    "### *Convolutional layers:*\n",
    " - We use 3 conv layers with batch normalization, dropout, and minimal pooling.\n",
    " - In a single convolutional layer, we will scan over our images with a certain stride and a certain kernal size (with multiple filters each time). \n",
    " - As long as our kernel size or stride is greater than 1, we will be decreasing the size of the image with each pass through a convolutional layer (we are using no padding). \n",
    " - Through applying filters in convolution as well as using max pooling, we will end up with a very reduced representation of our image; we hope that this still contains all the information necessary to classify it as a good/bad fit."
   ]
  },
  {
   "cell_type": "code",
   "execution_count": 5,
   "metadata": {},
   "outputs": [],
   "source": [
    "# Define Conv layers\n",
    "filters = []\n",
    "kernels = []\n",
    "strides = []\n",
    "pools = []\n",
    "dropouts = []\n",
    "\n",
    "# Conv1\n",
    "filters.append(32)\n",
    "kernels.append(5)\n",
    "strides.append(3)\n",
    "pools.append(1)\n",
    "dropouts.append(0.1)\n",
    "\n",
    "# Conv2\n",
    "filters.append(64)\n",
    "kernels.append(7)\n",
    "strides.append(2)\n",
    "pools.append(1)\n",
    "dropouts.append(0.1)\n",
    "\n",
    "# Conv3\n",
    "filters.append(128)\n",
    "kernels.append(9)\n",
    "strides.append(3)\n",
    "pools.append(2)\n",
    "dropouts.append(0.2)\n",
    "\n",
    "# Define dense layers\n",
    "neurons = [100, 80, 60, 40, 20, 10]"
   ]
  },
  {
   "cell_type": "markdown",
   "metadata": {},
   "source": [
    "## Define keras layers (model)\n",
    "\n",
    "Our model contains two convolutional models in parallel, each with multiple layers. We run two in parallel to utilize log scale images AND linear scale (different information present). \n",
    "\n",
    "After we convolve the images, we flatten them and concatenate them. We also concatenate to them a list of inputs and outputs to and from the root fit algorithm such as parameter initial condition and bounds, output parameters plus errors, and chi-squared per degree of freedom.\n",
    "\n",
    "After concatenating these three sources of information together, we send them through some fully-connected layers to allow learning from all three sources simultaneously.\n",
    "\n",
    "Dropout is used here for regularization.\n",
    "Pooling is used here to speed up computation.\n",
    "Batch normalization is used to aid in learning at deeper layers."
   ]
  },
  {
   "cell_type": "code",
   "execution_count": 6,
   "metadata": {},
   "outputs": [],
   "source": [
    "# Define input layer (RGB image matrix)\n",
    "X = Input(shape=input_shape, name='Input')\n",
    "\n",
    "# Define additional input info\n",
    "X_log = Input(shape=input_shape, name='InputLog')\n",
    "\n",
    "# Define additional input info\n",
    "In_params = Input(shape=(num_inputs,), name='In_params')\n",
    "Out_params = Input(shape=(num_outputs,), name='Out_params')\n",
    "\n",
    "# Initialize activation as input\n",
    "a = X\n",
    "a_log = X_log\n",
    "# Loop through all convolutional layers\n",
    "for i in range(len(filters)):\n",
    "    # Perform convolution\n",
    "    a = Conv2D(filters=filters[i], kernel_size=(kernels[i], kernels[i]), strides=(strides[i], strides[i]), name=('conv' + str(i)))(a)\n",
    "    a_log = Conv2D(filters=filters[i], kernel_size=(kernels[i], kernels[i]), strides=(strides[i], strides[i]), name=('conv_log' + str(i)))(a_log)\n",
    "    # Normalize\n",
    "    a = BatchNormalization(axis=3, name=('bn' + str(i)))(a)\n",
    "    a_log = BatchNormalization(axis=3, name=('bn_log' + str(i)))(a_log)\n",
    "    # Activate\n",
    "    a = Activation('elu', name=('a' + str(i)))(a)\n",
    "    a_log = Activation('elu', name=('a_log' + str(i)))(a_log)\n",
    "    # Max-pool\n",
    "    a = MaxPooling2D((pools[i], pools[i]), name=('max_pool' + str(i)))(a)\n",
    "    a_log = MaxPooling2D((pools[i], pools[i]), name=('max_pool_log' + str(i)))(a_log)\n",
    "    # Dropout\n",
    "    a = Dropout(rate=dropouts[i])(a)\n",
    "    a_log = Dropout(rate=dropouts[i])(a_log)\n",
    "\n",
    "# Flatten output of convNet\n",
    "a = Flatten()(a)\n",
    "a_log = Flatten()(a_log)\n",
    "\n",
    "a_both = Concatenate()([a, a_log])\n",
    "\n",
    "# Concatenate and normalize input/output parameters\n",
    "params = Concatenate()([In_params, Out_params])\n",
    "params = BatchNormalization(name='bn_params')(params)\n",
    "\n",
    "# Concatenate parameters to activations\n",
    "a = Concatenate()([a_both, params])\n",
    "\n",
    "# Loop through dense layers\n",
    "for i in range(len(neurons)):\n",
    "    a = Dense(units=neurons[i], activation='relu', name=('fc' + str(i)))(a)\n",
    "    a = Dropout(rate=0.2)(a)\n",
    "    \n",
    "# Define output layer \n",
    "a = Dense(units=1, activation='sigmoid', name='sigmoid')(a)\n",
    "\n",
    "# Make the model\n",
    "model = Model(inputs=[X, X_log, In_params, Out_params], outputs=a)"
   ]
  },
  {
   "cell_type": "markdown",
   "metadata": {},
   "source": [
    "##### Define optimizer, loss, and metrics. Compile model."
   ]
  },
  {
   "cell_type": "code",
   "execution_count": 7,
   "metadata": {
    "scrolled": true
   },
   "outputs": [
    {
     "name": "stdout",
     "output_type": "stream",
     "text": [
      "__________________________________________________________________________________________________\n",
      "Layer (type)                    Output Shape         Param #     Connected to                     \n",
      "==================================================================================================\n",
      "Input (InputLayer)              (None, 236, 348, 3)  0                                            \n",
      "__________________________________________________________________________________________________\n",
      "InputLog (InputLayer)           (None, 236, 348, 3)  0                                            \n",
      "__________________________________________________________________________________________________\n",
      "conv0 (Conv2D)                  (None, 78, 115, 32)  2432        Input[0][0]                      \n",
      "__________________________________________________________________________________________________\n",
      "conv_log0 (Conv2D)              (None, 78, 115, 32)  2432        InputLog[0][0]                   \n",
      "__________________________________________________________________________________________________\n",
      "bn0 (BatchNormalization)        (None, 78, 115, 32)  128         conv0[0][0]                      \n",
      "__________________________________________________________________________________________________\n",
      "bn_log0 (BatchNormalization)    (None, 78, 115, 32)  128         conv_log0[0][0]                  \n",
      "__________________________________________________________________________________________________\n",
      "a0 (Activation)                 (None, 78, 115, 32)  0           bn0[0][0]                        \n",
      "__________________________________________________________________________________________________\n",
      "a_log0 (Activation)             (None, 78, 115, 32)  0           bn_log0[0][0]                    \n",
      "__________________________________________________________________________________________________\n",
      "max_pool0 (MaxPooling2D)        (None, 78, 115, 32)  0           a0[0][0]                         \n",
      "__________________________________________________________________________________________________\n",
      "max_pool_log0 (MaxPooling2D)    (None, 78, 115, 32)  0           a_log0[0][0]                     \n",
      "__________________________________________________________________________________________________\n",
      "dropout_1 (Dropout)             (None, 78, 115, 32)  0           max_pool0[0][0]                  \n",
      "__________________________________________________________________________________________________\n",
      "dropout_2 (Dropout)             (None, 78, 115, 32)  0           max_pool_log0[0][0]              \n",
      "__________________________________________________________________________________________________\n",
      "conv1 (Conv2D)                  (None, 36, 55, 64)   100416      dropout_1[0][0]                  \n",
      "__________________________________________________________________________________________________\n",
      "conv_log1 (Conv2D)              (None, 36, 55, 64)   100416      dropout_2[0][0]                  \n",
      "__________________________________________________________________________________________________\n",
      "bn1 (BatchNormalization)        (None, 36, 55, 64)   256         conv1[0][0]                      \n",
      "__________________________________________________________________________________________________\n",
      "bn_log1 (BatchNormalization)    (None, 36, 55, 64)   256         conv_log1[0][0]                  \n",
      "__________________________________________________________________________________________________\n",
      "a1 (Activation)                 (None, 36, 55, 64)   0           bn1[0][0]                        \n",
      "__________________________________________________________________________________________________\n",
      "a_log1 (Activation)             (None, 36, 55, 64)   0           bn_log1[0][0]                    \n",
      "__________________________________________________________________________________________________\n",
      "max_pool1 (MaxPooling2D)        (None, 36, 55, 64)   0           a1[0][0]                         \n",
      "__________________________________________________________________________________________________\n",
      "max_pool_log1 (MaxPooling2D)    (None, 36, 55, 64)   0           a_log1[0][0]                     \n",
      "__________________________________________________________________________________________________\n",
      "dropout_3 (Dropout)             (None, 36, 55, 64)   0           max_pool1[0][0]                  \n",
      "__________________________________________________________________________________________________\n",
      "dropout_4 (Dropout)             (None, 36, 55, 64)   0           max_pool_log1[0][0]              \n",
      "__________________________________________________________________________________________________\n",
      "conv2 (Conv2D)                  (None, 10, 16, 128)  663680      dropout_3[0][0]                  \n",
      "__________________________________________________________________________________________________\n",
      "conv_log2 (Conv2D)              (None, 10, 16, 128)  663680      dropout_4[0][0]                  \n",
      "__________________________________________________________________________________________________\n",
      "bn2 (BatchNormalization)        (None, 10, 16, 128)  512         conv2[0][0]                      \n",
      "__________________________________________________________________________________________________\n",
      "bn_log2 (BatchNormalization)    (None, 10, 16, 128)  512         conv_log2[0][0]                  \n",
      "__________________________________________________________________________________________________\n",
      "a2 (Activation)                 (None, 10, 16, 128)  0           bn2[0][0]                        \n",
      "__________________________________________________________________________________________________\n",
      "a_log2 (Activation)             (None, 10, 16, 128)  0           bn_log2[0][0]                    \n",
      "__________________________________________________________________________________________________\n",
      "max_pool2 (MaxPooling2D)        (None, 5, 8, 128)    0           a2[0][0]                         \n",
      "__________________________________________________________________________________________________\n",
      "max_pool_log2 (MaxPooling2D)    (None, 5, 8, 128)    0           a_log2[0][0]                     \n",
      "__________________________________________________________________________________________________\n",
      "dropout_5 (Dropout)             (None, 5, 8, 128)    0           max_pool2[0][0]                  \n",
      "__________________________________________________________________________________________________\n",
      "dropout_6 (Dropout)             (None, 5, 8, 128)    0           max_pool_log2[0][0]              \n",
      "__________________________________________________________________________________________________\n",
      "In_params (InputLayer)          (None, 38)           0                                            \n",
      "__________________________________________________________________________________________________\n",
      "Out_params (InputLayer)         (None, 20)           0                                            \n",
      "__________________________________________________________________________________________________\n",
      "flatten_1 (Flatten)             (None, 5120)         0           dropout_5[0][0]                  \n",
      "__________________________________________________________________________________________________\n",
      "flatten_2 (Flatten)             (None, 5120)         0           dropout_6[0][0]                  \n",
      "__________________________________________________________________________________________________\n",
      "concatenate_2 (Concatenate)     (None, 58)           0           In_params[0][0]                  \n",
      "                                                                 Out_params[0][0]                 \n",
      "__________________________________________________________________________________________________\n",
      "concatenate_1 (Concatenate)     (None, 10240)        0           flatten_1[0][0]                  \n",
      "                                                                 flatten_2[0][0]                  \n",
      "__________________________________________________________________________________________________\n",
      "bn_params (BatchNormalization)  (None, 58)           232         concatenate_2[0][0]              \n",
      "__________________________________________________________________________________________________\n",
      "concatenate_3 (Concatenate)     (None, 10298)        0           concatenate_1[0][0]              \n",
      "                                                                 bn_params[0][0]                  \n",
      "__________________________________________________________________________________________________\n",
      "fc0 (Dense)                     (None, 100)          1029900     concatenate_3[0][0]              \n",
      "__________________________________________________________________________________________________\n",
      "dropout_7 (Dropout)             (None, 100)          0           fc0[0][0]                        \n",
      "__________________________________________________________________________________________________\n",
      "fc1 (Dense)                     (None, 80)           8080        dropout_7[0][0]                  \n",
      "__________________________________________________________________________________________________\n",
      "dropout_8 (Dropout)             (None, 80)           0           fc1[0][0]                        \n",
      "__________________________________________________________________________________________________\n",
      "fc2 (Dense)                     (None, 60)           4860        dropout_8[0][0]                  \n",
      "__________________________________________________________________________________________________\n",
      "dropout_9 (Dropout)             (None, 60)           0           fc2[0][0]                        \n",
      "__________________________________________________________________________________________________\n",
      "fc3 (Dense)                     (None, 40)           2440        dropout_9[0][0]                  \n",
      "__________________________________________________________________________________________________\n",
      "dropout_10 (Dropout)            (None, 40)           0           fc3[0][0]                        \n",
      "__________________________________________________________________________________________________\n",
      "fc4 (Dense)                     (None, 20)           820         dropout_10[0][0]                 \n",
      "__________________________________________________________________________________________________\n",
      "dropout_11 (Dropout)            (None, 20)           0           fc4[0][0]                        \n",
      "__________________________________________________________________________________________________\n",
      "fc5 (Dense)                     (None, 10)           210         dropout_11[0][0]                 \n",
      "__________________________________________________________________________________________________\n",
      "dropout_12 (Dropout)            (None, 10)           0           fc5[0][0]                        \n",
      "__________________________________________________________________________________________________\n",
      "sigmoid (Dense)                 (None, 1)            11          dropout_12[0][0]                 \n",
      "==================================================================================================\n",
      "Total params: 2,581,401\n",
      "Trainable params: 2,580,389\n",
      "Non-trainable params: 1,012\n",
      "__________________________________________________________________________________________________\n"
     ]
    }
   ],
   "source": [
    "# Define optimizer\n",
    "#opt = Adam(lr=0.01, beta_1=0.9, beta_2=0.999, decay=0.001)\n",
    "opt = SGD(lr=1.0, decay=1e-6, momentum=0.9, nesterov=True)\n",
    "# Define loss\n",
    "loss = 'mean_squared_error'\n",
    "# Define metrics to use\n",
    "metrics=['acc']\n",
    "# Compile model\n",
    "model.compile(loss=loss, optimizer='sgd', metrics=metrics)\n",
    "# Print summary\n",
    "model.summary()\n",
    "# Initialize histories list for storing training results\n",
    "histories = []"
   ]
  },
  {
   "cell_type": "markdown",
   "metadata": {},
   "source": [
    "## Fit the model to the data (train)"
   ]
  },
  {
   "cell_type": "code",
   "execution_count": 8,
   "metadata": {
    "scrolled": true
   },
   "outputs": [
    {
     "name": "stdout",
     "output_type": "stream",
     "text": [
      "Train on 16 samples, validate on 2 samples\n",
      "Epoch 1/100\n",
      "16/16 [==============================] - 5s 305ms/step - loss: 0.2438 - acc: 0.5000 - val_loss: 0.2311 - val_acc: 1.0000\n",
      "Epoch 2/100\n",
      "16/16 [==============================] - 0s 10ms/step - loss: 0.2738 - acc: 0.5000 - val_loss: 0.2340 - val_acc: 1.0000\n",
      "Epoch 3/100\n",
      "16/16 [==============================] - 0s 9ms/step - loss: 0.2590 - acc: 0.6250 - val_loss: 0.2264 - val_acc: 1.0000\n",
      "Epoch 4/100\n",
      "16/16 [==============================] - 0s 8ms/step - loss: 0.3210 - acc: 0.4375 - val_loss: 0.2413 - val_acc: 0.5000\n",
      "Epoch 5/100\n",
      "16/16 [==============================] - 0s 8ms/step - loss: 0.2406 - acc: 0.6250 - val_loss: 0.2475 - val_acc: 0.5000\n",
      "Epoch 6/100\n",
      "16/16 [==============================] - 0s 8ms/step - loss: 0.2168 - acc: 0.6875 - val_loss: 0.2454 - val_acc: 1.0000\n",
      "Epoch 7/100\n",
      "16/16 [==============================] - 0s 8ms/step - loss: 0.2235 - acc: 0.5625 - val_loss: 0.2425 - val_acc: 0.5000\n",
      "Epoch 8/100\n",
      "16/16 [==============================] - 0s 8ms/step - loss: 0.2265 - acc: 0.8750 - val_loss: 0.2222 - val_acc: 1.0000\n",
      "Epoch 9/100\n",
      "16/16 [==============================] - 0s 8ms/step - loss: 0.2420 - acc: 0.5625 - val_loss: 0.2330 - val_acc: 0.5000\n",
      "Epoch 10/100\n",
      "16/16 [==============================] - 0s 9ms/step - loss: 0.2675 - acc: 0.6875 - val_loss: 0.2219 - val_acc: 0.5000\n",
      "Epoch 11/100\n",
      "16/16 [==============================] - 0s 8ms/step - loss: 0.2140 - acc: 0.7500 - val_loss: 0.2266 - val_acc: 0.5000\n",
      "Epoch 12/100\n",
      "16/16 [==============================] - 0s 8ms/step - loss: 0.2656 - acc: 0.4375 - val_loss: 0.2218 - val_acc: 1.0000\n",
      "Epoch 13/100\n",
      "16/16 [==============================] - 0s 19ms/step - loss: 0.2225 - acc: 0.6875 - val_loss: 0.2256 - val_acc: 0.5000\n",
      "Epoch 14/100\n",
      "16/16 [==============================] - 0s 20ms/step - loss: 0.2174 - acc: 0.6250 - val_loss: 0.2200 - val_acc: 1.0000\n",
      "Epoch 15/100\n",
      "16/16 [==============================] - 0s 19ms/step - loss: 0.2775 - acc: 0.5625 - val_loss: 0.2119 - val_acc: 1.0000\n",
      "Epoch 16/100\n",
      "16/16 [==============================] - 0s 21ms/step - loss: 0.2381 - acc: 0.5625 - val_loss: 0.2135 - val_acc: 1.0000\n",
      "Epoch 17/100\n",
      "16/16 [==============================] - 0s 19ms/step - loss: 0.3134 - acc: 0.4375 - val_loss: 0.2277 - val_acc: 1.0000\n",
      "Epoch 18/100\n",
      "16/16 [==============================] - 0s 20ms/step - loss: 0.2141 - acc: 0.5625 - val_loss: 0.2303 - val_acc: 1.0000\n",
      "Epoch 19/100\n",
      "16/16 [==============================] - 0s 19ms/step - loss: 0.3403 - acc: 0.5000 - val_loss: 0.2284 - val_acc: 1.0000\n",
      "Epoch 20/100\n",
      "16/16 [==============================] - 0s 20ms/step - loss: 0.1990 - acc: 0.7500 - val_loss: 0.2512 - val_acc: 0.5000\n",
      "Epoch 21/100\n",
      "16/16 [==============================] - 0s 19ms/step - loss: 0.2444 - acc: 0.5625 - val_loss: 0.2214 - val_acc: 0.5000\n",
      "Epoch 22/100\n",
      "16/16 [==============================] - 0s 20ms/step - loss: 0.2370 - acc: 0.5625 - val_loss: 0.2124 - val_acc: 1.0000\n",
      "Epoch 23/100\n",
      "16/16 [==============================] - 0s 19ms/step - loss: 0.2657 - acc: 0.5625 - val_loss: 0.2210 - val_acc: 0.5000\n",
      "Epoch 24/100\n",
      "16/16 [==============================] - 0s 21ms/step - loss: 0.1857 - acc: 0.6250 - val_loss: 0.2174 - val_acc: 0.5000\n",
      "Epoch 25/100\n",
      "16/16 [==============================] - 0s 19ms/step - loss: 0.1893 - acc: 0.6250 - val_loss: 0.2089 - val_acc: 0.5000\n",
      "Epoch 26/100\n",
      "16/16 [==============================] - 0s 21ms/step - loss: 0.2074 - acc: 0.7500 - val_loss: 0.2125 - val_acc: 0.5000\n",
      "Epoch 27/100\n",
      "16/16 [==============================] - 0s 19ms/step - loss: 0.1578 - acc: 0.6875 - val_loss: 0.2151 - val_acc: 1.0000\n",
      "Epoch 28/100\n",
      "16/16 [==============================] - 0s 20ms/step - loss: 0.1739 - acc: 0.6250 - val_loss: 0.2096 - val_acc: 1.0000\n",
      "Epoch 29/100\n",
      "16/16 [==============================] - 0s 19ms/step - loss: 0.1612 - acc: 0.7500 - val_loss: 0.2156 - val_acc: 0.5000\n",
      "Epoch 30/100\n",
      "16/16 [==============================] - 0s 21ms/step - loss: 0.1511 - acc: 0.8750 - val_loss: 0.2127 - val_acc: 0.5000\n",
      "Epoch 31/100\n",
      "16/16 [==============================] - 0s 20ms/step - loss: 0.1879 - acc: 0.6875 - val_loss: 0.2081 - val_acc: 0.5000\n",
      "Epoch 32/100\n",
      "16/16 [==============================] - 0s 21ms/step - loss: 0.1576 - acc: 0.8125 - val_loss: 0.1995 - val_acc: 0.5000\n",
      "Epoch 33/100\n",
      "16/16 [==============================] - 0s 19ms/step - loss: 0.1834 - acc: 0.7500 - val_loss: 0.1954 - val_acc: 0.5000\n",
      "Epoch 34/100\n",
      "16/16 [==============================] - 0s 22ms/step - loss: 0.1530 - acc: 0.7500 - val_loss: 0.1906 - val_acc: 0.5000\n",
      "Epoch 35/100\n",
      "16/16 [==============================] - 0s 20ms/step - loss: 0.2524 - acc: 0.6250 - val_loss: 0.1971 - val_acc: 0.5000\n",
      "Epoch 36/100\n",
      "16/16 [==============================] - 0s 20ms/step - loss: 0.1471 - acc: 0.7500 - val_loss: 0.1929 - val_acc: 0.5000\n",
      "Epoch 37/100\n",
      "16/16 [==============================] - 0s 20ms/step - loss: 0.2077 - acc: 0.6250 - val_loss: 0.2138 - val_acc: 0.5000\n",
      "Epoch 38/100\n",
      "16/16 [==============================] - 0s 22ms/step - loss: 0.2170 - acc: 0.6875 - val_loss: 0.1905 - val_acc: 1.0000\n",
      "Epoch 39/100\n",
      "16/16 [==============================] - 0s 20ms/step - loss: 0.1664 - acc: 0.8125 - val_loss: 0.1904 - val_acc: 1.0000\n",
      "Epoch 40/100\n",
      "16/16 [==============================] - 0s 22ms/step - loss: 0.2470 - acc: 0.5625 - val_loss: 0.1815 - val_acc: 1.0000\n",
      "Epoch 41/100\n",
      "16/16 [==============================] - 0s 20ms/step - loss: 0.1910 - acc: 0.7500 - val_loss: 0.1751 - val_acc: 1.0000\n",
      "Epoch 42/100\n",
      "16/16 [==============================] - 0s 22ms/step - loss: 0.1490 - acc: 0.7500 - val_loss: 0.1775 - val_acc: 1.0000\n",
      "Epoch 43/100\n",
      "16/16 [==============================] - 0s 21ms/step - loss: 0.1582 - acc: 0.8125 - val_loss: 0.1742 - val_acc: 1.0000\n",
      "Epoch 44/100\n",
      "16/16 [==============================] - 0s 22ms/step - loss: 0.2280 - acc: 0.5625 - val_loss: 0.1829 - val_acc: 1.0000\n",
      "Epoch 45/100\n",
      "16/16 [==============================] - 0s 20ms/step - loss: 0.1844 - acc: 0.7500 - val_loss: 0.1669 - val_acc: 1.0000\n",
      "Epoch 46/100\n",
      "16/16 [==============================] - 0s 22ms/step - loss: 0.1636 - acc: 0.7500 - val_loss: 0.1714 - val_acc: 1.0000\n",
      "Epoch 47/100\n",
      "16/16 [==============================] - 0s 19ms/step - loss: 0.1159 - acc: 0.9375 - val_loss: 0.1678 - val_acc: 1.0000\n",
      "Epoch 48/100\n",
      "16/16 [==============================] - 0s 22ms/step - loss: 0.1597 - acc: 0.7500 - val_loss: 0.1834 - val_acc: 0.5000\n",
      "Epoch 49/100\n",
      "16/16 [==============================] - 0s 20ms/step - loss: 0.1621 - acc: 0.6875 - val_loss: 0.1863 - val_acc: 0.5000\n",
      "Epoch 50/100\n",
      "16/16 [==============================] - 0s 20ms/step - loss: 0.1049 - acc: 0.8750 - val_loss: 0.1917 - val_acc: 0.5000\n",
      "Epoch 51/100\n",
      "16/16 [==============================] - 0s 20ms/step - loss: 0.1356 - acc: 0.8750 - val_loss: 0.1836 - val_acc: 0.5000\n",
      "Epoch 52/100\n",
      "16/16 [==============================] - 0s 22ms/step - loss: 0.1350 - acc: 0.8125 - val_loss: 0.1623 - val_acc: 1.0000\n",
      "Epoch 53/100\n",
      "16/16 [==============================] - 0s 20ms/step - loss: 0.1407 - acc: 0.8750 - val_loss: 0.1589 - val_acc: 1.0000\n",
      "Epoch 54/100\n",
      "16/16 [==============================] - 0s 21ms/step - loss: 0.1186 - acc: 0.9375 - val_loss: 0.1520 - val_acc: 1.0000\n",
      "Epoch 55/100\n",
      "16/16 [==============================] - 0s 20ms/step - loss: 0.1498 - acc: 0.8125 - val_loss: 0.1463 - val_acc: 1.0000\n",
      "Epoch 56/100\n",
      "16/16 [==============================] - 0s 22ms/step - loss: 0.1471 - acc: 0.8125 - val_loss: 0.1690 - val_acc: 1.0000\n",
      "Epoch 57/100\n",
      "16/16 [==============================] - 0s 19ms/step - loss: 0.1062 - acc: 0.8750 - val_loss: 0.2000 - val_acc: 0.5000\n",
      "Epoch 58/100\n",
      "16/16 [==============================] - 0s 21ms/step - loss: 0.1381 - acc: 0.7500 - val_loss: 0.1730 - val_acc: 1.0000\n",
      "Epoch 59/100\n",
      "16/16 [==============================] - 0s 21ms/step - loss: 0.1648 - acc: 0.7500 - val_loss: 0.1756 - val_acc: 0.5000\n",
      "Epoch 60/100\n",
      "16/16 [==============================] - 0s 22ms/step - loss: 0.1901 - acc: 0.7500 - val_loss: 0.1795 - val_acc: 0.5000\n",
      "Epoch 61/100\n",
      "16/16 [==============================] - 0s 19ms/step - loss: 0.1201 - acc: 0.8750 - val_loss: 0.1694 - val_acc: 0.5000\n",
      "Epoch 62/100\n",
      "16/16 [==============================] - 0s 21ms/step - loss: 0.1568 - acc: 0.7500 - val_loss: 0.1455 - val_acc: 1.0000\n"
     ]
    },
    {
     "name": "stdout",
     "output_type": "stream",
     "text": [
      "Epoch 63/100\n",
      "16/16 [==============================] - 0s 21ms/step - loss: 0.1346 - acc: 0.8125 - val_loss: 0.1520 - val_acc: 1.0000\n",
      "Epoch 64/100\n",
      "16/16 [==============================] - 0s 20ms/step - loss: 0.1850 - acc: 0.6250 - val_loss: 0.1856 - val_acc: 0.5000\n",
      "Epoch 65/100\n",
      "16/16 [==============================] - 0s 19ms/step - loss: 0.2110 - acc: 0.6875 - val_loss: 0.1518 - val_acc: 0.5000\n",
      "Epoch 66/100\n",
      "16/16 [==============================] - 0s 22ms/step - loss: 0.1410 - acc: 0.7500 - val_loss: 0.1523 - val_acc: 0.5000\n",
      "Epoch 67/100\n",
      "16/16 [==============================] - 0s 21ms/step - loss: 0.1475 - acc: 0.8750 - val_loss: 0.1374 - val_acc: 1.0000\n",
      "Epoch 68/100\n",
      "16/16 [==============================] - 0s 21ms/step - loss: 0.1722 - acc: 0.6875 - val_loss: 0.1667 - val_acc: 0.5000\n",
      "Epoch 69/100\n",
      "16/16 [==============================] - 0s 21ms/step - loss: 0.1953 - acc: 0.7500 - val_loss: 0.1812 - val_acc: 0.5000\n",
      "Epoch 70/100\n",
      "16/16 [==============================] - 0s 21ms/step - loss: 0.1064 - acc: 0.8750 - val_loss: 0.1722 - val_acc: 0.5000\n",
      "Epoch 71/100\n",
      "16/16 [==============================] - 0s 20ms/step - loss: 0.0669 - acc: 1.0000 - val_loss: 0.1506 - val_acc: 0.5000\n",
      "Epoch 72/100\n",
      "16/16 [==============================] - 0s 20ms/step - loss: 0.1410 - acc: 0.8750 - val_loss: 0.1175 - val_acc: 1.0000\n",
      "Epoch 73/100\n",
      "16/16 [==============================] - 0s 20ms/step - loss: 0.1450 - acc: 0.8125 - val_loss: 0.1228 - val_acc: 1.0000\n",
      "Epoch 74/100\n",
      "16/16 [==============================] - 0s 22ms/step - loss: 0.1560 - acc: 0.8125 - val_loss: 0.1027 - val_acc: 1.0000\n",
      "Epoch 75/100\n",
      "16/16 [==============================] - 0s 20ms/step - loss: 0.1235 - acc: 0.8750 - val_loss: 0.1418 - val_acc: 0.5000\n",
      "Epoch 76/100\n",
      "16/16 [==============================] - 0s 21ms/step - loss: 0.1564 - acc: 0.8125 - val_loss: 0.1354 - val_acc: 1.0000\n",
      "Epoch 77/100\n",
      "16/16 [==============================] - 0s 19ms/step - loss: 0.2060 - acc: 0.6875 - val_loss: 0.1155 - val_acc: 1.0000\n",
      "Epoch 78/100\n",
      "16/16 [==============================] - 0s 22ms/step - loss: 0.0718 - acc: 0.8750 - val_loss: 0.1293 - val_acc: 1.0000\n",
      "Epoch 79/100\n",
      "16/16 [==============================] - 0s 21ms/step - loss: 0.0671 - acc: 0.9375 - val_loss: 0.1295 - val_acc: 1.0000\n",
      "Epoch 80/100\n",
      "16/16 [==============================] - 0s 21ms/step - loss: 0.1904 - acc: 0.7500 - val_loss: 0.1541 - val_acc: 0.5000\n",
      "Epoch 81/100\n",
      "16/16 [==============================] - 0s 19ms/step - loss: 0.0803 - acc: 0.8750 - val_loss: 0.1808 - val_acc: 0.5000\n",
      "Epoch 82/100\n",
      "16/16 [==============================] - 0s 21ms/step - loss: 0.1215 - acc: 0.8750 - val_loss: 0.1649 - val_acc: 0.5000\n",
      "Epoch 83/100\n",
      "16/16 [==============================] - 0s 21ms/step - loss: 0.0711 - acc: 0.9375 - val_loss: 0.1682 - val_acc: 0.5000\n",
      "Epoch 84/100\n",
      "16/16 [==============================] - 0s 21ms/step - loss: 0.0879 - acc: 0.8125 - val_loss: 0.1451 - val_acc: 0.5000\n",
      "Epoch 85/100\n",
      "16/16 [==============================] - 0s 21ms/step - loss: 0.1034 - acc: 0.8125 - val_loss: 0.1113 - val_acc: 1.0000\n",
      "Epoch 86/100\n",
      "16/16 [==============================] - 0s 20ms/step - loss: 0.1383 - acc: 0.7500 - val_loss: 0.1310 - val_acc: 1.0000\n",
      "Epoch 87/100\n",
      "16/16 [==============================] - 0s 19ms/step - loss: 0.0415 - acc: 0.9375 - val_loss: 0.1490 - val_acc: 0.5000\n",
      "Epoch 88/100\n",
      "16/16 [==============================] - 0s 20ms/step - loss: 0.0961 - acc: 0.8750 - val_loss: 0.1373 - val_acc: 0.5000\n",
      "Epoch 89/100\n",
      "16/16 [==============================] - 0s 19ms/step - loss: 0.1055 - acc: 0.8750 - val_loss: 0.1113 - val_acc: 1.0000\n",
      "Epoch 90/100\n",
      "16/16 [==============================] - 0s 21ms/step - loss: 0.1691 - acc: 0.7500 - val_loss: 0.1739 - val_acc: 0.5000\n",
      "Epoch 91/100\n",
      "16/16 [==============================] - 0s 18ms/step - loss: 0.1382 - acc: 0.7500 - val_loss: 0.1465 - val_acc: 0.5000\n",
      "Epoch 92/100\n",
      "16/16 [==============================] - 0s 21ms/step - loss: 0.0676 - acc: 1.0000 - val_loss: 0.1561 - val_acc: 0.5000\n",
      "Epoch 93/100\n",
      "16/16 [==============================] - 0s 19ms/step - loss: 0.0576 - acc: 0.9375 - val_loss: 0.1317 - val_acc: 1.0000\n",
      "Epoch 94/100\n",
      "16/16 [==============================] - 0s 20ms/step - loss: 0.1253 - acc: 0.8125 - val_loss: 0.1562 - val_acc: 0.5000\n",
      "Epoch 95/100\n",
      "16/16 [==============================] - 0s 19ms/step - loss: 0.0613 - acc: 0.9375 - val_loss: 0.1135 - val_acc: 1.0000\n",
      "Epoch 96/100\n",
      "16/16 [==============================] - 0s 20ms/step - loss: 0.0633 - acc: 0.9375 - val_loss: 0.1180 - val_acc: 1.0000\n",
      "Epoch 97/100\n",
      "16/16 [==============================] - 0s 19ms/step - loss: 0.0668 - acc: 0.9375 - val_loss: 0.1753 - val_acc: 0.5000\n",
      "Epoch 98/100\n",
      "16/16 [==============================] - 0s 22ms/step - loss: 0.1392 - acc: 0.8125 - val_loss: 0.2355 - val_acc: 0.5000\n",
      "Epoch 99/100\n",
      "16/16 [==============================] - 0s 19ms/step - loss: 0.0445 - acc: 1.0000 - val_loss: 0.2568 - val_acc: 0.5000\n",
      "Epoch 100/100\n",
      "16/16 [==============================] - 0s 23ms/step - loss: 0.0623 - acc: 0.9375 - val_loss: 0.2447 - val_acc: 0.5000\n",
      "Train on 16 samples, validate on 2 samples\n",
      "Epoch 1/100\n",
      "16/16 [==============================] - 0s 24ms/step - loss: 0.0742 - acc: 0.9375 - val_loss: 0.2196 - val_acc: 0.5000\n",
      "Epoch 2/100\n",
      "16/16 [==============================] - 0s 22ms/step - loss: 0.1090 - acc: 0.8750 - val_loss: 0.2162 - val_acc: 0.5000\n",
      "Epoch 3/100\n",
      "16/16 [==============================] - 0s 20ms/step - loss: 0.0549 - acc: 0.8750 - val_loss: 0.1106 - val_acc: 1.0000\n",
      "Epoch 4/100\n",
      "16/16 [==============================] - 0s 21ms/step - loss: 0.1168 - acc: 0.8750 - val_loss: 0.1457 - val_acc: 0.5000\n",
      "Epoch 5/100\n",
      "16/16 [==============================] - 0s 20ms/step - loss: 0.0662 - acc: 0.9375 - val_loss: 0.1501 - val_acc: 0.5000\n",
      "Epoch 6/100\n",
      "16/16 [==============================] - 0s 23ms/step - loss: 0.1230 - acc: 0.8750 - val_loss: 0.1273 - val_acc: 1.0000\n",
      "Epoch 7/100\n",
      "16/16 [==============================] - 0s 20ms/step - loss: 0.0579 - acc: 0.9375 - val_loss: 0.1382 - val_acc: 0.5000\n",
      "Epoch 8/100\n",
      "16/16 [==============================] - 0s 20ms/step - loss: 0.1275 - acc: 0.7500 - val_loss: 0.1204 - val_acc: 1.0000\n",
      "Epoch 9/100\n",
      "16/16 [==============================] - 0s 20ms/step - loss: 0.0984 - acc: 0.7500 - val_loss: 0.1291 - val_acc: 0.5000\n",
      "Epoch 10/100\n",
      "16/16 [==============================] - 0s 20ms/step - loss: 0.1027 - acc: 0.8125 - val_loss: 0.1077 - val_acc: 1.0000\n",
      "Epoch 11/100\n",
      "16/16 [==============================] - 0s 20ms/step - loss: 0.1032 - acc: 0.9375 - val_loss: 0.1192 - val_acc: 1.0000\n",
      "Epoch 12/100\n",
      "16/16 [==============================] - 0s 22ms/step - loss: 0.0762 - acc: 0.8750 - val_loss: 0.1012 - val_acc: 1.0000\n",
      "Epoch 13/100\n",
      "16/16 [==============================] - 0s 20ms/step - loss: 0.1753 - acc: 0.6875 - val_loss: 0.1728 - val_acc: 0.5000\n",
      "Epoch 14/100\n",
      "16/16 [==============================] - 0s 22ms/step - loss: 0.0813 - acc: 0.8750 - val_loss: 0.1618 - val_acc: 0.5000\n",
      "Epoch 15/100\n",
      "16/16 [==============================] - 0s 19ms/step - loss: 0.0272 - acc: 1.0000 - val_loss: 0.1912 - val_acc: 0.5000\n",
      "Epoch 16/100\n",
      "16/16 [==============================] - 0s 20ms/step - loss: 0.0957 - acc: 0.8750 - val_loss: 0.2117 - val_acc: 0.5000\n",
      "Epoch 17/100\n",
      "16/16 [==============================] - 0s 19ms/step - loss: 0.0625 - acc: 0.9375 - val_loss: 0.1951 - val_acc: 0.5000\n",
      "Epoch 18/100\n",
      "16/16 [==============================] - 0s 20ms/step - loss: 0.0592 - acc: 0.9375 - val_loss: 0.1794 - val_acc: 0.5000\n",
      "Epoch 19/100\n",
      "16/16 [==============================] - 0s 20ms/step - loss: 0.0853 - acc: 0.9375 - val_loss: 0.1907 - val_acc: 0.5000\n",
      "Epoch 20/100\n",
      "16/16 [==============================] - 0s 20ms/step - loss: 0.1424 - acc: 0.8125 - val_loss: 0.2101 - val_acc: 0.5000\n",
      "Epoch 21/100\n",
      "16/16 [==============================] - 0s 19ms/step - loss: 0.0652 - acc: 0.9375 - val_loss: 0.2033 - val_acc: 0.5000\n",
      "Epoch 22/100\n",
      "16/16 [==============================] - 0s 20ms/step - loss: 0.0642 - acc: 0.8750 - val_loss: 0.1656 - val_acc: 0.5000\n",
      "Epoch 23/100\n",
      "16/16 [==============================] - 0s 19ms/step - loss: 0.0776 - acc: 0.9375 - val_loss: 0.1423 - val_acc: 0.5000\n",
      "Epoch 24/100\n",
      "16/16 [==============================] - 0s 20ms/step - loss: 0.0436 - acc: 0.9375 - val_loss: 0.1560 - val_acc: 0.5000\n"
     ]
    },
    {
     "name": "stdout",
     "output_type": "stream",
     "text": [
      "Epoch 25/100\n",
      "16/16 [==============================] - 0s 19ms/step - loss: 0.0315 - acc: 1.0000 - val_loss: 0.1500 - val_acc: 0.5000\n",
      "Epoch 26/100\n",
      "16/16 [==============================] - 0s 20ms/step - loss: 0.0447 - acc: 1.0000 - val_loss: 0.1693 - val_acc: 0.5000\n",
      "Epoch 27/100\n",
      "16/16 [==============================] - 0s 19ms/step - loss: 0.1347 - acc: 0.8125 - val_loss: 0.1426 - val_acc: 0.5000\n",
      "Epoch 28/100\n",
      "16/16 [==============================] - 0s 20ms/step - loss: 0.0191 - acc: 1.0000 - val_loss: 0.1507 - val_acc: 0.5000\n",
      "Epoch 29/100\n",
      "16/16 [==============================] - 0s 19ms/step - loss: 0.0627 - acc: 0.9375 - val_loss: 0.1680 - val_acc: 0.5000\n",
      "Epoch 30/100\n",
      "16/16 [==============================] - 0s 20ms/step - loss: 0.0511 - acc: 0.9375 - val_loss: 0.1787 - val_acc: 0.5000\n",
      "Epoch 31/100\n",
      "16/16 [==============================] - 0s 18ms/step - loss: 0.0550 - acc: 0.9375 - val_loss: 0.1943 - val_acc: 0.5000\n",
      "Epoch 32/100\n",
      "16/16 [==============================] - 0s 20ms/step - loss: 0.0099 - acc: 1.0000 - val_loss: 0.1716 - val_acc: 0.5000\n",
      "Epoch 33/100\n",
      "16/16 [==============================] - 0s 19ms/step - loss: 0.1278 - acc: 0.8750 - val_loss: 0.1333 - val_acc: 0.5000\n",
      "Epoch 34/100\n",
      "16/16 [==============================] - 0s 20ms/step - loss: 0.0428 - acc: 0.9375 - val_loss: 0.1600 - val_acc: 0.5000\n",
      "Epoch 35/100\n",
      "16/16 [==============================] - 0s 19ms/step - loss: 0.0558 - acc: 0.8750 - val_loss: 0.1263 - val_acc: 0.5000\n",
      "Epoch 36/100\n",
      "16/16 [==============================] - 0s 20ms/step - loss: 0.0608 - acc: 0.9375 - val_loss: 0.1845 - val_acc: 0.5000\n",
      "Epoch 37/100\n",
      "16/16 [==============================] - 0s 19ms/step - loss: 0.0404 - acc: 1.0000 - val_loss: 0.1666 - val_acc: 0.5000\n",
      "Epoch 38/100\n",
      "16/16 [==============================] - 0s 20ms/step - loss: 0.0801 - acc: 0.9375 - val_loss: 0.1930 - val_acc: 0.5000\n",
      "Epoch 39/100\n",
      "16/16 [==============================] - 0s 19ms/step - loss: 0.0381 - acc: 0.9375 - val_loss: 0.1963 - val_acc: 0.5000\n",
      "Epoch 40/100\n",
      "16/16 [==============================] - 0s 20ms/step - loss: 0.0911 - acc: 0.9375 - val_loss: 0.2043 - val_acc: 0.5000\n",
      "Epoch 41/100\n",
      "16/16 [==============================] - 0s 19ms/step - loss: 0.0282 - acc: 1.0000 - val_loss: 0.2075 - val_acc: 0.5000\n",
      "Epoch 42/100\n",
      "16/16 [==============================] - 0s 20ms/step - loss: 0.0360 - acc: 0.9375 - val_loss: 0.2474 - val_acc: 0.5000\n",
      "Epoch 43/100\n",
      "16/16 [==============================] - 0s 19ms/step - loss: 0.0918 - acc: 0.8750 - val_loss: 0.1862 - val_acc: 0.5000\n",
      "Epoch 44/100\n",
      "16/16 [==============================] - 0s 20ms/step - loss: 0.0861 - acc: 0.8750 - val_loss: 0.0814 - val_acc: 1.0000\n",
      "Epoch 45/100\n",
      "16/16 [==============================] - 0s 18ms/step - loss: 0.0379 - acc: 0.9375 - val_loss: 0.0969 - val_acc: 1.0000\n",
      "Epoch 46/100\n",
      "16/16 [==============================] - 0s 20ms/step - loss: 0.0213 - acc: 1.0000 - val_loss: 0.0927 - val_acc: 1.0000\n",
      "Epoch 47/100\n",
      "16/16 [==============================] - 0s 19ms/step - loss: 0.0703 - acc: 0.8750 - val_loss: 0.1102 - val_acc: 1.0000\n",
      "Epoch 48/100\n",
      "16/16 [==============================] - 0s 20ms/step - loss: 0.0570 - acc: 0.8750 - val_loss: 0.0867 - val_acc: 1.0000\n",
      "Epoch 49/100\n",
      "16/16 [==============================] - 0s 20ms/step - loss: 0.0689 - acc: 0.8750 - val_loss: 0.1830 - val_acc: 0.5000\n",
      "Epoch 50/100\n",
      "16/16 [==============================] - 0s 20ms/step - loss: 0.0446 - acc: 1.0000 - val_loss: 0.1823 - val_acc: 0.5000\n",
      "Epoch 51/100\n",
      "16/16 [==============================] - 0s 21ms/step - loss: 0.0090 - acc: 1.0000 - val_loss: 0.1919 - val_acc: 0.5000\n",
      "Epoch 52/100\n",
      "16/16 [==============================] - 0s 21ms/step - loss: 0.0874 - acc: 0.8750 - val_loss: 0.1939 - val_acc: 0.5000\n",
      "Epoch 53/100\n",
      "16/16 [==============================] - 0s 20ms/step - loss: 0.1223 - acc: 0.8750 - val_loss: 0.2496 - val_acc: 0.5000\n",
      "Epoch 54/100\n",
      "16/16 [==============================] - 0s 21ms/step - loss: 0.1066 - acc: 0.8750 - val_loss: 0.2332 - val_acc: 0.5000\n",
      "Epoch 55/100\n",
      "16/16 [==============================] - 0s 20ms/step - loss: 0.0529 - acc: 1.0000 - val_loss: 0.2504 - val_acc: 0.5000\n",
      "Epoch 56/100\n",
      "16/16 [==============================] - 0s 22ms/step - loss: 0.1562 - acc: 0.7500 - val_loss: 0.2832 - val_acc: 0.5000\n",
      "Epoch 57/100\n",
      "16/16 [==============================] - 0s 21ms/step - loss: 0.0774 - acc: 0.8750 - val_loss: 0.2744 - val_acc: 0.5000\n",
      "Epoch 58/100\n",
      "16/16 [==============================] - 0s 22ms/step - loss: 0.0469 - acc: 0.9375 - val_loss: 0.2822 - val_acc: 0.5000\n",
      "Epoch 59/100\n",
      "16/16 [==============================] - 0s 20ms/step - loss: 0.0296 - acc: 1.0000 - val_loss: 0.2727 - val_acc: 0.5000\n",
      "Epoch 60/100\n",
      "16/16 [==============================] - 0s 20ms/step - loss: 0.0327 - acc: 0.9375 - val_loss: 0.2752 - val_acc: 0.5000\n",
      "Epoch 61/100\n",
      "16/16 [==============================] - 0s 19ms/step - loss: 0.0630 - acc: 0.8750 - val_loss: 0.1922 - val_acc: 0.5000\n",
      "Epoch 62/100\n",
      "16/16 [==============================] - 0s 20ms/step - loss: 0.0133 - acc: 1.0000 - val_loss: 0.1898 - val_acc: 0.5000\n",
      "Epoch 63/100\n",
      "16/16 [==============================] - 0s 19ms/step - loss: 0.0907 - acc: 0.8750 - val_loss: 0.1805 - val_acc: 0.5000\n",
      "Epoch 64/100\n",
      "16/16 [==============================] - 0s 21ms/step - loss: 0.1010 - acc: 0.8750 - val_loss: 0.1831 - val_acc: 0.5000\n",
      "Epoch 65/100\n",
      "16/16 [==============================] - 0s 19ms/step - loss: 0.0172 - acc: 1.0000 - val_loss: 0.2036 - val_acc: 0.5000\n",
      "Epoch 66/100\n",
      "16/16 [==============================] - 0s 20ms/step - loss: 0.0477 - acc: 0.8750 - val_loss: 0.2216 - val_acc: 0.5000\n",
      "Epoch 67/100\n",
      "16/16 [==============================] - 0s 19ms/step - loss: 0.0911 - acc: 0.8125 - val_loss: 0.2537 - val_acc: 0.5000\n",
      "Epoch 68/100\n",
      "16/16 [==============================] - 0s 20ms/step - loss: 0.1069 - acc: 0.8750 - val_loss: 0.2752 - val_acc: 0.5000\n",
      "Epoch 69/100\n",
      "16/16 [==============================] - 0s 19ms/step - loss: 0.0433 - acc: 0.9375 - val_loss: 0.1474 - val_acc: 0.5000\n",
      "Epoch 70/100\n",
      "16/16 [==============================] - 0s 20ms/step - loss: 0.0418 - acc: 0.9375 - val_loss: 0.1505 - val_acc: 0.5000\n",
      "Epoch 71/100\n",
      "16/16 [==============================] - 0s 19ms/step - loss: 0.0155 - acc: 1.0000 - val_loss: 0.1511 - val_acc: 0.5000\n",
      "Epoch 72/100\n",
      "16/16 [==============================] - 0s 20ms/step - loss: 0.0194 - acc: 1.0000 - val_loss: 0.1464 - val_acc: 0.5000\n",
      "Epoch 73/100\n",
      "16/16 [==============================] - 0s 19ms/step - loss: 0.0942 - acc: 0.7500 - val_loss: 0.1793 - val_acc: 0.5000\n",
      "Epoch 74/100\n",
      "16/16 [==============================] - 0s 21ms/step - loss: 0.0212 - acc: 1.0000 - val_loss: 0.2030 - val_acc: 0.5000\n",
      "Epoch 75/100\n",
      "16/16 [==============================] - 0s 19ms/step - loss: 0.0322 - acc: 1.0000 - val_loss: 0.1943 - val_acc: 0.5000\n",
      "Epoch 76/100\n",
      "16/16 [==============================] - 0s 20ms/step - loss: 0.0291 - acc: 1.0000 - val_loss: 0.2421 - val_acc: 0.5000\n",
      "Epoch 77/100\n",
      "16/16 [==============================] - 0s 18ms/step - loss: 0.0188 - acc: 1.0000 - val_loss: 0.2680 - val_acc: 0.5000\n",
      "Epoch 78/100\n",
      "16/16 [==============================] - 0s 22ms/step - loss: 0.0102 - acc: 1.0000 - val_loss: 0.2604 - val_acc: 0.5000\n",
      "Epoch 79/100\n",
      "16/16 [==============================] - 0s 20ms/step - loss: 0.0353 - acc: 0.9375 - val_loss: 0.2803 - val_acc: 0.5000\n",
      "Epoch 80/100\n",
      "16/16 [==============================] - 0s 22ms/step - loss: 0.0303 - acc: 1.0000 - val_loss: 0.1492 - val_acc: 0.5000\n",
      "Epoch 81/100\n",
      "16/16 [==============================] - 0s 19ms/step - loss: 0.0343 - acc: 1.0000 - val_loss: 0.1332 - val_acc: 0.5000\n",
      "Epoch 82/100\n",
      "16/16 [==============================] - 0s 21ms/step - loss: 0.0512 - acc: 0.9375 - val_loss: 0.1524 - val_acc: 0.5000\n",
      "Epoch 83/100\n",
      "16/16 [==============================] - 0s 19ms/step - loss: 0.0191 - acc: 1.0000 - val_loss: 0.1803 - val_acc: 0.5000\n",
      "Epoch 84/100\n",
      "16/16 [==============================] - 0s 21ms/step - loss: 0.0443 - acc: 0.9375 - val_loss: 0.1765 - val_acc: 0.5000\n",
      "Epoch 85/100\n",
      "16/16 [==============================] - 0s 21ms/step - loss: 0.0406 - acc: 0.9375 - val_loss: 0.1778 - val_acc: 0.5000\n",
      "Epoch 86/100\n",
      "16/16 [==============================] - 0s 21ms/step - loss: 0.0592 - acc: 0.9375 - val_loss: 0.2515 - val_acc: 0.5000\n"
     ]
    },
    {
     "name": "stdout",
     "output_type": "stream",
     "text": [
      "Epoch 87/100\n",
      "16/16 [==============================] - 0s 18ms/step - loss: 0.0682 - acc: 0.8125 - val_loss: 0.2560 - val_acc: 0.5000\n",
      "Epoch 88/100\n",
      "16/16 [==============================] - 0s 20ms/step - loss: 0.0410 - acc: 1.0000 - val_loss: 0.2632 - val_acc: 0.5000\n",
      "Epoch 89/100\n",
      "16/16 [==============================] - 0s 19ms/step - loss: 0.0229 - acc: 1.0000 - val_loss: 0.1894 - val_acc: 0.5000\n",
      "Epoch 90/100\n",
      "16/16 [==============================] - 0s 20ms/step - loss: 0.0261 - acc: 1.0000 - val_loss: 0.2240 - val_acc: 0.5000\n",
      "Epoch 91/100\n",
      "16/16 [==============================] - 0s 19ms/step - loss: 0.0513 - acc: 0.9375 - val_loss: 0.2102 - val_acc: 0.5000\n",
      "Epoch 92/100\n",
      "16/16 [==============================] - 0s 20ms/step - loss: 0.0366 - acc: 0.9375 - val_loss: 0.2248 - val_acc: 0.5000\n",
      "Epoch 93/100\n",
      "16/16 [==============================] - 0s 19ms/step - loss: 0.0691 - acc: 0.8750 - val_loss: 0.1875 - val_acc: 0.5000\n",
      "Epoch 94/100\n",
      "16/16 [==============================] - 0s 22ms/step - loss: 0.0188 - acc: 1.0000 - val_loss: 0.1859 - val_acc: 0.5000\n",
      "Epoch 95/100\n",
      "16/16 [==============================] - 0s 19ms/step - loss: 0.0074 - acc: 1.0000 - val_loss: 0.1492 - val_acc: 0.5000\n",
      "Epoch 96/100\n",
      "16/16 [==============================] - 0s 21ms/step - loss: 0.0357 - acc: 1.0000 - val_loss: 0.1657 - val_acc: 0.5000\n",
      "Epoch 97/100\n",
      "16/16 [==============================] - 0s 19ms/step - loss: 0.0181 - acc: 1.0000 - val_loss: 0.1667 - val_acc: 0.5000\n",
      "Epoch 98/100\n",
      "16/16 [==============================] - 0s 20ms/step - loss: 0.0053 - acc: 1.0000 - val_loss: 0.1684 - val_acc: 0.5000\n",
      "Epoch 99/100\n",
      "16/16 [==============================] - 0s 20ms/step - loss: 0.1024 - acc: 0.8125 - val_loss: 0.1856 - val_acc: 0.5000\n",
      "Epoch 100/100\n",
      "16/16 [==============================] - 0s 21ms/step - loss: 0.0509 - acc: 0.8750 - val_loss: 0.2439 - val_acc: 0.5000\n",
      "Train on 16 samples, validate on 2 samples\n",
      "Epoch 1/100\n",
      "16/16 [==============================] - 0s 23ms/step - loss: 0.0157 - acc: 1.0000 - val_loss: 0.2423 - val_acc: 0.5000\n",
      "Epoch 2/100\n",
      "16/16 [==============================] - 0s 21ms/step - loss: 0.0549 - acc: 0.9375 - val_loss: 0.1468 - val_acc: 0.5000\n",
      "Epoch 3/100\n",
      "16/16 [==============================] - 0s 20ms/step - loss: 0.0974 - acc: 0.8750 - val_loss: 0.1998 - val_acc: 0.5000\n",
      "Epoch 4/100\n",
      "16/16 [==============================] - 0s 22ms/step - loss: 0.0416 - acc: 0.9375 - val_loss: 0.2402 - val_acc: 0.5000\n",
      "Epoch 5/100\n",
      "16/16 [==============================] - 0s 19ms/step - loss: 0.0175 - acc: 1.0000 - val_loss: 0.2437 - val_acc: 0.5000\n",
      "Epoch 6/100\n",
      "16/16 [==============================] - 0s 20ms/step - loss: 0.0485 - acc: 0.9375 - val_loss: 0.2236 - val_acc: 0.5000\n",
      "Epoch 7/100\n",
      "16/16 [==============================] - 0s 19ms/step - loss: 0.0328 - acc: 0.9375 - val_loss: 0.2577 - val_acc: 0.5000\n",
      "Epoch 8/100\n",
      "16/16 [==============================] - 0s 21ms/step - loss: 0.0217 - acc: 0.9375 - val_loss: 0.2602 - val_acc: 0.5000\n",
      "Epoch 9/100\n",
      "16/16 [==============================] - 0s 19ms/step - loss: 0.0209 - acc: 1.0000 - val_loss: 0.2599 - val_acc: 0.5000\n",
      "Epoch 10/100\n",
      "16/16 [==============================] - 0s 20ms/step - loss: 0.0274 - acc: 1.0000 - val_loss: 0.2837 - val_acc: 0.5000\n",
      "Epoch 11/100\n",
      "16/16 [==============================] - 0s 19ms/step - loss: 0.0565 - acc: 0.9375 - val_loss: 0.2933 - val_acc: 0.5000\n",
      "Epoch 12/100\n",
      "16/16 [==============================] - 0s 21ms/step - loss: 0.0171 - acc: 1.0000 - val_loss: 0.2929 - val_acc: 0.5000\n",
      "Epoch 13/100\n",
      "16/16 [==============================] - 0s 19ms/step - loss: 0.0226 - acc: 1.0000 - val_loss: 0.3201 - val_acc: 0.5000\n",
      "Epoch 14/100\n",
      "16/16 [==============================] - 0s 21ms/step - loss: 0.0226 - acc: 1.0000 - val_loss: 0.3226 - val_acc: 0.5000\n",
      "Epoch 15/100\n",
      "16/16 [==============================] - 0s 19ms/step - loss: 0.0292 - acc: 1.0000 - val_loss: 0.3372 - val_acc: 0.5000\n",
      "Epoch 16/100\n"
     ]
    },
    {
     "ename": "KeyboardInterrupt",
     "evalue": "",
     "output_type": "error",
     "traceback": [
      "\u001b[0;31m---------------------------------------------------------------------------\u001b[0m",
      "\u001b[0;31mKeyboardInterrupt\u001b[0m                         Traceback (most recent call last)",
      "\u001b[0;32m<ipython-input-8-c77b5bfbb8c2>\u001b[0m in \u001b[0;36m<module>\u001b[0;34m\u001b[0m\n\u001b[1;32m      4\u001b[0m \u001b[0msize_of_batches\u001b[0m \u001b[0;34m=\u001b[0m \u001b[0;36m128\u001b[0m\u001b[0;34m\u001b[0m\u001b[0m\n\u001b[1;32m      5\u001b[0m \u001b[0;32mfor\u001b[0m \u001b[0mii\u001b[0m \u001b[0;32min\u001b[0m \u001b[0mrange\u001b[0m\u001b[0;34m(\u001b[0m\u001b[0mnum_loops\u001b[0m\u001b[0;34m)\u001b[0m\u001b[0;34m:\u001b[0m\u001b[0;34m\u001b[0m\u001b[0m\n\u001b[0;32m----> 6\u001b[0;31m     \u001b[0mhistory\u001b[0m \u001b[0;34m=\u001b[0m \u001b[0mmodel\u001b[0m\u001b[0;34m.\u001b[0m\u001b[0mfit\u001b[0m\u001b[0;34m(\u001b[0m\u001b[0;34m[\u001b[0m\u001b[0mx\u001b[0m\u001b[0;34m,\u001b[0m \u001b[0mx_log\u001b[0m\u001b[0;34m,\u001b[0m \u001b[0min_params\u001b[0m\u001b[0;34m,\u001b[0m \u001b[0mout_params\u001b[0m\u001b[0;34m]\u001b[0m\u001b[0;34m,\u001b[0m \u001b[0my\u001b[0m\u001b[0;34m,\u001b[0m \u001b[0mvalidation_data\u001b[0m\u001b[0;34m=\u001b[0m\u001b[0;34m(\u001b[0m\u001b[0;34m[\u001b[0m\u001b[0mx_dev\u001b[0m\u001b[0;34m,\u001b[0m \u001b[0mx_log_dev\u001b[0m\u001b[0;34m,\u001b[0m \u001b[0min_params_dev\u001b[0m\u001b[0;34m,\u001b[0m \u001b[0mout_params_dev\u001b[0m\u001b[0;34m]\u001b[0m\u001b[0;34m,\u001b[0m \u001b[0my_dev\u001b[0m\u001b[0;34m)\u001b[0m\u001b[0;34m,\u001b[0m \u001b[0mepochs\u001b[0m\u001b[0;34m=\u001b[0m\u001b[0mnum_epochs\u001b[0m\u001b[0;34m,\u001b[0m \u001b[0mbatch_size\u001b[0m\u001b[0;34m=\u001b[0m\u001b[0;36m64\u001b[0m\u001b[0;34m)\u001b[0m\u001b[0;34m\u001b[0m\u001b[0m\n\u001b[0m\u001b[1;32m      7\u001b[0m     \u001b[0mhistories\u001b[0m\u001b[0;34m.\u001b[0m\u001b[0mappend\u001b[0m\u001b[0;34m(\u001b[0m\u001b[0mhistory\u001b[0m\u001b[0;34m)\u001b[0m\u001b[0;34m\u001b[0m\u001b[0m\n",
      "\u001b[0;32m~/.virtualenvs/tf-gpu/lib/python3.5/site-packages/keras/engine/training.py\u001b[0m in \u001b[0;36mfit\u001b[0;34m(self, x, y, batch_size, epochs, verbose, callbacks, validation_split, validation_data, shuffle, class_weight, sample_weight, initial_epoch, steps_per_epoch, validation_steps, **kwargs)\u001b[0m\n\u001b[1;32m   1037\u001b[0m                                         \u001b[0minitial_epoch\u001b[0m\u001b[0;34m=\u001b[0m\u001b[0minitial_epoch\u001b[0m\u001b[0;34m,\u001b[0m\u001b[0;34m\u001b[0m\u001b[0m\n\u001b[1;32m   1038\u001b[0m                                         \u001b[0msteps_per_epoch\u001b[0m\u001b[0;34m=\u001b[0m\u001b[0msteps_per_epoch\u001b[0m\u001b[0;34m,\u001b[0m\u001b[0;34m\u001b[0m\u001b[0m\n\u001b[0;32m-> 1039\u001b[0;31m                                         validation_steps=validation_steps)\n\u001b[0m\u001b[1;32m   1040\u001b[0m \u001b[0;34m\u001b[0m\u001b[0m\n\u001b[1;32m   1041\u001b[0m     def evaluate(self, x=None, y=None,\n",
      "\u001b[0;32m~/.virtualenvs/tf-gpu/lib/python3.5/site-packages/keras/engine/training_arrays.py\u001b[0m in \u001b[0;36mfit_loop\u001b[0;34m(model, f, ins, out_labels, batch_size, epochs, verbose, callbacks, val_f, val_ins, shuffle, callback_metrics, initial_epoch, steps_per_epoch, validation_steps)\u001b[0m\n\u001b[1;32m    183\u001b[0m                         \u001b[0;31m# Do not slice the training phase flag.\u001b[0m\u001b[0;34m\u001b[0m\u001b[0;34m\u001b[0m\u001b[0m\n\u001b[1;32m    184\u001b[0m                         ins_batch = slice_arrays(\n\u001b[0;32m--> 185\u001b[0;31m                             ins[:-1], batch_ids) + [ins[-1]]\n\u001b[0m\u001b[1;32m    186\u001b[0m                     \u001b[0;32melse\u001b[0m\u001b[0;34m:\u001b[0m\u001b[0;34m\u001b[0m\u001b[0m\n\u001b[1;32m    187\u001b[0m                         \u001b[0mins_batch\u001b[0m \u001b[0;34m=\u001b[0m \u001b[0mslice_arrays\u001b[0m\u001b[0;34m(\u001b[0m\u001b[0mins\u001b[0m\u001b[0;34m,\u001b[0m \u001b[0mbatch_ids\u001b[0m\u001b[0;34m)\u001b[0m\u001b[0;34m\u001b[0m\u001b[0m\n",
      "\u001b[0;32m~/.virtualenvs/tf-gpu/lib/python3.5/site-packages/keras/utils/generic_utils.py\u001b[0m in \u001b[0;36mslice_arrays\u001b[0;34m(arrays, start, stop)\u001b[0m\n\u001b[1;32m    524\u001b[0m             \u001b[0;32mif\u001b[0m \u001b[0mhasattr\u001b[0m\u001b[0;34m(\u001b[0m\u001b[0mstart\u001b[0m\u001b[0;34m,\u001b[0m \u001b[0;34m'shape'\u001b[0m\u001b[0;34m)\u001b[0m\u001b[0;34m:\u001b[0m\u001b[0;34m\u001b[0m\u001b[0m\n\u001b[1;32m    525\u001b[0m                 \u001b[0mstart\u001b[0m \u001b[0;34m=\u001b[0m \u001b[0mstart\u001b[0m\u001b[0;34m.\u001b[0m\u001b[0mtolist\u001b[0m\u001b[0;34m(\u001b[0m\u001b[0;34m)\u001b[0m\u001b[0;34m\u001b[0m\u001b[0m\n\u001b[0;32m--> 526\u001b[0;31m             \u001b[0;32mreturn\u001b[0m \u001b[0;34m[\u001b[0m\u001b[0;32mNone\u001b[0m \u001b[0;32mif\u001b[0m \u001b[0mx\u001b[0m \u001b[0;32mis\u001b[0m \u001b[0;32mNone\u001b[0m \u001b[0;32melse\u001b[0m \u001b[0mx\u001b[0m\u001b[0;34m[\u001b[0m\u001b[0mstart\u001b[0m\u001b[0;34m]\u001b[0m \u001b[0;32mfor\u001b[0m \u001b[0mx\u001b[0m \u001b[0;32min\u001b[0m \u001b[0marrays\u001b[0m\u001b[0;34m]\u001b[0m\u001b[0;34m\u001b[0m\u001b[0m\n\u001b[0m\u001b[1;32m    527\u001b[0m         \u001b[0;32melse\u001b[0m\u001b[0;34m:\u001b[0m\u001b[0;34m\u001b[0m\u001b[0m\n\u001b[1;32m    528\u001b[0m             \u001b[0;32mreturn\u001b[0m \u001b[0;34m[\u001b[0m\u001b[0;32mNone\u001b[0m \u001b[0;32mif\u001b[0m \u001b[0mx\u001b[0m \u001b[0;32mis\u001b[0m \u001b[0;32mNone\u001b[0m \u001b[0;32melse\u001b[0m \u001b[0mx\u001b[0m\u001b[0;34m[\u001b[0m\u001b[0mstart\u001b[0m\u001b[0;34m:\u001b[0m\u001b[0mstop\u001b[0m\u001b[0;34m]\u001b[0m \u001b[0;32mfor\u001b[0m \u001b[0mx\u001b[0m \u001b[0;32min\u001b[0m \u001b[0marrays\u001b[0m\u001b[0;34m]\u001b[0m\u001b[0;34m\u001b[0m\u001b[0m\n",
      "\u001b[0;32m~/.virtualenvs/tf-gpu/lib/python3.5/site-packages/keras/utils/generic_utils.py\u001b[0m in \u001b[0;36m<listcomp>\u001b[0;34m(.0)\u001b[0m\n\u001b[1;32m    524\u001b[0m             \u001b[0;32mif\u001b[0m \u001b[0mhasattr\u001b[0m\u001b[0;34m(\u001b[0m\u001b[0mstart\u001b[0m\u001b[0;34m,\u001b[0m \u001b[0;34m'shape'\u001b[0m\u001b[0;34m)\u001b[0m\u001b[0;34m:\u001b[0m\u001b[0;34m\u001b[0m\u001b[0m\n\u001b[1;32m    525\u001b[0m                 \u001b[0mstart\u001b[0m \u001b[0;34m=\u001b[0m \u001b[0mstart\u001b[0m\u001b[0;34m.\u001b[0m\u001b[0mtolist\u001b[0m\u001b[0;34m(\u001b[0m\u001b[0;34m)\u001b[0m\u001b[0;34m\u001b[0m\u001b[0m\n\u001b[0;32m--> 526\u001b[0;31m             \u001b[0;32mreturn\u001b[0m \u001b[0;34m[\u001b[0m\u001b[0;32mNone\u001b[0m \u001b[0;32mif\u001b[0m \u001b[0mx\u001b[0m \u001b[0;32mis\u001b[0m \u001b[0;32mNone\u001b[0m \u001b[0;32melse\u001b[0m \u001b[0mx\u001b[0m\u001b[0;34m[\u001b[0m\u001b[0mstart\u001b[0m\u001b[0;34m]\u001b[0m \u001b[0;32mfor\u001b[0m \u001b[0mx\u001b[0m \u001b[0;32min\u001b[0m \u001b[0marrays\u001b[0m\u001b[0;34m]\u001b[0m\u001b[0;34m\u001b[0m\u001b[0m\n\u001b[0m\u001b[1;32m    527\u001b[0m         \u001b[0;32melse\u001b[0m\u001b[0;34m:\u001b[0m\u001b[0;34m\u001b[0m\u001b[0m\n\u001b[1;32m    528\u001b[0m             \u001b[0;32mreturn\u001b[0m \u001b[0;34m[\u001b[0m\u001b[0;32mNone\u001b[0m \u001b[0;32mif\u001b[0m \u001b[0mx\u001b[0m \u001b[0;32mis\u001b[0m \u001b[0;32mNone\u001b[0m \u001b[0;32melse\u001b[0m \u001b[0mx\u001b[0m\u001b[0;34m[\u001b[0m\u001b[0mstart\u001b[0m\u001b[0;34m:\u001b[0m\u001b[0mstop\u001b[0m\u001b[0;34m]\u001b[0m \u001b[0;32mfor\u001b[0m \u001b[0mx\u001b[0m \u001b[0;32min\u001b[0m \u001b[0marrays\u001b[0m\u001b[0;34m]\u001b[0m\u001b[0;34m\u001b[0m\u001b[0m\n",
      "\u001b[0;31mKeyboardInterrupt\u001b[0m: "
     ]
    }
   ],
   "source": [
    "# Now, fit the model to the data\n",
    "num_epochs = 100\n",
    "num_loops = 3\n",
    "size_of_batches = 128\n",
    "for ii in range(num_loops):\n",
    "    history = model.fit([x, x_log, in_params, out_params], y, validation_data=([x_dev, x_log_dev, in_params_dev, out_params_dev], y_dev), epochs=num_epochs, batch_size=64)\n",
    "    histories.append(history)"
   ]
  },
  {
   "cell_type": "markdown",
   "metadata": {},
   "source": [
    "### Print training results"
   ]
  },
  {
   "cell_type": "code",
   "execution_count": 10,
   "metadata": {},
   "outputs": [
    {
     "name": "stdout",
     "output_type": "stream",
     "text": [
      "dict_keys(['acc', 'val_loss', 'val_acc', 'loss'])\n"
     ]
    },
    {
     "data": {
      "image/png": "[encoded data removed]",
      "text/plain": [
       "<Figure size 432x288 with 1 Axes>"
      ]
     },
     "metadata": {
      "needs_background": "light"
     },
     "output_type": "display_data"
    },
    {
     "data": {
      "image/png": "[encoded data removed]",
      "text/plain": [
       "<Figure size 432x288 with 1 Axes>"
      ]
     },
     "metadata": {
      "needs_background": "light"
     },
     "output_type": "display_data"
    }
   ],
   "source": [
    "# List all data in history\n",
    "index = 1\n",
    "print(histories[index].history.keys())\n",
    "# Summarize history for accuracy\n",
    "plt.plot(histories[index].history['acc'])\n",
    "plt.plot(histories[index].history['val_acc'])\n",
    "plt.title('model accuracy')\n",
    "plt.ylabel('accuracy')\n",
    "plt.xlabel('epoch')\n",
    "plt.legend(['train', 'test'], loc='upper left')\n",
    "plt.show()\n",
    "# Summarize history for loss\n",
    "plt.plot(histories[index].history['loss'])\n",
    "plt.plot(histories[index].history['val_loss'])\n",
    "plt.title('model loss')\n",
    "plt.ylabel('loss')\n",
    "plt.xlabel('epoch')\n",
    "plt.legend(['train', 'test'], loc='upper left')\n",
    "plt.show()"
   ]
  },
  {
   "cell_type": "markdown",
   "metadata": {},
   "source": [
    "## Additional model evaluation"
   ]
  },
  {
   "cell_type": "code",
   "execution_count": 12,
   "metadata": {},
   "outputs": [
    {
     "name": "stdout",
     "output_type": "stream",
     "text": [
      "2/2 [==============================] - 0s 6ms/step\n",
      "\n",
      "Performance on VALIDATION set\n",
      ".............................\n",
      "Loss: 0.33722010254859924\n",
      "Accuracy: 0.5\n",
      "Precision: 1.0\n",
      "Recall: 0.5\n",
      ".............................\n",
      "List of indices of wrong guesses:\n",
      "[1]\n"
     ]
    }
   ],
   "source": [
    "# Evaluate model, get metrics back\n",
    "stats = model.evaluate([x_dev, x_log_dev, in_params_dev, out_params_dev], y_dev)\n",
    "# Calculate predictions vector from model\n",
    "predictions = model.predict([x_dev, x_log_dev, in_params_dev, out_params_dev])\n",
    "predictions = np.floor(predictions + 0.5)\n",
    "\n",
    "# Get vector mask for good and bad fits and right and wrong answers\n",
    "good_fits = y_dev\n",
    "bad_fits = 1 - good_fits\n",
    "wrong_answers = np.abs(np.subtract(predictions, good_fits))\n",
    "right_answers = np.subtract(1, wrong_answers)\n",
    "# Calculate true positives (tp), as well as (tn) (fp) (fn)\n",
    "true_positives = np.multiply(right_answers, good_fits)\n",
    "true_negatives = np.multiply(right_answers, bad_fits)\n",
    "false_positives = np.multiply(wrong_answers, good_fits)\n",
    "false_negatives = np.multiply(wrong_answers, bad_fits)\n",
    "# Calculate additional metrics\n",
    "precision = np.sum(true_positives) / np.sum(true_positives + false_positives)\n",
    "recall = np.sum(true_positives) / np.sum(true_positives + false_negatives)\n",
    "\n",
    "# Print stats\n",
    "print()\n",
    "print(\"Performance on VALIDATION set\")\n",
    "print(\".............................\")\n",
    "print(\"Loss: \" + str(stats[0]))\n",
    "print(\"Accuracy: \" + str(stats[1]))\n",
    "print(\"Precision: \" + str(precision))\n",
    "print(\"Recall: \" + str(recall))\n",
    "\n",
    "# Print list of indices of wrong answers\n",
    "bad_list = []\n",
    "for i in range(m_dev):\n",
    "    if wrong_answers[i] == 1:\n",
    "        bad_list.append(i)\n",
    "print(\".............................\")\n",
    "print(\"List of indices of wrong guesses:\")\n",
    "print(bad_list)"
   ]
  },
  {
   "cell_type": "markdown",
   "metadata": {},
   "source": [
    "## Look at an image"
   ]
  },
  {
   "cell_type": "code",
   "execution_count": 14,
   "metadata": {},
   "outputs": [
    {
     "name": "stdout",
     "output_type": "stream",
     "text": [
      "label: [1]\n",
      "prediction: [1.]\n",
      "(236, 348, 3)\n"
     ]
    },
    {
     "data": {
      "text/plain": [
       "<matplotlib.image.AxesImage at 0x7fd6d0787c18>"
      ]
     },
     "execution_count": 14,
     "metadata": {},
     "output_type": "execute_result"
    },
    {
     "data": {
      "image/png": "[encoded data removed]",
      "text/plain": [
       "<Figure size 432x288 with 1 Axes>"
      ]
     },
     "metadata": {
      "needs_background": "light"
     },
     "output_type": "display_data"
    }
   ],
   "source": [
    "# Choose an index \n",
    "index = 0\n",
    "\n",
    "# Print labels for this index\n",
    "print(\"label: \" + str(good_fits[index]))\n",
    "print(\"prediction: \" + str(predictions[index]))\n",
    "\n",
    "# Show image\n",
    "this_image = x[index]\n",
    "print(str(this_image.shape))\n",
    "plt.imshow(np.uint8(utils.get_printable_image(this_image)))"
   ]
  },
  {
   "cell_type": "markdown",
   "metadata": {},
   "source": [
    "## Load pretrained conv model"
   ]
  },
  {
   "cell_type": "code",
   "execution_count": 25,
   "metadata": {},
   "outputs": [
    {
     "name": "stdout",
     "output_type": "stream",
     "text": [
      "Loaded model from disk\n"
     ]
    }
   ],
   "source": [
    "# load json and create model\n",
    "json_file = open('trained/conv_all.json', 'r')\n",
    "conv_model_json = json_file.read()\n",
    "json_file.close()\n",
    "model = model_from_json(conv_model_json)\n",
    "# load weights into new model\n",
    "model.load_weights(\"trained/conv_all.h5\")\n",
    "print(\"Loaded model from disk\")"
   ]
  },
  {
   "cell_type": "markdown",
   "metadata": {},
   "source": [
    "## Save convolutional model to disc"
   ]
  },
  {
   "cell_type": "code",
   "execution_count": 32,
   "metadata": {},
   "outputs": [
    {
     "name": "stdout",
     "output_type": "stream",
     "text": [
      "Saved model to disk\n"
     ]
    }
   ],
   "source": [
    "# serialize model to JSON\n",
    "model_json = model.to_json()\n",
    "with open(\"trained/conv_all.json\", \"w\") as json_file:\n",
    "    json_file.write(model_json)\n",
    "# serialize weights to HDF5\n",
    "model.save_weights(\"trained/conv_all.h5\")\n",
    "print(\"Saved model to disk\")"
   ]
  },
  {
   "cell_type": "code",
   "execution_count": null,
   "metadata": {
    "collapsed": true
   },
   "outputs": [],
   "source": []
  }
 ],
 "metadata": {
  "kernelspec": {
   "display_name": "Python 3",
   "language": "python",
   "name": "python3"
  },
  "language_info": {
   "codemirror_mode": {
    "name": "ipython",
    "version": 3
   },
   "file_extension": ".py",
   "mimetype": "text/x-python",
   "name": "python",
   "nbconvert_exporter": "python",
   "pygments_lexer": "ipython3",
   "version": "3.5.2"
  }
 },
 "nbformat": 4,
 "nbformat_minor": 2
}
