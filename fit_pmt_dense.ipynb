{
 "cells": [
  {
   "cell_type": "markdown",
   "metadata": {},
   "source": [
    "# Root fit analyzing neural network\n",
    "\n",
    "\n",
    "By Brady Lowe\n",
    "\n",
    "lowebra2@isu.edu\n",
    "\n",
    "7/25/2018\n",
    "\n",
    "\n",
    "This Jupyter notebook was written to both develope and explain how we can use\n",
    "neural networks to analyze the output of root fits to raw data."
   ]
  },
  {
   "cell_type": "markdown",
   "metadata": {},
   "source": [
    "#### Load necessary packages"
   ]
  },
  {
   "cell_type": "code",
   "execution_count": 2,
   "metadata": {},
   "outputs": [
    {
     "name": "stderr",
     "output_type": "stream",
     "text": [
      "Using TensorFlow backend.\n"
     ]
    }
   ],
   "source": [
    "# Load some packages\n",
    "\n",
    "# Keras packages for network\n",
    "from keras.layers import Input, Dense, Activation, ZeroPadding2D, BatchNormalization\n",
    "from keras.layers import AveragePooling2D, MaxPooling2D, Dropout, Conv2D, Flatten\n",
    "from keras.models import Model\n",
    "from keras.optimizers import Adam, SGD\n",
    "# For saving model\n",
    "from keras.models import model_from_json\n",
    "\n",
    "# Some items for plotting and drawing\n",
    "from keras.utils import plot_model\n",
    "from keras.utils.vis_utils import model_to_dot\n",
    "from IPython.display import SVG\n",
    "from PIL import Image\n",
    "from scipy import misc\n",
    "import matplotlib.pyplot as plt\n",
    "\n",
    "# Need numpy\n",
    "import numpy as np\n",
    "import nn_utils\n",
    "\n",
    "%matplotlib inline"
   ]
  },
  {
   "cell_type": "markdown",
   "metadata": {},
   "source": [
    "#### Load root fit data from file"
   ]
  },
  {
   "cell_type": "code",
   "execution_count": 3,
   "metadata": {},
   "outputs": [
    {
     "name": "stdout",
     "output_type": "stream",
     "text": [
      "(m_train, height, width, channels): (679, 236, 348, 3)\n",
      "m_test: 85\n"
     ]
    }
   ],
   "source": [
    "# Load dataset with m examples\n",
    "m = -1\n",
    "train_images, train_labels, test_images, test_labels = nn_utils.load_dataset(m)\n",
    "\n",
    "# Grab number of images\n",
    "m_train = train_images.shape[0]\n",
    "m_test = test_images.shape[0]\n",
    "\n",
    "# Grab dimensions of picture\n",
    "h = train_images.shape[1]\n",
    "w = train_images.shape[2]\n",
    "c = train_images.shape[3]\n",
    "\n",
    "# Print dimensions\n",
    "print(\"(m_train, height, width, channels): (\" + str(m_train) + \", \" + str(h) + \", \" + str(w) + \", \" + str(c) + \")\")\n",
    "print(\"m_test: \" + str(m_test))\n"
   ]
  },
  {
   "cell_type": "code",
   "execution_count": 9,
   "metadata": {},
   "outputs": [
    {
     "name": "stdout",
     "output_type": "stream",
     "text": [
      "label: good\n",
      "label: [1]\n"
     ]
    },
    {
     "data": {
      "text/plain": [
       "<matplotlib.image.AxesImage at 0x1d4d6e2a3c8>"
      ]
     },
     "execution_count": 9,
     "metadata": {},
     "output_type": "execute_result"
    },
    {
     "data": {
      "image/png": "[encoded data removed]",
      "text/plain": [
       "<matplotlib.figure.Figure at 0x1d4d6d88320>"
      ]
     },
     "metadata": {},
     "output_type": "display_data"
    }
   ],
   "source": [
    "# Print an image\n",
    "index = 420\n",
    "this_image = train_images[index]\n",
    "if train_labels[index] == 1:\n",
    "    print(\"label: good\")\n",
    "else:\n",
    "    print(\"label: bad\")\n",
    "print(\"label: \" + str(train_labels[index]))\n",
    "plt.imshow(np.uint8(nn_utils.get_printable_image(this_image)))"
   ]
  },
  {
   "cell_type": "markdown",
   "metadata": {},
   "source": [
    "## Define and Train Simple neural network (LRU)\n",
    "\n",
    "Here, we will use simple layers of relu neurons that are all fully connected (some number of these layers from 0 to 5), and then we will have a single neuron output layer acting as a logistic regression unit (LRU). \n",
    "For this fully connected network, we will flatten our data into a single dimension."
   ]
  },
  {
   "cell_type": "markdown",
   "metadata": {},
   "source": [
    "#### Properly shape data for LRU"
   ]
  },
  {
   "cell_type": "code",
   "execution_count": 4,
   "metadata": {},
   "outputs": [
    {
     "name": "stdout",
     "output_type": "stream",
     "text": [
      "n_x: 246384\n",
      "shape train_images_flat: 679, 246384\n",
      "shape test_images_flat: 85, 246384\n"
     ]
    }
   ],
   "source": [
    "# Reshape the data for the network we will use (logistic regression)\n",
    "train_images_flat = train_images.reshape(m_train, -1)\n",
    "test_images_flat = test_images.reshape(m_test, -1)\n",
    "\n",
    "# Grab input dimensionality\n",
    "n_x = train_images_flat.shape[1]\n",
    "# Print sizes\n",
    "print(\"n_x: \" + str(n_x))\n",
    "print(\"shape train_images_flat: \" + str(train_images_flat.shape[0]) + \", \" + str(train_images_flat.shape[1]))\n",
    "print(\"shape test_images_flat: \" + str(test_images_flat.shape[0]) + \", \" + str(test_images_flat.shape[1]))"
   ]
  },
  {
   "cell_type": "markdown",
   "metadata": {},
   "source": [
    "#### Define keras layers (model)\n",
    "Just one neuron fully connected to all pixels in the input image."
   ]
  },
  {
   "cell_type": "code",
   "execution_count": 12,
   "metadata": {},
   "outputs": [
    {
     "name": "stdout",
     "output_type": "stream",
     "text": [
      "_________________________________________________________________\n",
      "Layer (type)                 Output Shape              Param #   \n",
      "=================================================================\n",
      "input_1 (InputLayer)         (None, 246384)            0         \n",
      "_________________________________________________________________\n",
      "dense_1 (Dense)              (None, 1)                 246385    \n",
      "=================================================================\n",
      "Total params: 246,385\n",
      "Trainable params: 246,385\n",
      "Non-trainable params: 0\n",
      "_________________________________________________________________\n"
     ]
    }
   ],
   "source": [
    "# Define input layer (flat)\n",
    "X = Input(shape=(n_x,))\n",
    "# Define output activation (sigmoid neuron)\n",
    "a = Dense(units=1, activation='sigmoid')(X)\n",
    "# Make the model\n",
    "simple_model = Model(inputs=X, outputs=a)\n",
    "# Print summary\n",
    "simple_model.summary()"
   ]
  },
  {
   "cell_type": "markdown",
   "metadata": {},
   "source": [
    "#### Define keras ADDITIONAL layers (deeper model)\n",
    "This is a slightly larger fully-connected model.\n",
    "This model has 40 neurons in the first layer (fully\n",
    "connected to input layer), 30 neurons in the second \n",
    "layer, 20 neurons in the third layer, and a single\n",
    "neuron in the output layer. We implement dropout between\n",
    "some of the layers to help reduce overfitting."
   ]
  },
  {
   "cell_type": "code",
   "execution_count": 56,
   "metadata": {},
   "outputs": [
    {
     "name": "stdout",
     "output_type": "stream",
     "text": [
      "_________________________________________________________________\n",
      "Layer (type)                 Output Shape              Param #   \n",
      "=================================================================\n",
      "input_3 (InputLayer)         (None, 246384)            0         \n",
      "_________________________________________________________________\n",
      "dense_9 (Dense)              (None, 40)                9855400   \n",
      "_________________________________________________________________\n",
      "dropout_5 (Dropout)          (None, 40)                0         \n",
      "_________________________________________________________________\n",
      "dense_10 (Dense)             (None, 30)                1230      \n",
      "_________________________________________________________________\n",
      "dropout_6 (Dropout)          (None, 30)                0         \n",
      "_________________________________________________________________\n",
      "dense_11 (Dense)             (None, 20)                620       \n",
      "_________________________________________________________________\n",
      "dense_12 (Dense)             (None, 1)                 21        \n",
      "=================================================================\n",
      "Total params: 9,857,271\n",
      "Trainable params: 9,857,271\n",
      "Non-trainable params: 0\n",
      "_________________________________________________________________\n"
     ]
    }
   ],
   "source": [
    "# Define input layer (flat)\n",
    "X = Input(shape=(n_x,))\n",
    "# First layer\n",
    "a = Dense(units=40, activation='relu')(X)\n",
    "# Add dropout for regularization\n",
    "a = Dropout(rate=0.6)(a)\n",
    "# Second layer\n",
    "a = Dense(units=30, activation='relu')(a)\n",
    "# Add dropout for regularization\n",
    "a = Dropout(rate=0.5)(a)\n",
    "# Third layer\n",
    "a = Dense(units=20, activation='relu')(a)\n",
    "# Define output activation (sigmoid neuron)\n",
    "a = Dense(units=1, activation='sigmoid')(a)\n",
    "# Make the model\n",
    "simple_model = Model(inputs=X, outputs=a)\n",
    "# Print summary\n",
    "simple_model.summary()"
   ]
  },
  {
   "cell_type": "markdown",
   "metadata": {},
   "source": [
    "##### Define optimizer, loss, and metrics. Compile model."
   ]
  },
  {
   "cell_type": "code",
   "execution_count": 57,
   "metadata": {
    "collapsed": true
   },
   "outputs": [],
   "source": [
    "# Define optimizer\n",
    "opt = Adam(lr=0.01, beta_1=0.9, beta_2=0.999, decay=0.001)\n",
    "# Define loss\n",
    "loss = 'binary_crossentropy'\n",
    "# Define metrics to use\n",
    "metrics=[]\n",
    "metrics.append('accuracy')\n",
    "# Compile model\n",
    "simple_model.compile(loss=loss, optimizer='adam', metrics=metrics)"
   ]
  },
  {
   "cell_type": "markdown",
   "metadata": {},
   "source": [
    "##### Fit the model to the data (train)"
   ]
  },
  {
   "cell_type": "code",
   "execution_count": 61,
   "metadata": {},
   "outputs": [
    {
     "name": "stdout",
     "output_type": "stream",
     "text": [
      "Epoch 1/100\n",
      "679/679 [==============================] - 2s 2ms/step - loss: 0.1772 - acc: 0.9352\n",
      "Epoch 2/100\n",
      "679/679 [==============================] - 2s 2ms/step - loss: 0.1837 - acc: 0.9337\n",
      "Epoch 3/100\n",
      "679/679 [==============================] - 2s 2ms/step - loss: 0.2074 - acc: 0.9161\n",
      "Epoch 4/100\n",
      "679/679 [==============================] - 2s 2ms/step - loss: 0.2339 - acc: 0.9013\n",
      "Epoch 5/100\n",
      "679/679 [==============================] - 2s 2ms/step - loss: 0.2126 - acc: 0.9087\n",
      "Epoch 6/100\n",
      "679/679 [==============================] - 2s 2ms/step - loss: 0.1946 - acc: 0.9264\n",
      "Epoch 7/100\n",
      "679/679 [==============================] - 2s 2ms/step - loss: 0.2014 - acc: 0.9205\n",
      "Epoch 8/100\n",
      "679/679 [==============================] - 2s 2ms/step - loss: 0.1905 - acc: 0.9264\n",
      "Epoch 9/100\n",
      "679/679 [==============================] - 2s 2ms/step - loss: 0.2131 - acc: 0.9131\n",
      "Epoch 10/100\n",
      "679/679 [==============================] - 2s 2ms/step - loss: 0.1939 - acc: 0.9219\n",
      "Epoch 11/100\n",
      "679/679 [==============================] - 2s 2ms/step - loss: 0.2392 - acc: 0.8954\n",
      "Epoch 12/100\n",
      "679/679 [==============================] - 2s 2ms/step - loss: 0.1989 - acc: 0.9205\n",
      "Epoch 13/100\n",
      "679/679 [==============================] - 2s 2ms/step - loss: 0.1916 - acc: 0.9367\n",
      "Epoch 14/100\n",
      "679/679 [==============================] - 2s 2ms/step - loss: 0.1648 - acc: 0.9470\n",
      "Epoch 15/100\n",
      "679/679 [==============================] - 2s 2ms/step - loss: 0.2050 - acc: 0.9190\n",
      "Epoch 16/100\n",
      "679/679 [==============================] - 2s 2ms/step - loss: 0.2199 - acc: 0.9102\n",
      "Epoch 17/100\n",
      "679/679 [==============================] - 2s 2ms/step - loss: 0.2058 - acc: 0.9219\n",
      "Epoch 18/100\n",
      "679/679 [==============================] - 2s 2ms/step - loss: 0.1911 - acc: 0.9308\n",
      "Epoch 19/100\n",
      "679/679 [==============================] - 2s 2ms/step - loss: 0.2513 - acc: 0.9057\n",
      "Epoch 20/100\n",
      "679/679 [==============================] - 2s 2ms/step - loss: 0.2153 - acc: 0.9116\n",
      "Epoch 21/100\n",
      "679/679 [==============================] - 2s 2ms/step - loss: 0.2099 - acc: 0.9219\n",
      "Epoch 22/100\n",
      "679/679 [==============================] - 2s 2ms/step - loss: 0.2098 - acc: 0.9175\n",
      "Epoch 23/100\n",
      "679/679 [==============================] - 2s 2ms/step - loss: 0.2055 - acc: 0.9175\n",
      "Epoch 24/100\n",
      "679/679 [==============================] - 2s 2ms/step - loss: 0.1760 - acc: 0.9352\n",
      "Epoch 25/100\n",
      "679/679 [==============================] - 2s 2ms/step - loss: 0.1857 - acc: 0.9293\n",
      "Epoch 26/100\n",
      "679/679 [==============================] - 2s 2ms/step - loss: 0.1747 - acc: 0.9337\n",
      "Epoch 27/100\n",
      "679/679 [==============================] - 2s 2ms/step - loss: 0.1930 - acc: 0.9249\n",
      "Epoch 28/100\n",
      "679/679 [==============================] - 2s 2ms/step - loss: 0.2053 - acc: 0.9175\n",
      "Epoch 29/100\n",
      "679/679 [==============================] - 2s 2ms/step - loss: 0.1587 - acc: 0.9411\n",
      "Epoch 30/100\n",
      "679/679 [==============================] - 2s 2ms/step - loss: 0.1659 - acc: 0.9440\n",
      "Epoch 31/100\n",
      "679/679 [==============================] - 2s 2ms/step - loss: 0.1678 - acc: 0.9426\n",
      "Epoch 32/100\n",
      "679/679 [==============================] - 2s 2ms/step - loss: 0.1906 - acc: 0.9367\n",
      "Epoch 33/100\n",
      "679/679 [==============================] - 2s 2ms/step - loss: 0.1829 - acc: 0.9323\n",
      "Epoch 34/100\n",
      "679/679 [==============================] - 2s 2ms/step - loss: 0.1584 - acc: 0.9455\n",
      "Epoch 35/100\n",
      "679/679 [==============================] - 2s 2ms/step - loss: 0.2089 - acc: 0.9278\n",
      "Epoch 36/100\n",
      "679/679 [==============================] - 2s 2ms/step - loss: 0.1908 - acc: 0.9381\n",
      "Epoch 37/100\n",
      "679/679 [==============================] - 2s 2ms/step - loss: 0.2056 - acc: 0.9249\n",
      "Epoch 38/100\n",
      "679/679 [==============================] - 2s 2ms/step - loss: 0.2063 - acc: 0.9146\n",
      "Epoch 39/100\n",
      "679/679 [==============================] - 2s 2ms/step - loss: 0.1640 - acc: 0.9426\n",
      "Epoch 40/100\n",
      "679/679 [==============================] - 2s 2ms/step - loss: 0.1884 - acc: 0.9352\n",
      "Epoch 41/100\n",
      "679/679 [==============================] - 2s 2ms/step - loss: 0.1702 - acc: 0.9470\n",
      "Epoch 42/100\n",
      "679/679 [==============================] - 2s 2ms/step - loss: 0.1816 - acc: 0.9337\n",
      "Epoch 43/100\n",
      "679/679 [==============================] - 2s 2ms/step - loss: 0.1861 - acc: 0.9337\n",
      "Epoch 44/100\n",
      "679/679 [==============================] - 2s 2ms/step - loss: 0.1698 - acc: 0.9367\n",
      "Epoch 45/100\n",
      "679/679 [==============================] - 2s 2ms/step - loss: 0.1781 - acc: 0.9352\n",
      "Epoch 46/100\n",
      "679/679 [==============================] - 2s 2ms/step - loss: 0.2178 - acc: 0.9175\n",
      "Epoch 47/100\n",
      "679/679 [==============================] - 2s 2ms/step - loss: 0.1619 - acc: 0.9440\n",
      "Epoch 48/100\n",
      "679/679 [==============================] - 2s 2ms/step - loss: 0.1637 - acc: 0.9455\n",
      "Epoch 49/100\n",
      "679/679 [==============================] - 2s 2ms/step - loss: 0.1588 - acc: 0.9440\n",
      "Epoch 50/100\n",
      "679/679 [==============================] - 2s 2ms/step - loss: 0.1828 - acc: 0.9323\n",
      "Epoch 51/100\n",
      "679/679 [==============================] - 2s 2ms/step - loss: 0.1593 - acc: 0.9411\n",
      "Epoch 52/100\n",
      "679/679 [==============================] - 2s 2ms/step - loss: 0.1783 - acc: 0.9367\n",
      "Epoch 53/100\n",
      "679/679 [==============================] - 2s 2ms/step - loss: 0.1649 - acc: 0.9396\n",
      "Epoch 54/100\n",
      "679/679 [==============================] - 2s 2ms/step - loss: 0.1751 - acc: 0.9367\n",
      "Epoch 55/100\n",
      "679/679 [==============================] - 2s 2ms/step - loss: 0.1879 - acc: 0.9337\n",
      "Epoch 56/100\n",
      "679/679 [==============================] - 2s 2ms/step - loss: 0.1660 - acc: 0.9411\n",
      "Epoch 57/100\n",
      "679/679 [==============================] - 2s 2ms/step - loss: 0.1848 - acc: 0.9293\n",
      "Epoch 58/100\n",
      "679/679 [==============================] - 2s 2ms/step - loss: 0.1411 - acc: 0.9543\n",
      "Epoch 59/100\n",
      "679/679 [==============================] - 2s 2ms/step - loss: 0.1684 - acc: 0.9381\n",
      "Epoch 60/100\n",
      "679/679 [==============================] - 2s 2ms/step - loss: 0.1692 - acc: 0.9411\n",
      "Epoch 61/100\n",
      "679/679 [==============================] - 2s 2ms/step - loss: 0.1643 - acc: 0.9426\n",
      "Epoch 62/100\n",
      "679/679 [==============================] - 2s 2ms/step - loss: 0.1703 - acc: 0.9426\n",
      "Epoch 63/100\n",
      "679/679 [==============================] - 2s 2ms/step - loss: 0.1813 - acc: 0.9396\n",
      "Epoch 64/100\n",
      "679/679 [==============================] - 2s 2ms/step - loss: 0.1666 - acc: 0.9426\n",
      "Epoch 65/100\n",
      "679/679 [==============================] - 2s 2ms/step - loss: 0.1996 - acc: 0.9234\n",
      "Epoch 66/100\n",
      "679/679 [==============================] - 2s 2ms/step - loss: 0.2012 - acc: 0.9264\n",
      "Epoch 67/100\n",
      "679/679 [==============================] - 2s 2ms/step - loss: 0.1646 - acc: 0.9426\n",
      "Epoch 68/100\n",
      "679/679 [==============================] - 2s 2ms/step - loss: 0.2279 - acc: 0.9102\n",
      "Epoch 69/100\n",
      "679/679 [==============================] - 2s 2ms/step - loss: 0.2133 - acc: 0.9116\n",
      "Epoch 70/100\n",
      "679/679 [==============================] - 2s 2ms/step - loss: 0.1853 - acc: 0.9264\n",
      "Epoch 71/100\n",
      "679/679 [==============================] - 2s 2ms/step - loss: 0.1960 - acc: 0.9219\n",
      "Epoch 72/100\n",
      "679/679 [==============================] - 2s 2ms/step - loss: 0.1592 - acc: 0.9440\n",
      "Epoch 73/100\n",
      "679/679 [==============================] - 2s 2ms/step - loss: 0.1842 - acc: 0.9323\n",
      "Epoch 74/100\n",
      "679/679 [==============================] - 2s 2ms/step - loss: 0.1777 - acc: 0.9367\n",
      "Epoch 75/100\n",
      "679/679 [==============================] - 2s 2ms/step - loss: 0.1811 - acc: 0.9293\n",
      "Epoch 76/100\n",
      "679/679 [==============================] - 2s 2ms/step - loss: 0.1699 - acc: 0.9352\n",
      "Epoch 77/100\n",
      "679/679 [==============================] - 2s 2ms/step - loss: 0.1759 - acc: 0.9323\n",
      "Epoch 78/100\n",
      "679/679 [==============================] - 2s 2ms/step - loss: 0.1737 - acc: 0.9367\n",
      "Epoch 79/100\n",
      "679/679 [==============================] - 2s 2ms/step - loss: 0.1712 - acc: 0.9396\n",
      "Epoch 80/100\n",
      "679/679 [==============================] - 2s 2ms/step - loss: 0.2027 - acc: 0.9337\n",
      "Epoch 81/100\n",
      "679/679 [==============================] - 2s 2ms/step - loss: 0.1816 - acc: 0.9352\n",
      "Epoch 82/100\n",
      "679/679 [==============================] - 2s 2ms/step - loss: 0.1948 - acc: 0.9264\n",
      "Epoch 83/100\n",
      "679/679 [==============================] - 2s 2ms/step - loss: 0.1736 - acc: 0.9396\n",
      "Epoch 84/100\n",
      "679/679 [==============================] - 2s 2ms/step - loss: 0.1993 - acc: 0.9249\n",
      "Epoch 85/100\n",
      "679/679 [==============================] - 2s 2ms/step - loss: 0.1816 - acc: 0.9308\n",
      "Epoch 86/100\n",
      "679/679 [==============================] - 2s 2ms/step - loss: 0.1724 - acc: 0.9352\n",
      "Epoch 87/100\n",
      "679/679 [==============================] - 2s 2ms/step - loss: 0.1853 - acc: 0.9337\n",
      "Epoch 88/100\n",
      "679/679 [==============================] - 2s 2ms/step - loss: 0.2058 - acc: 0.9146\n",
      "Epoch 89/100\n",
      "679/679 [==============================] - 2s 2ms/step - loss: 0.1864 - acc: 0.9352\n",
      "Epoch 90/100\n",
      "679/679 [==============================] - 2s 2ms/step - loss: 0.1528 - acc: 0.9470\n",
      "Epoch 91/100\n",
      "679/679 [==============================] - 2s 2ms/step - loss: 0.1544 - acc: 0.9470\n",
      "Epoch 92/100\n",
      "679/679 [==============================] - 2s 2ms/step - loss: 0.1658 - acc: 0.9381\n",
      "Epoch 93/100\n",
      "679/679 [==============================] - 2s 2ms/step - loss: 0.1743 - acc: 0.9323\n",
      "Epoch 94/100\n",
      "679/679 [==============================] - 2s 2ms/step - loss: 0.1648 - acc: 0.9426\n",
      "Epoch 95/100\n",
      "679/679 [==============================] - 2s 2ms/step - loss: 0.1758 - acc: 0.9323\n",
      "Epoch 96/100\n",
      "679/679 [==============================] - 2s 2ms/step - loss: 0.1393 - acc: 0.9529\n",
      "Epoch 97/100\n",
      "679/679 [==============================] - 2s 2ms/step - loss: 0.1700 - acc: 0.9396\n",
      "Epoch 98/100\n",
      "679/679 [==============================] - 2s 2ms/step - loss: 0.1626 - acc: 0.9485\n",
      "Epoch 99/100\n",
      "679/679 [==============================] - 2s 2ms/step - loss: 0.1640 - acc: 0.9543\n",
      "Epoch 100/100\n",
      "679/679 [==============================] - 2s 2ms/step - loss: 0.1866 - acc: 0.9426\n"
     ]
    },
    {
     "data": {
      "text/plain": [
       "<keras.callbacks.History at 0x1dc576a5518>"
      ]
     },
     "execution_count": 61,
     "metadata": {},
     "output_type": "execute_result"
    }
   ],
   "source": [
    "# Now, fit the model to the data\n",
    "simple_model.fit(train_images_flat, train_labels, epochs=100, batch_size=128)"
   ]
  },
  {
   "cell_type": "markdown",
   "metadata": {},
   "source": [
    "##### Load pretrained weights from disc"
   ]
  },
  {
   "cell_type": "code",
   "execution_count": null,
   "metadata": {
    "collapsed": true
   },
   "outputs": [],
   "source": [
    "# load json and create model\n",
    "json_file = open('simple_model.json', 'r')\n",
    "simple_model_json = json_file.read()\n",
    "json_file.close()\n",
    "simple_model = model_from_json(simple_model_json)\n",
    "# load weights into new model\n",
    "simple_model.load_weights(\"simple_model.h5\")\n",
    "print(\"Loaded model from disk\")"
   ]
  },
  {
   "cell_type": "markdown",
   "metadata": {},
   "source": [
    "##### Evaluate the model on the dev set"
   ]
  },
  {
   "cell_type": "code",
   "execution_count": 62,
   "metadata": {
    "scrolled": true
   },
   "outputs": [
    {
     "name": "stdout",
     "output_type": "stream",
     "text": [
      "85/85 [==============================] - 0s 2ms/step\n",
      "\n",
      "Performance on DEV set\n",
      "..........................\n",
      "Loss: 1.22582657197\n",
      "Accuracy: 0.752941180678\n",
      "Precision: 0.717948717949\n",
      "Recall: 0.736842105263\n",
      "..........................\n",
      "List of indices of wrong guesses:\n",
      "[7, 9, 14, 17, 27, 28, 30, 31, 34, 36, 40, 48, 53, 55, 60, 71, 72, 76, 77, 82, 84]\n"
     ]
    }
   ],
   "source": [
    "# Evaluate model, get metrics back\n",
    "stats = simple_model.evaluate(x=test_images_flat, y=test_labels)\n",
    "# Calculate predictions vector from model\n",
    "predictions = simple_model.predict(x=test_images_flat)\n",
    "predictions = np.floor(predictions + 0.5)\n",
    "\n",
    "# Get vector mask for good and bad fits and right and wrong answers\n",
    "good_fits = test_labels\n",
    "bad_fits = 1 - good_fits\n",
    "wrong_answers = np.abs(np.subtract(predictions, test_labels))\n",
    "right_answers = np.subtract(1, wrong_answers)\n",
    "# Calculate true positives (tp), as well as (tn) (fp) (fn)\n",
    "true_positives = np.multiply(right_answers, good_fits)\n",
    "true_negatives = np.multiply(right_answers, bad_fits)\n",
    "false_positives = np.multiply(wrong_answers, good_fits)\n",
    "false_negatives = np.multiply(wrong_answers, bad_fits)\n",
    "# Calculate additional metrics\n",
    "precision = np.sum(true_positives) / np.sum(true_positives + false_positives)\n",
    "recall = np.sum(true_positives) / np.sum(true_positives + false_negatives)\n",
    "\n",
    "# Print stats\n",
    "print()\n",
    "print(\"Performance on DEV set\")\n",
    "print(\"..........................\")\n",
    "print(\"Loss: \" + str(stats[0]))\n",
    "print(\"Accuracy: \" + str(stats[1]))\n",
    "print(\"Precision: \" + str(precision))\n",
    "print(\"Recall: \" + str(recall))\n",
    "\n",
    "# Print list of indices of wrong answers\n",
    "bad_list = []\n",
    "for i in range(m_test):\n",
    "    if wrong_answers[i] == 1:\n",
    "        bad_list.append(i)\n",
    "print(\"..........................\")\n",
    "print(\"List of indices of wrong guesses:\")\n",
    "print(bad_list)"
   ]
  },
  {
   "cell_type": "markdown",
   "metadata": {},
   "source": [
    "##### Look at an image"
   ]
  },
  {
   "cell_type": "code",
   "execution_count": 28,
   "metadata": {},
   "outputs": [
    {
     "name": "stdout",
     "output_type": "stream",
     "text": [
      "label: [1]\n",
      "prediction: [ 0.]\n"
     ]
    },
    {
     "data": {
      "text/plain": [
       "<matplotlib.image.AxesImage at 0x1db0182ba20>"
      ]
     },
     "execution_count": 28,
     "metadata": {},
     "output_type": "execute_result"
    },
    {
     "data": {
      "image/png": "[encoded data removed]",
      "text/plain": [
       "<matplotlib.figure.Figure at 0x1db01581748>"
      ]
     },
     "metadata": {},
     "output_type": "display_data"
    }
   ],
   "source": [
    "# Choose an index \n",
    "index = 7\n",
    "# Print labels for this index\n",
    "print(\"label: \" + str(good_fits[index]))\n",
    "print(\"prediction: \" + str(predictions[index]))\n",
    "\n",
    "# Show image\n",
    "this_image = test_images[index]\n",
    "plt.imshow(np.uint8(nn_utils.get_printable_image(this_image)))"
   ]
  },
  {
   "cell_type": "markdown",
   "metadata": {},
   "source": [
    "##### Save model to disk"
   ]
  },
  {
   "cell_type": "code",
   "execution_count": 60,
   "metadata": {},
   "outputs": [
    {
     "name": "stdout",
     "output_type": "stream",
     "text": [
      "Saved model to disk\n"
     ]
    }
   ],
   "source": [
    "# serialize model to JSON\n",
    "model_json = simple_model.to_json()\n",
    "with open(\"simple_model.json\", \"w\") as json_file:\n",
    "    json_file.write(model_json)\n",
    "# serialize weights to HDF5\n",
    "simple_model.save_weights(\"simple_model.h5\")\n",
    "print(\"Saved model to disk\")"
   ]
  },
  {
   "cell_type": "code",
   "execution_count": null,
   "metadata": {
    "collapsed": true
   },
   "outputs": [],
   "source": []
  }
 ],
 "metadata": {
  "kernelspec": {
   "display_name": "Python 3",
   "language": "python",
   "name": "python3"
  },
  "language_info": {
   "codemirror_mode": {
    "name": "ipython",
    "version": 3
   },
   "file_extension": ".py",
   "mimetype": "text/x-python",
   "name": "python",
   "nbconvert_exporter": "python",
   "pygments_lexer": "ipython3",
   "version": "3.6.3"
  }
 },
 "nbformat": 4,
 "nbformat_minor": 2
}
