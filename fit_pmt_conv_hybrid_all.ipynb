{
 "cells": [
  {
   "cell_type": "markdown",
   "metadata": {},
   "source": [
    "# Convolutional neural network for classifying Root data fits.\n",
    "\n",
    "\n",
    "Here, we define, train, and save new convolutional models as well as some \n",
    "simple model evaluation. We define hyper-parameters, number of layers, and \n",
    "training and testing datasets. \n",
    "\n",
    "Here, at the final layer, the network takes into account chi squared per degree of freedom."
   ]
  },
  {
   "cell_type": "markdown",
   "metadata": {},
   "source": [
    "## Load necessary packages"
   ]
  },
  {
   "cell_type": "code",
   "execution_count": 2,
   "metadata": {},
   "outputs": [
    {
     "name": "stderr",
     "output_type": "stream",
     "text": [
      "Using TensorFlow backend.\n"
     ]
    }
   ],
   "source": [
    "# Load some packages\n",
    "\n",
    "# Keras packages for network\n",
    "from keras.layers import Input, Dense, Activation, ZeroPadding2D, BatchNormalization\n",
    "from keras.layers import AveragePooling2D, MaxPooling2D, Dropout, Conv2D, Flatten\n",
    "from keras.models import Model\n",
    "from keras.optimizers import Adam, SGD\n",
    "# For saving model\n",
    "from keras.models import model_from_json\n",
    "from keras.layers import concatenate, Lambda\n",
    "\n",
    "# Some items for plotting and drawing\n",
    "from keras.utils import plot_model\n",
    "from keras.utils.vis_utils import model_to_dot\n",
    "from IPython.display import SVG\n",
    "from PIL import Image\n",
    "from scipy import misc\n",
    "import matplotlib.pyplot as plt\n",
    "\n",
    "# Need numpy\n",
    "import numpy as np\n",
    "import nn_utils as utils\n",
    "\n",
    "%matplotlib inline"
   ]
  },
  {
   "cell_type": "markdown",
   "metadata": {},
   "source": [
    "## Load root fit data from file"
   ]
  },
  {
   "cell_type": "code",
   "execution_count": 3,
   "metadata": {},
   "outputs": [
    {
     "name": "stdout",
     "output_type": "stream",
     "text": [
      "(m, height, width, channels): (500, 236, 348, 3)\n",
      "m_dev: 129\n",
      "y: (500, 1)\n",
      "params: (500, 54)\n"
     ]
    }
   ],
   "source": [
    "# Define image file path\n",
    "im_path=\"/media/data/Projects/fit_pmt/images/png_fit_nn/\"\n",
    "\n",
    "# Load dataset\n",
    "x, y, params = utils.load_dataset_all(m=500, im_dir=\"train\", log=False, im_path=im_path)\n",
    "x_log, _, _ = utils.load_dataset_all(m=500, im_dir=\"train\", log=True, im_path=im_path)\n",
    "\n",
    "# Load dev set\n",
    "x_dev, y_dev, params_dev = utils.load_dataset_all(im_dir=\"dev\", log=False, im_path=im_path)\n",
    "x_dev_log, _, _ = utils.load_dataset_all(im_dir=\"dev\", log=True, im_path=im_path)\n",
    "m_dev = x_dev.shape[0]\n",
    "\n",
    "# Grab dimensions of picture\n",
    "(m, h, w, c) = x.shape\n",
    "m_dev = x_dev.shape[0]\n",
    "input_shape = h, w, c\n",
    "num_params = params.shape[1]\n",
    "\n",
    "# Print dimensions\n",
    "print(\"(m, height, width, channels): (\" + str(m) + \", \" + str(h) + \", \" + str(w) + \", \" + str(c) + \")\")\n",
    "print(\"m_dev: \" + str(m_dev))\n",
    "print(\"y: \" + str(y.shape))\n",
    "print(\"params: \" + str(params.shape))\n"
   ]
  },
  {
   "cell_type": "markdown",
   "metadata": {},
   "source": [
    "### Print an image"
   ]
  },
  {
   "cell_type": "code",
   "execution_count": 4,
   "metadata": {},
   "outputs": [
    {
     "name": "stdout",
     "output_type": "stream",
     "text": [
      "label: good\n",
      "label: [1]\n",
      "params: [ 0.000000e+00  1.000000e+00  1.000000e+00  1.000000e+00  2.000000e+01\n",
      "  5.000000e-02  6.144692e+02  2.252700e+00  1.000000e-02  2.560000e+00\n",
      "  4.000000e+00  2.252700e+00  5.000000e-01  5.000000e-01  1.000000e-03\n",
      " -1.000000e+00 -1.000000e+00 -1.000000e+00 -1.000000e+00 -1.000000e+00\n",
      " -1.000000e+00  0.000000e+00  0.000000e+00  5.000000e-01 -1.000000e+00\n",
      " -1.000000e+00 -1.000000e+00 -1.000000e+00 -1.000000e+00 -1.000000e+00\n",
      "  1.000000e+00  1.000000e+00  6.400000e-03  6.130692e+02  1.706800e+00\n",
      "  5.000000e-02  5.411800e+00  1.132900e+00  1.556800e+00  1.765000e-01\n",
      "  8.235000e-01  2.000000e-04  1.620000e-02  1.270000e-02  1.000000e-03\n",
      "  8.910000e-02  1.870000e-02  1.070000e-02  2.800000e-03  3.000000e-03\n",
      "  6.254000e+00  1.768000e-01  7.300000e-03  4.130900e+00]\n"
     ]
    },
    {
     "data": {
      "text/plain": [
       "<matplotlib.image.AxesImage at 0x7fabe29a1cc0>"
      ]
     },
     "execution_count": 4,
     "metadata": {},
     "output_type": "execute_result"
    },
    {
     "data": {
      "image/png": "[encoded data removed]",
      "text/plain": [
       "<Figure size 432x288 with 1 Axes>"
      ]
     },
     "metadata": {
      "needs_background": "light"
     },
     "output_type": "display_data"
    }
   ],
   "source": [
    "# Print an image\n",
    "index = 420\n",
    "this_image = x[index]\n",
    "if y[index] == 1:\n",
    "    print(\"label: good\")\n",
    "else:\n",
    "    print(\"label: bad\")\n",
    "print(\"label: \" + str(y[index]))\n",
    "print(\"params: \" + str(params[index]))\n",
    "plt.imshow(np.uint8(utils.get_printable_image(this_image)))"
   ]
  },
  {
   "cell_type": "markdown",
   "metadata": {},
   "source": [
    "# Define and Train multi-layer ConvNet with 2 fully connected layers plus output layer\n",
    "\n",
    "For the convolutional layer, we will scan over our images with a certain stride and a certain kernal size. \n",
    "Each individual scan represents a single neuron in the next layer. Since each scan connects to kernal size squared\n",
    "neurons below it, convolutions reduce the number of degrees of freedom. Hopefully, through learning the right filters,\n",
    "we can preserve the important information as we reduce it in size.\n",
    "\n",
    "Once the image has gone through the convolutional layers (and therefore has been reduced to its features vector), we\n",
    "can send the resulting vector into some old-fashioned fully-connected layers, and finally into a logistic regression unit."
   ]
  },
  {
   "cell_type": "markdown",
   "metadata": {},
   "source": [
    "## Define hyperparameters"
   ]
  },
  {
   "cell_type": "code",
   "execution_count": 5,
   "metadata": {},
   "outputs": [],
   "source": [
    "# Initialize\n",
    "filters = []\n",
    "kernels = []\n",
    "strides = []\n",
    "pools = []\n",
    "dropouts = []\n",
    "\n",
    "# Conv1\n",
    "filters.append(32)\n",
    "kernels.append(5)\n",
    "strides.append(2)\n",
    "pools.append(1)\n",
    "dropouts.append(0.2)\n",
    "\n",
    "# Conv2\n",
    "filters.append(32)\n",
    "kernels.append(7)\n",
    "strides.append(2)\n",
    "pools.append(1)\n",
    "dropouts.append(0.2)\n",
    "\n",
    "# Conv3\n",
    "filters.append(128)\n",
    "kernels.append(9)\n",
    "strides.append(2)\n",
    "pools.append(2)\n",
    "dropouts.append(0.2)\n",
    "\n",
    "# Define dense (fully-connected) layer sizes\n",
    "fc1 = 40\n",
    "fc2 = 10"
   ]
  },
  {
   "cell_type": "markdown",
   "metadata": {},
   "source": [
    "## Define keras layers (model)\n",
    "\n",
    "Our model contains two convolutional models in parallel, each with multiple layers. We run two in parallel to utilize log scale images AND linear scale (different information present). \n",
    "\n",
    "After we convolve the images, we flatten them and concatenate them. We also concatenate to them a list of inputs and outputs to and from the root fit algorithm such as parameter initial condition and bounds, output parameters plus errors, and chi-squared per degree of freedom.\n",
    "\n",
    "After concatenating these three sources of information together, we send them through some fully-connected layers to allow learning from all three sources simultaneously.\n",
    "\n",
    "Dropout is used here for regularization.\n",
    "Pooling is used here to speed up computation.\n",
    "Batch normalization is used to aid in learning at deeper layers."
   ]
  },
  {
   "cell_type": "code",
   "execution_count": 6,
   "metadata": {},
   "outputs": [],
   "source": [
    "# Define input layer (RGB image matrix)\n",
    "X = Input(shape=input_shape, name='Input')\n",
    "\n",
    "# Define additional input info\n",
    "X_log = Input(shape=input_shape, name='InputLog')\n",
    "\n",
    "# Define additional input info\n",
    "Params = Input(shape=(num_params,), name='Params')\n",
    "\n",
    "# Initialize activation as input\n",
    "a = X\n",
    "a_log = X_log\n",
    "# Loop through all convolutional layers\n",
    "for i in range(len(filters)):\n",
    "    # Perform convolution\n",
    "    a = Conv2D(filters=filters[i], kernel_size=(kernels[i], kernels[i]), strides=(strides[i], strides[i]), name=('conv' + str(i)))(a)\n",
    "    a_log = Conv2D(filters=filters[i], kernel_size=(kernels[i], kernels[i]), strides=(strides[i], strides[i]), name=('conv_log' + str(i)))(a_log)\n",
    "    # Normalize\n",
    "    a = BatchNormalization(axis=3, name=('bn' + str(i)))(a)\n",
    "    a_log = BatchNormalization(axis=3, name=('bn_log' + str(i)))(a_log)\n",
    "    # Activate\n",
    "    a = Activation('elu', name=('a' + str(i)))(a)\n",
    "    a_log = Activation('elu', name=('a_log' + str(i)))(a_log)\n",
    "    # Max-pool\n",
    "    a = MaxPooling2D((pools[i], pools[i]), name=('max_pool' + str(i)))(a)\n",
    "    a_log = MaxPooling2D((pools[i], pools[i]), name=('max_pool_log' + str(i)))(a_log)\n",
    "    # Dropout\n",
    "    a = Dropout(rate=dropouts[i])(a)\n",
    "    a_log = Dropout(rate=dropouts[i])(a_log)\n",
    "\n",
    "# Flatten output of convNet\n",
    "a = Flatten()(a)\n",
    "a_log = Flatten()(a_log)\n",
    "# Define first fully connected layer\n",
    "a = Dense(units=fc1, activation='elu', name='fc0')(a)\n",
    "a_log = Dense(units=fc1, activation='elu', name='fc0_log')(a_log)\n",
    "# Use some dropout here for regularization\n",
    "a = Dropout(rate=0.2)(a)\n",
    "a_log = Dropout(rate=0.2)(a_log)\n",
    "\n",
    "# Combine log and non log outputsdef concat_vectors(input):\n",
    "def concat_vectors(input):\n",
    "    a = input[0]\n",
    "    b = input[1]\n",
    "    return concatenate([a,b], axis=1)\n",
    "a_both = Lambda(concat_vectors, name='concat_layer')([a, a_log])\n",
    "\n",
    "# Activate parameters\n",
    "a_params = Activation('tanh', name='param_act')(Params)\n",
    "\n",
    "# Concatenate parameters to activations\n",
    "a_final = Lambda(concat_vectors, name='concat_vectors')([a_both, a_params])\n",
    "\n",
    "# Define second fully connected layer\n",
    "a_final = Dense(units=fc2, activation='relu', name='fc1')(a_final)                                 \n",
    "a_final = Dropout(rate=0.2)(a_both)\n",
    "a_final = Dense(units=fc2, activation='relu', name='fc2')(a_final)\n",
    "# Define output layer \n",
    "a_final = Dense(units=1, activation='sigmoid', name='sigmoid')(a_final)\n",
    "\n",
    "# Make the model\n",
    "model = Model(inputs=[X, X_log, Params], outputs=a_final)"
   ]
  },
  {
   "cell_type": "markdown",
   "metadata": {},
   "source": [
    "##### Define optimizer, loss, and metrics. Compile model."
   ]
  },
  {
   "cell_type": "code",
   "execution_count": 7,
   "metadata": {
    "scrolled": false
   },
   "outputs": [
    {
     "name": "stdout",
     "output_type": "stream",
     "text": [
      "__________________________________________________________________________________________________\n",
      "Layer (type)                    Output Shape         Param #     Connected to                     \n",
      "==================================================================================================\n",
      "Input (InputLayer)              (None, 236, 348, 3)  0                                            \n",
      "__________________________________________________________________________________________________\n",
      "InputLog (InputLayer)           (None, 236, 348, 3)  0                                            \n",
      "__________________________________________________________________________________________________\n",
      "conv0 (Conv2D)                  (None, 116, 172, 32) 2432        Input[0][0]                      \n",
      "__________________________________________________________________________________________________\n",
      "conv_log0 (Conv2D)              (None, 116, 172, 32) 2432        InputLog[0][0]                   \n",
      "__________________________________________________________________________________________________\n",
      "bn0 (BatchNormalization)        (None, 116, 172, 32) 128         conv0[0][0]                      \n",
      "__________________________________________________________________________________________________\n",
      "bn_log0 (BatchNormalization)    (None, 116, 172, 32) 128         conv_log0[0][0]                  \n",
      "__________________________________________________________________________________________________\n",
      "a0 (Activation)                 (None, 116, 172, 32) 0           bn0[0][0]                        \n",
      "__________________________________________________________________________________________________\n",
      "a_log0 (Activation)             (None, 116, 172, 32) 0           bn_log0[0][0]                    \n",
      "__________________________________________________________________________________________________\n",
      "max_pool0 (MaxPooling2D)        (None, 116, 172, 32) 0           a0[0][0]                         \n",
      "__________________________________________________________________________________________________\n",
      "max_pool_log0 (MaxPooling2D)    (None, 116, 172, 32) 0           a_log0[0][0]                     \n",
      "__________________________________________________________________________________________________\n",
      "dropout_1 (Dropout)             (None, 116, 172, 32) 0           max_pool0[0][0]                  \n",
      "__________________________________________________________________________________________________\n",
      "dropout_2 (Dropout)             (None, 116, 172, 32) 0           max_pool_log0[0][0]              \n",
      "__________________________________________________________________________________________________\n",
      "conv1 (Conv2D)                  (None, 55, 83, 32)   50208       dropout_1[0][0]                  \n",
      "__________________________________________________________________________________________________\n",
      "conv_log1 (Conv2D)              (None, 55, 83, 32)   50208       dropout_2[0][0]                  \n",
      "__________________________________________________________________________________________________\n",
      "bn1 (BatchNormalization)        (None, 55, 83, 32)   128         conv1[0][0]                      \n",
      "__________________________________________________________________________________________________\n",
      "bn_log1 (BatchNormalization)    (None, 55, 83, 32)   128         conv_log1[0][0]                  \n",
      "__________________________________________________________________________________________________\n",
      "a1 (Activation)                 (None, 55, 83, 32)   0           bn1[0][0]                        \n",
      "__________________________________________________________________________________________________\n",
      "a_log1 (Activation)             (None, 55, 83, 32)   0           bn_log1[0][0]                    \n",
      "__________________________________________________________________________________________________\n",
      "max_pool1 (MaxPooling2D)        (None, 55, 83, 32)   0           a1[0][0]                         \n",
      "__________________________________________________________________________________________________\n",
      "max_pool_log1 (MaxPooling2D)    (None, 55, 83, 32)   0           a_log1[0][0]                     \n",
      "__________________________________________________________________________________________________\n",
      "dropout_3 (Dropout)             (None, 55, 83, 32)   0           max_pool1[0][0]                  \n",
      "__________________________________________________________________________________________________\n",
      "dropout_4 (Dropout)             (None, 55, 83, 32)   0           max_pool_log1[0][0]              \n",
      "__________________________________________________________________________________________________\n",
      "conv2 (Conv2D)                  (None, 24, 38, 128)  331904      dropout_3[0][0]                  \n",
      "__________________________________________________________________________________________________\n",
      "conv_log2 (Conv2D)              (None, 24, 38, 128)  331904      dropout_4[0][0]                  \n",
      "__________________________________________________________________________________________________\n",
      "bn2 (BatchNormalization)        (None, 24, 38, 128)  512         conv2[0][0]                      \n",
      "__________________________________________________________________________________________________\n",
      "bn_log2 (BatchNormalization)    (None, 24, 38, 128)  512         conv_log2[0][0]                  \n",
      "__________________________________________________________________________________________________\n",
      "a2 (Activation)                 (None, 24, 38, 128)  0           bn2[0][0]                        \n",
      "__________________________________________________________________________________________________\n",
      "a_log2 (Activation)             (None, 24, 38, 128)  0           bn_log2[0][0]                    \n",
      "__________________________________________________________________________________________________\n",
      "max_pool2 (MaxPooling2D)        (None, 12, 19, 128)  0           a2[0][0]                         \n",
      "__________________________________________________________________________________________________\n",
      "max_pool_log2 (MaxPooling2D)    (None, 12, 19, 128)  0           a_log2[0][0]                     \n",
      "__________________________________________________________________________________________________\n",
      "dropout_5 (Dropout)             (None, 12, 19, 128)  0           max_pool2[0][0]                  \n",
      "__________________________________________________________________________________________________\n",
      "dropout_6 (Dropout)             (None, 12, 19, 128)  0           max_pool_log2[0][0]              \n",
      "__________________________________________________________________________________________________\n",
      "flatten_1 (Flatten)             (None, 29184)        0           dropout_5[0][0]                  \n",
      "__________________________________________________________________________________________________\n",
      "flatten_2 (Flatten)             (None, 29184)        0           dropout_6[0][0]                  \n",
      "__________________________________________________________________________________________________\n",
      "fc0 (Dense)                     (None, 40)           1167400     flatten_1[0][0]                  \n",
      "__________________________________________________________________________________________________\n",
      "fc0_log (Dense)                 (None, 40)           1167400     flatten_2[0][0]                  \n",
      "__________________________________________________________________________________________________\n",
      "dropout_7 (Dropout)             (None, 40)           0           fc0[0][0]                        \n",
      "__________________________________________________________________________________________________\n",
      "dropout_8 (Dropout)             (None, 40)           0           fc0_log[0][0]                    \n",
      "__________________________________________________________________________________________________\n",
      "concat_layer (Lambda)           (None, 80)           0           dropout_7[0][0]                  \n",
      "                                                                 dropout_8[0][0]                  \n",
      "__________________________________________________________________________________________________\n",
      "dropout_9 (Dropout)             (None, 80)           0           concat_layer[0][0]               \n",
      "__________________________________________________________________________________________________\n",
      "fc2 (Dense)                     (None, 10)           810         dropout_9[0][0]                  \n",
      "__________________________________________________________________________________________________\n",
      "sigmoid (Dense)                 (None, 1)            11          fc2[0][0]                        \n",
      "==================================================================================================\n",
      "Total params: 3,106,245\n",
      "Trainable params: 3,105,477\n",
      "Non-trainable params: 768\n",
      "__________________________________________________________________________________________________\n"
     ]
    }
   ],
   "source": [
    "# Define optimizer\n",
    "#opt = Adam(lr=0.01, beta_1=0.9, beta_2=0.999, decay=0.001)\n",
    "opt = SGD(lr=1.0, decay=1e-6, momentum=0.9, nesterov=True)\n",
    "# Define loss\n",
    "loss = 'mean_squared_error'\n",
    "# Define metrics to use\n",
    "metrics=['acc']\n",
    "# Compile model\n",
    "model.compile(loss=loss, optimizer='sgd', metrics=metrics)\n",
    "# Print summary\n",
    "model.summary()"
   ]
  },
  {
   "cell_type": "markdown",
   "metadata": {},
   "source": [
    "## Fit the model to the data (train)"
   ]
  },
  {
   "cell_type": "code",
   "execution_count": 12,
   "metadata": {
    "scrolled": true
   },
   "outputs": [
    {
     "name": "stdout",
     "output_type": "stream",
     "text": [
      "Train on 500 samples, validate on 129 samples\n",
      "Epoch 1/50\n",
      "500/500 [==============================] - 5s 10ms/step - loss: 0.0447 - acc: 0.9440 - val_loss: 0.2482 - val_acc: 0.6589\n",
      "Epoch 2/50\n",
      "500/500 [==============================] - 5s 10ms/step - loss: 0.0477 - acc: 0.9480 - val_loss: 0.2401 - val_acc: 0.6977\n",
      "Epoch 3/50\n",
      "500/500 [==============================] - 5s 10ms/step - loss: 0.0389 - acc: 0.9500 - val_loss: 0.2304 - val_acc: 0.6744\n",
      "Epoch 4/50\n",
      "500/500 [==============================] - 5s 10ms/step - loss: 0.0413 - acc: 0.9460 - val_loss: 0.2408 - val_acc: 0.6822\n",
      "Epoch 5/50\n",
      "500/500 [==============================] - 5s 10ms/step - loss: 0.0319 - acc: 0.9560 - val_loss: 0.2640 - val_acc: 0.6512\n",
      "Epoch 6/50\n",
      "500/500 [==============================] - 5s 9ms/step - loss: 0.0389 - acc: 0.9520 - val_loss: 0.2175 - val_acc: 0.7209\n",
      "Epoch 7/50\n",
      "500/500 [==============================] - 5s 10ms/step - loss: 0.0339 - acc: 0.9640 - val_loss: 0.2566 - val_acc: 0.6667\n",
      "Epoch 8/50\n",
      "500/500 [==============================] - 5s 10ms/step - loss: 0.0364 - acc: 0.9580 - val_loss: 0.1935 - val_acc: 0.7132\n",
      "Epoch 9/50\n",
      "500/500 [==============================] - 5s 9ms/step - loss: 0.0325 - acc: 0.9640 - val_loss: 0.2123 - val_acc: 0.7287\n",
      "Epoch 10/50\n",
      "500/500 [==============================] - 5s 10ms/step - loss: 0.0306 - acc: 0.9640 - val_loss: 0.1973 - val_acc: 0.6977\n",
      "Epoch 11/50\n",
      "500/500 [==============================] - 5s 10ms/step - loss: 0.0468 - acc: 0.9440 - val_loss: 0.2296 - val_acc: 0.7132\n",
      "Epoch 12/50\n",
      "500/500 [==============================] - 5s 10ms/step - loss: 0.0416 - acc: 0.9460 - val_loss: 0.2257 - val_acc: 0.6667\n",
      "Epoch 13/50\n",
      "500/500 [==============================] - 5s 10ms/step - loss: 0.0330 - acc: 0.9640 - val_loss: 0.2142 - val_acc: 0.7054\n",
      "Epoch 14/50\n",
      "500/500 [==============================] - 5s 9ms/step - loss: 0.0405 - acc: 0.9520 - val_loss: 0.2202 - val_acc: 0.6899\n",
      "Epoch 15/50\n",
      "500/500 [==============================] - 5s 10ms/step - loss: 0.0404 - acc: 0.9480 - val_loss: 0.2052 - val_acc: 0.6977\n",
      "Epoch 16/50\n",
      "500/500 [==============================] - 5s 9ms/step - loss: 0.0329 - acc: 0.9600 - val_loss: 0.2351 - val_acc: 0.6822\n",
      "Epoch 17/50\n",
      "500/500 [==============================] - 5s 10ms/step - loss: 0.0323 - acc: 0.9640 - val_loss: 0.2015 - val_acc: 0.7132\n",
      "Epoch 18/50\n",
      "500/500 [==============================] - 5s 10ms/step - loss: 0.0354 - acc: 0.9560 - val_loss: 0.2556 - val_acc: 0.6434\n",
      "Epoch 19/50\n",
      "500/500 [==============================] - 5s 9ms/step - loss: 0.0285 - acc: 0.9640 - val_loss: 0.2753 - val_acc: 0.6589\n",
      "Epoch 20/50\n",
      "500/500 [==============================] - 5s 9ms/step - loss: 0.0366 - acc: 0.9600 - val_loss: 0.2347 - val_acc: 0.6822\n",
      "Epoch 21/50\n",
      "500/500 [==============================] - 5s 10ms/step - loss: 0.0375 - acc: 0.9560 - val_loss: 0.2255 - val_acc: 0.6667\n",
      "Epoch 22/50\n",
      "500/500 [==============================] - 5s 9ms/step - loss: 0.0300 - acc: 0.9660 - val_loss: 0.2280 - val_acc: 0.6822\n",
      "Epoch 23/50\n",
      "500/500 [==============================] - 5s 9ms/step - loss: 0.0269 - acc: 0.9740 - val_loss: 0.2624 - val_acc: 0.6512\n",
      "Epoch 24/50\n",
      "500/500 [==============================] - 5s 10ms/step - loss: 0.0326 - acc: 0.9560 - val_loss: 0.1988 - val_acc: 0.6977\n",
      "Epoch 25/50\n",
      "500/500 [==============================] - 5s 10ms/step - loss: 0.0222 - acc: 0.9800 - val_loss: 0.2029 - val_acc: 0.6977\n",
      "Epoch 26/50\n",
      "500/500 [==============================] - 5s 9ms/step - loss: 0.0276 - acc: 0.9640 - val_loss: 0.2563 - val_acc: 0.6589\n",
      "Epoch 27/50\n",
      "500/500 [==============================] - 5s 9ms/step - loss: 0.0334 - acc: 0.9600 - val_loss: 0.2776 - val_acc: 0.6357\n",
      "Epoch 28/50\n",
      "500/500 [==============================] - 5s 9ms/step - loss: 0.0269 - acc: 0.9660 - val_loss: 0.2240 - val_acc: 0.7209\n",
      "Epoch 29/50\n",
      "500/500 [==============================] - 5s 9ms/step - loss: 0.0235 - acc: 0.9720 - val_loss: 0.2337 - val_acc: 0.6667\n",
      "Epoch 30/50\n",
      "500/500 [==============================] - 5s 9ms/step - loss: 0.0270 - acc: 0.9700 - val_loss: 0.2412 - val_acc: 0.6512\n",
      "Epoch 31/50\n",
      "500/500 [==============================] - 5s 10ms/step - loss: 0.0260 - acc: 0.9700 - val_loss: 0.2592 - val_acc: 0.6512\n",
      "Epoch 32/50\n",
      "500/500 [==============================] - 5s 10ms/step - loss: 0.0305 - acc: 0.9580 - val_loss: 0.2248 - val_acc: 0.6589\n",
      "Epoch 33/50\n",
      "500/500 [==============================] - 5s 10ms/step - loss: 0.0345 - acc: 0.9620 - val_loss: 0.2418 - val_acc: 0.6589\n",
      "Epoch 34/50\n",
      "500/500 [==============================] - 5s 9ms/step - loss: 0.0246 - acc: 0.9680 - val_loss: 0.2156 - val_acc: 0.6822\n",
      "Epoch 35/50\n",
      "500/500 [==============================] - 5s 9ms/step - loss: 0.0299 - acc: 0.9640 - val_loss: 0.2040 - val_acc: 0.7442\n",
      "Epoch 36/50\n",
      "500/500 [==============================] - 5s 9ms/step - loss: 0.0442 - acc: 0.9380 - val_loss: 0.1943 - val_acc: 0.7287\n",
      "Epoch 37/50\n",
      "500/500 [==============================] - 5s 9ms/step - loss: 0.0247 - acc: 0.9700 - val_loss: 0.1963 - val_acc: 0.6977\n",
      "Epoch 38/50\n",
      "500/500 [==============================] - 5s 9ms/step - loss: 0.0271 - acc: 0.9660 - val_loss: 0.2308 - val_acc: 0.6822\n",
      "Epoch 39/50\n",
      "500/500 [==============================] - 5s 9ms/step - loss: 0.0271 - acc: 0.9700 - val_loss: 0.2620 - val_acc: 0.6434\n",
      "Epoch 40/50\n",
      "500/500 [==============================] - 5s 10ms/step - loss: 0.0222 - acc: 0.9700 - val_loss: 0.1929 - val_acc: 0.7287\n",
      "Epoch 41/50\n",
      "500/500 [==============================] - 5s 10ms/step - loss: 0.0326 - acc: 0.9560 - val_loss: 0.2358 - val_acc: 0.6977\n",
      "Epoch 42/50\n",
      "500/500 [==============================] - 5s 9ms/step - loss: 0.0274 - acc: 0.9680 - val_loss: 0.1983 - val_acc: 0.7287\n",
      "Epoch 43/50\n",
      "500/500 [==============================] - 5s 10ms/step - loss: 0.0299 - acc: 0.9600 - val_loss: 0.2277 - val_acc: 0.7209\n",
      "Epoch 44/50\n",
      "500/500 [==============================] - 5s 10ms/step - loss: 0.0223 - acc: 0.9760 - val_loss: 0.2128 - val_acc: 0.7054\n",
      "Epoch 45/50\n",
      "500/500 [==============================] - 5s 9ms/step - loss: 0.0233 - acc: 0.9740 - val_loss: 0.2380 - val_acc: 0.6977\n",
      "Epoch 46/50\n",
      "500/500 [==============================] - 5s 10ms/step - loss: 0.0281 - acc: 0.9640 - val_loss: 0.2524 - val_acc: 0.6512\n",
      "Epoch 47/50\n",
      "500/500 [==============================] - 5s 10ms/step - loss: 0.0210 - acc: 0.9780 - val_loss: 0.2614 - val_acc: 0.6357\n",
      "Epoch 48/50\n",
      "500/500 [==============================] - 5s 10ms/step - loss: 0.0212 - acc: 0.9760 - val_loss: 0.2494 - val_acc: 0.6512\n",
      "Epoch 49/50\n",
      "500/500 [==============================] - 5s 10ms/step - loss: 0.0201 - acc: 0.9800 - val_loss: 0.2350 - val_acc: 0.6667\n",
      "Epoch 50/50\n",
      "500/500 [==============================] - 5s 10ms/step - loss: 0.0210 - acc: 0.9720 - val_loss: 0.2375 - val_acc: 0.6512\n",
      "Train on 500 samples, validate on 129 samples\n",
      "Epoch 1/50\n",
      "500/500 [==============================] - 5s 10ms/step - loss: 0.0191 - acc: 0.9820 - val_loss: 0.2326 - val_acc: 0.6667\n",
      "Epoch 2/50\n",
      "500/500 [==============================] - 5s 10ms/step - loss: 0.0223 - acc: 0.9760 - val_loss: 0.2497 - val_acc: 0.6512\n",
      "Epoch 3/50\n",
      "500/500 [==============================] - 5s 10ms/step - loss: 0.0196 - acc: 0.9760 - val_loss: 0.2714 - val_acc: 0.6357\n",
      "Epoch 4/50\n",
      "500/500 [==============================] - 5s 9ms/step - loss: 0.0224 - acc: 0.9780 - val_loss: 0.2738 - val_acc: 0.6357\n",
      "Epoch 5/50\n",
      "500/500 [==============================] - 5s 10ms/step - loss: 0.0161 - acc: 0.9840 - val_loss: 0.2248 - val_acc: 0.6822\n",
      "Epoch 6/50\n",
      "500/500 [==============================] - 5s 10ms/step - loss: 0.0180 - acc: 0.9820 - val_loss: 0.2795 - val_acc: 0.6434\n",
      "Epoch 7/50\n",
      "500/500 [==============================] - 5s 10ms/step - loss: 0.0204 - acc: 0.9740 - val_loss: 0.2579 - val_acc: 0.6512\n",
      "Epoch 8/50\n",
      "500/500 [==============================] - 5s 9ms/step - loss: 0.0167 - acc: 0.9820 - val_loss: 0.2225 - val_acc: 0.6977\n",
      "Epoch 9/50\n",
      "500/500 [==============================] - 5s 10ms/step - loss: 0.0208 - acc: 0.9780 - val_loss: 0.2589 - val_acc: 0.6667\n",
      "Epoch 10/50\n",
      "500/500 [==============================] - 5s 9ms/step - loss: 0.0162 - acc: 0.9840 - val_loss: 0.2640 - val_acc: 0.6434\n",
      "Epoch 11/50\n",
      "500/500 [==============================] - 5s 10ms/step - loss: 0.0207 - acc: 0.9760 - val_loss: 0.2492 - val_acc: 0.6512\n"
     ]
    },
    {
     "name": "stdout",
     "output_type": "stream",
     "text": [
      "Epoch 12/50\n",
      "500/500 [==============================] - 5s 10ms/step - loss: 0.0199 - acc: 0.9760 - val_loss: 0.2550 - val_acc: 0.6434\n",
      "Epoch 13/50\n",
      "500/500 [==============================] - 5s 9ms/step - loss: 0.0204 - acc: 0.9740 - val_loss: 0.2102 - val_acc: 0.7364\n",
      "Epoch 14/50\n",
      "500/500 [==============================] - 5s 10ms/step - loss: 0.0211 - acc: 0.9700 - val_loss: 0.2711 - val_acc: 0.6512\n",
      "Epoch 15/50\n",
      "500/500 [==============================] - 5s 10ms/step - loss: 0.0177 - acc: 0.9780 - val_loss: 0.2261 - val_acc: 0.6744\n",
      "Epoch 16/50\n",
      "500/500 [==============================] - 5s 10ms/step - loss: 0.0179 - acc: 0.9840 - val_loss: 0.2439 - val_acc: 0.6822\n",
      "Epoch 17/50\n",
      "500/500 [==============================] - 5s 9ms/step - loss: 0.0200 - acc: 0.9740 - val_loss: 0.2581 - val_acc: 0.6512\n",
      "Epoch 18/50\n",
      "500/500 [==============================] - 5s 9ms/step - loss: 0.0207 - acc: 0.9760 - val_loss: 0.2502 - val_acc: 0.6744\n",
      "Epoch 19/50\n",
      "500/500 [==============================] - 5s 9ms/step - loss: 0.0230 - acc: 0.9700 - val_loss: 0.2373 - val_acc: 0.6744\n",
      "Epoch 20/50\n",
      "500/500 [==============================] - 5s 9ms/step - loss: 0.0180 - acc: 0.9800 - val_loss: 0.2170 - val_acc: 0.6977\n",
      "Epoch 21/50\n",
      "500/500 [==============================] - 5s 9ms/step - loss: 0.0156 - acc: 0.9800 - val_loss: 0.2606 - val_acc: 0.6512\n",
      "Epoch 22/50\n",
      "500/500 [==============================] - 5s 9ms/step - loss: 0.0183 - acc: 0.9800 - val_loss: 0.2119 - val_acc: 0.7209\n",
      "Epoch 23/50\n",
      "500/500 [==============================] - 5s 9ms/step - loss: 0.0143 - acc: 0.9800 - val_loss: 0.2256 - val_acc: 0.6977\n",
      "Epoch 24/50\n",
      "500/500 [==============================] - 5s 9ms/step - loss: 0.0157 - acc: 0.9840 - val_loss: 0.2213 - val_acc: 0.7132\n",
      "Epoch 25/50\n",
      "500/500 [==============================] - 5s 9ms/step - loss: 0.0144 - acc: 0.9860 - val_loss: 0.2694 - val_acc: 0.6434\n",
      "Epoch 26/50\n",
      "500/500 [==============================] - 5s 9ms/step - loss: 0.0166 - acc: 0.9800 - val_loss: 0.2350 - val_acc: 0.6899\n",
      "Epoch 27/50\n",
      "500/500 [==============================] - 5s 9ms/step - loss: 0.0187 - acc: 0.9760 - val_loss: 0.2235 - val_acc: 0.7132\n",
      "Epoch 28/50\n",
      "500/500 [==============================] - 5s 9ms/step - loss: 0.0209 - acc: 0.9700 - val_loss: 0.2620 - val_acc: 0.6589\n",
      "Epoch 29/50\n",
      "500/500 [==============================] - 5s 9ms/step - loss: 0.0211 - acc: 0.9740 - val_loss: 0.2439 - val_acc: 0.6589\n",
      "Epoch 30/50\n",
      "500/500 [==============================] - 5s 9ms/step - loss: 0.0133 - acc: 0.9860 - val_loss: 0.2225 - val_acc: 0.7287\n",
      "Epoch 31/50\n",
      "500/500 [==============================] - 5s 9ms/step - loss: 0.0131 - acc: 0.9860 - val_loss: 0.2412 - val_acc: 0.6744\n",
      "Epoch 32/50\n",
      "500/500 [==============================] - 5s 9ms/step - loss: 0.0150 - acc: 0.9800 - val_loss: 0.2456 - val_acc: 0.6667\n",
      "Epoch 33/50\n",
      "500/500 [==============================] - 5s 9ms/step - loss: 0.0152 - acc: 0.9780 - val_loss: 0.2196 - val_acc: 0.6977\n",
      "Epoch 34/50\n",
      "500/500 [==============================] - 5s 9ms/step - loss: 0.0171 - acc: 0.9780 - val_loss: 0.2389 - val_acc: 0.6822\n",
      "Epoch 35/50\n",
      "500/500 [==============================] - 5s 9ms/step - loss: 0.0189 - acc: 0.9740 - val_loss: 0.2675 - val_acc: 0.6512\n",
      "Epoch 36/50\n",
      "500/500 [==============================] - 5s 9ms/step - loss: 0.0095 - acc: 0.9860 - val_loss: 0.2490 - val_acc: 0.6744\n",
      "Epoch 37/50\n",
      "500/500 [==============================] - 5s 9ms/step - loss: 0.0341 - acc: 0.9500 - val_loss: 0.2509 - val_acc: 0.6822\n",
      "Epoch 38/50\n",
      "500/500 [==============================] - 5s 9ms/step - loss: 0.0187 - acc: 0.9820 - val_loss: 0.2410 - val_acc: 0.6512\n",
      "Epoch 39/50\n",
      "500/500 [==============================] - 5s 9ms/step - loss: 0.0142 - acc: 0.9840 - val_loss: 0.2820 - val_acc: 0.6434\n",
      "Epoch 40/50\n",
      "500/500 [==============================] - 5s 9ms/step - loss: 0.0161 - acc: 0.9840 - val_loss: 0.2462 - val_acc: 0.6744\n",
      "Epoch 41/50\n",
      "500/500 [==============================] - 5s 9ms/step - loss: 0.0123 - acc: 0.9860 - val_loss: 0.2301 - val_acc: 0.6744\n",
      "Epoch 42/50\n",
      "500/500 [==============================] - 5s 9ms/step - loss: 0.0167 - acc: 0.9780 - val_loss: 0.2766 - val_acc: 0.6434\n",
      "Epoch 43/50\n",
      "500/500 [==============================] - 5s 9ms/step - loss: 0.0183 - acc: 0.9760 - val_loss: 0.2901 - val_acc: 0.6279\n",
      "Epoch 44/50\n",
      "500/500 [==============================] - 5s 9ms/step - loss: 0.0115 - acc: 0.9880 - val_loss: 0.3034 - val_acc: 0.6434\n",
      "Epoch 45/50\n",
      "500/500 [==============================] - 5s 9ms/step - loss: 0.0140 - acc: 0.9860 - val_loss: 0.2315 - val_acc: 0.6899\n",
      "Epoch 46/50\n",
      "500/500 [==============================] - 5s 9ms/step - loss: 0.0178 - acc: 0.9780 - val_loss: 0.2452 - val_acc: 0.6899\n",
      "Epoch 47/50\n",
      "500/500 [==============================] - 5s 10ms/step - loss: 0.0124 - acc: 0.9880 - val_loss: 0.2375 - val_acc: 0.6899\n",
      "Epoch 48/50\n",
      "500/500 [==============================] - 5s 9ms/step - loss: 0.0155 - acc: 0.9840 - val_loss: 0.2571 - val_acc: 0.6589\n",
      "Epoch 49/50\n",
      "500/500 [==============================] - 5s 9ms/step - loss: 0.0159 - acc: 0.9800 - val_loss: 0.2776 - val_acc: 0.6434\n",
      "Epoch 50/50\n",
      "500/500 [==============================] - 5s 9ms/step - loss: 0.0128 - acc: 0.9840 - val_loss: 0.2660 - val_acc: 0.6434\n"
     ]
    }
   ],
   "source": [
    "# Now, fit the model to the data\n",
    "histories = []\n",
    "for ii in range(2):\n",
    "    history = model.fit([x, x_log, params], y, validation_data=([x_dev, x_dev_log, params_dev], y_dev), epochs=50, batch_size=64)\n",
    "    histories.append(history)"
   ]
  },
  {
   "cell_type": "markdown",
   "metadata": {},
   "source": [
    "### Print training results"
   ]
  },
  {
   "cell_type": "code",
   "execution_count": 14,
   "metadata": {},
   "outputs": [
    {
     "name": "stdout",
     "output_type": "stream",
     "text": [
      "dict_keys(['val_acc', 'loss', 'val_loss', 'acc'])\n"
     ]
    },
    {
     "data": {
      "image/png": "[encoded data removed]",
      "text/plain": [
       "<Figure size 432x288 with 1 Axes>"
      ]
     },
     "metadata": {
      "needs_background": "light"
     },
     "output_type": "display_data"
    },
    {
     "data": {
      "image/png": "[encoded data removed]",
      "text/plain": [
       "<Figure size 432x288 with 1 Axes>"
      ]
     },
     "metadata": {
      "needs_background": "light"
     },
     "output_type": "display_data"
    }
   ],
   "source": [
    "# List all data in history\n",
    "index = 1\n",
    "print(histories[index].history.keys())\n",
    "# Summarize history for accuracy\n",
    "plt.plot(histories[index].history['acc'])\n",
    "plt.plot(histories[index].history['val_acc'])\n",
    "plt.title('model accuracy')\n",
    "plt.ylabel('accuracy')\n",
    "plt.xlabel('epoch')\n",
    "plt.legend(['train', 'test'], loc='upper left')\n",
    "plt.show()\n",
    "# Summarize history for loss\n",
    "plt.plot(histories[index].history['loss'])\n",
    "plt.plot(histories[index].history['val_loss'])\n",
    "plt.title('model loss')\n",
    "plt.ylabel('loss')\n",
    "plt.xlabel('epoch')\n",
    "plt.legend(['train', 'test'], loc='upper left')\n",
    "plt.show()"
   ]
  },
  {
   "cell_type": "markdown",
   "metadata": {},
   "source": [
    "## Additional model evaluation"
   ]
  },
  {
   "cell_type": "code",
   "execution_count": 13,
   "metadata": {},
   "outputs": [],
   "source": [
    "# Load dev set\n",
    "x_dev, y_dev, params_dev = utils.load_dataset_all(im_dir=\"dev\", log=False, im_path=im_path)\n",
    "x_dev_log, _, _ = utils.load_dataset_all(im_dir=\"dev\", log=True, im_path=im_path)\n",
    "m_dev = x_dev.shape[0]"
   ]
  },
  {
   "cell_type": "code",
   "execution_count": 15,
   "metadata": {},
   "outputs": [
    {
     "name": "stdout",
     "output_type": "stream",
     "text": [
      "129/129 [==============================] - 1s 9ms/step\n",
      "\n",
      "Performance on VALIDATION set\n",
      ".............................\n",
      "Loss: 0.12023067424189328\n",
      "Accuracy: 0.8682170542635659\n",
      "Precision: 0.8392857142857143\n",
      "Recall: 0.8545454545454545\n",
      ".............................\n",
      "List of indices of wrong guesses:\n",
      "[0, 3, 4, 6, 10, 18, 24, 35, 42, 78, 79, 83, 84, 85, 88, 92, 93]\n"
     ]
    }
   ],
   "source": [
    "# Evaluate model, get metrics back\n",
    "stats = model.evaluate([x_dev, x_dev_log, params_dev], y_dev)\n",
    "# Calculate predictions vector from model\n",
    "predictions = model.predict([x_dev, x_dev_log, params_dev])\n",
    "predictions = np.floor(predictions + 0.5)\n",
    "\n",
    "# Get vector mask for good and bad fits and right and wrong answers\n",
    "good_fits = y_dev\n",
    "bad_fits = 1 - good_fits\n",
    "wrong_answers = np.abs(np.subtract(predictions, good_fits))\n",
    "right_answers = np.subtract(1, wrong_answers)\n",
    "# Calculate true positives (tp), as well as (tn) (fp) (fn)\n",
    "true_positives = np.multiply(right_answers, good_fits)\n",
    "true_negatives = np.multiply(right_answers, bad_fits)\n",
    "false_positives = np.multiply(wrong_answers, good_fits)\n",
    "false_negatives = np.multiply(wrong_answers, bad_fits)\n",
    "# Calculate additional metrics\n",
    "precision = np.sum(true_positives) / np.sum(true_positives + false_positives)\n",
    "recall = np.sum(true_positives) / np.sum(true_positives + false_negatives)\n",
    "\n",
    "# Print stats\n",
    "print()\n",
    "print(\"Performance on VALIDATION set\")\n",
    "print(\".............................\")\n",
    "print(\"Loss: \" + str(stats[0]))\n",
    "print(\"Accuracy: \" + str(stats[1]))\n",
    "print(\"Precision: \" + str(precision))\n",
    "print(\"Recall: \" + str(recall))\n",
    "\n",
    "# Print list of indices of wrong answers\n",
    "bad_list = []\n",
    "for i in range(m_dev):\n",
    "    if wrong_answers[i] == 1:\n",
    "        bad_list.append(i)\n",
    "print(\".............................\")\n",
    "print(\"List of indices of wrong guesses:\")\n",
    "print(bad_list)"
   ]
  },
  {
   "cell_type": "markdown",
   "metadata": {},
   "source": [
    "## Look at an image"
   ]
  },
  {
   "cell_type": "code",
   "execution_count": 19,
   "metadata": {},
   "outputs": [
    {
     "name": "stdout",
     "output_type": "stream",
     "text": [
      "label: [1]\n",
      "prediction: [0.]\n",
      "(236, 348, 3)\n"
     ]
    },
    {
     "data": {
      "text/plain": [
       "<matplotlib.image.AxesImage at 0x7fe2903538d0>"
      ]
     },
     "execution_count": 19,
     "metadata": {},
     "output_type": "execute_result"
    },
    {
     "data": {
      "image/png": "[encoded data removed]",
      "text/plain": [
       "<Figure size 432x288 with 1 Axes>"
      ]
     },
     "metadata": {
      "needs_background": "light"
     },
     "output_type": "display_data"
    }
   ],
   "source": [
    "# Choose an index \n",
    "index = 6\n",
    "\n",
    "# Print labels for this index\n",
    "print(\"label: \" + str(good_fits[index]))\n",
    "print(\"prediction: \" + str(predictions[index]))\n",
    "\n",
    "# Show image\n",
    "this_image = x[index]\n",
    "print(str(this_image.shape))\n",
    "plt.imshow(np.uint8(utils.get_printable_image(this_image)))"
   ]
  },
  {
   "cell_type": "markdown",
   "metadata": {},
   "source": [
    "## Load pretrained conv model"
   ]
  },
  {
   "cell_type": "code",
   "execution_count": 47,
   "metadata": {},
   "outputs": [
    {
     "name": "stdout",
     "output_type": "stream",
     "text": [
      "Loaded model from disk\n"
     ]
    }
   ],
   "source": [
    "# load json and create model\n",
    "json_file = open('trained/conv_model_quickngood.json', 'r')\n",
    "conv_model_json = json_file.read()\n",
    "json_file.close()\n",
    "model = model_from_json(conv_model_json)\n",
    "# load weights into new model\n",
    "model.load_weights(\"trained/conv_model_quickngood.h5\")\n",
    "print(\"Loaded model from disk\")"
   ]
  },
  {
   "cell_type": "markdown",
   "metadata": {},
   "source": [
    "## Save convolutional model to disc"
   ]
  },
  {
   "cell_type": "code",
   "execution_count": 65,
   "metadata": {},
   "outputs": [
    {
     "name": "stdout",
     "output_type": "stream",
     "text": [
      "Saved model to disk\n"
     ]
    }
   ],
   "source": [
    "#plot_model(simple_model, to_file='simple_model.png')\n",
    "#SVG(model_to_dot(simple_model).create(prog='dot', format='svg'))\n",
    "\n",
    "# serialize model to JSON\n",
    "model_json = model.to_json()\n",
    "with open(\"trained/conv_model_chi_500epoch.json\", \"w\") as json_file:\n",
    "    json_file.write(model_json)\n",
    "# serialize weights to HDF5\n",
    "model.save_weights(\"trained/conv_model_chi_500epoch.h5\")\n",
    "print(\"Saved model to disk\")"
   ]
  },
  {
   "cell_type": "code",
   "execution_count": null,
   "metadata": {
    "collapsed": true
   },
   "outputs": [],
   "source": []
  }
 ],
 "metadata": {
  "kernelspec": {
   "display_name": "Python 3",
   "language": "python",
   "name": "python3"
  },
  "language_info": {
   "codemirror_mode": {
    "name": "ipython",
    "version": 3
   },
   "file_extension": ".py",
   "mimetype": "text/x-python",
   "name": "python",
   "nbconvert_exporter": "python",
   "pygments_lexer": "ipython3",
   "version": "3.5.2"
  }
 },
 "nbformat": 4,
 "nbformat_minor": 2
}
