{
 "cells": [
  {
   "cell_type": "markdown",
   "metadata": {},
   "source": [
    "# Convolutional neural network for classifying Root data fits.\n",
    "\n",
    "\n",
    "Here, we define, train, and save new convolutional models as well as some \n",
    "simple model evaluation. We define hyper-parameters, number of layers, and \n",
    "training and testing datasets. \n",
    "\n",
    "Here, at the final layer, the network takes into account chi squared per degree of freedom."
   ]
  },
  {
   "cell_type": "markdown",
   "metadata": {},
   "source": [
    "## Load necessary packages"
   ]
  },
  {
   "cell_type": "code",
   "execution_count": 1,
   "metadata": {},
   "outputs": [
    {
     "name": "stderr",
     "output_type": "stream",
     "text": [
      "Using TensorFlow backend.\n"
     ]
    }
   ],
   "source": [
    "# Load some packages\n",
    "\n",
    "# Keras packages for network\n",
    "from keras.layers import Input, Dense, Activation, ZeroPadding2D, BatchNormalization\n",
    "from keras.layers import AveragePooling2D, MaxPooling2D, Dropout, Conv2D, Flatten\n",
    "from keras.models import Model\n",
    "from keras.optimizers import Adam, SGD\n",
    "# For saving model\n",
    "from keras.models import model_from_json\n",
    "from keras.layers import concatenate, Lambda\n",
    "\n",
    "# Some items for plotting and drawing\n",
    "from keras.utils import plot_model\n",
    "from keras.utils.vis_utils import model_to_dot\n",
    "from IPython.display import SVG\n",
    "from PIL import Image\n",
    "from scipy import misc\n",
    "import matplotlib.pyplot as plt\n",
    "\n",
    "# Need numpy\n",
    "import numpy as np\n",
    "import nn_utils as utils\n",
    "\n",
    "%matplotlib inline"
   ]
  },
  {
   "cell_type": "markdown",
   "metadata": {},
   "source": [
    "## Load root fit data from file"
   ]
  },
  {
   "cell_type": "code",
   "execution_count": 3,
   "metadata": {},
   "outputs": [
    {
     "ename": "MemoryError",
     "evalue": "",
     "output_type": "error",
     "traceback": [
      "\u001b[0;31m---------------------------------------------------------------------------\u001b[0m",
      "\u001b[0;31mMemoryError\u001b[0m                               Traceback (most recent call last)",
      "\u001b[0;32m<ipython-input-3-22d089af8400>\u001b[0m in \u001b[0;36m<module>\u001b[0;34m\u001b[0m\n\u001b[1;32m      3\u001b[0m \u001b[0;34m\u001b[0m\u001b[0m\n\u001b[1;32m      4\u001b[0m \u001b[0;31m# Load dataset\u001b[0m\u001b[0;34m\u001b[0m\u001b[0;34m\u001b[0m\u001b[0m\n\u001b[0;32m----> 5\u001b[0;31m \u001b[0mx\u001b[0m\u001b[0;34m,\u001b[0m \u001b[0my\u001b[0m\u001b[0;34m,\u001b[0m \u001b[0mparams\u001b[0m \u001b[0;34m=\u001b[0m \u001b[0mutils\u001b[0m\u001b[0;34m.\u001b[0m\u001b[0mload_dataset_all\u001b[0m\u001b[0;34m(\u001b[0m\u001b[0mim_dir\u001b[0m\u001b[0;34m=\u001b[0m\u001b[0;34m\"train\"\u001b[0m\u001b[0;34m,\u001b[0m \u001b[0mlog\u001b[0m\u001b[0;34m=\u001b[0m\u001b[0;32mFalse\u001b[0m\u001b[0;34m,\u001b[0m \u001b[0mim_path\u001b[0m\u001b[0;34m=\u001b[0m\u001b[0mim_path\u001b[0m\u001b[0;34m)\u001b[0m\u001b[0;34m\u001b[0m\u001b[0m\n\u001b[0m\u001b[1;32m      6\u001b[0m \u001b[0mx_log\u001b[0m\u001b[0;34m,\u001b[0m \u001b[0m_\u001b[0m\u001b[0;34m,\u001b[0m \u001b[0m_\u001b[0m \u001b[0;34m=\u001b[0m \u001b[0mutils\u001b[0m\u001b[0;34m.\u001b[0m\u001b[0mload_dataset_all\u001b[0m\u001b[0;34m(\u001b[0m\u001b[0mim_dir\u001b[0m\u001b[0;34m=\u001b[0m\u001b[0;34m\"train\"\u001b[0m\u001b[0;34m,\u001b[0m \u001b[0mlog\u001b[0m\u001b[0;34m=\u001b[0m\u001b[0;32mTrue\u001b[0m\u001b[0;34m,\u001b[0m \u001b[0mim_path\u001b[0m\u001b[0;34m=\u001b[0m\u001b[0mim_path\u001b[0m\u001b[0;34m)\u001b[0m\u001b[0;34m\u001b[0m\u001b[0m\n\u001b[1;32m      7\u001b[0m \u001b[0;34m\u001b[0m\u001b[0m\n",
      "\u001b[0;32m~/Projects/fit_pmt/nn_models/nn_utils.py\u001b[0m in \u001b[0;36mload_dataset_all\u001b[0;34m(m, im_dir, log, im_path)\u001b[0m\n\u001b[1;32m    401\u001b[0m \u001b[0;34m\u001b[0m\u001b[0m\n\u001b[1;32m    402\u001b[0m     \u001b[0;31m# Invert and normalize images\u001b[0m\u001b[0;34m\u001b[0m\u001b[0;34m\u001b[0m\u001b[0m\n\u001b[0;32m--> 403\u001b[0;31m     \u001b[0mimages\u001b[0m \u001b[0;34m=\u001b[0m \u001b[0;34m(\u001b[0m\u001b[0;36m255.\u001b[0m \u001b[0;34m-\u001b[0m \u001b[0mimages\u001b[0m\u001b[0;34m)\u001b[0m \u001b[0;34m/\u001b[0m \u001b[0;36m255.\u001b[0m\u001b[0;34m\u001b[0m\u001b[0m\n\u001b[0m\u001b[1;32m    404\u001b[0m \u001b[0;34m\u001b[0m\u001b[0m\n\u001b[1;32m    405\u001b[0m     \u001b[0;31m# Reshape labels\u001b[0m\u001b[0;34m\u001b[0m\u001b[0;34m\u001b[0m\u001b[0m\n",
      "\u001b[0;31mMemoryError\u001b[0m: "
     ]
    }
   ],
   "source": [
    "# Define image file path\n",
    "im_path=\"/media/brady/4be7777f-c84c-40ca-af3a-b8c6e4f2f90d/brady/Projects/fit_pmt/images/png_fit_nn/\"\n",
    "\n",
    "# Load dataset\n",
    "x, y, params = utils.load_dataset_all(im_dir=\"train\", log=False, im_path=im_path)\n",
    "x_log, _, _ = utils.load_dataset_all(im_dir=\"train\", log=True, im_path=im_path)\n",
    "\n",
    "# Load dev set\n",
    "#x_dev, y_dev, params_dev = utils.load_dataset_all(im_dir=\"dev\", log=False, im_path=im_path)\n",
    "#x_dev_log, _, _ = utils.load_dataset_all(im_dir=\"dev\", log=True, im_path=im_path)\n",
    "#m_dev = x_dev.shape[0]\n",
    "\n",
    "# Grab dimensions of picture\n",
    "(m, h, w, c) = x.shape\n",
    "#m_dev = x_dev.shape[0]\n",
    "input_shape = h, w, c\n",
    "num_params = params.shape[1]\n",
    "\n",
    "# Print dimensions\n",
    "print(\"(m, height, width, channels): (\" + str(m) + \", \" + str(h) + \", \" + str(w) + \", \" + str(c) + \")\")\n",
    "#print(\"m_dev: \" + str(m_dev))\n",
    "print(\"y: \" + str(y.shape))\n",
    "print(\"params: \" + str(params.shape))\n"
   ]
  },
  {
   "cell_type": "markdown",
   "metadata": {},
   "source": [
    "### Print an image"
   ]
  },
  {
   "cell_type": "code",
   "execution_count": 3,
   "metadata": {},
   "outputs": [
    {
     "name": "stdout",
     "output_type": "stream",
     "text": [
      "label: good\n",
      "label: [1]\n",
      "params: [ 0.000000e+00  1.000000e+00  1.000000e+00  1.000000e+00  2.000000e+01\n",
      "  5.000000e-02  6.144692e+02  2.252700e+00  1.000000e-02  2.560000e+00\n",
      "  4.000000e+00  2.252700e+00  5.000000e-01  5.000000e-01  1.000000e-03\n",
      " -1.000000e+00 -1.000000e+00 -1.000000e+00 -1.000000e+00 -1.000000e+00\n",
      " -1.000000e+00  0.000000e+00  0.000000e+00  5.000000e-01 -1.000000e+00\n",
      " -1.000000e+00 -1.000000e+00 -1.000000e+00 -1.000000e+00 -1.000000e+00\n",
      "  1.000000e+00  1.000000e+00  6.400000e-03  6.130692e+02  1.706800e+00\n",
      "  5.000000e-02  5.411800e+00  1.132900e+00  1.556800e+00  1.765000e-01\n",
      "  8.235000e-01  2.000000e-04  1.620000e-02  1.270000e-02  1.000000e-03\n",
      "  8.910000e-02  1.870000e-02  1.070000e-02  2.800000e-03  3.000000e-03\n",
      "  6.254000e+00  1.768000e-01  7.300000e-03  4.130900e+00]\n"
     ]
    },
    {
     "data": {
      "text/plain": [
       "<matplotlib.image.AxesImage at 0x7f1e0416e6d8>"
      ]
     },
     "execution_count": 3,
     "metadata": {},
     "output_type": "execute_result"
    },
    {
     "data": {
      "image/png": "[encoded data removed]",
      "text/plain": [
       "<Figure size 432x288 with 1 Axes>"
      ]
     },
     "metadata": {
      "needs_background": "light"
     },
     "output_type": "display_data"
    }
   ],
   "source": [
    "# Print an image\n",
    "index = 420\n",
    "this_image = x[index]\n",
    "if y[index] == 1:\n",
    "    print(\"label: good\")\n",
    "else:\n",
    "    print(\"label: bad\")\n",
    "print(\"label: \" + str(y[index]))\n",
    "print(\"params: \" + str(params[index]))\n",
    "plt.imshow(np.uint8(utils.get_printable_image(this_image)))"
   ]
  },
  {
   "cell_type": "markdown",
   "metadata": {},
   "source": [
    "# Define and Train multi-layer ConvNet with 2 fully connected layers plus output layer\n",
    "\n",
    "For the convolutional layer, we will scan over our images with a certain stride and a certain kernal size. \n",
    "Each individual scan represents a single neuron in the next layer. Since each scan connects to kernal size squared\n",
    "neurons below it, convolutions reduce the number of degrees of freedom. Hopefully, through learning the right filters,\n",
    "we can preserve the important information as we reduce it in size.\n",
    "\n",
    "Once the image has gone through the convolutional layers (and therefore has been reduced to its features vector), we\n",
    "can send the resulting vector into some old-fashioned fully-connected layers, and finally into a logistic regression unit."
   ]
  },
  {
   "cell_type": "markdown",
   "metadata": {},
   "source": [
    "## Define hyperparameters"
   ]
  },
  {
   "cell_type": "code",
   "execution_count": 4,
   "metadata": {},
   "outputs": [],
   "source": [
    "# Initialize\n",
    "filters = []\n",
    "kernels = []\n",
    "strides = []\n",
    "pools = []\n",
    "dropouts = []\n",
    "\n",
    "# Conv1\n",
    "filters.append(32)\n",
    "kernels.append(5)\n",
    "strides.append(2)\n",
    "pools.append(1)\n",
    "dropouts.append(0.2)\n",
    "\n",
    "# Conv2\n",
    "filters.append(32)\n",
    "kernels.append(7)\n",
    "strides.append(2)\n",
    "pools.append(1)\n",
    "dropouts.append(0.2)\n",
    "\n",
    "# Conv3\n",
    "filters.append(128)\n",
    "kernels.append(9)\n",
    "strides.append(2)\n",
    "pools.append(2)\n",
    "dropouts.append(0.2)\n",
    "\n",
    "# Define dense (fully-connected) layer sizes\n",
    "fc1 = 40\n",
    "fc2 = 10"
   ]
  },
  {
   "cell_type": "markdown",
   "metadata": {},
   "source": [
    "## Define keras layers (model)\n",
    "\n",
    "Our model contains two convolutional models in parallel, each with multiple layers. We run two in parallel to utilize log scale images AND linear scale (different information present). \n",
    "\n",
    "After we convolve the images, we flatten them and concatenate them. We also concatenate to them a list of inputs and outputs to and from the root fit algorithm such as parameter initial condition and bounds, output parameters plus errors, and chi-squared per degree of freedom.\n",
    "\n",
    "After concatenating these three sources of information together, we send them through some fully-connected layers to allow learning from all three sources simultaneously.\n",
    "\n",
    "Dropout is used here for regularization.\n",
    "Pooling is used here to speed up computation.\n",
    "Batch normalization is used to aid in learning at deeper layers."
   ]
  },
  {
   "cell_type": "code",
   "execution_count": 8,
   "metadata": {},
   "outputs": [],
   "source": [
    "# Define input layer (RGB image matrix)\n",
    "X = Input(shape=input_shape, name='Input')\n",
    "\n",
    "# Define additional input info\n",
    "X_log = Input(shape=input_shape, name='InputLog')\n",
    "\n",
    "# Define additional input info\n",
    "Params = Input(shape=(num_params,), name='Params')\n",
    "\n",
    "# Initialize activation as input\n",
    "a = X\n",
    "a_log = X_log\n",
    "# Loop through all convolutional layers\n",
    "for i in range(len(filters)):\n",
    "    # Perform convolution\n",
    "    a = Conv2D(filters=filters[i], kernel_size=(kernels[i], kernels[i]), strides=(strides[i], strides[i]), name=('conv' + str(i)))(a)\n",
    "    a_log = Conv2D(filters=filters[i], kernel_size=(kernels[i], kernels[i]), strides=(strides[i], strides[i]), name=('conv_log' + str(i)))(a_log)\n",
    "    # Normalize\n",
    "    a = BatchNormalization(axis=3, name=('bn' + str(i)))(a)\n",
    "    a_log = BatchNormalization(axis=3, name=('bn_log' + str(i)))(a_log)\n",
    "    # Activate\n",
    "    a = Activation('elu', name=('a' + str(i)))(a)\n",
    "    a_log = Activation('elu', name=('a_log' + str(i)))(a_log)\n",
    "    # Max-pool\n",
    "    a = MaxPooling2D((pools[i], pools[i]), name=('max_pool' + str(i)))(a)\n",
    "    a_log = MaxPooling2D((pools[i], pools[i]), name=('max_pool_log' + str(i)))(a_log)\n",
    "    # Dropout\n",
    "    a = Dropout(rate=dropouts[i])(a)\n",
    "    a_log = Dropout(rate=dropouts[i])(a_log)\n",
    "\n",
    "# Flatten output of convNet\n",
    "a = Flatten()(a)\n",
    "a_log = Flatten()(a_log)\n",
    "# Define first fully connected layer\n",
    "a = Dense(units=fc1, activation='elu', name='fc0')(a)\n",
    "a_log = Dense(units=fc1, activation='elu', name='fc0_log')(a_log)\n",
    "# Use some dropout here for regularization\n",
    "a = Dropout(rate=0.2)(a)\n",
    "a_log = Dropout(rate=0.2)(a_log)\n",
    "\n",
    "# Combine log and non log outputsdef concat_vectors(input):\n",
    "def concat_vectors(input):\n",
    "    a = input[0]\n",
    "    b = input[1]\n",
    "    return concatenate([a,b], axis=1)\n",
    "a_both = Lambda(concat_vectors, name='concat_layer')([a, a_log])\n",
    "\n",
    "# Activate parameters\n",
    "a_params = Activation('tanh', name='param_act')(Params)\n",
    "\n",
    "# Concatenate parameters to activations\n",
    "a_final = Lambda(concat_vectors, name='concat_vectors')([a_both, a_params])\n",
    "\n",
    "# Define second fully connected layer\n",
    "a_final = Dense(units=fc2, activation='relu', name='fc1')(a_final)                                 \n",
    "a_final = Dropout(rate=0.2)(a_both)\n",
    "a_final = Dense(units=fc2, activation='relu', name='fc2')(a_final)\n",
    "# Define output layer \n",
    "a_final = Dense(units=1, activation='sigmoid', name='sigmoid')(a_final)\n",
    "\n",
    "# Make the model\n",
    "model = Model(inputs=[X, X_log, Params], outputs=a_final)"
   ]
  },
  {
   "cell_type": "markdown",
   "metadata": {},
   "source": [
    "##### Define optimizer, loss, and metrics. Compile model."
   ]
  },
  {
   "cell_type": "code",
   "execution_count": 9,
   "metadata": {
    "scrolled": false
   },
   "outputs": [
    {
     "name": "stdout",
     "output_type": "stream",
     "text": [
      "__________________________________________________________________________________________________\n",
      "Layer (type)                    Output Shape         Param #     Connected to                     \n",
      "==================================================================================================\n",
      "Input (InputLayer)              (None, 236, 348, 3)  0                                            \n",
      "__________________________________________________________________________________________________\n",
      "InputLog (InputLayer)           (None, 236, 348, 3)  0                                            \n",
      "__________________________________________________________________________________________________\n",
      "conv0 (Conv2D)                  (None, 116, 172, 32) 2432        Input[0][0]                      \n",
      "__________________________________________________________________________________________________\n",
      "conv_log0 (Conv2D)              (None, 116, 172, 32) 2432        InputLog[0][0]                   \n",
      "__________________________________________________________________________________________________\n",
      "bn0 (BatchNormalization)        (None, 116, 172, 32) 128         conv0[0][0]                      \n",
      "__________________________________________________________________________________________________\n",
      "bn_log0 (BatchNormalization)    (None, 116, 172, 32) 128         conv_log0[0][0]                  \n",
      "__________________________________________________________________________________________________\n",
      "a0 (Activation)                 (None, 116, 172, 32) 0           bn0[0][0]                        \n",
      "__________________________________________________________________________________________________\n",
      "a_log0 (Activation)             (None, 116, 172, 32) 0           bn_log0[0][0]                    \n",
      "__________________________________________________________________________________________________\n",
      "max_pool0 (MaxPooling2D)        (None, 116, 172, 32) 0           a0[0][0]                         \n",
      "__________________________________________________________________________________________________\n",
      "max_pool_log0 (MaxPooling2D)    (None, 116, 172, 32) 0           a_log0[0][0]                     \n",
      "__________________________________________________________________________________________________\n",
      "dropout_25 (Dropout)            (None, 116, 172, 32) 0           max_pool0[0][0]                  \n",
      "__________________________________________________________________________________________________\n",
      "dropout_26 (Dropout)            (None, 116, 172, 32) 0           max_pool_log0[0][0]              \n",
      "__________________________________________________________________________________________________\n",
      "conv1 (Conv2D)                  (None, 55, 83, 32)   50208       dropout_25[0][0]                 \n",
      "__________________________________________________________________________________________________\n",
      "conv_log1 (Conv2D)              (None, 55, 83, 32)   50208       dropout_26[0][0]                 \n",
      "__________________________________________________________________________________________________\n",
      "bn1 (BatchNormalization)        (None, 55, 83, 32)   128         conv1[0][0]                      \n",
      "__________________________________________________________________________________________________\n",
      "bn_log1 (BatchNormalization)    (None, 55, 83, 32)   128         conv_log1[0][0]                  \n",
      "__________________________________________________________________________________________________\n",
      "a1 (Activation)                 (None, 55, 83, 32)   0           bn1[0][0]                        \n",
      "__________________________________________________________________________________________________\n",
      "a_log1 (Activation)             (None, 55, 83, 32)   0           bn_log1[0][0]                    \n",
      "__________________________________________________________________________________________________\n",
      "max_pool1 (MaxPooling2D)        (None, 55, 83, 32)   0           a1[0][0]                         \n",
      "__________________________________________________________________________________________________\n",
      "max_pool_log1 (MaxPooling2D)    (None, 55, 83, 32)   0           a_log1[0][0]                     \n",
      "__________________________________________________________________________________________________\n",
      "dropout_27 (Dropout)            (None, 55, 83, 32)   0           max_pool1[0][0]                  \n",
      "__________________________________________________________________________________________________\n",
      "dropout_28 (Dropout)            (None, 55, 83, 32)   0           max_pool_log1[0][0]              \n",
      "__________________________________________________________________________________________________\n",
      "conv2 (Conv2D)                  (None, 24, 38, 128)  331904      dropout_27[0][0]                 \n",
      "__________________________________________________________________________________________________\n",
      "conv_log2 (Conv2D)              (None, 24, 38, 128)  331904      dropout_28[0][0]                 \n",
      "__________________________________________________________________________________________________\n",
      "bn2 (BatchNormalization)        (None, 24, 38, 128)  512         conv2[0][0]                      \n",
      "__________________________________________________________________________________________________\n",
      "bn_log2 (BatchNormalization)    (None, 24, 38, 128)  512         conv_log2[0][0]                  \n",
      "__________________________________________________________________________________________________\n",
      "a2 (Activation)                 (None, 24, 38, 128)  0           bn2[0][0]                        \n",
      "__________________________________________________________________________________________________\n",
      "a_log2 (Activation)             (None, 24, 38, 128)  0           bn_log2[0][0]                    \n",
      "__________________________________________________________________________________________________\n",
      "max_pool2 (MaxPooling2D)        (None, 12, 19, 128)  0           a2[0][0]                         \n",
      "__________________________________________________________________________________________________\n",
      "max_pool_log2 (MaxPooling2D)    (None, 12, 19, 128)  0           a_log2[0][0]                     \n",
      "__________________________________________________________________________________________________\n",
      "dropout_29 (Dropout)            (None, 12, 19, 128)  0           max_pool2[0][0]                  \n",
      "__________________________________________________________________________________________________\n",
      "dropout_30 (Dropout)            (None, 12, 19, 128)  0           max_pool_log2[0][0]              \n",
      "__________________________________________________________________________________________________\n",
      "flatten_7 (Flatten)             (None, 29184)        0           dropout_29[0][0]                 \n",
      "__________________________________________________________________________________________________\n",
      "flatten_8 (Flatten)             (None, 29184)        0           dropout_30[0][0]                 \n",
      "__________________________________________________________________________________________________\n",
      "fc0 (Dense)                     (None, 40)           1167400     flatten_7[0][0]                  \n",
      "__________________________________________________________________________________________________\n",
      "fc0_log (Dense)                 (None, 40)           1167400     flatten_8[0][0]                  \n",
      "__________________________________________________________________________________________________\n",
      "dropout_31 (Dropout)            (None, 40)           0           fc0[0][0]                        \n",
      "__________________________________________________________________________________________________\n",
      "dropout_32 (Dropout)            (None, 40)           0           fc0_log[0][0]                    \n",
      "__________________________________________________________________________________________________\n",
      "concat_layer (Lambda)           (None, 80)           0           dropout_31[0][0]                 \n",
      "                                                                 dropout_32[0][0]                 \n",
      "__________________________________________________________________________________________________\n",
      "dropout_33 (Dropout)            (None, 80)           0           concat_layer[0][0]               \n",
      "__________________________________________________________________________________________________\n",
      "fc2 (Dense)                     (None, 10)           810         dropout_33[0][0]                 \n",
      "__________________________________________________________________________________________________\n",
      "sigmoid (Dense)                 (None, 1)            11          fc2[0][0]                        \n",
      "==================================================================================================\n",
      "Total params: 3,106,245\n",
      "Trainable params: 3,105,477\n",
      "Non-trainable params: 768\n",
      "__________________________________________________________________________________________________\n"
     ]
    }
   ],
   "source": [
    "# Define optimizer\n",
    "#opt = Adam(lr=0.01, beta_1=0.9, beta_2=0.999, decay=0.001)\n",
    "opt = SGD(lr=1.0, decay=1e-6, momentum=0.9, nesterov=True)\n",
    "# Define loss\n",
    "loss = 'mean_squared_error'\n",
    "# Define metrics to use\n",
    "metrics=['acc']\n",
    "# Compile model\n",
    "model.compile(loss=loss, optimizer='sgd', metrics=metrics)\n",
    "# Print summary\n",
    "model.summary()"
   ]
  },
  {
   "cell_type": "markdown",
   "metadata": {},
   "source": [
    "## Fit the model to the data (train)"
   ]
  },
  {
   "cell_type": "code",
   "execution_count": 10,
   "metadata": {
    "scrolled": true
   },
   "outputs": [
    {
     "name": "stdout",
     "output_type": "stream",
     "text": [
      "Train on 1396 samples, validate on 129 samples\n",
      "Epoch 1/40\n",
      "1396/1396 [==============================] - 35s 25ms/step - loss: 0.2680 - acc: 0.5630 - val_loss: 0.2284 - val_acc: 0.6434\n",
      "Epoch 2/40\n",
      "1396/1396 [==============================] - 26s 18ms/step - loss: 0.2204 - acc: 0.6332 - val_loss: 0.1913 - val_acc: 0.7209\n",
      "Epoch 3/40\n",
      "1396/1396 [==============================] - 28s 20ms/step - loss: 0.1985 - acc: 0.6755 - val_loss: 0.1560 - val_acc: 0.7984\n",
      "Epoch 4/40\n",
      "1396/1396 [==============================] - 18s 13ms/step - loss: 0.1783 - acc: 0.7235 - val_loss: 0.1649 - val_acc: 0.7674\n",
      "Epoch 5/40\n",
      "1396/1396 [==============================] - 12s 9ms/step - loss: 0.1642 - acc: 0.7543 - val_loss: 0.1463 - val_acc: 0.8140\n",
      "Epoch 6/40\n",
      "1396/1396 [==============================] - 12s 9ms/step - loss: 0.1547 - acc: 0.7779 - val_loss: 0.1765 - val_acc: 0.7597\n",
      "Epoch 7/40\n",
      "1396/1396 [==============================] - 12s 9ms/step - loss: 0.1447 - acc: 0.8095 - val_loss: 0.1376 - val_acc: 0.8140\n",
      "Epoch 8/40\n",
      "1396/1396 [==============================] - 12s 9ms/step - loss: 0.1279 - acc: 0.8202 - val_loss: 0.1430 - val_acc: 0.7752\n",
      "Epoch 9/40\n",
      "1396/1396 [==============================] - 12s 9ms/step - loss: 0.1249 - acc: 0.8324 - val_loss: 0.1414 - val_acc: 0.8062\n",
      "Epoch 10/40\n",
      "1396/1396 [==============================] - 12s 9ms/step - loss: 0.1224 - acc: 0.8317 - val_loss: 0.1224 - val_acc: 0.8682\n",
      "Epoch 11/40\n",
      "1396/1396 [==============================] - 12s 9ms/step - loss: 0.1074 - acc: 0.8574 - val_loss: 0.1327 - val_acc: 0.8140\n",
      "Epoch 12/40\n",
      "1396/1396 [==============================] - 12s 9ms/step - loss: 0.1158 - acc: 0.8446 - val_loss: 0.1425 - val_acc: 0.8295\n",
      "Epoch 13/40\n",
      "1396/1396 [==============================] - 12s 9ms/step - loss: 0.1092 - acc: 0.8467 - val_loss: 0.1605 - val_acc: 0.7519\n",
      "Epoch 14/40\n",
      "1396/1396 [==============================] - 12s 9ms/step - loss: 0.0968 - acc: 0.8711 - val_loss: 0.1639 - val_acc: 0.7442\n",
      "Epoch 15/40\n",
      "1396/1396 [==============================] - 12s 9ms/step - loss: 0.0946 - acc: 0.8811 - val_loss: 0.1203 - val_acc: 0.8450\n",
      "Epoch 16/40\n",
      "1396/1396 [==============================] - 12s 9ms/step - loss: 0.0959 - acc: 0.8782 - val_loss: 0.1324 - val_acc: 0.7907\n",
      "Epoch 17/40\n",
      "1396/1396 [==============================] - 12s 9ms/step - loss: 0.0866 - acc: 0.8875 - val_loss: 0.1092 - val_acc: 0.8527\n",
      "Epoch 18/40\n",
      "1396/1396 [==============================] - 12s 9ms/step - loss: 0.0885 - acc: 0.8804 - val_loss: 0.1579 - val_acc: 0.7752\n",
      "Epoch 19/40\n",
      "1396/1396 [==============================] - 12s 9ms/step - loss: 0.0890 - acc: 0.8825 - val_loss: 0.1403 - val_acc: 0.8295\n",
      "Epoch 20/40\n",
      "1396/1396 [==============================] - 13s 9ms/step - loss: 0.0780 - acc: 0.8940 - val_loss: 0.1950 - val_acc: 0.7209\n",
      "Epoch 21/40\n",
      "1396/1396 [==============================] - 13s 9ms/step - loss: 0.0768 - acc: 0.9004 - val_loss: 0.1508 - val_acc: 0.7752\n",
      "Epoch 22/40\n",
      "1396/1396 [==============================] - 12s 9ms/step - loss: 0.0736 - acc: 0.9033 - val_loss: 0.1539 - val_acc: 0.7752\n",
      "Epoch 23/40\n",
      "1396/1396 [==============================] - 12s 9ms/step - loss: 0.0793 - acc: 0.8961 - val_loss: 0.1196 - val_acc: 0.8295\n",
      "Epoch 24/40\n",
      "1396/1396 [==============================] - 12s 9ms/step - loss: 0.0798 - acc: 0.8854 - val_loss: 0.1599 - val_acc: 0.7674\n",
      "Epoch 25/40\n",
      "1396/1396 [==============================] - 12s 9ms/step - loss: 0.0680 - acc: 0.9069 - val_loss: 0.1174 - val_acc: 0.8295\n",
      "Epoch 26/40\n",
      "1396/1396 [==============================] - 12s 9ms/step - loss: 0.0646 - acc: 0.9155 - val_loss: 0.1167 - val_acc: 0.8450\n",
      "Epoch 27/40\n",
      "1396/1396 [==============================] - 12s 9ms/step - loss: 0.0640 - acc: 0.9219 - val_loss: 0.1733 - val_acc: 0.7287\n",
      "Epoch 28/40\n",
      "1396/1396 [==============================] - 12s 9ms/step - loss: 0.0616 - acc: 0.9212 - val_loss: 0.1276 - val_acc: 0.7907\n",
      "Epoch 29/40\n",
      "1396/1396 [==============================] - 12s 9ms/step - loss: 0.0614 - acc: 0.9169 - val_loss: 0.1068 - val_acc: 0.8605\n",
      "Epoch 30/40\n",
      "1396/1396 [==============================] - 12s 9ms/step - loss: 0.0626 - acc: 0.9148 - val_loss: 0.1093 - val_acc: 0.8372\n",
      "Epoch 31/40\n",
      "1396/1396 [==============================] - 12s 9ms/step - loss: 0.0515 - acc: 0.9377 - val_loss: 0.1401 - val_acc: 0.7674\n",
      "Epoch 32/40\n",
      "1396/1396 [==============================] - 12s 9ms/step - loss: 0.0488 - acc: 0.9413 - val_loss: 0.1309 - val_acc: 0.7907\n",
      "Epoch 33/40\n",
      "1396/1396 [==============================] - 12s 9ms/step - loss: 0.0489 - acc: 0.9391 - val_loss: 0.1102 - val_acc: 0.8527\n",
      "Epoch 34/40\n",
      "1396/1396 [==============================] - 12s 9ms/step - loss: 0.0523 - acc: 0.9334 - val_loss: 0.1521 - val_acc: 0.7597\n",
      "Epoch 35/40\n",
      "1396/1396 [==============================] - 12s 9ms/step - loss: 0.0522 - acc: 0.9370 - val_loss: 0.1095 - val_acc: 0.8295\n",
      "Epoch 36/40\n",
      "1396/1396 [==============================] - 12s 9ms/step - loss: 0.0483 - acc: 0.9420 - val_loss: 0.1038 - val_acc: 0.8372\n",
      "Epoch 37/40\n",
      "1396/1396 [==============================] - 12s 9ms/step - loss: 0.0499 - acc: 0.9348 - val_loss: 0.0968 - val_acc: 0.8837\n",
      "Epoch 38/40\n",
      "1396/1396 [==============================] - 12s 9ms/step - loss: 0.0438 - acc: 0.9463 - val_loss: 0.1843 - val_acc: 0.7519\n",
      "Epoch 39/40\n",
      "1396/1396 [==============================] - 12s 9ms/step - loss: 0.0443 - acc: 0.9441 - val_loss: 0.1582 - val_acc: 0.7674\n",
      "Epoch 40/40\n",
      "1396/1396 [==============================] - 12s 9ms/step - loss: 0.0467 - acc: 0.9370 - val_loss: 0.1189 - val_acc: 0.8372\n",
      "Train on 1396 samples, validate on 129 samples\n",
      "Epoch 1/40\n",
      "1396/1396 [==============================] - 12s 9ms/step - loss: 0.0402 - acc: 0.9491 - val_loss: 0.1063 - val_acc: 0.8682\n",
      "Epoch 2/40\n",
      "1396/1396 [==============================] - 12s 9ms/step - loss: 0.0431 - acc: 0.9491 - val_loss: 0.1146 - val_acc: 0.8527\n",
      "Epoch 3/40\n",
      "1396/1396 [==============================] - 12s 9ms/step - loss: 0.0402 - acc: 0.9506 - val_loss: 0.1403 - val_acc: 0.7752\n",
      "Epoch 4/40\n",
      "1396/1396 [==============================] - 12s 9ms/step - loss: 0.0398 - acc: 0.9463 - val_loss: 0.1191 - val_acc: 0.8217\n",
      "Epoch 5/40\n",
      "1396/1396 [==============================] - 12s 9ms/step - loss: 0.0331 - acc: 0.9620 - val_loss: 0.1198 - val_acc: 0.7829\n",
      "Epoch 6/40\n",
      "1396/1396 [==============================] - 12s 9ms/step - loss: 0.0389 - acc: 0.9542 - val_loss: 0.1303 - val_acc: 0.7907\n",
      "Epoch 7/40\n",
      "1396/1396 [==============================] - 12s 9ms/step - loss: 0.0306 - acc: 0.9628 - val_loss: 0.1137 - val_acc: 0.8295\n",
      "Epoch 8/40\n",
      "1396/1396 [==============================] - 12s 9ms/step - loss: 0.0328 - acc: 0.9620 - val_loss: 0.1147 - val_acc: 0.8450\n",
      "Epoch 9/40\n",
      "1396/1396 [==============================] - 12s 9ms/step - loss: 0.0308 - acc: 0.9642 - val_loss: 0.2991 - val_acc: 0.6434\n",
      "Epoch 10/40\n",
      "1396/1396 [==============================] - 12s 9ms/step - loss: 0.0345 - acc: 0.9527 - val_loss: 0.1441 - val_acc: 0.8295\n",
      "Epoch 11/40\n",
      "1396/1396 [==============================] - 12s 9ms/step - loss: 0.0322 - acc: 0.9606 - val_loss: 0.1047 - val_acc: 0.8527\n",
      "Epoch 12/40\n",
      "1396/1396 [==============================] - 12s 9ms/step - loss: 0.0317 - acc: 0.9613 - val_loss: 0.1009 - val_acc: 0.8527\n",
      "Epoch 13/40\n",
      "1396/1396 [==============================] - 12s 9ms/step - loss: 0.0313 - acc: 0.9606 - val_loss: 0.1077 - val_acc: 0.8837\n",
      "Epoch 14/40\n",
      "1396/1396 [==============================] - 12s 9ms/step - loss: 0.0286 - acc: 0.9663 - val_loss: 0.1317 - val_acc: 0.7829\n",
      "Epoch 15/40\n",
      "1396/1396 [==============================] - 12s 9ms/step - loss: 0.0268 - acc: 0.9663 - val_loss: 0.1089 - val_acc: 0.8527\n",
      "Epoch 16/40\n",
      "1396/1396 [==============================] - 12s 9ms/step - loss: 0.0284 - acc: 0.9663 - val_loss: 0.1213 - val_acc: 0.8605\n",
      "Epoch 17/40\n",
      "1396/1396 [==============================] - 12s 9ms/step - loss: 0.0259 - acc: 0.9649 - val_loss: 0.1204 - val_acc: 0.8295\n",
      "Epoch 18/40\n",
      "1396/1396 [==============================] - 12s 9ms/step - loss: 0.0259 - acc: 0.9706 - val_loss: 0.1456 - val_acc: 0.7752\n",
      "Epoch 19/40\n",
      "1396/1396 [==============================] - 12s 9ms/step - loss: 0.0267 - acc: 0.9685 - val_loss: 0.1126 - val_acc: 0.8527\n",
      "Epoch 20/40\n"
     ]
    },
    {
     "name": "stdout",
     "output_type": "stream",
     "text": [
      "1396/1396 [==============================] - 12s 9ms/step - loss: 0.0230 - acc: 0.9721 - val_loss: 0.1049 - val_acc: 0.8605\n",
      "Epoch 21/40\n",
      "1396/1396 [==============================] - 12s 9ms/step - loss: 0.0205 - acc: 0.9771 - val_loss: 0.1536 - val_acc: 0.7752\n",
      "Epoch 22/40\n",
      "1396/1396 [==============================] - 12s 9ms/step - loss: 0.0212 - acc: 0.9735 - val_loss: 0.1445 - val_acc: 0.7829\n",
      "Epoch 23/40\n",
      "1396/1396 [==============================] - 12s 9ms/step - loss: 0.0258 - acc: 0.9656 - val_loss: 0.1691 - val_acc: 0.7442\n",
      "Epoch 24/40\n",
      "1396/1396 [==============================] - 12s 9ms/step - loss: 0.0236 - acc: 0.9764 - val_loss: 0.1132 - val_acc: 0.8527\n",
      "Epoch 25/40\n",
      "1396/1396 [==============================] - 12s 9ms/step - loss: 0.0174 - acc: 0.9821 - val_loss: 0.1513 - val_acc: 0.7674\n",
      "Epoch 26/40\n",
      "1396/1396 [==============================] - 12s 9ms/step - loss: 0.0199 - acc: 0.9771 - val_loss: 0.1589 - val_acc: 0.7442\n",
      "Epoch 27/40\n",
      "1396/1396 [==============================] - 12s 9ms/step - loss: 0.0155 - acc: 0.9828 - val_loss: 0.0906 - val_acc: 0.9070\n",
      "Epoch 28/40\n",
      "1396/1396 [==============================] - 12s 9ms/step - loss: 0.0166 - acc: 0.9778 - val_loss: 0.1299 - val_acc: 0.7984\n",
      "Epoch 29/40\n",
      "1396/1396 [==============================] - 12s 9ms/step - loss: 0.0191 - acc: 0.9778 - val_loss: 0.1284 - val_acc: 0.8217\n",
      "Epoch 30/40\n",
      "1396/1396 [==============================] - 12s 9ms/step - loss: 0.0167 - acc: 0.9814 - val_loss: 0.1114 - val_acc: 0.8605\n",
      "Epoch 31/40\n",
      "1396/1396 [==============================] - 12s 9ms/step - loss: 0.0188 - acc: 0.9735 - val_loss: 0.1720 - val_acc: 0.7442\n",
      "Epoch 32/40\n",
      "1396/1396 [==============================] - 12s 9ms/step - loss: 0.0174 - acc: 0.9814 - val_loss: 0.1605 - val_acc: 0.7519\n",
      "Epoch 33/40\n",
      "1396/1396 [==============================] - 12s 9ms/step - loss: 0.0175 - acc: 0.9792 - val_loss: 0.1377 - val_acc: 0.8217\n",
      "Epoch 34/40\n",
      "1396/1396 [==============================] - 12s 9ms/step - loss: 0.0197 - acc: 0.9764 - val_loss: 0.1636 - val_acc: 0.7442\n",
      "Epoch 35/40\n",
      "1396/1396 [==============================] - 12s 9ms/step - loss: 0.0175 - acc: 0.9785 - val_loss: 0.1019 - val_acc: 0.8760\n",
      "Epoch 36/40\n",
      "1396/1396 [==============================] - 12s 9ms/step - loss: 0.0188 - acc: 0.9749 - val_loss: 0.1199 - val_acc: 0.8217\n",
      "Epoch 37/40\n",
      "1396/1396 [==============================] - 12s 9ms/step - loss: 0.0148 - acc: 0.9842 - val_loss: 0.1426 - val_acc: 0.7907\n",
      "Epoch 38/40\n",
      "1396/1396 [==============================] - 12s 9ms/step - loss: 0.0143 - acc: 0.9842 - val_loss: 0.1267 - val_acc: 0.8140\n",
      "Epoch 39/40\n",
      "1396/1396 [==============================] - 12s 9ms/step - loss: 0.0193 - acc: 0.9742 - val_loss: 0.1497 - val_acc: 0.7752\n",
      "Epoch 40/40\n",
      "1396/1396 [==============================] - 12s 9ms/step - loss: 0.0128 - acc: 0.9878 - val_loss: 0.1181 - val_acc: 0.8450\n",
      "Train on 1396 samples, validate on 129 samples\n",
      "Epoch 1/40\n",
      "1396/1396 [==============================] - 12s 9ms/step - loss: 0.0172 - acc: 0.9778 - val_loss: 0.1077 - val_acc: 0.8527\n",
      "Epoch 2/40\n",
      "1396/1396 [==============================] - 12s 9ms/step - loss: 0.0152 - acc: 0.9835 - val_loss: 0.1104 - val_acc: 0.8527\n",
      "Epoch 3/40\n",
      "1396/1396 [==============================] - 12s 9ms/step - loss: 0.0177 - acc: 0.9799 - val_loss: 0.1837 - val_acc: 0.7209\n",
      "Epoch 4/40\n",
      "1396/1396 [==============================] - 12s 9ms/step - loss: 0.0173 - acc: 0.9799 - val_loss: 0.1306 - val_acc: 0.8062\n",
      "Epoch 5/40\n",
      "1396/1396 [==============================] - 12s 9ms/step - loss: 0.0163 - acc: 0.9792 - val_loss: 0.1427 - val_acc: 0.7907\n",
      "Epoch 6/40\n",
      "1396/1396 [==============================] - 12s 9ms/step - loss: 0.0134 - acc: 0.9871 - val_loss: 0.1432 - val_acc: 0.7829\n",
      "Epoch 7/40\n",
      "1396/1396 [==============================] - 12s 9ms/step - loss: 0.0134 - acc: 0.9864 - val_loss: 0.1287 - val_acc: 0.8140\n",
      "Epoch 8/40\n",
      "1396/1396 [==============================] - 12s 9ms/step - loss: 0.0129 - acc: 0.9864 - val_loss: 0.1424 - val_acc: 0.7829\n",
      "Epoch 9/40\n",
      "1396/1396 [==============================] - 12s 9ms/step - loss: 0.0105 - acc: 0.9893 - val_loss: 0.1313 - val_acc: 0.8295\n",
      "Epoch 10/40\n",
      "1396/1396 [==============================] - 12s 9ms/step - loss: 0.0109 - acc: 0.9871 - val_loss: 0.1274 - val_acc: 0.8140\n",
      "Epoch 11/40\n",
      "1396/1396 [==============================] - 12s 9ms/step - loss: 0.0136 - acc: 0.9857 - val_loss: 0.1374 - val_acc: 0.7907\n",
      "Epoch 12/40\n",
      "1396/1396 [==============================] - 12s 9ms/step - loss: 0.0110 - acc: 0.9900 - val_loss: 0.1163 - val_acc: 0.8682\n",
      "Epoch 13/40\n",
      "1396/1396 [==============================] - 12s 9ms/step - loss: 0.0123 - acc: 0.9835 - val_loss: 0.1278 - val_acc: 0.8217\n",
      "Epoch 14/40\n",
      "1396/1396 [==============================] - 12s 9ms/step - loss: 0.0131 - acc: 0.9857 - val_loss: 0.1136 - val_acc: 0.8527\n",
      "Epoch 15/40\n",
      "1396/1396 [==============================] - 12s 9ms/step - loss: 0.0138 - acc: 0.9828 - val_loss: 0.1617 - val_acc: 0.7907\n",
      "Epoch 16/40\n",
      "1396/1396 [==============================] - 12s 9ms/step - loss: 0.0139 - acc: 0.9857 - val_loss: 0.1372 - val_acc: 0.7984\n",
      "Epoch 17/40\n",
      "1396/1396 [==============================] - 12s 9ms/step - loss: 0.0117 - acc: 0.9864 - val_loss: 0.1355 - val_acc: 0.8062\n",
      "Epoch 18/40\n",
      "1396/1396 [==============================] - 12s 9ms/step - loss: 0.0113 - acc: 0.9878 - val_loss: 0.1100 - val_acc: 0.8605\n",
      "Epoch 19/40\n",
      "1396/1396 [==============================] - 12s 9ms/step - loss: 0.0121 - acc: 0.9878 - val_loss: 0.1117 - val_acc: 0.8605\n",
      "Epoch 20/40\n",
      "1396/1396 [==============================] - 12s 9ms/step - loss: 0.0115 - acc: 0.9871 - val_loss: 0.1406 - val_acc: 0.7752\n",
      "Epoch 21/40\n",
      "1396/1396 [==============================] - 12s 9ms/step - loss: 0.0116 - acc: 0.9871 - val_loss: 0.1326 - val_acc: 0.7984\n",
      "Epoch 22/40\n",
      "1396/1396 [==============================] - 12s 9ms/step - loss: 0.0138 - acc: 0.9835 - val_loss: 0.1823 - val_acc: 0.7442\n",
      "Epoch 23/40\n",
      "1396/1396 [==============================] - 12s 9ms/step - loss: 0.0110 - acc: 0.9893 - val_loss: 0.1394 - val_acc: 0.8062\n",
      "Epoch 24/40\n",
      "1396/1396 [==============================] - 12s 9ms/step - loss: 0.0108 - acc: 0.9878 - val_loss: 0.1195 - val_acc: 0.8450\n",
      "Epoch 25/40\n",
      "1396/1396 [==============================] - 12s 9ms/step - loss: 0.0121 - acc: 0.9857 - val_loss: 0.1342 - val_acc: 0.8062\n",
      "Epoch 26/40\n",
      "1396/1396 [==============================] - 12s 9ms/step - loss: 0.0087 - acc: 0.9928 - val_loss: 0.1364 - val_acc: 0.8062\n",
      "Epoch 27/40\n",
      "1396/1396 [==============================] - 12s 9ms/step - loss: 0.0106 - acc: 0.9900 - val_loss: 0.1598 - val_acc: 0.7597\n",
      "Epoch 28/40\n",
      "1396/1396 [==============================] - 12s 9ms/step - loss: 0.0123 - acc: 0.9857 - val_loss: 0.1251 - val_acc: 0.8295\n",
      "Epoch 29/40\n",
      "1396/1396 [==============================] - 12s 9ms/step - loss: 0.0104 - acc: 0.9893 - val_loss: 0.1315 - val_acc: 0.8372\n",
      "Epoch 30/40\n",
      "1396/1396 [==============================] - 12s 9ms/step - loss: 0.0116 - acc: 0.9878 - val_loss: 0.1411 - val_acc: 0.7907\n",
      "Epoch 31/40\n",
      "1396/1396 [==============================] - 12s 9ms/step - loss: 0.0091 - acc: 0.9921 - val_loss: 0.1389 - val_acc: 0.8217\n",
      "Epoch 32/40\n",
      "1396/1396 [==============================] - 12s 9ms/step - loss: 0.0100 - acc: 0.9914 - val_loss: 0.1451 - val_acc: 0.7984\n",
      "Epoch 33/40\n",
      "1396/1396 [==============================] - 12s 9ms/step - loss: 0.0101 - acc: 0.9893 - val_loss: 0.1245 - val_acc: 0.8372\n",
      "Epoch 34/40\n",
      "1396/1396 [==============================] - 12s 9ms/step - loss: 0.0135 - acc: 0.9814 - val_loss: 0.1655 - val_acc: 0.7674\n",
      "Epoch 35/40\n",
      "1396/1396 [==============================] - 12s 9ms/step - loss: 0.0096 - acc: 0.9914 - val_loss: 0.1250 - val_acc: 0.8450\n",
      "Epoch 36/40\n",
      "1396/1396 [==============================] - 12s 9ms/step - loss: 0.0112 - acc: 0.9871 - val_loss: 0.1404 - val_acc: 0.8062\n",
      "Epoch 37/40\n",
      "1396/1396 [==============================] - 12s 9ms/step - loss: 0.0106 - acc: 0.9885 - val_loss: 0.1807 - val_acc: 0.7442\n",
      "Epoch 38/40\n",
      "1396/1396 [==============================] - 12s 9ms/step - loss: 0.0136 - acc: 0.9850 - val_loss: 0.1568 - val_acc: 0.7674\n",
      "Epoch 39/40\n",
      "1396/1396 [==============================] - 12s 9ms/step - loss: 0.0092 - acc: 0.9900 - val_loss: 0.1591 - val_acc: 0.7752\n",
      "Epoch 40/40\n"
     ]
    },
    {
     "name": "stdout",
     "output_type": "stream",
     "text": [
      "1396/1396 [==============================] - 12s 9ms/step - loss: 0.0090 - acc: 0.9900 - val_loss: 0.1359 - val_acc: 0.8062\n"
     ]
    }
   ],
   "source": [
    "# Now, fit the model to the data\n",
    "histories = []\n",
    "for ii in range(3):\n",
    "    history = model.fit([x, x_log, params], y, validation_data=([x_dev, x_dev_log, params_dev], y_dev), epochs=40, batch_size=64)\n",
    "    histories.append(history)"
   ]
  },
  {
   "cell_type": "markdown",
   "metadata": {},
   "source": [
    "### Print training results"
   ]
  },
  {
   "cell_type": "code",
   "execution_count": 14,
   "metadata": {},
   "outputs": [
    {
     "name": "stdout",
     "output_type": "stream",
     "text": [
      "dict_keys(['loss', 'val_loss', 'val_acc', 'acc'])\n"
     ]
    },
    {
     "data": {
      "image/png": "[encoded data removed]",
      "text/plain": [
       "<Figure size 432x288 with 1 Axes>"
      ]
     },
     "metadata": {
      "needs_background": "light"
     },
     "output_type": "display_data"
    },
    {
     "data": {
      "image/png": "[encoded data removed]",
      "text/plain": [
       "<Figure size 432x288 with 1 Axes>"
      ]
     },
     "metadata": {
      "needs_background": "light"
     },
     "output_type": "display_data"
    }
   ],
   "source": [
    "# List all data in history\n",
    "index = 1\n",
    "print(histories[index].history.keys())\n",
    "# Summarize history for accuracy\n",
    "plt.plot(histories[index].history['acc'])\n",
    "plt.plot(histories[index].history['val_acc'])\n",
    "plt.title('model accuracy')\n",
    "plt.ylabel('accuracy')\n",
    "plt.xlabel('epoch')\n",
    "plt.legend(['train', 'test'], loc='upper left')\n",
    "plt.show()\n",
    "# Summarize history for loss\n",
    "plt.plot(histories[index].history['loss'])\n",
    "plt.plot(histories[index].history['val_loss'])\n",
    "plt.title('model loss')\n",
    "plt.ylabel('loss')\n",
    "plt.xlabel('epoch')\n",
    "plt.legend(['train', 'test'], loc='upper left')\n",
    "plt.show()"
   ]
  },
  {
   "cell_type": "markdown",
   "metadata": {},
   "source": [
    "## Additional model evaluation"
   ]
  },
  {
   "cell_type": "code",
   "execution_count": 13,
   "metadata": {},
   "outputs": [],
   "source": [
    "# Load dev set\n",
    "x_dev, y_dev, params_dev = utils.load_dataset_all(im_dir=\"dev\", log=False, im_path=im_path)\n",
    "x_dev_log, _, _ = utils.load_dataset_all(im_dir=\"dev\", log=True, im_path=im_path)\n",
    "m_dev = x_dev.shape[0]"
   ]
  },
  {
   "cell_type": "code",
   "execution_count": 15,
   "metadata": {},
   "outputs": [
    {
     "name": "stdout",
     "output_type": "stream",
     "text": [
      "129/129 [==============================] - 1s 9ms/step\n",
      "\n",
      "Performance on VALIDATION set\n",
      ".............................\n",
      "Loss: 0.12023067424189328\n",
      "Accuracy: 0.8682170542635659\n",
      "Precision: 0.8392857142857143\n",
      "Recall: 0.8545454545454545\n",
      ".............................\n",
      "List of indices of wrong guesses:\n",
      "[0, 3, 4, 6, 10, 18, 24, 35, 42, 78, 79, 83, 84, 85, 88, 92, 93]\n"
     ]
    }
   ],
   "source": [
    "# Evaluate model, get metrics back\n",
    "stats = model.evaluate([x_dev, x_dev_log, params_dev], y_dev)\n",
    "# Calculate predictions vector from model\n",
    "predictions = model.predict([x_dev, x_dev_log, params_dev])\n",
    "predictions = np.floor(predictions + 0.5)\n",
    "\n",
    "# Get vector mask for good and bad fits and right and wrong answers\n",
    "good_fits = y_dev\n",
    "bad_fits = 1 - good_fits\n",
    "wrong_answers = np.abs(np.subtract(predictions, good_fits))\n",
    "right_answers = np.subtract(1, wrong_answers)\n",
    "# Calculate true positives (tp), as well as (tn) (fp) (fn)\n",
    "true_positives = np.multiply(right_answers, good_fits)\n",
    "true_negatives = np.multiply(right_answers, bad_fits)\n",
    "false_positives = np.multiply(wrong_answers, good_fits)\n",
    "false_negatives = np.multiply(wrong_answers, bad_fits)\n",
    "# Calculate additional metrics\n",
    "precision = np.sum(true_positives) / np.sum(true_positives + false_positives)\n",
    "recall = np.sum(true_positives) / np.sum(true_positives + false_negatives)\n",
    "\n",
    "# Print stats\n",
    "print()\n",
    "print(\"Performance on VALIDATION set\")\n",
    "print(\".............................\")\n",
    "print(\"Loss: \" + str(stats[0]))\n",
    "print(\"Accuracy: \" + str(stats[1]))\n",
    "print(\"Precision: \" + str(precision))\n",
    "print(\"Recall: \" + str(recall))\n",
    "\n",
    "# Print list of indices of wrong answers\n",
    "bad_list = []\n",
    "for i in range(m_dev):\n",
    "    if wrong_answers[i] == 1:\n",
    "        bad_list.append(i)\n",
    "print(\".............................\")\n",
    "print(\"List of indices of wrong guesses:\")\n",
    "print(bad_list)"
   ]
  },
  {
   "cell_type": "markdown",
   "metadata": {},
   "source": [
    "## Look at an image"
   ]
  },
  {
   "cell_type": "code",
   "execution_count": 19,
   "metadata": {},
   "outputs": [
    {
     "name": "stdout",
     "output_type": "stream",
     "text": [
      "label: [1]\n",
      "prediction: [0.]\n",
      "(236, 348, 3)\n"
     ]
    },
    {
     "data": {
      "text/plain": [
       "<matplotlib.image.AxesImage at 0x7fe2903538d0>"
      ]
     },
     "execution_count": 19,
     "metadata": {},
     "output_type": "execute_result"
    },
    {
     "data": {
      "image/png": "[encoded data removed]",
      "text/plain": [
       "<Figure size 432x288 with 1 Axes>"
      ]
     },
     "metadata": {
      "needs_background": "light"
     },
     "output_type": "display_data"
    }
   ],
   "source": [
    "# Choose an index \n",
    "index = 6\n",
    "\n",
    "# Print labels for this index\n",
    "print(\"label: \" + str(good_fits[index]))\n",
    "print(\"prediction: \" + str(predictions[index]))\n",
    "\n",
    "# Show image\n",
    "this_image = x[index]\n",
    "print(str(this_image.shape))\n",
    "plt.imshow(np.uint8(utils.get_printable_image(this_image)))"
   ]
  },
  {
   "cell_type": "markdown",
   "metadata": {},
   "source": [
    "## Load pretrained conv model"
   ]
  },
  {
   "cell_type": "code",
   "execution_count": 47,
   "metadata": {},
   "outputs": [
    {
     "name": "stdout",
     "output_type": "stream",
     "text": [
      "Loaded model from disk\n"
     ]
    }
   ],
   "source": [
    "# load json and create model\n",
    "json_file = open('trained/conv_model_quickngood.json', 'r')\n",
    "conv_model_json = json_file.read()\n",
    "json_file.close()\n",
    "model = model_from_json(conv_model_json)\n",
    "# load weights into new model\n",
    "model.load_weights(\"trained/conv_model_quickngood.h5\")\n",
    "print(\"Loaded model from disk\")"
   ]
  },
  {
   "cell_type": "markdown",
   "metadata": {},
   "source": [
    "## Save convolutional model to disc"
   ]
  },
  {
   "cell_type": "code",
   "execution_count": 65,
   "metadata": {},
   "outputs": [
    {
     "name": "stdout",
     "output_type": "stream",
     "text": [
      "Saved model to disk\n"
     ]
    }
   ],
   "source": [
    "#plot_model(simple_model, to_file='simple_model.png')\n",
    "#SVG(model_to_dot(simple_model).create(prog='dot', format='svg'))\n",
    "\n",
    "# serialize model to JSON\n",
    "model_json = model.to_json()\n",
    "with open(\"trained/conv_model_chi_500epoch.json\", \"w\") as json_file:\n",
    "    json_file.write(model_json)\n",
    "# serialize weights to HDF5\n",
    "model.save_weights(\"trained/conv_model_chi_500epoch.h5\")\n",
    "print(\"Saved model to disk\")"
   ]
  },
  {
   "cell_type": "code",
   "execution_count": null,
   "metadata": {
    "collapsed": true
   },
   "outputs": [],
   "source": []
  }
 ],
 "metadata": {
  "kernelspec": {
   "display_name": "Python 3",
   "language": "python",
   "name": "python3"
  },
  "language_info": {
   "codemirror_mode": {
    "name": "ipython",
    "version": 3
   },
   "file_extension": ".py",
   "mimetype": "text/x-python",
   "name": "python",
   "nbconvert_exporter": "python",
   "pygments_lexer": "ipython3",
   "version": "3.5.2"
  }
 },
 "nbformat": 4,
 "nbformat_minor": 2
}
