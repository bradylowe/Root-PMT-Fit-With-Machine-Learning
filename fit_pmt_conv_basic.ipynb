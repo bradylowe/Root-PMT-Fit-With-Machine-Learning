{
 "cells": [
  {
   "cell_type": "markdown",
   "metadata": {},
   "source": [
    "# Root fit analyzing neural network\n",
    "\n",
    "\n",
    "By Brady Lowe\n",
    "\n",
    "lowebra2@isu.edu\n",
    "\n",
    "7/25/2018\n",
    "\n",
    "\n",
    "This Jupyter notebook was written to both develope and explain how we can use\n",
    "neural networks to analyze the output of root fits to raw data."
   ]
  },
  {
   "cell_type": "markdown",
   "metadata": {},
   "source": [
    "#### Load necessary packages"
   ]
  },
  {
   "cell_type": "code",
   "execution_count": 1,
   "metadata": {},
   "outputs": [
    {
     "name": "stderr",
     "output_type": "stream",
     "text": [
      "Using TensorFlow backend.\n"
     ]
    }
   ],
   "source": [
    "# Load some packages\n",
    "\n",
    "# Keras packages for network\n",
    "from keras.layers import Input, Dense, Activation, ZeroPadding2D, BatchNormalization\n",
    "from keras.layers import AveragePooling2D, MaxPooling2D, Dropout, Conv2D, Flatten\n",
    "from keras.models import Model\n",
    "from keras.optimizers import Adam, SGD\n",
    "# For saving model\n",
    "from keras.models import model_from_json\n",
    "\n",
    "# Some items for plotting and drawing\n",
    "from keras.utils import plot_model\n",
    "from keras.utils.vis_utils import model_to_dot\n",
    "from IPython.display import SVG\n",
    "from PIL import Image\n",
    "from scipy import misc\n",
    "import matplotlib.pyplot as plt\n",
    "\n",
    "# Need numpy\n",
    "import numpy as np\n",
    "import nn_utils as utils\n",
    "\n",
    "%matplotlib inline\n",
    "\n",
    "# Define image file path\n",
    "im_path=\"/media/data/Projects/fit_pmt/images/png_fit_nn/\""
   ]
  },
  {
   "cell_type": "markdown",
   "metadata": {},
   "source": [
    "#### Load root fit data from file"
   ]
  },
  {
   "cell_type": "code",
   "execution_count": 2,
   "metadata": {},
   "outputs": [
    {
     "name": "stdout",
     "output_type": "stream",
     "text": [
      "21 images loaded of shape (236, 348, 3)\n",
      "21 labels loaded\n"
     ]
    }
   ],
   "source": [
    "# Load images\n",
    "m = 100\n",
    "dataset = \"train\"\n",
    "x = utils.load_images(m=m, dataset=dataset, log_scale=False, im_path=im_path)\n",
    "m, h, w, c = x.shape\n",
    "input_shape = h, w, c\n",
    "print(str(m) + \" images loaded of shape \" + str(input_shape))\n",
    "\n",
    "# Load labels\n",
    "y = utils.load_labels(m=m, dataset=dataset)\n",
    "print(str(y.shape[0]) + \" labels loaded\")"
   ]
  },
  {
   "cell_type": "code",
   "execution_count": 3,
   "metadata": {},
   "outputs": [
    {
     "name": "stdout",
     "output_type": "stream",
     "text": [
      "3 images loaded of shape (236, 348, 3)\n",
      "3 labels loaded\n"
     ]
    }
   ],
   "source": [
    "# Load images\n",
    "m_dev = m / 5\n",
    "dataset = \"dev\"\n",
    "x_dev = utils.load_images(m=m_dev, dataset=dataset, log_scale=False, im_path=im_path)\n",
    "m_dev = x_dev.shape[0]\n",
    "print(str(m_dev) + \" images loaded of shape \" + str(input_shape))\n",
    "\n",
    "# Load labels\n",
    "y_dev = utils.load_labels(m=m_dev, dataset=dataset)\n",
    "print(str(y_dev.shape[0]) + \" labels loaded\")"
   ]
  },
  {
   "cell_type": "markdown",
   "metadata": {},
   "source": [
    "### Print an image"
   ]
  },
  {
   "cell_type": "code",
   "execution_count": 4,
   "metadata": {},
   "outputs": [
    {
     "name": "stdout",
     "output_type": "stream",
     "text": [
      "label: good\n",
      "label: [1]\n"
     ]
    },
    {
     "data": {
      "text/plain": [
       "<matplotlib.image.AxesImage at 0x7f52c24735c0>"
      ]
     },
     "execution_count": 4,
     "metadata": {},
     "output_type": "execute_result"
    },
    {
     "data": {
      "image/png": "[encoded data removed]",
      "text/plain": [
       "<Figure size 432x288 with 1 Axes>"
      ]
     },
     "metadata": {
      "needs_background": "light"
     },
     "output_type": "display_data"
    }
   ],
   "source": [
    "# Print an image\n",
    "index = 7\n",
    "this_image = x[index]\n",
    "if y[index] == 1:\n",
    "    print(\"label: good\")\n",
    "else:\n",
    "    print(\"label: bad\")\n",
    "print(\"label: \" + str(y[index]))\n",
    "plt.imshow(np.uint8(utils.get_printable_image(this_image)))"
   ]
  },
  {
   "cell_type": "markdown",
   "metadata": {},
   "source": [
    "## Define and Train 3 layer ConvNet with 2 fully connected layers plus output layer\n",
    "\n",
    "For the convolutional layer, we will scan over our images with a certain stride and a certain kernal size. \n",
    "Each individual scan represents a single neuron in the next layer. Since each scan connects to kernal size squared\n",
    "neurons below it, convolutions reduce the number of degrees of freedom. Hopefully, through learning the right filters,\n",
    "we can preserve the important information as we reduce it in size.\n",
    "\n",
    "Once the image has gone through the convolutional layers (and therefore has been reduced to its features vector), we\n",
    "can send the resulting vector into some old-fashioned fully-connected layers, and finally into a logistic regression unit."
   ]
  },
  {
   "cell_type": "markdown",
   "metadata": {},
   "source": [
    "##### Define hyperparameters"
   ]
  },
  {
   "cell_type": "code",
   "execution_count": 5,
   "metadata": {},
   "outputs": [],
   "source": [
    "# Initialize\n",
    "filters = []\n",
    "kernels = []\n",
    "strides = []\n",
    "pools = []\n",
    "dropouts = []\n",
    "\n",
    "# Conv1\n",
    "filters.append(16)\n",
    "kernels.append(5)\n",
    "strides.append(2)\n",
    "pools.append(2)\n",
    "dropouts.append(0.4)\n",
    "\n",
    "# Conv2\n",
    "filters.append(64)\n",
    "kernels.append(5)\n",
    "strides.append(2)\n",
    "pools.append(2)\n",
    "dropouts.append(0.4)\n",
    "\n",
    "# Conv3\n",
    "filters.append(256)\n",
    "kernels.append(3)\n",
    "strides.append(2)\n",
    "pools.append(2)\n",
    "dropouts.append(0.2)\n",
    "\n",
    "# Conv4\n",
    "filters.append(1024)\n",
    "kernels.append(3)\n",
    "strides.append(1)\n",
    "pools.append(1)\n",
    "dropouts.append(0.2)\n",
    "\n",
    "# Define dense (fully-connected) layer sizes\n",
    "fc1 = 30\n",
    "fc2 = 30"
   ]
  },
  {
   "cell_type": "markdown",
   "metadata": {},
   "source": [
    "##### Define keras layers (model)"
   ]
  },
  {
   "cell_type": "code",
   "execution_count": 6,
   "metadata": {},
   "outputs": [],
   "source": [
    "# Define input layer (RGB image matrix)\n",
    "X = Input(shape=input_shape, name='Input')\n",
    "\n",
    "# Initialize activation as input\n",
    "a = X\n",
    "# Loop through all convolutional layers\n",
    "for i in range(len(filters)):\n",
    "    # Perform convolution\n",
    "    a = Conv2D(filters=filters[i], kernel_size=(kernels[i], kernels[i]), strides=(strides[i], strides[i]), name=('conv' + str(i)))(a)\n",
    "    # Normalize\n",
    "    a = BatchNormalization(axis=3, name=('bn' + str(i)))(a)\n",
    "    # Activate\n",
    "    a = Activation('relu', name=('a' + str(i)))(a)\n",
    "    # Max-pool\n",
    "    a = MaxPooling2D((pools[i], pools[i]), name=('max_pool' + str(i)))(a)\n",
    "    # Dropout\n",
    "    a = Dropout(rate=dropouts[i])(a)\n",
    "\n",
    "# Flatten output of convNet\n",
    "a = Flatten()(a)\n",
    "# Define first fully connected layer\n",
    "a = Dense(units=fc1, activation='relu', name='fc0')(a)\n",
    "# Use some dropout here for regularization\n",
    "a = Dropout(rate=0.2)(a)\n",
    "# Define second fully connected layer\n",
    "a = Dense(units=fc2, activation='relu', name='fc1')(a)\n",
    "# Define output layer \n",
    "a = Dense(units=1, activation='sigmoid', name='sigmoid')(a)\n",
    "\n",
    "# Make the model\n",
    "model = Model(inputs=X, outputs=a)"
   ]
  },
  {
   "cell_type": "markdown",
   "metadata": {},
   "source": [
    "##### Define optimizer, loss, and metrics. Compile model."
   ]
  },
  {
   "cell_type": "code",
   "execution_count": 7,
   "metadata": {},
   "outputs": [
    {
     "name": "stdout",
     "output_type": "stream",
     "text": [
      "_________________________________________________________________\n",
      "Layer (type)                 Output Shape              Param #   \n",
      "=================================================================\n",
      "Input (InputLayer)           (None, 236, 348, 3)       0         \n",
      "_________________________________________________________________\n",
      "conv0 (Conv2D)               (None, 116, 172, 16)      1216      \n",
      "_________________________________________________________________\n",
      "bn0 (BatchNormalization)     (None, 116, 172, 16)      64        \n",
      "_________________________________________________________________\n",
      "a0 (Activation)              (None, 116, 172, 16)      0         \n",
      "_________________________________________________________________\n",
      "max_pool0 (MaxPooling2D)     (None, 58, 86, 16)        0         \n",
      "_________________________________________________________________\n",
      "dropout_1 (Dropout)          (None, 58, 86, 16)        0         \n",
      "_________________________________________________________________\n",
      "conv1 (Conv2D)               (None, 27, 41, 64)        25664     \n",
      "_________________________________________________________________\n",
      "bn1 (BatchNormalization)     (None, 27, 41, 64)        256       \n",
      "_________________________________________________________________\n",
      "a1 (Activation)              (None, 27, 41, 64)        0         \n",
      "_________________________________________________________________\n",
      "max_pool1 (MaxPooling2D)     (None, 13, 20, 64)        0         \n",
      "_________________________________________________________________\n",
      "dropout_2 (Dropout)          (None, 13, 20, 64)        0         \n",
      "_________________________________________________________________\n",
      "conv2 (Conv2D)               (None, 6, 9, 256)         147712    \n",
      "_________________________________________________________________\n",
      "bn2 (BatchNormalization)     (None, 6, 9, 256)         1024      \n",
      "_________________________________________________________________\n",
      "a2 (Activation)              (None, 6, 9, 256)         0         \n",
      "_________________________________________________________________\n",
      "max_pool2 (MaxPooling2D)     (None, 3, 4, 256)         0         \n",
      "_________________________________________________________________\n",
      "dropout_3 (Dropout)          (None, 3, 4, 256)         0         \n",
      "_________________________________________________________________\n",
      "conv3 (Conv2D)               (None, 1, 2, 1024)        2360320   \n",
      "_________________________________________________________________\n",
      "bn3 (BatchNormalization)     (None, 1, 2, 1024)        4096      \n",
      "_________________________________________________________________\n",
      "a3 (Activation)              (None, 1, 2, 1024)        0         \n",
      "_________________________________________________________________\n",
      "max_pool3 (MaxPooling2D)     (None, 1, 2, 1024)        0         \n",
      "_________________________________________________________________\n",
      "dropout_4 (Dropout)          (None, 1, 2, 1024)        0         \n",
      "_________________________________________________________________\n",
      "flatten_1 (Flatten)          (None, 2048)              0         \n",
      "_________________________________________________________________\n",
      "fc0 (Dense)                  (None, 30)                61470     \n",
      "_________________________________________________________________\n",
      "dropout_5 (Dropout)          (None, 30)                0         \n",
      "_________________________________________________________________\n",
      "fc1 (Dense)                  (None, 30)                930       \n",
      "_________________________________________________________________\n",
      "sigmoid (Dense)              (None, 1)                 31        \n",
      "=================================================================\n",
      "Total params: 2,602,783\n",
      "Trainable params: 2,600,063\n",
      "Non-trainable params: 2,720\n",
      "_________________________________________________________________\n"
     ]
    }
   ],
   "source": [
    "# Define optimizer\n",
    "#opt = Adam(lr=0.01, beta_1=0.9, beta_2=0.999, decay=0.001)\n",
    "opt = SGD(lr=1.0, decay=1e-6, momentum=0.9, nesterov=True)\n",
    "# Define loss\n",
    "loss = 'mean_squared_error'\n",
    "# Define metrics to use\n",
    "metrics=['acc']\n",
    "# Compile model\n",
    "model.compile(loss=loss, optimizer='sgd', metrics=metrics)\n",
    "# Print summary\n",
    "model.summary()"
   ]
  },
  {
   "cell_type": "markdown",
   "metadata": {},
   "source": [
    "##### Fit the model to the data (train)"
   ]
  },
  {
   "cell_type": "code",
   "execution_count": 13,
   "metadata": {
    "scrolled": true
   },
   "outputs": [
    {
     "name": "stdout",
     "output_type": "stream",
     "text": [
      "Train on 21 samples, validate on 3 samples\n",
      "Epoch 1/200\n",
      "21/21 [==============================] - 1s 43ms/step - loss: 0.4121 - acc: 0.2381 - val_loss: 0.3795 - val_acc: 0.0000e+00\n",
      "Epoch 2/200\n",
      "21/21 [==============================] - 0s 4ms/step - loss: 0.2747 - acc: 0.4286 - val_loss: 0.2935 - val_acc: 0.3333\n",
      "Epoch 3/200\n",
      "21/21 [==============================] - 0s 4ms/step - loss: 0.2154 - acc: 0.7143 - val_loss: 0.2024 - val_acc: 1.0000\n",
      "Epoch 4/200\n",
      "21/21 [==============================] - 0s 4ms/step - loss: 0.1627 - acc: 0.7619 - val_loss: 0.1179 - val_acc: 1.0000\n",
      "Epoch 5/200\n",
      "21/21 [==============================] - 0s 4ms/step - loss: 0.0597 - acc: 1.0000 - val_loss: 0.0923 - val_acc: 1.0000\n",
      "Epoch 6/200\n",
      "21/21 [==============================] - 0s 4ms/step - loss: 0.0964 - acc: 0.9048 - val_loss: 0.0674 - val_acc: 1.0000\n",
      "Epoch 7/200\n",
      "21/21 [==============================] - 0s 4ms/step - loss: 0.0400 - acc: 1.0000 - val_loss: 0.0496 - val_acc: 1.0000\n",
      "Epoch 8/200\n",
      "21/21 [==============================] - 0s 3ms/step - loss: 0.0499 - acc: 0.9524 - val_loss: 0.0372 - val_acc: 1.0000\n",
      "Epoch 9/200\n",
      "21/21 [==============================] - 0s 3ms/step - loss: 0.0276 - acc: 1.0000 - val_loss: 0.0341 - val_acc: 1.0000\n",
      "Epoch 10/200\n",
      "21/21 [==============================] - 0s 4ms/step - loss: 0.0401 - acc: 0.9524 - val_loss: 0.0302 - val_acc: 1.0000\n",
      "Epoch 11/200\n",
      "21/21 [==============================] - 0s 3ms/step - loss: 0.0237 - acc: 1.0000 - val_loss: 0.0253 - val_acc: 1.0000\n",
      "Epoch 12/200\n",
      "21/21 [==============================] - 0s 3ms/step - loss: 0.0220 - acc: 1.0000 - val_loss: 0.0228 - val_acc: 1.0000\n",
      "Epoch 13/200\n",
      "21/21 [==============================] - 0s 3ms/step - loss: 0.0128 - acc: 1.0000 - val_loss: 0.0209 - val_acc: 1.0000\n",
      "Epoch 14/200\n",
      "21/21 [==============================] - 0s 3ms/step - loss: 0.0086 - acc: 1.0000 - val_loss: 0.0196 - val_acc: 1.0000\n",
      "Epoch 15/200\n",
      "21/21 [==============================] - 0s 3ms/step - loss: 0.0244 - acc: 1.0000 - val_loss: 0.0184 - val_acc: 1.0000\n",
      "Epoch 16/200\n",
      "21/21 [==============================] - 0s 3ms/step - loss: 0.0124 - acc: 1.0000 - val_loss: 0.0167 - val_acc: 1.0000\n",
      "Epoch 17/200\n",
      "21/21 [==============================] - 0s 3ms/step - loss: 0.0155 - acc: 1.0000 - val_loss: 0.0150 - val_acc: 1.0000\n",
      "Epoch 18/200\n",
      "21/21 [==============================] - 0s 3ms/step - loss: 0.0211 - acc: 1.0000 - val_loss: 0.0130 - val_acc: 1.0000\n",
      "Epoch 19/200\n",
      "21/21 [==============================] - 0s 4ms/step - loss: 0.0017 - acc: 1.0000 - val_loss: 0.0128 - val_acc: 1.0000\n",
      "Epoch 20/200\n",
      "21/21 [==============================] - 0s 4ms/step - loss: 0.0049 - acc: 1.0000 - val_loss: 0.0121 - val_acc: 1.0000\n",
      "Epoch 21/200\n",
      "21/21 [==============================] - 0s 3ms/step - loss: 0.0055 - acc: 1.0000 - val_loss: 0.0113 - val_acc: 1.0000\n",
      "Epoch 22/200\n",
      "21/21 [==============================] - 0s 3ms/step - loss: 0.0032 - acc: 1.0000 - val_loss: 0.0111 - val_acc: 1.0000\n",
      "Epoch 23/200\n",
      "21/21 [==============================] - 0s 3ms/step - loss: 0.0088 - acc: 1.0000 - val_loss: 0.0106 - val_acc: 1.0000\n",
      "Epoch 24/200\n",
      "21/21 [==============================] - 0s 3ms/step - loss: 0.0210 - acc: 1.0000 - val_loss: 0.0094 - val_acc: 1.0000\n",
      "Epoch 25/200\n",
      "21/21 [==============================] - 0s 3ms/step - loss: 0.0076 - acc: 1.0000 - val_loss: 0.0091 - val_acc: 1.0000\n",
      "Epoch 26/200\n",
      "21/21 [==============================] - 0s 4ms/step - loss: 0.0026 - acc: 1.0000 - val_loss: 0.0090 - val_acc: 1.0000\n",
      "Epoch 27/200\n",
      "21/21 [==============================] - 0s 4ms/step - loss: 0.0025 - acc: 1.0000 - val_loss: 0.0088 - val_acc: 1.0000\n",
      "Epoch 28/200\n",
      "21/21 [==============================] - 0s 3ms/step - loss: 0.0186 - acc: 1.0000 - val_loss: 0.0080 - val_acc: 1.0000\n",
      "Epoch 29/200\n",
      "21/21 [==============================] - 0s 3ms/step - loss: 0.0162 - acc: 0.9524 - val_loss: 0.0078 - val_acc: 1.0000\n",
      "Epoch 30/200\n",
      "21/21 [==============================] - 0s 3ms/step - loss: 0.0103 - acc: 1.0000 - val_loss: 0.0071 - val_acc: 1.0000\n",
      "Epoch 31/200\n",
      "21/21 [==============================] - 0s 3ms/step - loss: 0.0023 - acc: 1.0000 - val_loss: 0.0070 - val_acc: 1.0000\n",
      "Epoch 32/200\n",
      "21/21 [==============================] - 0s 3ms/step - loss: 0.0078 - acc: 1.0000 - val_loss: 0.0067 - val_acc: 1.0000\n",
      "Epoch 33/200\n",
      "21/21 [==============================] - 0s 3ms/step - loss: 0.0048 - acc: 1.0000 - val_loss: 0.0066 - val_acc: 1.0000\n",
      "Epoch 34/200\n",
      "21/21 [==============================] - 0s 3ms/step - loss: 0.0178 - acc: 0.9524 - val_loss: 0.0061 - val_acc: 1.0000\n",
      "Epoch 35/200\n",
      "21/21 [==============================] - 0s 3ms/step - loss: 0.0149 - acc: 1.0000 - val_loss: 0.0057 - val_acc: 1.0000\n",
      "Epoch 36/200\n",
      "21/21 [==============================] - 0s 3ms/step - loss: 0.0024 - acc: 1.0000 - val_loss: 0.0056 - val_acc: 1.0000\n",
      "Epoch 37/200\n",
      "21/21 [==============================] - 0s 3ms/step - loss: 0.0152 - acc: 1.0000 - val_loss: 0.0053 - val_acc: 1.0000\n",
      "Epoch 38/200\n",
      "21/21 [==============================] - 0s 3ms/step - loss: 0.0042 - acc: 1.0000 - val_loss: 0.0051 - val_acc: 1.0000\n",
      "Epoch 39/200\n",
      "21/21 [==============================] - 0s 3ms/step - loss: 0.0040 - acc: 1.0000 - val_loss: 0.0050 - val_acc: 1.0000\n",
      "Epoch 40/200\n",
      "21/21 [==============================] - 0s 3ms/step - loss: 0.0056 - acc: 1.0000 - val_loss: 0.0046 - val_acc: 1.0000\n",
      "Epoch 41/200\n",
      "21/21 [==============================] - 0s 3ms/step - loss: 0.0080 - acc: 1.0000 - val_loss: 0.0043 - val_acc: 1.0000\n",
      "Epoch 42/200\n",
      "21/21 [==============================] - 0s 3ms/step - loss: 0.0058 - acc: 1.0000 - val_loss: 0.0042 - val_acc: 1.0000\n",
      "Epoch 43/200\n",
      "21/21 [==============================] - 0s 3ms/step - loss: 0.0074 - acc: 1.0000 - val_loss: 0.0040 - val_acc: 1.0000\n",
      "Epoch 44/200\n",
      "21/21 [==============================] - 0s 3ms/step - loss: 0.0014 - acc: 1.0000 - val_loss: 0.0040 - val_acc: 1.0000\n",
      "Epoch 45/200\n",
      "21/21 [==============================] - 0s 4ms/step - loss: 0.0074 - acc: 1.0000 - val_loss: 0.0038 - val_acc: 1.0000\n",
      "Epoch 46/200\n",
      "21/21 [==============================] - 0s 3ms/step - loss: 0.0031 - acc: 1.0000 - val_loss: 0.0037 - val_acc: 1.0000\n",
      "Epoch 47/200\n",
      "21/21 [==============================] - 0s 3ms/step - loss: 0.0013 - acc: 1.0000 - val_loss: 0.0037 - val_acc: 1.0000\n",
      "Epoch 48/200\n",
      "21/21 [==============================] - 0s 3ms/step - loss: 0.0167 - acc: 1.0000 - val_loss: 0.0034 - val_acc: 1.0000\n",
      "Epoch 49/200\n",
      "21/21 [==============================] - 0s 3ms/step - loss: 0.0038 - acc: 1.0000 - val_loss: 0.0033 - val_acc: 1.0000\n",
      "Epoch 50/200\n",
      "21/21 [==============================] - 0s 3ms/step - loss: 0.0013 - acc: 1.0000 - val_loss: 0.0033 - val_acc: 1.0000\n",
      "Epoch 51/200\n",
      "21/21 [==============================] - 0s 3ms/step - loss: 0.0183 - acc: 0.9524 - val_loss: 0.0032 - val_acc: 1.0000\n",
      "Epoch 52/200\n",
      "21/21 [==============================] - 0s 3ms/step - loss: 0.0075 - acc: 1.0000 - val_loss: 0.0031 - val_acc: 1.0000\n",
      "Epoch 53/200\n",
      "21/21 [==============================] - 0s 3ms/step - loss: 0.0026 - acc: 1.0000 - val_loss: 0.0031 - val_acc: 1.0000\n",
      "Epoch 54/200\n",
      "21/21 [==============================] - 0s 3ms/step - loss: 5.1780e-04 - acc: 1.0000 - val_loss: 0.0031 - val_acc: 1.0000\n",
      "Epoch 55/200\n",
      "21/21 [==============================] - 0s 3ms/step - loss: 0.0013 - acc: 1.0000 - val_loss: 0.0030 - val_acc: 1.0000\n",
      "Epoch 56/200\n",
      "21/21 [==============================] - 0s 3ms/step - loss: 7.9288e-04 - acc: 1.0000 - val_loss: 0.0030 - val_acc: 1.0000\n",
      "Epoch 57/200\n",
      "21/21 [==============================] - 0s 3ms/step - loss: 0.0027 - acc: 1.0000 - val_loss: 0.0030 - val_acc: 1.0000\n",
      "Epoch 58/200\n",
      "21/21 [==============================] - 0s 3ms/step - loss: 0.0060 - acc: 1.0000 - val_loss: 0.0029 - val_acc: 1.0000\n",
      "Epoch 59/200\n",
      "21/21 [==============================] - 0s 3ms/step - loss: 0.0053 - acc: 1.0000 - val_loss: 0.0028 - val_acc: 1.0000\n",
      "Epoch 60/200\n",
      "21/21 [==============================] - 0s 3ms/step - loss: 0.0026 - acc: 1.0000 - val_loss: 0.0027 - val_acc: 1.0000\n",
      "Epoch 61/200\n",
      "21/21 [==============================] - 0s 3ms/step - loss: 9.5105e-04 - acc: 1.0000 - val_loss: 0.0026 - val_acc: 1.0000\n",
      "Epoch 62/200\n",
      "21/21 [==============================] - 0s 4ms/step - loss: 0.0112 - acc: 1.0000 - val_loss: 0.0025 - val_acc: 1.0000\n"
     ]
    },
    {
     "name": "stdout",
     "output_type": "stream",
     "text": [
      "Epoch 63/200\n",
      "21/21 [==============================] - 0s 4ms/step - loss: 9.8735e-04 - acc: 1.0000 - val_loss: 0.0025 - val_acc: 1.0000\n",
      "Epoch 64/200\n",
      "21/21 [==============================] - 0s 4ms/step - loss: 6.7884e-04 - acc: 1.0000 - val_loss: 0.0025 - val_acc: 1.0000\n",
      "Epoch 65/200\n",
      "21/21 [==============================] - 0s 4ms/step - loss: 0.0013 - acc: 1.0000 - val_loss: 0.0025 - val_acc: 1.0000\n",
      "Epoch 66/200\n",
      "21/21 [==============================] - 0s 3ms/step - loss: 6.8130e-04 - acc: 1.0000 - val_loss: 0.0025 - val_acc: 1.0000\n",
      "Epoch 67/200\n",
      "21/21 [==============================] - 0s 4ms/step - loss: 0.0085 - acc: 1.0000 - val_loss: 0.0023 - val_acc: 1.0000\n",
      "Epoch 68/200\n",
      "21/21 [==============================] - 0s 4ms/step - loss: 0.0077 - acc: 1.0000 - val_loss: 0.0023 - val_acc: 1.0000\n",
      "Epoch 69/200\n",
      "21/21 [==============================] - 0s 4ms/step - loss: 0.0032 - acc: 1.0000 - val_loss: 0.0022 - val_acc: 1.0000\n",
      "Epoch 70/200\n",
      "21/21 [==============================] - 0s 4ms/step - loss: 0.0161 - acc: 1.0000 - val_loss: 0.0021 - val_acc: 1.0000\n",
      "Epoch 71/200\n",
      "21/21 [==============================] - 0s 4ms/step - loss: 0.0013 - acc: 1.0000 - val_loss: 0.0021 - val_acc: 1.0000\n",
      "Epoch 72/200\n",
      "21/21 [==============================] - 0s 4ms/step - loss: 0.0026 - acc: 1.0000 - val_loss: 0.0021 - val_acc: 1.0000\n",
      "Epoch 73/200\n",
      "21/21 [==============================] - 0s 3ms/step - loss: 0.0099 - acc: 1.0000 - val_loss: 0.0020 - val_acc: 1.0000\n",
      "Epoch 74/200\n",
      "21/21 [==============================] - 0s 4ms/step - loss: 3.6731e-04 - acc: 1.0000 - val_loss: 0.0020 - val_acc: 1.0000\n",
      "Epoch 75/200\n",
      "21/21 [==============================] - 0s 4ms/step - loss: 6.2323e-04 - acc: 1.0000 - val_loss: 0.0019 - val_acc: 1.0000\n",
      "Epoch 76/200\n",
      "21/21 [==============================] - 0s 4ms/step - loss: 0.0013 - acc: 1.0000 - val_loss: 0.0020 - val_acc: 1.0000\n",
      "Epoch 77/200\n",
      "21/21 [==============================] - 0s 4ms/step - loss: 0.0010 - acc: 1.0000 - val_loss: 0.0019 - val_acc: 1.0000\n",
      "Epoch 78/200\n",
      "21/21 [==============================] - 0s 4ms/step - loss: 0.0074 - acc: 1.0000 - val_loss: 0.0018 - val_acc: 1.0000\n",
      "Epoch 79/200\n",
      "21/21 [==============================] - 0s 3ms/step - loss: 0.0022 - acc: 1.0000 - val_loss: 0.0018 - val_acc: 1.0000\n",
      "Epoch 80/200\n",
      "21/21 [==============================] - 0s 4ms/step - loss: 6.8407e-04 - acc: 1.0000 - val_loss: 0.0018 - val_acc: 1.0000\n",
      "Epoch 81/200\n",
      "21/21 [==============================] - 0s 4ms/step - loss: 0.0066 - acc: 1.0000 - val_loss: 0.0018 - val_acc: 1.0000\n",
      "Epoch 82/200\n",
      "21/21 [==============================] - 0s 4ms/step - loss: 0.0024 - acc: 1.0000 - val_loss: 0.0018 - val_acc: 1.0000\n",
      "Epoch 83/200\n",
      "21/21 [==============================] - 0s 4ms/step - loss: 0.0079 - acc: 1.0000 - val_loss: 0.0017 - val_acc: 1.0000\n",
      "Epoch 84/200\n",
      "21/21 [==============================] - 0s 4ms/step - loss: 0.0020 - acc: 1.0000 - val_loss: 0.0017 - val_acc: 1.0000\n",
      "Epoch 85/200\n",
      "21/21 [==============================] - 0s 4ms/step - loss: 0.0013 - acc: 1.0000 - val_loss: 0.0017 - val_acc: 1.0000\n",
      "Epoch 86/200\n",
      "21/21 [==============================] - 0s 4ms/step - loss: 6.2714e-04 - acc: 1.0000 - val_loss: 0.0017 - val_acc: 1.0000\n",
      "Epoch 87/200\n",
      "21/21 [==============================] - 0s 4ms/step - loss: 0.0050 - acc: 1.0000 - val_loss: 0.0017 - val_acc: 1.0000\n",
      "Epoch 88/200\n",
      "21/21 [==============================] - 0s 4ms/step - loss: 7.9447e-04 - acc: 1.0000 - val_loss: 0.0017 - val_acc: 1.0000\n",
      "Epoch 89/200\n",
      "21/21 [==============================] - 0s 4ms/step - loss: 1.0798e-04 - acc: 1.0000 - val_loss: 0.0017 - val_acc: 1.0000\n",
      "Epoch 90/200\n",
      "21/21 [==============================] - 0s 4ms/step - loss: 0.0023 - acc: 1.0000 - val_loss: 0.0016 - val_acc: 1.0000\n",
      "Epoch 91/200\n",
      "21/21 [==============================] - 0s 4ms/step - loss: 0.0031 - acc: 1.0000 - val_loss: 0.0016 - val_acc: 1.0000\n",
      "Epoch 92/200\n",
      "21/21 [==============================] - 0s 4ms/step - loss: 0.0030 - acc: 1.0000 - val_loss: 0.0016 - val_acc: 1.0000\n",
      "Epoch 93/200\n",
      "21/21 [==============================] - 0s 4ms/step - loss: 0.0037 - acc: 1.0000 - val_loss: 0.0015 - val_acc: 1.0000\n",
      "Epoch 94/200\n",
      "21/21 [==============================] - 0s 4ms/step - loss: 0.0127 - acc: 1.0000 - val_loss: 0.0015 - val_acc: 1.0000\n",
      "Epoch 95/200\n",
      "21/21 [==============================] - 0s 4ms/step - loss: 2.2598e-04 - acc: 1.0000 - val_loss: 0.0015 - val_acc: 1.0000\n",
      "Epoch 96/200\n",
      "21/21 [==============================] - 0s 4ms/step - loss: 0.0024 - acc: 1.0000 - val_loss: 0.0015 - val_acc: 1.0000\n",
      "Epoch 97/200\n",
      "21/21 [==============================] - 0s 4ms/step - loss: 9.9475e-04 - acc: 1.0000 - val_loss: 0.0015 - val_acc: 1.0000\n",
      "Epoch 98/200\n",
      "21/21 [==============================] - 0s 4ms/step - loss: 7.4777e-04 - acc: 1.0000 - val_loss: 0.0014 - val_acc: 1.0000\n",
      "Epoch 99/200\n",
      "21/21 [==============================] - 0s 3ms/step - loss: 4.3565e-04 - acc: 1.0000 - val_loss: 0.0014 - val_acc: 1.0000\n",
      "Epoch 100/200\n",
      "21/21 [==============================] - 0s 4ms/step - loss: 0.0010 - acc: 1.0000 - val_loss: 0.0014 - val_acc: 1.0000\n",
      "Epoch 101/200\n",
      "21/21 [==============================] - 0s 4ms/step - loss: 0.0034 - acc: 1.0000 - val_loss: 0.0014 - val_acc: 1.0000\n",
      "Epoch 102/200\n",
      "21/21 [==============================] - 0s 4ms/step - loss: 0.0029 - acc: 1.0000 - val_loss: 0.0013 - val_acc: 1.0000\n",
      "Epoch 103/200\n",
      "21/21 [==============================] - 0s 4ms/step - loss: 0.0050 - acc: 1.0000 - val_loss: 0.0013 - val_acc: 1.0000\n",
      "Epoch 104/200\n",
      "21/21 [==============================] - 0s 3ms/step - loss: 0.0014 - acc: 1.0000 - val_loss: 0.0013 - val_acc: 1.0000\n",
      "Epoch 105/200\n",
      "21/21 [==============================] - 0s 3ms/step - loss: 5.4950e-04 - acc: 1.0000 - val_loss: 0.0013 - val_acc: 1.0000\n",
      "Epoch 106/200\n",
      "21/21 [==============================] - 0s 3ms/step - loss: 0.0052 - acc: 1.0000 - val_loss: 0.0012 - val_acc: 1.0000\n",
      "Epoch 107/200\n",
      "21/21 [==============================] - 0s 3ms/step - loss: 3.9694e-04 - acc: 1.0000 - val_loss: 0.0012 - val_acc: 1.0000\n",
      "Epoch 108/200\n",
      "21/21 [==============================] - 0s 4ms/step - loss: 0.0018 - acc: 1.0000 - val_loss: 0.0012 - val_acc: 1.0000\n",
      "Epoch 109/200\n",
      "21/21 [==============================] - 0s 4ms/step - loss: 0.0081 - acc: 1.0000 - val_loss: 0.0012 - val_acc: 1.0000\n",
      "Epoch 110/200\n",
      "21/21 [==============================] - 0s 4ms/step - loss: 0.0074 - acc: 1.0000 - val_loss: 0.0011 - val_acc: 1.0000\n",
      "Epoch 111/200\n",
      "21/21 [==============================] - 0s 4ms/step - loss: 0.0011 - acc: 1.0000 - val_loss: 0.0011 - val_acc: 1.0000\n",
      "Epoch 112/200\n",
      "21/21 [==============================] - 0s 4ms/step - loss: 0.0018 - acc: 1.0000 - val_loss: 0.0011 - val_acc: 1.0000\n",
      "Epoch 113/200\n",
      "21/21 [==============================] - 0s 4ms/step - loss: 4.6502e-04 - acc: 1.0000 - val_loss: 0.0011 - val_acc: 1.0000\n",
      "Epoch 114/200\n",
      "21/21 [==============================] - 0s 4ms/step - loss: 5.1567e-04 - acc: 1.0000 - val_loss: 0.0011 - val_acc: 1.0000\n",
      "Epoch 115/200\n",
      "21/21 [==============================] - 0s 4ms/step - loss: 0.0015 - acc: 1.0000 - val_loss: 0.0011 - val_acc: 1.0000\n",
      "Epoch 116/200\n",
      "21/21 [==============================] - 0s 4ms/step - loss: 0.0053 - acc: 1.0000 - val_loss: 0.0011 - val_acc: 1.0000\n",
      "Epoch 117/200\n",
      "21/21 [==============================] - 0s 4ms/step - loss: 0.0049 - acc: 1.0000 - val_loss: 0.0010 - val_acc: 1.0000\n",
      "Epoch 118/200\n",
      "21/21 [==============================] - 0s 4ms/step - loss: 0.0055 - acc: 1.0000 - val_loss: 0.0010 - val_acc: 1.0000\n",
      "Epoch 119/200\n",
      "21/21 [==============================] - 0s 4ms/step - loss: 0.0033 - acc: 1.0000 - val_loss: 0.0010 - val_acc: 1.0000\n",
      "Epoch 120/200\n",
      "21/21 [==============================] - 0s 4ms/step - loss: 0.0013 - acc: 1.0000 - val_loss: 0.0010 - val_acc: 1.0000\n",
      "Epoch 121/200\n",
      "21/21 [==============================] - 0s 4ms/step - loss: 0.0042 - acc: 1.0000 - val_loss: 9.6560e-04 - val_acc: 1.0000\n",
      "Epoch 122/200\n",
      "21/21 [==============================] - 0s 4ms/step - loss: 0.0036 - acc: 1.0000 - val_loss: 9.3783e-04 - val_acc: 1.0000\n",
      "Epoch 123/200\n",
      "21/21 [==============================] - 0s 4ms/step - loss: 9.0006e-04 - acc: 1.0000 - val_loss: 9.3116e-04 - val_acc: 1.0000\n",
      "Epoch 124/200\n",
      "21/21 [==============================] - 0s 4ms/step - loss: 7.6350e-04 - acc: 1.0000 - val_loss: 9.2666e-04 - val_acc: 1.0000\n"
     ]
    },
    {
     "name": "stdout",
     "output_type": "stream",
     "text": [
      "Epoch 125/200\n",
      "21/21 [==============================] - 0s 4ms/step - loss: 3.9855e-04 - acc: 1.0000 - val_loss: 9.1985e-04 - val_acc: 1.0000\n",
      "Epoch 126/200\n",
      "21/21 [==============================] - 0s 4ms/step - loss: 0.0014 - acc: 1.0000 - val_loss: 9.1672e-04 - val_acc: 1.0000\n",
      "Epoch 127/200\n",
      "21/21 [==============================] - 0s 4ms/step - loss: 8.0603e-04 - acc: 1.0000 - val_loss: 9.1044e-04 - val_acc: 1.0000\n",
      "Epoch 128/200\n",
      "21/21 [==============================] - 0s 4ms/step - loss: 9.7045e-04 - acc: 1.0000 - val_loss: 9.0745e-04 - val_acc: 1.0000\n",
      "Epoch 129/200\n",
      "21/21 [==============================] - 0s 4ms/step - loss: 6.3730e-04 - acc: 1.0000 - val_loss: 9.0452e-04 - val_acc: 1.0000\n",
      "Epoch 130/200\n",
      "21/21 [==============================] - 0s 4ms/step - loss: 9.1215e-04 - acc: 1.0000 - val_loss: 9.0078e-04 - val_acc: 1.0000\n",
      "Epoch 131/200\n",
      "21/21 [==============================] - 0s 4ms/step - loss: 4.9960e-04 - acc: 1.0000 - val_loss: 8.9666e-04 - val_acc: 1.0000\n",
      "Epoch 132/200\n",
      "21/21 [==============================] - 0s 4ms/step - loss: 0.0031 - acc: 1.0000 - val_loss: 8.8756e-04 - val_acc: 1.0000\n",
      "Epoch 133/200\n",
      "21/21 [==============================] - 0s 4ms/step - loss: 0.0017 - acc: 1.0000 - val_loss: 8.7553e-04 - val_acc: 1.0000\n",
      "Epoch 134/200\n",
      "21/21 [==============================] - 0s 4ms/step - loss: 0.0050 - acc: 1.0000 - val_loss: 8.6785e-04 - val_acc: 1.0000\n",
      "Epoch 135/200\n",
      "21/21 [==============================] - 0s 4ms/step - loss: 7.8884e-04 - acc: 1.0000 - val_loss: 8.6339e-04 - val_acc: 1.0000\n",
      "Epoch 136/200\n",
      "21/21 [==============================] - 0s 4ms/step - loss: 0.0094 - acc: 1.0000 - val_loss: 8.1113e-04 - val_acc: 1.0000\n",
      "Epoch 137/200\n",
      "21/21 [==============================] - 0s 3ms/step - loss: 0.0043 - acc: 1.0000 - val_loss: 8.0468e-04 - val_acc: 1.0000\n",
      "Epoch 138/200\n",
      "21/21 [==============================] - 0s 4ms/step - loss: 0.0039 - acc: 1.0000 - val_loss: 7.8602e-04 - val_acc: 1.0000\n",
      "Epoch 139/200\n",
      "21/21 [==============================] - 0s 3ms/step - loss: 2.4714e-04 - acc: 1.0000 - val_loss: 7.9040e-04 - val_acc: 1.0000\n",
      "Epoch 140/200\n",
      "21/21 [==============================] - 0s 3ms/step - loss: 0.0043 - acc: 1.0000 - val_loss: 7.7451e-04 - val_acc: 1.0000\n",
      "Epoch 141/200\n",
      "21/21 [==============================] - 0s 3ms/step - loss: 0.0011 - acc: 1.0000 - val_loss: 7.7265e-04 - val_acc: 1.0000\n",
      "Epoch 142/200\n",
      "21/21 [==============================] - 0s 3ms/step - loss: 0.0017 - acc: 1.0000 - val_loss: 7.5916e-04 - val_acc: 1.0000\n",
      "Epoch 143/200\n",
      "21/21 [==============================] - 0s 3ms/step - loss: 2.3775e-04 - acc: 1.0000 - val_loss: 7.5723e-04 - val_acc: 1.0000\n",
      "Epoch 144/200\n",
      "21/21 [==============================] - 0s 3ms/step - loss: 0.0018 - acc: 1.0000 - val_loss: 7.4717e-04 - val_acc: 1.0000\n",
      "Epoch 145/200\n",
      "21/21 [==============================] - 0s 3ms/step - loss: 0.0011 - acc: 1.0000 - val_loss: 7.4652e-04 - val_acc: 1.0000\n",
      "Epoch 146/200\n",
      "21/21 [==============================] - 0s 3ms/step - loss: 7.5103e-04 - acc: 1.0000 - val_loss: 7.4371e-04 - val_acc: 1.0000\n",
      "Epoch 147/200\n",
      "21/21 [==============================] - 0s 4ms/step - loss: 0.0020 - acc: 1.0000 - val_loss: 7.2675e-04 - val_acc: 1.0000\n",
      "Epoch 148/200\n",
      "21/21 [==============================] - 0s 4ms/step - loss: 9.9432e-04 - acc: 1.0000 - val_loss: 7.2098e-04 - val_acc: 1.0000\n",
      "Epoch 149/200\n",
      "21/21 [==============================] - 0s 3ms/step - loss: 3.4867e-04 - acc: 1.0000 - val_loss: 7.1995e-04 - val_acc: 1.0000\n",
      "Epoch 150/200\n",
      "21/21 [==============================] - 0s 3ms/step - loss: 2.9322e-04 - acc: 1.0000 - val_loss: 7.1913e-04 - val_acc: 1.0000\n",
      "Epoch 151/200\n",
      "21/21 [==============================] - 0s 4ms/step - loss: 0.0029 - acc: 1.0000 - val_loss: 7.0279e-04 - val_acc: 1.0000\n",
      "Epoch 152/200\n",
      "21/21 [==============================] - 0s 3ms/step - loss: 0.0042 - acc: 1.0000 - val_loss: 6.8257e-04 - val_acc: 1.0000\n",
      "Epoch 153/200\n",
      "21/21 [==============================] - 0s 3ms/step - loss: 1.2479e-04 - acc: 1.0000 - val_loss: 6.8367e-04 - val_acc: 1.0000\n",
      "Epoch 154/200\n",
      "21/21 [==============================] - 0s 4ms/step - loss: 0.0025 - acc: 1.0000 - val_loss: 6.7598e-04 - val_acc: 1.0000\n",
      "Epoch 155/200\n",
      "21/21 [==============================] - 0s 3ms/step - loss: 0.0046 - acc: 1.0000 - val_loss: 6.6011e-04 - val_acc: 1.0000\n",
      "Epoch 156/200\n",
      "21/21 [==============================] - 0s 3ms/step - loss: 0.0062 - acc: 1.0000 - val_loss: 6.4594e-04 - val_acc: 1.0000\n",
      "Epoch 157/200\n",
      "21/21 [==============================] - 0s 3ms/step - loss: 6.6544e-04 - acc: 1.0000 - val_loss: 6.4786e-04 - val_acc: 1.0000\n",
      "Epoch 158/200\n",
      "21/21 [==============================] - 0s 4ms/step - loss: 3.5704e-04 - acc: 1.0000 - val_loss: 6.4592e-04 - val_acc: 1.0000\n",
      "Epoch 159/200\n",
      "21/21 [==============================] - 0s 4ms/step - loss: 2.0606e-04 - acc: 1.0000 - val_loss: 6.4833e-04 - val_acc: 1.0000\n",
      "Epoch 160/200\n",
      "21/21 [==============================] - 0s 4ms/step - loss: 4.5260e-04 - acc: 1.0000 - val_loss: 6.4787e-04 - val_acc: 1.0000\n",
      "Epoch 161/200\n",
      "21/21 [==============================] - 0s 4ms/step - loss: 0.0014 - acc: 1.0000 - val_loss: 6.4431e-04 - val_acc: 1.0000\n",
      "Epoch 162/200\n",
      "21/21 [==============================] - 0s 4ms/step - loss: 0.0066 - acc: 1.0000 - val_loss: 6.3166e-04 - val_acc: 1.0000\n",
      "Epoch 163/200\n",
      "21/21 [==============================] - 0s 4ms/step - loss: 0.0029 - acc: 1.0000 - val_loss: 6.2114e-04 - val_acc: 1.0000\n",
      "Epoch 164/200\n",
      "21/21 [==============================] - 0s 4ms/step - loss: 0.0011 - acc: 1.0000 - val_loss: 6.1577e-04 - val_acc: 1.0000\n",
      "Epoch 165/200\n",
      "21/21 [==============================] - 0s 4ms/step - loss: 0.0014 - acc: 1.0000 - val_loss: 6.1530e-04 - val_acc: 1.0000\n",
      "Epoch 166/200\n",
      "21/21 [==============================] - 0s 4ms/step - loss: 0.0016 - acc: 1.0000 - val_loss: 6.0264e-04 - val_acc: 1.0000\n",
      "Epoch 167/200\n",
      "21/21 [==============================] - 0s 4ms/step - loss: 0.0021 - acc: 1.0000 - val_loss: 5.9708e-04 - val_acc: 1.0000\n",
      "Epoch 168/200\n",
      "21/21 [==============================] - 0s 4ms/step - loss: 0.0011 - acc: 1.0000 - val_loss: 5.9084e-04 - val_acc: 1.0000\n",
      "Epoch 169/200\n",
      "21/21 [==============================] - 0s 4ms/step - loss: 1.3677e-04 - acc: 1.0000 - val_loss: 5.9273e-04 - val_acc: 1.0000\n",
      "Epoch 170/200\n",
      "21/21 [==============================] - 0s 3ms/step - loss: 3.9805e-05 - acc: 1.0000 - val_loss: 5.9368e-04 - val_acc: 1.0000\n",
      "Epoch 171/200\n",
      "21/21 [==============================] - 0s 3ms/step - loss: 3.9838e-04 - acc: 1.0000 - val_loss: 5.9359e-04 - val_acc: 1.0000\n",
      "Epoch 172/200\n",
      "21/21 [==============================] - 0s 3ms/step - loss: 2.8789e-04 - acc: 1.0000 - val_loss: 5.9348e-04 - val_acc: 1.0000\n",
      "Epoch 173/200\n",
      "21/21 [==============================] - 0s 3ms/step - loss: 0.0062 - acc: 1.0000 - val_loss: 5.8025e-04 - val_acc: 1.0000\n",
      "Epoch 174/200\n",
      "21/21 [==============================] - 0s 3ms/step - loss: 0.0017 - acc: 1.0000 - val_loss: 5.7863e-04 - val_acc: 1.0000\n",
      "Epoch 175/200\n",
      "21/21 [==============================] - 0s 4ms/step - loss: 0.0048 - acc: 1.0000 - val_loss: 5.7219e-04 - val_acc: 1.0000\n",
      "Epoch 176/200\n",
      "21/21 [==============================] - 0s 4ms/step - loss: 2.5347e-04 - acc: 1.0000 - val_loss: 5.7195e-04 - val_acc: 1.0000\n",
      "Epoch 177/200\n",
      "21/21 [==============================] - 0s 4ms/step - loss: 0.0037 - acc: 1.0000 - val_loss: 5.5892e-04 - val_acc: 1.0000\n",
      "Epoch 178/200\n",
      "21/21 [==============================] - 0s 4ms/step - loss: 6.1518e-04 - acc: 1.0000 - val_loss: 5.5512e-04 - val_acc: 1.0000\n",
      "Epoch 179/200\n",
      "21/21 [==============================] - 0s 4ms/step - loss: 0.0014 - acc: 1.0000 - val_loss: 5.4988e-04 - val_acc: 1.0000\n",
      "Epoch 180/200\n",
      "21/21 [==============================] - 0s 3ms/step - loss: 8.6508e-04 - acc: 1.0000 - val_loss: 5.5129e-04 - val_acc: 1.0000\n",
      "Epoch 181/200\n",
      "21/21 [==============================] - 0s 4ms/step - loss: 5.8663e-04 - acc: 1.0000 - val_loss: 5.4675e-04 - val_acc: 1.0000\n",
      "Epoch 182/200\n",
      "21/21 [==============================] - 0s 4ms/step - loss: 0.0069 - acc: 1.0000 - val_loss: 5.3766e-04 - val_acc: 1.0000\n",
      "Epoch 183/200\n",
      "21/21 [==============================] - 0s 4ms/step - loss: 2.5157e-04 - acc: 1.0000 - val_loss: 5.3763e-04 - val_acc: 1.0000\n",
      "Epoch 184/200\n"
     ]
    },
    {
     "name": "stdout",
     "output_type": "stream",
     "text": [
      "21/21 [==============================] - 0s 4ms/step - loss: 1.6334e-04 - acc: 1.0000 - val_loss: 5.3862e-04 - val_acc: 1.0000\n",
      "Epoch 185/200\n",
      "21/21 [==============================] - 0s 3ms/step - loss: 1.9830e-04 - acc: 1.0000 - val_loss: 5.3879e-04 - val_acc: 1.0000\n",
      "Epoch 186/200\n",
      "21/21 [==============================] - 0s 3ms/step - loss: 0.0015 - acc: 1.0000 - val_loss: 5.4021e-04 - val_acc: 1.0000\n",
      "Epoch 187/200\n",
      "21/21 [==============================] - 0s 3ms/step - loss: 0.0014 - acc: 1.0000 - val_loss: 5.3577e-04 - val_acc: 1.0000\n",
      "Epoch 188/200\n",
      "21/21 [==============================] - 0s 3ms/step - loss: 3.9281e-04 - acc: 1.0000 - val_loss: 5.3295e-04 - val_acc: 1.0000\n",
      "Epoch 189/200\n",
      "21/21 [==============================] - 0s 3ms/step - loss: 0.0018 - acc: 1.0000 - val_loss: 5.3066e-04 - val_acc: 1.0000\n",
      "Epoch 190/200\n",
      "21/21 [==============================] - 0s 4ms/step - loss: 1.9127e-04 - acc: 1.0000 - val_loss: 5.2942e-04 - val_acc: 1.0000\n",
      "Epoch 191/200\n",
      "21/21 [==============================] - 0s 4ms/step - loss: 0.0047 - acc: 1.0000 - val_loss: 5.2188e-04 - val_acc: 1.0000\n",
      "Epoch 192/200\n",
      "21/21 [==============================] - 0s 4ms/step - loss: 1.3457e-04 - acc: 1.0000 - val_loss: 5.2159e-04 - val_acc: 1.0000\n",
      "Epoch 193/200\n",
      "21/21 [==============================] - 0s 4ms/step - loss: 0.0019 - acc: 1.0000 - val_loss: 5.1515e-04 - val_acc: 1.0000\n",
      "Epoch 194/200\n",
      "21/21 [==============================] - 0s 4ms/step - loss: 0.0029 - acc: 1.0000 - val_loss: 5.0482e-04 - val_acc: 1.0000\n",
      "Epoch 195/200\n",
      "21/21 [==============================] - 0s 4ms/step - loss: 0.0026 - acc: 1.0000 - val_loss: 4.9996e-04 - val_acc: 1.0000\n",
      "Epoch 196/200\n",
      "21/21 [==============================] - 0s 4ms/step - loss: 0.0015 - acc: 1.0000 - val_loss: 4.9696e-04 - val_acc: 1.0000\n",
      "Epoch 197/200\n",
      "21/21 [==============================] - 0s 4ms/step - loss: 0.0012 - acc: 1.0000 - val_loss: 4.9518e-04 - val_acc: 1.0000\n",
      "Epoch 198/200\n",
      "21/21 [==============================] - 0s 4ms/step - loss: 2.2895e-04 - acc: 1.0000 - val_loss: 4.9526e-04 - val_acc: 1.0000\n",
      "Epoch 199/200\n",
      "21/21 [==============================] - 0s 3ms/step - loss: 6.4465e-04 - acc: 1.0000 - val_loss: 4.9338e-04 - val_acc: 1.0000\n",
      "Epoch 200/200\n",
      "21/21 [==============================] - 0s 3ms/step - loss: 0.0014 - acc: 1.0000 - val_loss: 4.8983e-04 - val_acc: 1.0000\n",
      "dict_keys(['val_loss', 'acc', 'loss', 'val_acc'])\n"
     ]
    },
    {
     "data": {
      "image/png": "[encoded data removed]",
      "text/plain": [
       "<Figure size 432x288 with 1 Axes>"
      ]
     },
     "metadata": {
      "needs_background": "light"
     },
     "output_type": "display_data"
    },
    {
     "data": {
      "image/png": "[encoded data removed]",
      "text/plain": [
       "<Figure size 432x288 with 1 Axes>"
      ]
     },
     "metadata": {
      "needs_background": "light"
     },
     "output_type": "display_data"
    }
   ],
   "source": [
    "# Now, fit the model to the data\n",
    "history = model.fit(x, y, validation_data=(x_dev, y_dev), epochs=200, batch_size=32)\n",
    "# List all data in history\n",
    "print(history.history.keys())\n",
    "# Summarize history for accuracy\n",
    "plt.plot(history.history['acc'])\n",
    "plt.plot(history.history['val_acc'])\n",
    "plt.title('model accuracy')\n",
    "plt.ylabel('accuracy')\n",
    "plt.xlabel('epoch')\n",
    "plt.legend(['train', 'test'], loc='upper left')\n",
    "plt.show()\n",
    "# Summarize history for loss\n",
    "plt.plot(history.history['loss'])\n",
    "plt.plot(history.history['val_loss'])\n",
    "plt.title('model loss')\n",
    "plt.ylabel('loss')\n",
    "plt.xlabel('epoch')\n",
    "plt.legend(['train', 'test'], loc='upper left')\n",
    "plt.show()"
   ]
  },
  {
   "cell_type": "markdown",
   "metadata": {},
   "source": [
    "##### Load pretrained conv model"
   ]
  },
  {
   "cell_type": "code",
   "execution_count": 9,
   "metadata": {},
   "outputs": [
    {
     "name": "stdout",
     "output_type": "stream",
     "text": [
      "Loaded model from disk\n"
     ]
    }
   ],
   "source": [
    "# load json and create model\n",
    "json_file = open('trained/conv_model_quickngood.json', 'r')\n",
    "conv_model_json = json_file.read()\n",
    "json_file.close()\n",
    "model = model_from_json(conv_model_json)\n",
    "# load weights into new model\n",
    "model.load_weights(\"trained/conv_model_quickngood.h5\")\n",
    "print(\"Loaded model from disk\")"
   ]
  },
  {
   "cell_type": "markdown",
   "metadata": {},
   "source": [
    "##### Additional model evaluation"
   ]
  },
  {
   "cell_type": "code",
   "execution_count": 14,
   "metadata": {},
   "outputs": [
    {
     "name": "stdout",
     "output_type": "stream",
     "text": [
      "21/21 [==============================] - 0s 2ms/step\n",
      "\n",
      "Performance on VALIDATION set\n",
      ".............................\n",
      "Loss: 0.0008666993235237896\n",
      "Accuracy: 1.0\n",
      "Precision: 1.0\n",
      "Recall: 1.0\n",
      ".............................\n",
      "List of indices of wrong guesses:\n",
      "[]\n"
     ]
    }
   ],
   "source": [
    "x_val, y_val = x, y\n",
    "# Evaluate model, get metrics back\n",
    "stats = model.evaluate(x_val, y_val)\n",
    "# Calculate predictions vector from model\n",
    "predictions = model.predict(x_val)\n",
    "predictions = np.floor(predictions + 0.5)\n",
    "\n",
    "# Get vector mask for good and bad fits and right and wrong answers\n",
    "good_fits = y_val\n",
    "bad_fits = 1 - good_fits\n",
    "wrong_answers = np.abs(np.subtract(predictions, good_fits))\n",
    "right_answers = np.subtract(1, wrong_answers)\n",
    "# Calculate true positives (tp), as well as (tn) (fp) (fn)\n",
    "true_positives = np.multiply(right_answers, good_fits)\n",
    "true_negatives = np.multiply(right_answers, bad_fits)\n",
    "false_positives = np.multiply(wrong_answers, good_fits)\n",
    "false_negatives = np.multiply(wrong_answers, bad_fits)\n",
    "# Calculate additional metrics\n",
    "precision = np.sum(true_positives) / np.sum(true_positives + false_positives)\n",
    "recall = np.sum(true_positives) / np.sum(true_positives + false_negatives)\n",
    "\n",
    "# Print stats\n",
    "print()\n",
    "print(\"Performance on VALIDATION set\")\n",
    "print(\".............................\")\n",
    "print(\"Loss: \" + str(stats[0]))\n",
    "print(\"Accuracy: \" + str(stats[1]))\n",
    "print(\"Precision: \" + str(precision))\n",
    "print(\"Recall: \" + str(recall))\n",
    "\n",
    "# Print list of indices of wrong answers\n",
    "bad_list = []\n",
    "for i in range(m_dev):\n",
    "    if wrong_answers[i] == 1:\n",
    "        bad_list.append(i)\n",
    "print(\".............................\")\n",
    "print(\"List of indices of wrong guesses:\")\n",
    "print(bad_list)"
   ]
  },
  {
   "cell_type": "markdown",
   "metadata": {},
   "source": [
    "##### Look at an image"
   ]
  },
  {
   "cell_type": "code",
   "execution_count": 15,
   "metadata": {},
   "outputs": [
    {
     "name": "stdout",
     "output_type": "stream",
     "text": [
      "label: [1]\n",
      "prediction: [1.]\n",
      "(236, 348, 3)\n"
     ]
    },
    {
     "data": {
      "text/plain": [
       "<matplotlib.image.AxesImage at 0x7f50e5f8b390>"
      ]
     },
     "execution_count": 15,
     "metadata": {},
     "output_type": "execute_result"
    },
    {
     "data": {
      "image/png": "[encoded data removed]",
      "text/plain": [
       "<Figure size 432x288 with 1 Axes>"
      ]
     },
     "metadata": {
      "needs_background": "light"
     },
     "output_type": "display_data"
    }
   ],
   "source": [
    "# Choose an index \n",
    "index = 2\n",
    "\n",
    "# Print labels for this index\n",
    "print(\"label: \" + str(good_fits[index]))\n",
    "print(\"prediction: \" + str(predictions[index]))\n",
    "\n",
    "# Show image\n",
    "this_image = x[index]\n",
    "print(str(this_image.shape))\n",
    "plt.imshow(np.uint8(utils.get_printable_image(this_image)))"
   ]
  },
  {
   "cell_type": "markdown",
   "metadata": {},
   "source": [
    "##### Save convolutional model to disc"
   ]
  },
  {
   "cell_type": "code",
   "execution_count": 12,
   "metadata": {},
   "outputs": [
    {
     "name": "stdout",
     "output_type": "stream",
     "text": [
      "Saved model to disk\n"
     ]
    }
   ],
   "source": [
    "#plot_model(simple_model, to_file='simple_model.png')\n",
    "#SVG(model_to_dot(simple_model).create(prog='dot', format='svg'))\n",
    "\n",
    "# serialize model to JSON\n",
    "model_json = model.to_json()\n",
    "with open(\"trained/conv_model_quickngood_2000epoch_sql_log.json\", \"w\") as json_file:\n",
    "    json_file.write(model_json)\n",
    "# serialize weights to HDF5\n",
    "model.save_weights(\"trained/conv_model_quickngood_2000epoch_sql_log.h5\")\n",
    "print(\"Saved model to disk\")"
   ]
  },
  {
   "cell_type": "code",
   "execution_count": null,
   "metadata": {
    "collapsed": true
   },
   "outputs": [],
   "source": []
  }
 ],
 "metadata": {
  "kernelspec": {
   "display_name": "Python 3",
   "language": "python",
   "name": "python3"
  },
  "language_info": {
   "codemirror_mode": {
    "name": "ipython",
    "version": 3
   },
   "file_extension": ".py",
   "mimetype": "text/x-python",
   "name": "python",
   "nbconvert_exporter": "python",
   "pygments_lexer": "ipython3",
   "version": "3.5.2"
  }
 },
 "nbformat": 4,
 "nbformat_minor": 2
}
